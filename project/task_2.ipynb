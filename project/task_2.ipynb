{
 "cells": [
  {
   "cell_type": "markdown",
   "metadata": {},
   "source": [
    "# Data Preparation"
   ]
  },
  {
   "cell_type": "markdown",
   "metadata": {},
   "source": [
    "## 1 Setup"
   ]
  },
  {
   "cell_type": "code",
   "execution_count": 1,
   "metadata": {},
   "outputs": [],
   "source": [
    "from typing import Union\n",
    "\n",
    "import pickle\n",
    "import numpy as np\n",
    "import pandas as pd\n",
    "import seaborn as sns\n",
    "from scipy import stats\n",
    "import missingno as msno\n",
    "import matplotlib.pyplot as plt\n",
    "from sklearn.pipeline import Pipeline\n",
    "from sklearn.impute import SimpleImputer\n",
    "from sklearn.compose import ColumnTransformer\n",
    "from sklearn.linear_model import LinearRegression\n",
    "from sklearn.model_selection import train_test_split\n",
    "from sklearn.base import BaseEstimator, TransformerMixin\n",
    "from sklearn.metrics import r2_score, mean_absolute_error\n",
    "from sklearn.preprocessing import OneHotEncoder, StandardScaler\n",
    "\n",
    "%matplotlib inline"
   ]
  },
  {
   "cell_type": "markdown",
   "metadata": {},
   "source": [
    "Funktionen zur Visualisierung der Performance unserer Modelle:"
   ]
  },
  {
   "cell_type": "markdown",
   "metadata": {},
   "source": [
    "Der R²-Wert (Bestimmtheitsmaß) liegt zwischen 0 und 1, wobei 1 bedeutet, dass das Modell die gesamte Variation der abhängigen Variablen erklärt, und 0 bedeutet, dass das Modell keine über die Vorhersage des Durchschnitts hinausgehende Erklärungskraft hat. Ein R²-Wert von 0,5 zeigt beispielsweise, dass 50% der Schwankungen der tatsächlichen Werte durch das Modell erklärt werden können. Dies bedeutet, dass das Modell einen mäßigen Erfolg bei der Erklärung der beobachteten Schwankungen hat. Es gibt jedoch noch Raum für Verbesserungen, da 50 % der Schwankungen nicht durch das Modell erklärt werden.\n",
    "\n",
    "Der MAE steht für \"Mean Absolute Error\" (Durchschnittlicher Absoluter Fehler) und wird verwendet, um die durchschnittliche absolute Abweichung zwischen den tatsächlichen und vorhergesagten Werten zu quantifizieren. Er wird bevorzugt, wenn Ausreißer in den Daten weniger stark gewichtet werden sollen, da der absolute Betrag genommen wird. Je niedriger der MAE, desto besser ist die Modellleistung. Wenn beispielsweise der MAE 0 ist, bedeutet dies, dass das Modell perfekte Vorhersagen getroffen hat. Der MAE ist leicht zu interpretieren, da er angibt, um wie viel Einheiten die durchschnittliche Vorhersage des Modells von den tatsächlichen Werten abweicht."
   ]
  },
  {
   "cell_type": "code",
   "execution_count": 2,
   "metadata": {},
   "outputs": [],
   "source": [
    "def performance_measures(y_true, y_pred) -> tuple:\n",
    "    \"\"\"\n",
    "    Calculate R2 and MAE\n",
    "    \n",
    "    Args:\n",
    "        y_true: array-like\n",
    "        True values\n",
    "        y_pred: array-like\n",
    "        Predicted values\n",
    "        \n",
    "    Returns:\n",
    "        r2: float\n",
    "        R2 score\n",
    "        mae: float\n",
    "        Mean Absolute Error\n",
    "    \"\"\"\n",
    "    r2 = r2_score(y_true, y_pred)\n",
    "    mae = mean_absolute_error(y_true, y_pred)\n",
    "    print(f\"R2: {r2:.2f}\")\n",
    "    print(f\"MAE: {mae:.2f}\")\n",
    "    return r2, mae"
   ]
  },
  {
   "cell_type": "code",
   "execution_count": 3,
   "metadata": {},
   "outputs": [],
   "source": [
    "def actual_vs_predicted(true_v, pred_v) -> None:\n",
    "    \"\"\"\n",
    "    Plot actual vs. predicted values\n",
    "\n",
    "    Args:\n",
    "        true_v: array-like\n",
    "        True values\n",
    "        pred_v: array-like\n",
    "        Predicted values\n",
    "\n",
    "    Returns:\n",
    "        None\n",
    "    \"\"\"\n",
    "    data = {\"Actual\": true_v, \"Predicted\": pred_v}\n",
    "    df = pd.DataFrame(data)\n",
    "\n",
    "    sns.set_theme(style=\"whitegrid\")\n",
    "    plt.figure(figsize=(10, 6))\n",
    "\n",
    "    sns.lineplot(data=df, markers=False)\n",
    "\n",
    "    plt.title(\"Actual vs. Predicted Values\")\n",
    "    plt.xlabel(\"Data Points\")\n",
    "    plt.ylabel(\"Values\")\n",
    "\n",
    "    plt.show()"
   ]
  },
  {
   "cell_type": "markdown",
   "metadata": {},
   "source": [
    "Diese Klasse wird verwendet um eigene Funktionen in die Pipeline zu integrieren."
   ]
  },
  {
   "cell_type": "code",
   "execution_count": 4,
   "metadata": {},
   "outputs": [],
   "source": [
    "class CustomTransformer(BaseEstimator, TransformerMixin):\n",
    "    \"\"\"This class is used to apply custom transformations.\"\"\"\n",
    "    def __init__(self, function, config: dict = {}):\n",
    "        self.function = function\n",
    "        self.config = config\n",
    "\n",
    "    def fit(self, X, y=None):\n",
    "        return self\n",
    "\n",
    "    def transform(self, X):\n",
    "        if isinstance(X, np.ndarray):\n",
    "            X = pd.DataFrame(X)\n",
    "        X = self.function(X, **self.config) \n",
    "        return X"
   ]
  },
  {
   "cell_type": "code",
   "execution_count": 5,
   "metadata": {},
   "outputs": [],
   "source": [
    "def select_numeric(df: pd.DataFrame) -> pd.DataFrame:\n",
    "    \"\"\"\n",
    "    This function selects the numeric columns from a DataFrame.\n",
    "    \n",
    "    Args:\n",
    "        df: DataFrame\n",
    "        The input DataFrame\n",
    "    \n",
    "    Returns:\n",
    "        DataFrame\n",
    "        A DataFrame with only numeric columns\n",
    "    \"\"\"\n",
    "    df = df.select_dtypes(include=['number'])\n",
    "        \n",
    "    return df"
   ]
  },
  {
   "cell_type": "code",
   "execution_count": 6,
   "metadata": {},
   "outputs": [],
   "source": [
    "def drop_features(df: pd.DataFrame, features: list[str] = []) -> pd.DataFrame:\n",
    "    \"\"\"\n",
    "    Drops specified columns from a DataFrame.\n",
    "    \n",
    "    Args:\n",
    "        df (pd.DataFrame): The input DataFrame.\n",
    "        columns (list of str): List of column names to drop.\n",
    "    \n",
    "    Returns:\n",
    "        pd.DataFrame: A DataFrame with specified columns removed.\n",
    "    \"\"\"\n",
    "    return df.drop(columns=features, errors='ignore')"
   ]
  },
  {
   "cell_type": "markdown",
   "metadata": {},
   "source": [
    "## 2 Import der Daten"
   ]
  },
  {
   "cell_type": "markdown",
   "metadata": {},
   "source": [
    "Wir laden unsere beiden Datensätze in ```DataFrames```."
   ]
  },
  {
   "cell_type": "code",
   "execution_count": 7,
   "metadata": {},
   "outputs": [],
   "source": [
    "train_data = pd.read_csv(f\"../data/BikeRentalDaily_train.csv\", sep=\";\", index_col=0)\n",
    "test_data = pd.read_csv(f\"../data/BikeRentalDaily_test.csv\", sep=\";\", index_col=0)"
   ]
  },
  {
   "cell_type": "markdown",
   "metadata": {},
   "source": [
    "Hier ersetzen wir alle Leerzeichen durch `_`. Relevant für `price reduction`."
   ]
  },
  {
   "cell_type": "code",
   "execution_count": 8,
   "metadata": {},
   "outputs": [],
   "source": [
    "train_data.columns = train_data.columns.str.replace(r\"\\s\", r\"_\", regex=True)\n",
    "test_data.columns = test_data.columns.str.replace(r\"\\s\", r\"_\", regex=True)"
   ]
  },
  {
   "cell_type": "markdown",
   "metadata": {},
   "source": [
    "Die Summe der beiden Spalten ```casual``` und ```registered``` ergibt den Wert von ```cnt```, diese sind in der Beschreibung des Datensatzes zudem als Labels beschrieben, daher werden sie ebenfalls entfernt."
   ]
  },
  {
   "cell_type": "code",
   "execution_count": 9,
   "metadata": {},
   "outputs": [],
   "source": [
    "features = train_data.columns.drop([\"cnt\", \"casual\", \"registered\"])"
   ]
  },
  {
   "cell_type": "markdown",
   "metadata": {},
   "source": [
    "## 3 Minimal Preprocessing and Baseline Linear Regression Model"
   ]
  },
  {
   "cell_type": "markdown",
   "metadata": {},
   "source": [
    "Um unsere Modelle unabhängig von den Testdaten valdieren zu können, splitten wir die ```train_data``` Daten in train und validate.\n",
    "\n",
    "Dieser Schritt wird vor jeder erneuten Validierung druchgeführt."
   ]
  },
  {
   "cell_type": "markdown",
   "metadata": {},
   "source": [
    "Damit wir unser Baseline Modell trainieren können, müssen wir Vorverarbeitungsschritte durchführen. Diese werden in der ```minimal_preprocessing``` Pipeline definiert.\n",
    "\n",
    "Zum einen entfernen wir alle nicht numerischen Spalten aus den Daten.\n",
    "\n",
    "Zum anderen werden alle ```NaN``` Werte unter Anwendung des ```SimpleImputer``` durch den jeweiligen Mittlewert aufgefüllt."
   ]
  },
  {
   "cell_type": "code",
   "execution_count": 10,
   "metadata": {},
   "outputs": [],
   "source": [
    "drop_feature_01 = CustomTransformer(function=drop_features, config={\"features\": [\"dteday\"]})\n",
    "\n",
    "numeric_values = CustomTransformer(function=select_numeric)\n",
    "\n",
    "minimal_pipeline = Pipeline([\n",
    "    (\"drop_feature\", drop_feature_01),\n",
    "    (\"numeric_values\", numeric_values),\n",
    "    (\"imputer\", SimpleImputer(strategy=\"mean\"))])"
   ]
  },
  {
   "cell_type": "markdown",
   "metadata": {},
   "source": [
    "Für die erste Iteration des Preprocessing erzeugen wir eine ```minimal_pipeline``` welche die beiden zuvor erzeugten Pipelines miteinander kombiniert."
   ]
  },
  {
   "cell_type": "code",
   "execution_count": 11,
   "metadata": {},
   "outputs": [],
   "source": [
    "pipeline = Pipeline([(\"minimal_pipeline\", minimal_pipeline)])"
   ]
  },
  {
   "cell_type": "markdown",
   "metadata": {},
   "source": [
    "Die einzelnen Schritte der erzeugten Pipeline werden nacheinander ausgeführt und das Modell wird auf dem verarbeiteten Datensatz trainiert."
   ]
  },
  {
   "cell_type": "code",
   "execution_count": 12,
   "metadata": {},
   "outputs": [],
   "source": [
    "processed_data = pipeline.fit_transform(train_data[features])"
   ]
  },
  {
   "cell_type": "code",
   "execution_count": 13,
   "metadata": {},
   "outputs": [],
   "source": [
    "processed_data_features = pipeline.named_steps['minimal_pipeline'].named_steps['imputer'].get_feature_names_out()"
   ]
  },
  {
   "cell_type": "code",
   "execution_count": 14,
   "metadata": {},
   "outputs": [],
   "source": [
    "processed_data = pd.DataFrame(processed_data, columns=processed_data_features, index=train_data.index)"
   ]
  },
  {
   "cell_type": "code",
   "execution_count": 15,
   "metadata": {},
   "outputs": [
    {
     "data": {
      "text/html": [
       "<div>\n",
       "<style scoped>\n",
       "    .dataframe tbody tr th:only-of-type {\n",
       "        vertical-align: middle;\n",
       "    }\n",
       "\n",
       "    .dataframe tbody tr th {\n",
       "        vertical-align: top;\n",
       "    }\n",
       "\n",
       "    .dataframe thead th {\n",
       "        text-align: right;\n",
       "    }\n",
       "</style>\n",
       "<table border=\"1\" class=\"dataframe\">\n",
       "  <thead>\n",
       "    <tr style=\"text-align: right;\">\n",
       "      <th>instant</th>\n",
       "      <th>154</th>\n",
       "      <th>685</th>\n",
       "      <th>368</th>\n",
       "      <th>472</th>\n",
       "      <th>442</th>\n",
       "    </tr>\n",
       "  </thead>\n",
       "  <tbody>\n",
       "    <tr>\n",
       "      <th>season</th>\n",
       "      <td>2.000000</td>\n",
       "      <td>4.000000</td>\n",
       "      <td>1.000000</td>\n",
       "      <td>2.000000</td>\n",
       "      <td>1.000000</td>\n",
       "    </tr>\n",
       "    <tr>\n",
       "      <th>yr</th>\n",
       "      <td>0.000000</td>\n",
       "      <td>1.000000</td>\n",
       "      <td>1.000000</td>\n",
       "      <td>1.000000</td>\n",
       "      <td>1.000000</td>\n",
       "    </tr>\n",
       "    <tr>\n",
       "      <th>mnth</th>\n",
       "      <td>6.000000</td>\n",
       "      <td>11.000000</td>\n",
       "      <td>1.000000</td>\n",
       "      <td>4.000000</td>\n",
       "      <td>3.000000</td>\n",
       "    </tr>\n",
       "    <tr>\n",
       "      <th>holiday</th>\n",
       "      <td>0.000000</td>\n",
       "      <td>0.000000</td>\n",
       "      <td>0.000000</td>\n",
       "      <td>1.000000</td>\n",
       "      <td>0.000000</td>\n",
       "    </tr>\n",
       "    <tr>\n",
       "      <th>weekday</th>\n",
       "      <td>5.000000</td>\n",
       "      <td>4.000000</td>\n",
       "      <td>2.000000</td>\n",
       "      <td>1.000000</td>\n",
       "      <td>-1.000000</td>\n",
       "    </tr>\n",
       "    <tr>\n",
       "      <th>workingday</th>\n",
       "      <td>1.000000</td>\n",
       "      <td>1.000000</td>\n",
       "      <td>1.000000</td>\n",
       "      <td>0.000000</td>\n",
       "      <td>0.000000</td>\n",
       "    </tr>\n",
       "    <tr>\n",
       "      <th>weathersit</th>\n",
       "      <td>1.000000</td>\n",
       "      <td>2.000000</td>\n",
       "      <td>1.000000</td>\n",
       "      <td>1.000000</td>\n",
       "      <td>2.000000</td>\n",
       "    </tr>\n",
       "    <tr>\n",
       "      <th>temp</th>\n",
       "      <td>24.800000</td>\n",
       "      <td>12.866700</td>\n",
       "      <td>6.000000</td>\n",
       "      <td>26.566700</td>\n",
       "      <td>20.566700</td>\n",
       "    </tr>\n",
       "    <tr>\n",
       "      <th>atemp</th>\n",
       "      <td>0.587133</td>\n",
       "      <td>0.324492</td>\n",
       "      <td>0.126275</td>\n",
       "      <td>0.614925</td>\n",
       "      <td>0.505046</td>\n",
       "    </tr>\n",
       "    <tr>\n",
       "      <th>hum</th>\n",
       "      <td>53.125050</td>\n",
       "      <td>93.062550</td>\n",
       "      <td>66.187500</td>\n",
       "      <td>84.250050</td>\n",
       "      <td>113.374950</td>\n",
       "    </tr>\n",
       "    <tr>\n",
       "      <th>windspeed</th>\n",
       "      <td>0.253121</td>\n",
       "      <td>0.152987</td>\n",
       "      <td>0.365671</td>\n",
       "      <td>0.284829</td>\n",
       "      <td>0.110704</td>\n",
       "    </tr>\n",
       "    <tr>\n",
       "      <th>leaflets</th>\n",
       "      <td>991.000000</td>\n",
       "      <td>601.000000</td>\n",
       "      <td>549.000000</td>\n",
       "      <td>740.000000</td>\n",
       "      <td>773.000000</td>\n",
       "    </tr>\n",
       "    <tr>\n",
       "      <th>price_reduction</th>\n",
       "      <td>0.000000</td>\n",
       "      <td>0.000000</td>\n",
       "      <td>0.000000</td>\n",
       "      <td>0.000000</td>\n",
       "      <td>1.000000</td>\n",
       "    </tr>\n",
       "  </tbody>\n",
       "</table>\n",
       "</div>"
      ],
      "text/plain": [
       "instant                 154         685         368         472         442\n",
       "season             2.000000    4.000000    1.000000    2.000000    1.000000\n",
       "yr                 0.000000    1.000000    1.000000    1.000000    1.000000\n",
       "mnth               6.000000   11.000000    1.000000    4.000000    3.000000\n",
       "holiday            0.000000    0.000000    0.000000    1.000000    0.000000\n",
       "weekday            5.000000    4.000000    2.000000    1.000000   -1.000000\n",
       "workingday         1.000000    1.000000    1.000000    0.000000    0.000000\n",
       "weathersit         1.000000    2.000000    1.000000    1.000000    2.000000\n",
       "temp              24.800000   12.866700    6.000000   26.566700   20.566700\n",
       "atemp              0.587133    0.324492    0.126275    0.614925    0.505046\n",
       "hum               53.125050   93.062550   66.187500   84.250050  113.374950\n",
       "windspeed          0.253121    0.152987    0.365671    0.284829    0.110704\n",
       "leaflets         991.000000  601.000000  549.000000  740.000000  773.000000\n",
       "price_reduction    0.000000    0.000000    0.000000    0.000000    1.000000"
      ]
     },
     "execution_count": 15,
     "metadata": {},
     "output_type": "execute_result"
    }
   ],
   "source": [
    "processed_data.head().T"
   ]
  },
  {
   "cell_type": "code",
   "execution_count": 16,
   "metadata": {},
   "outputs": [
    {
     "data": {
      "text/html": [
       "<div>\n",
       "<style scoped>\n",
       "    .dataframe tbody tr th:only-of-type {\n",
       "        vertical-align: middle;\n",
       "    }\n",
       "\n",
       "    .dataframe tbody tr th {\n",
       "        vertical-align: top;\n",
       "    }\n",
       "\n",
       "    .dataframe thead th {\n",
       "        text-align: right;\n",
       "    }\n",
       "</style>\n",
       "<table border=\"1\" class=\"dataframe\">\n",
       "  <thead>\n",
       "    <tr style=\"text-align: right;\">\n",
       "      <th></th>\n",
       "      <th>count</th>\n",
       "      <th>mean</th>\n",
       "      <th>std</th>\n",
       "      <th>min</th>\n",
       "      <th>25%</th>\n",
       "      <th>50%</th>\n",
       "      <th>75%</th>\n",
       "      <th>max</th>\n",
       "    </tr>\n",
       "  </thead>\n",
       "  <tbody>\n",
       "    <tr>\n",
       "      <th>season</th>\n",
       "      <td>600.0</td>\n",
       "      <td>2.436803</td>\n",
       "      <td>1.048372</td>\n",
       "      <td>1.00000</td>\n",
       "      <td>2.000000</td>\n",
       "      <td>2.436803</td>\n",
       "      <td>3.000000</td>\n",
       "      <td>4.000000</td>\n",
       "    </tr>\n",
       "    <tr>\n",
       "      <th>yr</th>\n",
       "      <td>600.0</td>\n",
       "      <td>0.496667</td>\n",
       "      <td>0.500406</td>\n",
       "      <td>0.00000</td>\n",
       "      <td>0.000000</td>\n",
       "      <td>0.000000</td>\n",
       "      <td>1.000000</td>\n",
       "      <td>1.000000</td>\n",
       "    </tr>\n",
       "    <tr>\n",
       "      <th>mnth</th>\n",
       "      <td>600.0</td>\n",
       "      <td>6.475000</td>\n",
       "      <td>3.442741</td>\n",
       "      <td>1.00000</td>\n",
       "      <td>4.000000</td>\n",
       "      <td>6.000000</td>\n",
       "      <td>9.000000</td>\n",
       "      <td>12.000000</td>\n",
       "    </tr>\n",
       "    <tr>\n",
       "      <th>holiday</th>\n",
       "      <td>600.0</td>\n",
       "      <td>0.030000</td>\n",
       "      <td>0.170730</td>\n",
       "      <td>0.00000</td>\n",
       "      <td>0.000000</td>\n",
       "      <td>0.000000</td>\n",
       "      <td>0.000000</td>\n",
       "      <td>1.000000</td>\n",
       "    </tr>\n",
       "    <tr>\n",
       "      <th>weekday</th>\n",
       "      <td>600.0</td>\n",
       "      <td>2.928333</td>\n",
       "      <td>2.079360</td>\n",
       "      <td>-1.00000</td>\n",
       "      <td>1.000000</td>\n",
       "      <td>3.000000</td>\n",
       "      <td>5.000000</td>\n",
       "      <td>6.000000</td>\n",
       "    </tr>\n",
       "    <tr>\n",
       "      <th>workingday</th>\n",
       "      <td>600.0</td>\n",
       "      <td>0.680000</td>\n",
       "      <td>0.466865</td>\n",
       "      <td>0.00000</td>\n",
       "      <td>0.000000</td>\n",
       "      <td>1.000000</td>\n",
       "      <td>1.000000</td>\n",
       "      <td>1.000000</td>\n",
       "    </tr>\n",
       "    <tr>\n",
       "      <th>weathersit</th>\n",
       "      <td>600.0</td>\n",
       "      <td>1.401667</td>\n",
       "      <td>0.542360</td>\n",
       "      <td>1.00000</td>\n",
       "      <td>1.000000</td>\n",
       "      <td>1.000000</td>\n",
       "      <td>2.000000</td>\n",
       "      <td>3.000000</td>\n",
       "    </tr>\n",
       "    <tr>\n",
       "      <th>temp</th>\n",
       "      <td>600.0</td>\n",
       "      <td>19.808284</td>\n",
       "      <td>7.206843</td>\n",
       "      <td>2.36520</td>\n",
       "      <td>13.575000</td>\n",
       "      <td>20.100000</td>\n",
       "      <td>26.058300</td>\n",
       "      <td>34.466700</td>\n",
       "    </tr>\n",
       "    <tr>\n",
       "      <th>atemp</th>\n",
       "      <td>600.0</td>\n",
       "      <td>0.473620</td>\n",
       "      <td>0.160439</td>\n",
       "      <td>0.07907</td>\n",
       "      <td>0.338256</td>\n",
       "      <td>0.489690</td>\n",
       "      <td>0.605127</td>\n",
       "      <td>0.826371</td>\n",
       "    </tr>\n",
       "    <tr>\n",
       "      <th>hum</th>\n",
       "      <td>600.0</td>\n",
       "      <td>93.845200</td>\n",
       "      <td>20.764975</td>\n",
       "      <td>28.18755</td>\n",
       "      <td>78.359363</td>\n",
       "      <td>93.845200</td>\n",
       "      <td>108.437550</td>\n",
       "      <td>145.875000</td>\n",
       "    </tr>\n",
       "    <tr>\n",
       "      <th>windspeed</th>\n",
       "      <td>600.0</td>\n",
       "      <td>0.183696</td>\n",
       "      <td>0.125257</td>\n",
       "      <td>-1.00000</td>\n",
       "      <td>0.134335</td>\n",
       "      <td>0.180971</td>\n",
       "      <td>0.233947</td>\n",
       "      <td>0.507463</td>\n",
       "    </tr>\n",
       "    <tr>\n",
       "      <th>leaflets</th>\n",
       "      <td>600.0</td>\n",
       "      <td>740.065000</td>\n",
       "      <td>164.430095</td>\n",
       "      <td>459.00000</td>\n",
       "      <td>600.750000</td>\n",
       "      <td>737.000000</td>\n",
       "      <td>875.500000</td>\n",
       "      <td>1032.000000</td>\n",
       "    </tr>\n",
       "    <tr>\n",
       "      <th>price_reduction</th>\n",
       "      <td>600.0</td>\n",
       "      <td>0.150000</td>\n",
       "      <td>0.357369</td>\n",
       "      <td>0.00000</td>\n",
       "      <td>0.000000</td>\n",
       "      <td>0.000000</td>\n",
       "      <td>0.000000</td>\n",
       "      <td>1.000000</td>\n",
       "    </tr>\n",
       "  </tbody>\n",
       "</table>\n",
       "</div>"
      ],
      "text/plain": [
       "                 count        mean         std        min         25%  \\\n",
       "season           600.0    2.436803    1.048372    1.00000    2.000000   \n",
       "yr               600.0    0.496667    0.500406    0.00000    0.000000   \n",
       "mnth             600.0    6.475000    3.442741    1.00000    4.000000   \n",
       "holiday          600.0    0.030000    0.170730    0.00000    0.000000   \n",
       "weekday          600.0    2.928333    2.079360   -1.00000    1.000000   \n",
       "workingday       600.0    0.680000    0.466865    0.00000    0.000000   \n",
       "weathersit       600.0    1.401667    0.542360    1.00000    1.000000   \n",
       "temp             600.0   19.808284    7.206843    2.36520   13.575000   \n",
       "atemp            600.0    0.473620    0.160439    0.07907    0.338256   \n",
       "hum              600.0   93.845200   20.764975   28.18755   78.359363   \n",
       "windspeed        600.0    0.183696    0.125257   -1.00000    0.134335   \n",
       "leaflets         600.0  740.065000  164.430095  459.00000  600.750000   \n",
       "price_reduction  600.0    0.150000    0.357369    0.00000    0.000000   \n",
       "\n",
       "                        50%         75%          max  \n",
       "season             2.436803    3.000000     4.000000  \n",
       "yr                 0.000000    1.000000     1.000000  \n",
       "mnth               6.000000    9.000000    12.000000  \n",
       "holiday            0.000000    0.000000     1.000000  \n",
       "weekday            3.000000    5.000000     6.000000  \n",
       "workingday         1.000000    1.000000     1.000000  \n",
       "weathersit         1.000000    2.000000     3.000000  \n",
       "temp              20.100000   26.058300    34.466700  \n",
       "atemp              0.489690    0.605127     0.826371  \n",
       "hum               93.845200  108.437550   145.875000  \n",
       "windspeed          0.180971    0.233947     0.507463  \n",
       "leaflets         737.000000  875.500000  1032.000000  \n",
       "price_reduction    0.000000    0.000000     1.000000  "
      ]
     },
     "execution_count": 16,
     "metadata": {},
     "output_type": "execute_result"
    }
   ],
   "source": [
    "processed_data.describe().T"
   ]
  },
  {
   "cell_type": "code",
   "execution_count": 17,
   "metadata": {},
   "outputs": [],
   "source": [
    "X_train, X_validate, y_train, y_validate = train_test_split(processed_data, train_data[\"cnt\"], test_size=0.2, random_state=42)"
   ]
  },
  {
   "cell_type": "code",
   "execution_count": 18,
   "metadata": {},
   "outputs": [],
   "source": [
    "baseline_model_01 = Pipeline([(\"baseline_model\", LinearRegression())])"
   ]
  },
  {
   "cell_type": "code",
   "execution_count": 19,
   "metadata": {},
   "outputs": [
    {
     "data": {
      "text/html": [
       "<style>#sk-container-id-1 {color: black;}#sk-container-id-1 pre{padding: 0;}#sk-container-id-1 div.sk-toggleable {background-color: white;}#sk-container-id-1 label.sk-toggleable__label {cursor: pointer;display: block;width: 100%;margin-bottom: 0;padding: 0.3em;box-sizing: border-box;text-align: center;}#sk-container-id-1 label.sk-toggleable__label-arrow:before {content: \"▸\";float: left;margin-right: 0.25em;color: #696969;}#sk-container-id-1 label.sk-toggleable__label-arrow:hover:before {color: black;}#sk-container-id-1 div.sk-estimator:hover label.sk-toggleable__label-arrow:before {color: black;}#sk-container-id-1 div.sk-toggleable__content {max-height: 0;max-width: 0;overflow: hidden;text-align: left;background-color: #f0f8ff;}#sk-container-id-1 div.sk-toggleable__content pre {margin: 0.2em;color: black;border-radius: 0.25em;background-color: #f0f8ff;}#sk-container-id-1 input.sk-toggleable__control:checked~div.sk-toggleable__content {max-height: 200px;max-width: 100%;overflow: auto;}#sk-container-id-1 input.sk-toggleable__control:checked~label.sk-toggleable__label-arrow:before {content: \"▾\";}#sk-container-id-1 div.sk-estimator input.sk-toggleable__control:checked~label.sk-toggleable__label {background-color: #d4ebff;}#sk-container-id-1 div.sk-label input.sk-toggleable__control:checked~label.sk-toggleable__label {background-color: #d4ebff;}#sk-container-id-1 input.sk-hidden--visually {border: 0;clip: rect(1px 1px 1px 1px);clip: rect(1px, 1px, 1px, 1px);height: 1px;margin: -1px;overflow: hidden;padding: 0;position: absolute;width: 1px;}#sk-container-id-1 div.sk-estimator {font-family: monospace;background-color: #f0f8ff;border: 1px dotted black;border-radius: 0.25em;box-sizing: border-box;margin-bottom: 0.5em;}#sk-container-id-1 div.sk-estimator:hover {background-color: #d4ebff;}#sk-container-id-1 div.sk-parallel-item::after {content: \"\";width: 100%;border-bottom: 1px solid gray;flex-grow: 1;}#sk-container-id-1 div.sk-label:hover label.sk-toggleable__label {background-color: #d4ebff;}#sk-container-id-1 div.sk-serial::before {content: \"\";position: absolute;border-left: 1px solid gray;box-sizing: border-box;top: 0;bottom: 0;left: 50%;z-index: 0;}#sk-container-id-1 div.sk-serial {display: flex;flex-direction: column;align-items: center;background-color: white;padding-right: 0.2em;padding-left: 0.2em;position: relative;}#sk-container-id-1 div.sk-item {position: relative;z-index: 1;}#sk-container-id-1 div.sk-parallel {display: flex;align-items: stretch;justify-content: center;background-color: white;position: relative;}#sk-container-id-1 div.sk-item::before, #sk-container-id-1 div.sk-parallel-item::before {content: \"\";position: absolute;border-left: 1px solid gray;box-sizing: border-box;top: 0;bottom: 0;left: 50%;z-index: -1;}#sk-container-id-1 div.sk-parallel-item {display: flex;flex-direction: column;z-index: 1;position: relative;background-color: white;}#sk-container-id-1 div.sk-parallel-item:first-child::after {align-self: flex-end;width: 50%;}#sk-container-id-1 div.sk-parallel-item:last-child::after {align-self: flex-start;width: 50%;}#sk-container-id-1 div.sk-parallel-item:only-child::after {width: 0;}#sk-container-id-1 div.sk-dashed-wrapped {border: 1px dashed gray;margin: 0 0.4em 0.5em 0.4em;box-sizing: border-box;padding-bottom: 0.4em;background-color: white;}#sk-container-id-1 div.sk-label label {font-family: monospace;font-weight: bold;display: inline-block;line-height: 1.2em;}#sk-container-id-1 div.sk-label-container {text-align: center;}#sk-container-id-1 div.sk-container {/* jupyter's `normalize.less` sets `[hidden] { display: none; }` but bootstrap.min.css set `[hidden] { display: none !important; }` so we also need the `!important` here to be able to override the default hidden behavior on the sphinx rendered scikit-learn.org. See: https://github.com/scikit-learn/scikit-learn/issues/21755 */display: inline-block !important;position: relative;}#sk-container-id-1 div.sk-text-repr-fallback {display: none;}</style><div id=\"sk-container-id-1\" class=\"sk-top-container\"><div class=\"sk-text-repr-fallback\"><pre>Pipeline(steps=[(&#x27;baseline_model&#x27;, LinearRegression())])</pre><b>In a Jupyter environment, please rerun this cell to show the HTML representation or trust the notebook. <br />On GitHub, the HTML representation is unable to render, please try loading this page with nbviewer.org.</b></div><div class=\"sk-container\" hidden><div class=\"sk-item sk-dashed-wrapped\"><div class=\"sk-label-container\"><div class=\"sk-label sk-toggleable\"><input class=\"sk-toggleable__control sk-hidden--visually\" id=\"sk-estimator-id-1\" type=\"checkbox\" ><label for=\"sk-estimator-id-1\" class=\"sk-toggleable__label sk-toggleable__label-arrow\">Pipeline</label><div class=\"sk-toggleable__content\"><pre>Pipeline(steps=[(&#x27;baseline_model&#x27;, LinearRegression())])</pre></div></div></div><div class=\"sk-serial\"><div class=\"sk-item\"><div class=\"sk-estimator sk-toggleable\"><input class=\"sk-toggleable__control sk-hidden--visually\" id=\"sk-estimator-id-2\" type=\"checkbox\" ><label for=\"sk-estimator-id-2\" class=\"sk-toggleable__label sk-toggleable__label-arrow\">LinearRegression</label><div class=\"sk-toggleable__content\"><pre>LinearRegression()</pre></div></div></div></div></div></div></div>"
      ],
      "text/plain": [
       "Pipeline(steps=[('baseline_model', LinearRegression())])"
      ]
     },
     "execution_count": 19,
     "metadata": {},
     "output_type": "execute_result"
    }
   ],
   "source": [
    "baseline_model_01.fit(X_train, y_train)"
   ]
  },
  {
   "cell_type": "markdown",
   "metadata": {},
   "source": [
    "Im Anschluss nutzten wir die Validierungsdaten um das Modell damit zu evaluieren."
   ]
  },
  {
   "cell_type": "code",
   "execution_count": 20,
   "metadata": {},
   "outputs": [],
   "source": [
    "y_pred = baseline_model_01.predict(X_validate)"
   ]
  },
  {
   "cell_type": "markdown",
   "metadata": {},
   "source": [
    "Die beiden zu Beginn definierten Funktionen geben zum einen die ```performance_measures``` und die Darstellung der ```acutual_vs_predicted``` Werte aus."
   ]
  },
  {
   "cell_type": "code",
   "execution_count": 21,
   "metadata": {},
   "outputs": [
    {
     "name": "stdout",
     "output_type": "stream",
     "text": [
      "R2: 0.22\n",
      "MAE: 1322.63\n"
     ]
    }
   ],
   "source": [
    "_, _ = performance_measures(y_validate, y_pred)"
   ]
  },
  {
   "cell_type": "code",
   "execution_count": 22,
   "metadata": {},
   "outputs": [
    {
     "data": {
      "image/png": "[encoded data removed]",
      "text/plain": [
       "<Figure size 1000x600 with 1 Axes>"
      ]
     },
     "metadata": {},
     "output_type": "display_data"
    }
   ],
   "source": [
    "actual_vs_predicted(y_validate, y_pred)"
   ]
  },
  {
   "cell_type": "markdown",
   "metadata": {},
   "source": [
    "Aus dem Diagramm wird ersichtlich, dass unser ```baseline_model``` aufgrund der Ausreißer im Label ```cnt``` noch Schwierigkeiten bei der Vorhersage hat."
   ]
  },
  {
   "cell_type": "markdown",
   "metadata": {},
   "source": [
    "## 4 Missing Value Handling"
   ]
  },
  {
   "cell_type": "code",
   "execution_count": 23,
   "metadata": {},
   "outputs": [
    {
     "data": {
      "text/plain": [
       "<Axes: >"
      ]
     },
     "execution_count": 23,
     "metadata": {},
     "output_type": "execute_result"
    },
    {
     "data": {
      "image/png": "[encoded data removed]",
      "text/plain": [
       "<Figure size 2500x1000 with 2 Axes>"
      ]
     },
     "metadata": {},
     "output_type": "display_data"
    }
   ],
   "source": [
    "msno.matrix(train_data)"
   ]
  },
  {
   "cell_type": "markdown",
   "metadata": {},
   "source": [
    "Wie wir bereits in Task 1 erarbeitet haben, weisen die Spalten `season` und `hum` fehlende Werte auf. \n",
    "\n",
    "Im `minimal_preprocessing` werden alle `NaN` Werte mit durch den `SimpleImputer` mit `mean` aufgefüllt."
   ]
  },
  {
   "cell_type": "markdown",
   "metadata": {},
   "source": [
    "Nun sollen die fehlenden Werte in der Spalte `season` anhand des vorliegenden Datums in der entsprechenden Zeile aufgefüllt werden. \n",
    "\n",
    "`impute_season` bestimmt die Jahreszeit anhand eines Datums im Format `\"%d.%m.%y\"`. \n",
    "\n",
    "Diese liest den Tag des entsprechenden Datums aus und weist diesen der dafür entsprechenden Season zu.\n",
    "\n",
    "Es gibt vier fest definierte Zeitpunkte für den Beginn jeder Jahreszeit (Frühling, Sommer, Herbst, Winter).\n",
    "\n",
    "Diese Zeitpunkte sind auf den 20. März, 20. Juni, 20. September und 20. Dezember festgelegt."
   ]
  },
  {
   "cell_type": "markdown",
   "metadata": {},
   "source": [
    "Damit wir die entsprechende Season anhand des Datums bestimmen können, müssen wir die Werte der Spalte `dteday` zuvor in `datetime` Objekte umwandeln. \n",
    "\n",
    "Dafür nutzen wir die `feature_to_datetime` Funktion, welche der preprocessing Pipeline als CustomTransformer mitgegeben wird."
   ]
  },
  {
   "cell_type": "code",
   "execution_count": 24,
   "metadata": {},
   "outputs": [],
   "source": [
    "def feature_to_datetime(df: pd.DataFrame, target: str, date_format: str = \"%d.%m.%Y\") -> pd.DataFrame:\n",
    "    \"\"\"\n",
    "    Convert the feature to datetime.\n",
    "    \n",
    "    Args:\n",
    "        df: pd.DataFrame: The DataFrame to be transformed.\n",
    "        target: str: The feature to be transformed.\n",
    "        date_format: str: The format of the date.\n",
    "\n",
    "    Returns:\n",
    "        pd.DataFrame: The transformed DataFrame.\n",
    "    \"\"\"\n",
    "    df[target] = pd.to_datetime(df[target], format=date_format)\n",
    "    \n",
    "    return df"
   ]
  },
  {
   "cell_type": "code",
   "execution_count": 25,
   "metadata": {},
   "outputs": [],
   "source": [
    "def impute_season(df: pd.DataFrame, target: str, date: str) -> pd.DataFrame:\n",
    "    \"\"\"\n",
    "    Impute season based on target column value.\n",
    "    \n",
    "    Args:\n",
    "        df (pd.DataFrame): DataFrame\n",
    "        target (str): target column name\n",
    "    \n",
    "    Returns:\n",
    "        pd.DataFrame: DataFrame with season imputed based on target column value\n",
    "    \"\"\"\n",
    "    def get_season(date):\n",
    "        day_of_year = date.timetuple().tm_yday\n",
    "        if 80 <= day_of_year < 172:\n",
    "            return 2\n",
    "        elif 172 <= day_of_year < 265:\n",
    "            return 3\n",
    "        elif 265 <= day_of_year < 355:\n",
    "            return 4\n",
    "        else:\n",
    "            return 1\n",
    "        \n",
    "    if date in df.columns:\n",
    "        df[target] = df[date].apply(get_season)\n",
    "        \n",
    "    return df"
   ]
  },
  {
   "cell_type": "markdown",
   "metadata": {},
   "source": [
    "In der folgenden Zelle definieren wir die einzelnen `CustomTransformer` um die beschriebene Funktionaliät umzusetzten."
   ]
  },
  {
   "cell_type": "code",
   "execution_count": 26,
   "metadata": {},
   "outputs": [],
   "source": [
    "feature_datetime = CustomTransformer(function=feature_to_datetime, config={\"target\": \"dteday\"})\n",
    "\n",
    "season_imputer = CustomTransformer(function=impute_season, config={\"target\": \"season\", \"date\": \"dteday\"})\n",
    "\n",
    "missing_value_pipeline = Pipeline([\n",
    "    (\"feature_datetime\", feature_datetime),\n",
    "    (\"season_imputer\", season_imputer)])"
   ]
  },
  {
   "cell_type": "markdown",
   "metadata": {},
   "source": [
    "Hier wird die eben definierte Pipeline mit der minimal Pipeline dem ersten Schritt kombiniert."
   ]
  },
  {
   "cell_type": "code",
   "execution_count": 27,
   "metadata": {},
   "outputs": [],
   "source": [
    "pipeline = Pipeline([\n",
    "    (\"missing_value_pipeline\", missing_value_pipeline),\n",
    "    (\"minimal_pipeline\", minimal_pipeline)])"
   ]
  },
  {
   "cell_type": "markdown",
   "metadata": {},
   "source": [
    "Danach holen wir uns den transfromierten Datensatz aus der Pipeline."
   ]
  },
  {
   "cell_type": "code",
   "execution_count": 28,
   "metadata": {},
   "outputs": [
    {
     "name": "stderr",
     "output_type": "stream",
     "text": [
      "/tmp/ipykernel_627773/208495991.py:13: SettingWithCopyWarning: \n",
      "A value is trying to be set on a copy of a slice from a DataFrame.\n",
      "Try using .loc[row_indexer,col_indexer] = value instead\n",
      "\n",
      "See the caveats in the documentation: https://pandas.pydata.org/pandas-docs/stable/user_guide/indexing.html#returning-a-view-versus-a-copy\n",
      "  df[target] = pd.to_datetime(df[target], format=date_format)\n",
      "/tmp/ipykernel_627773/2224586021.py:24: SettingWithCopyWarning: \n",
      "A value is trying to be set on a copy of a slice from a DataFrame.\n",
      "Try using .loc[row_indexer,col_indexer] = value instead\n",
      "\n",
      "See the caveats in the documentation: https://pandas.pydata.org/pandas-docs/stable/user_guide/indexing.html#returning-a-view-versus-a-copy\n",
      "  df[target] = df[date].apply(get_season)\n"
     ]
    }
   ],
   "source": [
    "processed_data = pipeline.fit_transform(train_data[features])"
   ]
  },
  {
   "cell_type": "code",
   "execution_count": 29,
   "metadata": {},
   "outputs": [],
   "source": [
    "processed_data_features = pipeline.named_steps['minimal_pipeline'].named_steps['imputer'].get_feature_names_out()"
   ]
  },
  {
   "cell_type": "markdown",
   "metadata": {},
   "source": [
    "Wir entfernen das dteday Feature aus der temp_features liste, weil es durch den numeric_values Transformer aus den transformierten Daten entfernt wurde und wandeln das result in einen Dataframe um."
   ]
  },
  {
   "cell_type": "code",
   "execution_count": 30,
   "metadata": {},
   "outputs": [],
   "source": [
    "processed_data = pd.DataFrame(processed_data, columns=processed_data_features, index=train_data.index)"
   ]
  },
  {
   "cell_type": "code",
   "execution_count": 31,
   "metadata": {},
   "outputs": [
    {
     "data": {
      "text/html": [
       "<div>\n",
       "<style scoped>\n",
       "    .dataframe tbody tr th:only-of-type {\n",
       "        vertical-align: middle;\n",
       "    }\n",
       "\n",
       "    .dataframe tbody tr th {\n",
       "        vertical-align: top;\n",
       "    }\n",
       "\n",
       "    .dataframe thead th {\n",
       "        text-align: right;\n",
       "    }\n",
       "</style>\n",
       "<table border=\"1\" class=\"dataframe\">\n",
       "  <thead>\n",
       "    <tr style=\"text-align: right;\">\n",
       "      <th>instant</th>\n",
       "      <th>154</th>\n",
       "      <th>685</th>\n",
       "      <th>368</th>\n",
       "      <th>472</th>\n",
       "      <th>442</th>\n",
       "    </tr>\n",
       "  </thead>\n",
       "  <tbody>\n",
       "    <tr>\n",
       "      <th>season</th>\n",
       "      <td>2.000000</td>\n",
       "      <td>4.000000</td>\n",
       "      <td>1.000000</td>\n",
       "      <td>2.000000</td>\n",
       "      <td>1.000000</td>\n",
       "    </tr>\n",
       "    <tr>\n",
       "      <th>yr</th>\n",
       "      <td>0.000000</td>\n",
       "      <td>1.000000</td>\n",
       "      <td>1.000000</td>\n",
       "      <td>1.000000</td>\n",
       "      <td>1.000000</td>\n",
       "    </tr>\n",
       "    <tr>\n",
       "      <th>mnth</th>\n",
       "      <td>6.000000</td>\n",
       "      <td>11.000000</td>\n",
       "      <td>1.000000</td>\n",
       "      <td>4.000000</td>\n",
       "      <td>3.000000</td>\n",
       "    </tr>\n",
       "    <tr>\n",
       "      <th>holiday</th>\n",
       "      <td>0.000000</td>\n",
       "      <td>0.000000</td>\n",
       "      <td>0.000000</td>\n",
       "      <td>1.000000</td>\n",
       "      <td>0.000000</td>\n",
       "    </tr>\n",
       "    <tr>\n",
       "      <th>weekday</th>\n",
       "      <td>5.000000</td>\n",
       "      <td>4.000000</td>\n",
       "      <td>2.000000</td>\n",
       "      <td>1.000000</td>\n",
       "      <td>-1.000000</td>\n",
       "    </tr>\n",
       "    <tr>\n",
       "      <th>workingday</th>\n",
       "      <td>1.000000</td>\n",
       "      <td>1.000000</td>\n",
       "      <td>1.000000</td>\n",
       "      <td>0.000000</td>\n",
       "      <td>0.000000</td>\n",
       "    </tr>\n",
       "    <tr>\n",
       "      <th>weathersit</th>\n",
       "      <td>1.000000</td>\n",
       "      <td>2.000000</td>\n",
       "      <td>1.000000</td>\n",
       "      <td>1.000000</td>\n",
       "      <td>2.000000</td>\n",
       "    </tr>\n",
       "    <tr>\n",
       "      <th>temp</th>\n",
       "      <td>24.800000</td>\n",
       "      <td>12.866700</td>\n",
       "      <td>6.000000</td>\n",
       "      <td>26.566700</td>\n",
       "      <td>20.566700</td>\n",
       "    </tr>\n",
       "    <tr>\n",
       "      <th>atemp</th>\n",
       "      <td>0.587133</td>\n",
       "      <td>0.324492</td>\n",
       "      <td>0.126275</td>\n",
       "      <td>0.614925</td>\n",
       "      <td>0.505046</td>\n",
       "    </tr>\n",
       "    <tr>\n",
       "      <th>hum</th>\n",
       "      <td>53.125050</td>\n",
       "      <td>93.062550</td>\n",
       "      <td>66.187500</td>\n",
       "      <td>84.250050</td>\n",
       "      <td>113.374950</td>\n",
       "    </tr>\n",
       "    <tr>\n",
       "      <th>windspeed</th>\n",
       "      <td>0.253121</td>\n",
       "      <td>0.152987</td>\n",
       "      <td>0.365671</td>\n",
       "      <td>0.284829</td>\n",
       "      <td>0.110704</td>\n",
       "    </tr>\n",
       "    <tr>\n",
       "      <th>leaflets</th>\n",
       "      <td>991.000000</td>\n",
       "      <td>601.000000</td>\n",
       "      <td>549.000000</td>\n",
       "      <td>740.000000</td>\n",
       "      <td>773.000000</td>\n",
       "    </tr>\n",
       "    <tr>\n",
       "      <th>price_reduction</th>\n",
       "      <td>0.000000</td>\n",
       "      <td>0.000000</td>\n",
       "      <td>0.000000</td>\n",
       "      <td>0.000000</td>\n",
       "      <td>1.000000</td>\n",
       "    </tr>\n",
       "  </tbody>\n",
       "</table>\n",
       "</div>"
      ],
      "text/plain": [
       "instant                 154         685         368         472         442\n",
       "season             2.000000    4.000000    1.000000    2.000000    1.000000\n",
       "yr                 0.000000    1.000000    1.000000    1.000000    1.000000\n",
       "mnth               6.000000   11.000000    1.000000    4.000000    3.000000\n",
       "holiday            0.000000    0.000000    0.000000    1.000000    0.000000\n",
       "weekday            5.000000    4.000000    2.000000    1.000000   -1.000000\n",
       "workingday         1.000000    1.000000    1.000000    0.000000    0.000000\n",
       "weathersit         1.000000    2.000000    1.000000    1.000000    2.000000\n",
       "temp              24.800000   12.866700    6.000000   26.566700   20.566700\n",
       "atemp              0.587133    0.324492    0.126275    0.614925    0.505046\n",
       "hum               53.125050   93.062550   66.187500   84.250050  113.374950\n",
       "windspeed          0.253121    0.152987    0.365671    0.284829    0.110704\n",
       "leaflets         991.000000  601.000000  549.000000  740.000000  773.000000\n",
       "price_reduction    0.000000    0.000000    0.000000    0.000000    1.000000"
      ]
     },
     "execution_count": 31,
     "metadata": {},
     "output_type": "execute_result"
    }
   ],
   "source": [
    "processed_data.head().T"
   ]
  },
  {
   "cell_type": "code",
   "execution_count": 32,
   "metadata": {},
   "outputs": [
    {
     "data": {
      "text/html": [
       "<div>\n",
       "<style scoped>\n",
       "    .dataframe tbody tr th:only-of-type {\n",
       "        vertical-align: middle;\n",
       "    }\n",
       "\n",
       "    .dataframe tbody tr th {\n",
       "        vertical-align: top;\n",
       "    }\n",
       "\n",
       "    .dataframe thead th {\n",
       "        text-align: right;\n",
       "    }\n",
       "</style>\n",
       "<table border=\"1\" class=\"dataframe\">\n",
       "  <thead>\n",
       "    <tr style=\"text-align: right;\">\n",
       "      <th></th>\n",
       "      <th>count</th>\n",
       "      <th>mean</th>\n",
       "      <th>std</th>\n",
       "      <th>min</th>\n",
       "      <th>25%</th>\n",
       "      <th>50%</th>\n",
       "      <th>75%</th>\n",
       "      <th>max</th>\n",
       "    </tr>\n",
       "  </thead>\n",
       "  <tbody>\n",
       "    <tr>\n",
       "      <th>season</th>\n",
       "      <td>600.0</td>\n",
       "      <td>2.461667</td>\n",
       "      <td>1.110820</td>\n",
       "      <td>1.00000</td>\n",
       "      <td>1.000000</td>\n",
       "      <td>2.000000</td>\n",
       "      <td>3.000000</td>\n",
       "      <td>4.000000</td>\n",
       "    </tr>\n",
       "    <tr>\n",
       "      <th>yr</th>\n",
       "      <td>600.0</td>\n",
       "      <td>0.496667</td>\n",
       "      <td>0.500406</td>\n",
       "      <td>0.00000</td>\n",
       "      <td>0.000000</td>\n",
       "      <td>0.000000</td>\n",
       "      <td>1.000000</td>\n",
       "      <td>1.000000</td>\n",
       "    </tr>\n",
       "    <tr>\n",
       "      <th>mnth</th>\n",
       "      <td>600.0</td>\n",
       "      <td>6.475000</td>\n",
       "      <td>3.442741</td>\n",
       "      <td>1.00000</td>\n",
       "      <td>4.000000</td>\n",
       "      <td>6.000000</td>\n",
       "      <td>9.000000</td>\n",
       "      <td>12.000000</td>\n",
       "    </tr>\n",
       "    <tr>\n",
       "      <th>holiday</th>\n",
       "      <td>600.0</td>\n",
       "      <td>0.030000</td>\n",
       "      <td>0.170730</td>\n",
       "      <td>0.00000</td>\n",
       "      <td>0.000000</td>\n",
       "      <td>0.000000</td>\n",
       "      <td>0.000000</td>\n",
       "      <td>1.000000</td>\n",
       "    </tr>\n",
       "    <tr>\n",
       "      <th>weekday</th>\n",
       "      <td>600.0</td>\n",
       "      <td>2.928333</td>\n",
       "      <td>2.079360</td>\n",
       "      <td>-1.00000</td>\n",
       "      <td>1.000000</td>\n",
       "      <td>3.000000</td>\n",
       "      <td>5.000000</td>\n",
       "      <td>6.000000</td>\n",
       "    </tr>\n",
       "    <tr>\n",
       "      <th>workingday</th>\n",
       "      <td>600.0</td>\n",
       "      <td>0.680000</td>\n",
       "      <td>0.466865</td>\n",
       "      <td>0.00000</td>\n",
       "      <td>0.000000</td>\n",
       "      <td>1.000000</td>\n",
       "      <td>1.000000</td>\n",
       "      <td>1.000000</td>\n",
       "    </tr>\n",
       "    <tr>\n",
       "      <th>weathersit</th>\n",
       "      <td>600.0</td>\n",
       "      <td>1.401667</td>\n",
       "      <td>0.542360</td>\n",
       "      <td>1.00000</td>\n",
       "      <td>1.000000</td>\n",
       "      <td>1.000000</td>\n",
       "      <td>2.000000</td>\n",
       "      <td>3.000000</td>\n",
       "    </tr>\n",
       "    <tr>\n",
       "      <th>temp</th>\n",
       "      <td>600.0</td>\n",
       "      <td>19.808284</td>\n",
       "      <td>7.206843</td>\n",
       "      <td>2.36520</td>\n",
       "      <td>13.575000</td>\n",
       "      <td>20.100000</td>\n",
       "      <td>26.058300</td>\n",
       "      <td>34.466700</td>\n",
       "    </tr>\n",
       "    <tr>\n",
       "      <th>atemp</th>\n",
       "      <td>600.0</td>\n",
       "      <td>0.473620</td>\n",
       "      <td>0.160439</td>\n",
       "      <td>0.07907</td>\n",
       "      <td>0.338256</td>\n",
       "      <td>0.489690</td>\n",
       "      <td>0.605127</td>\n",
       "      <td>0.826371</td>\n",
       "    </tr>\n",
       "    <tr>\n",
       "      <th>hum</th>\n",
       "      <td>600.0</td>\n",
       "      <td>93.845200</td>\n",
       "      <td>20.764975</td>\n",
       "      <td>28.18755</td>\n",
       "      <td>78.359363</td>\n",
       "      <td>93.845200</td>\n",
       "      <td>108.437550</td>\n",
       "      <td>145.875000</td>\n",
       "    </tr>\n",
       "    <tr>\n",
       "      <th>windspeed</th>\n",
       "      <td>600.0</td>\n",
       "      <td>0.183696</td>\n",
       "      <td>0.125257</td>\n",
       "      <td>-1.00000</td>\n",
       "      <td>0.134335</td>\n",
       "      <td>0.180971</td>\n",
       "      <td>0.233947</td>\n",
       "      <td>0.507463</td>\n",
       "    </tr>\n",
       "    <tr>\n",
       "      <th>leaflets</th>\n",
       "      <td>600.0</td>\n",
       "      <td>740.065000</td>\n",
       "      <td>164.430095</td>\n",
       "      <td>459.00000</td>\n",
       "      <td>600.750000</td>\n",
       "      <td>737.000000</td>\n",
       "      <td>875.500000</td>\n",
       "      <td>1032.000000</td>\n",
       "    </tr>\n",
       "    <tr>\n",
       "      <th>price_reduction</th>\n",
       "      <td>600.0</td>\n",
       "      <td>0.150000</td>\n",
       "      <td>0.357369</td>\n",
       "      <td>0.00000</td>\n",
       "      <td>0.000000</td>\n",
       "      <td>0.000000</td>\n",
       "      <td>0.000000</td>\n",
       "      <td>1.000000</td>\n",
       "    </tr>\n",
       "  </tbody>\n",
       "</table>\n",
       "</div>"
      ],
      "text/plain": [
       "                 count        mean         std        min         25%  \\\n",
       "season           600.0    2.461667    1.110820    1.00000    1.000000   \n",
       "yr               600.0    0.496667    0.500406    0.00000    0.000000   \n",
       "mnth             600.0    6.475000    3.442741    1.00000    4.000000   \n",
       "holiday          600.0    0.030000    0.170730    0.00000    0.000000   \n",
       "weekday          600.0    2.928333    2.079360   -1.00000    1.000000   \n",
       "workingday       600.0    0.680000    0.466865    0.00000    0.000000   \n",
       "weathersit       600.0    1.401667    0.542360    1.00000    1.000000   \n",
       "temp             600.0   19.808284    7.206843    2.36520   13.575000   \n",
       "atemp            600.0    0.473620    0.160439    0.07907    0.338256   \n",
       "hum              600.0   93.845200   20.764975   28.18755   78.359363   \n",
       "windspeed        600.0    0.183696    0.125257   -1.00000    0.134335   \n",
       "leaflets         600.0  740.065000  164.430095  459.00000  600.750000   \n",
       "price_reduction  600.0    0.150000    0.357369    0.00000    0.000000   \n",
       "\n",
       "                        50%         75%          max  \n",
       "season             2.000000    3.000000     4.000000  \n",
       "yr                 0.000000    1.000000     1.000000  \n",
       "mnth               6.000000    9.000000    12.000000  \n",
       "holiday            0.000000    0.000000     1.000000  \n",
       "weekday            3.000000    5.000000     6.000000  \n",
       "workingday         1.000000    1.000000     1.000000  \n",
       "weathersit         1.000000    2.000000     3.000000  \n",
       "temp              20.100000   26.058300    34.466700  \n",
       "atemp              0.489690    0.605127     0.826371  \n",
       "hum               93.845200  108.437550   145.875000  \n",
       "windspeed          0.180971    0.233947     0.507463  \n",
       "leaflets         737.000000  875.500000  1032.000000  \n",
       "price_reduction    0.000000    0.000000     1.000000  "
      ]
     },
     "execution_count": 32,
     "metadata": {},
     "output_type": "execute_result"
    }
   ],
   "source": [
    "processed_data.describe().T"
   ]
  },
  {
   "cell_type": "code",
   "execution_count": 33,
   "metadata": {},
   "outputs": [],
   "source": [
    "X_train, X_validate, y_train, y_validate = train_test_split(processed_data, train_data[\"cnt\"], test_size=0.2, random_state=42)"
   ]
  },
  {
   "cell_type": "code",
   "execution_count": 34,
   "metadata": {},
   "outputs": [],
   "source": [
    "baseline_model_02 = Pipeline([(\"baseline_model\", LinearRegression())])"
   ]
  },
  {
   "cell_type": "code",
   "execution_count": 35,
   "metadata": {},
   "outputs": [
    {
     "data": {
      "text/html": [
       "<style>#sk-container-id-2 {color: black;}#sk-container-id-2 pre{padding: 0;}#sk-container-id-2 div.sk-toggleable {background-color: white;}#sk-container-id-2 label.sk-toggleable__label {cursor: pointer;display: block;width: 100%;margin-bottom: 0;padding: 0.3em;box-sizing: border-box;text-align: center;}#sk-container-id-2 label.sk-toggleable__label-arrow:before {content: \"▸\";float: left;margin-right: 0.25em;color: #696969;}#sk-container-id-2 label.sk-toggleable__label-arrow:hover:before {color: black;}#sk-container-id-2 div.sk-estimator:hover label.sk-toggleable__label-arrow:before {color: black;}#sk-container-id-2 div.sk-toggleable__content {max-height: 0;max-width: 0;overflow: hidden;text-align: left;background-color: #f0f8ff;}#sk-container-id-2 div.sk-toggleable__content pre {margin: 0.2em;color: black;border-radius: 0.25em;background-color: #f0f8ff;}#sk-container-id-2 input.sk-toggleable__control:checked~div.sk-toggleable__content {max-height: 200px;max-width: 100%;overflow: auto;}#sk-container-id-2 input.sk-toggleable__control:checked~label.sk-toggleable__label-arrow:before {content: \"▾\";}#sk-container-id-2 div.sk-estimator input.sk-toggleable__control:checked~label.sk-toggleable__label {background-color: #d4ebff;}#sk-container-id-2 div.sk-label input.sk-toggleable__control:checked~label.sk-toggleable__label {background-color: #d4ebff;}#sk-container-id-2 input.sk-hidden--visually {border: 0;clip: rect(1px 1px 1px 1px);clip: rect(1px, 1px, 1px, 1px);height: 1px;margin: -1px;overflow: hidden;padding: 0;position: absolute;width: 1px;}#sk-container-id-2 div.sk-estimator {font-family: monospace;background-color: #f0f8ff;border: 1px dotted black;border-radius: 0.25em;box-sizing: border-box;margin-bottom: 0.5em;}#sk-container-id-2 div.sk-estimator:hover {background-color: #d4ebff;}#sk-container-id-2 div.sk-parallel-item::after {content: \"\";width: 100%;border-bottom: 1px solid gray;flex-grow: 1;}#sk-container-id-2 div.sk-label:hover label.sk-toggleable__label {background-color: #d4ebff;}#sk-container-id-2 div.sk-serial::before {content: \"\";position: absolute;border-left: 1px solid gray;box-sizing: border-box;top: 0;bottom: 0;left: 50%;z-index: 0;}#sk-container-id-2 div.sk-serial {display: flex;flex-direction: column;align-items: center;background-color: white;padding-right: 0.2em;padding-left: 0.2em;position: relative;}#sk-container-id-2 div.sk-item {position: relative;z-index: 1;}#sk-container-id-2 div.sk-parallel {display: flex;align-items: stretch;justify-content: center;background-color: white;position: relative;}#sk-container-id-2 div.sk-item::before, #sk-container-id-2 div.sk-parallel-item::before {content: \"\";position: absolute;border-left: 1px solid gray;box-sizing: border-box;top: 0;bottom: 0;left: 50%;z-index: -1;}#sk-container-id-2 div.sk-parallel-item {display: flex;flex-direction: column;z-index: 1;position: relative;background-color: white;}#sk-container-id-2 div.sk-parallel-item:first-child::after {align-self: flex-end;width: 50%;}#sk-container-id-2 div.sk-parallel-item:last-child::after {align-self: flex-start;width: 50%;}#sk-container-id-2 div.sk-parallel-item:only-child::after {width: 0;}#sk-container-id-2 div.sk-dashed-wrapped {border: 1px dashed gray;margin: 0 0.4em 0.5em 0.4em;box-sizing: border-box;padding-bottom: 0.4em;background-color: white;}#sk-container-id-2 div.sk-label label {font-family: monospace;font-weight: bold;display: inline-block;line-height: 1.2em;}#sk-container-id-2 div.sk-label-container {text-align: center;}#sk-container-id-2 div.sk-container {/* jupyter's `normalize.less` sets `[hidden] { display: none; }` but bootstrap.min.css set `[hidden] { display: none !important; }` so we also need the `!important` here to be able to override the default hidden behavior on the sphinx rendered scikit-learn.org. See: https://github.com/scikit-learn/scikit-learn/issues/21755 */display: inline-block !important;position: relative;}#sk-container-id-2 div.sk-text-repr-fallback {display: none;}</style><div id=\"sk-container-id-2\" class=\"sk-top-container\"><div class=\"sk-text-repr-fallback\"><pre>Pipeline(steps=[(&#x27;baseline_model&#x27;, LinearRegression())])</pre><b>In a Jupyter environment, please rerun this cell to show the HTML representation or trust the notebook. <br />On GitHub, the HTML representation is unable to render, please try loading this page with nbviewer.org.</b></div><div class=\"sk-container\" hidden><div class=\"sk-item sk-dashed-wrapped\"><div class=\"sk-label-container\"><div class=\"sk-label sk-toggleable\"><input class=\"sk-toggleable__control sk-hidden--visually\" id=\"sk-estimator-id-3\" type=\"checkbox\" ><label for=\"sk-estimator-id-3\" class=\"sk-toggleable__label sk-toggleable__label-arrow\">Pipeline</label><div class=\"sk-toggleable__content\"><pre>Pipeline(steps=[(&#x27;baseline_model&#x27;, LinearRegression())])</pre></div></div></div><div class=\"sk-serial\"><div class=\"sk-item\"><div class=\"sk-estimator sk-toggleable\"><input class=\"sk-toggleable__control sk-hidden--visually\" id=\"sk-estimator-id-4\" type=\"checkbox\" ><label for=\"sk-estimator-id-4\" class=\"sk-toggleable__label sk-toggleable__label-arrow\">LinearRegression</label><div class=\"sk-toggleable__content\"><pre>LinearRegression()</pre></div></div></div></div></div></div></div>"
      ],
      "text/plain": [
       "Pipeline(steps=[('baseline_model', LinearRegression())])"
      ]
     },
     "execution_count": 35,
     "metadata": {},
     "output_type": "execute_result"
    }
   ],
   "source": [
    "baseline_model_02.fit(X_train, y_train)"
   ]
  },
  {
   "cell_type": "code",
   "execution_count": 36,
   "metadata": {},
   "outputs": [],
   "source": [
    "y_pred = baseline_model_02.predict(X_validate)"
   ]
  },
  {
   "cell_type": "code",
   "execution_count": 37,
   "metadata": {},
   "outputs": [
    {
     "name": "stdout",
     "output_type": "stream",
     "text": [
      "R2: 0.22\n",
      "MAE: 1316.62\n"
     ]
    }
   ],
   "source": [
    "_, _ = performance_measures(y_validate, y_pred)"
   ]
  },
  {
   "cell_type": "code",
   "execution_count": 38,
   "metadata": {},
   "outputs": [
    {
     "data": {
      "image/png": "[encoded data removed]",
      "text/plain": [
       "<Figure size 1000x600 with 1 Axes>"
      ]
     },
     "metadata": {},
     "output_type": "display_data"
    }
   ],
   "source": [
    "actual_vs_predicted(y_validate, y_pred)"
   ]
  },
  {
   "cell_type": "markdown",
   "metadata": {},
   "source": [
    "Anhand der Performace Measures ist zu erkennen, dass sich durch diesen Schritt keine wesentlichen Verbesserungen ergeben haben."
   ]
  },
  {
   "cell_type": "markdown",
   "metadata": {},
   "source": [
    "## 5 Data Corrections"
   ]
  },
  {
   "cell_type": "markdown",
   "metadata": {},
   "source": [
    "Aus der deskriptiven Statistik ist ersichltich, dass das Minimum der Variable `windspeed` bei `-1` liegt. \n",
    "\n",
    "Da die Windgeschwindigkeit nicht negativ sein kann, treffen wir die Annahme, dass es sich hierbei um Fehler handeln muss."
   ]
  },
  {
   "cell_type": "markdown",
   "metadata": {},
   "source": [
    "Hier würde sich ggf. eine Regression Imputation zum Auffüllen der vier fehlenden Werte anbieten.\n",
    "\n",
    "Aus der Correlation Matrix sehen wir aber, dass `windspeed` kaum mit anderen Features korreliert. Aus diesem Grund entfernen wir die Werte."
   ]
  },
  {
   "cell_type": "markdown",
   "metadata": {},
   "source": [
    "Hierfür nutzen wir folgende Funktion, welche die negativen Werte einer Spalte mit dem Mittelwert ersetzt."
   ]
  },
  {
   "cell_type": "code",
   "execution_count": 39,
   "metadata": {},
   "outputs": [],
   "source": [
    "def impute_below_thresh(df: pd.DataFrame, target: str, threshold: Union[int, float] = 3.0) -> pd.DataFrame:\n",
    "    \"\"\"\n",
    "    Impute values in the target column below the threshold with the mean.\n",
    "    \n",
    "    Args:\n",
    "        df (pd.DataFrame): The DataFrame to be transformed.\n",
    "        target (str): The target column for imputation.\n",
    "        threshold (Union[int, float]): The threshold below which values will be imputed with the mean.\n",
    "\n",
    "    Returns:\n",
    "        pd.DataFrame: The transformed DataFrame with values in the target column below the threshold imputed with the mean.\n",
    "    \"\"\"\n",
    "    if target in df.columns:\n",
    "        try:\n",
    "            # Calculate the mean of the target column excluding the values below the threshold\n",
    "            mean_value = df[df[target] >= threshold][target].mean()\n",
    "            \n",
    "            # Identify and impute values below the threshold with the calculated mean\n",
    "            df.loc[df[target] < threshold, target] = mean_value\n",
    "            \n",
    "            print(f\"Values in '{target}' below {threshold} imputed with mean: {mean_value:.2f}\")\n",
    "        except Exception as e:\n",
    "            print(f\"Error during imputation: {e}\")\n",
    "    else:\n",
    "        print(f\"{target} not found in DataFrame\")\n",
    "        \n",
    "    return df"
   ]
  },
  {
   "cell_type": "code",
   "execution_count": 40,
   "metadata": {},
   "outputs": [],
   "source": [
    "def process_weekday(df: pd.DataFrame, target: str, date: str) -> pd.DataFrame:\n",
    "    \"\"\"\n",
    "    Maps weekday based on date column values.\n",
    "    \n",
    "    Args:\n",
    "        df (pd.DataFrame): DataFrame\n",
    "        date (str): date column name (in datetime64 format)\n",
    "    \n",
    "    Returns:\n",
    "        pd.DataFrame: DataFrame with 'weekday' column mapped based on date column values.\n",
    "    \"\"\"\n",
    "    if date in df.columns:\n",
    "        df[target] = (df[date].dt.dayofweek + 1) % 7\n",
    "    return df"
   ]
  },
  {
   "cell_type": "markdown",
   "metadata": {},
   "source": [
    "Wie im letzten Schritt definieren wir den `CustomTransformer`, um die Werte von `weekday` zu korrigieren."
   ]
  },
  {
   "cell_type": "code",
   "execution_count": 41,
   "metadata": {},
   "outputs": [],
   "source": [
    "impute_windspeed_transformer = CustomTransformer(function=impute_below_thresh, config={\"target\": \"windspeed\", \"threshold\": 0.0})\n",
    "\n",
    "weekday_by_date = CustomTransformer(function=process_weekday, config={\"target\": \"weekday\", \"date\": \"dteday\"})\n",
    "\n",
    "data_correction_pipeline = Pipeline([\n",
    "    (\"drop_rows\", impute_windspeed_transformer),\n",
    "    (\"weekday_by_date\", weekday_by_date)])"
   ]
  },
  {
   "cell_type": "code",
   "execution_count": 42,
   "metadata": {},
   "outputs": [],
   "source": [
    "pipeline = Pipeline([\n",
    "    (\"missing_value_pipeline\", missing_value_pipeline),\n",
    "    (\"data_correction_pipeline\", data_correction_pipeline),\n",
    "    (\"minimal_pipeline\", minimal_pipeline)])"
   ]
  },
  {
   "cell_type": "code",
   "execution_count": 43,
   "metadata": {},
   "outputs": [
    {
     "name": "stdout",
     "output_type": "stream",
     "text": [
      "Values in 'windspeed' below 0.0 imputed with mean: 0.19\n"
     ]
    },
    {
     "name": "stderr",
     "output_type": "stream",
     "text": [
      "/tmp/ipykernel_627773/208495991.py:13: SettingWithCopyWarning: \n",
      "A value is trying to be set on a copy of a slice from a DataFrame.\n",
      "Try using .loc[row_indexer,col_indexer] = value instead\n",
      "\n",
      "See the caveats in the documentation: https://pandas.pydata.org/pandas-docs/stable/user_guide/indexing.html#returning-a-view-versus-a-copy\n",
      "  df[target] = pd.to_datetime(df[target], format=date_format)\n",
      "/tmp/ipykernel_627773/2224586021.py:24: SettingWithCopyWarning: \n",
      "A value is trying to be set on a copy of a slice from a DataFrame.\n",
      "Try using .loc[row_indexer,col_indexer] = value instead\n",
      "\n",
      "See the caveats in the documentation: https://pandas.pydata.org/pandas-docs/stable/user_guide/indexing.html#returning-a-view-versus-a-copy\n",
      "  df[target] = df[date].apply(get_season)\n",
      "/tmp/ipykernel_627773/3999800440.py:13: SettingWithCopyWarning: \n",
      "A value is trying to be set on a copy of a slice from a DataFrame.\n",
      "Try using .loc[row_indexer,col_indexer] = value instead\n",
      "\n",
      "See the caveats in the documentation: https://pandas.pydata.org/pandas-docs/stable/user_guide/indexing.html#returning-a-view-versus-a-copy\n",
      "  df[target] = (df[date].dt.dayofweek + 1) % 7\n"
     ]
    }
   ],
   "source": [
    "processed_data = pipeline.fit_transform(train_data[features])"
   ]
  },
  {
   "cell_type": "code",
   "execution_count": 44,
   "metadata": {},
   "outputs": [],
   "source": [
    "processed_data_features = pipeline.named_steps['minimal_pipeline'].named_steps['imputer'].get_feature_names_out()"
   ]
  },
  {
   "cell_type": "code",
   "execution_count": 45,
   "metadata": {},
   "outputs": [],
   "source": [
    "processed_data = pd.DataFrame(processed_data, columns=processed_data_features, index=train_data.index)"
   ]
  },
  {
   "cell_type": "code",
   "execution_count": 46,
   "metadata": {},
   "outputs": [
    {
     "data": {
      "text/html": [
       "<div>\n",
       "<style scoped>\n",
       "    .dataframe tbody tr th:only-of-type {\n",
       "        vertical-align: middle;\n",
       "    }\n",
       "\n",
       "    .dataframe tbody tr th {\n",
       "        vertical-align: top;\n",
       "    }\n",
       "\n",
       "    .dataframe thead th {\n",
       "        text-align: right;\n",
       "    }\n",
       "</style>\n",
       "<table border=\"1\" class=\"dataframe\">\n",
       "  <thead>\n",
       "    <tr style=\"text-align: right;\">\n",
       "      <th>instant</th>\n",
       "      <th>154</th>\n",
       "      <th>685</th>\n",
       "      <th>368</th>\n",
       "      <th>472</th>\n",
       "      <th>442</th>\n",
       "    </tr>\n",
       "  </thead>\n",
       "  <tbody>\n",
       "    <tr>\n",
       "      <th>season</th>\n",
       "      <td>2.000000</td>\n",
       "      <td>4.000000</td>\n",
       "      <td>1.000000</td>\n",
       "      <td>2.000000</td>\n",
       "      <td>1.000000</td>\n",
       "    </tr>\n",
       "    <tr>\n",
       "      <th>yr</th>\n",
       "      <td>0.000000</td>\n",
       "      <td>1.000000</td>\n",
       "      <td>1.000000</td>\n",
       "      <td>1.000000</td>\n",
       "      <td>1.000000</td>\n",
       "    </tr>\n",
       "    <tr>\n",
       "      <th>mnth</th>\n",
       "      <td>6.000000</td>\n",
       "      <td>11.000000</td>\n",
       "      <td>1.000000</td>\n",
       "      <td>4.000000</td>\n",
       "      <td>3.000000</td>\n",
       "    </tr>\n",
       "    <tr>\n",
       "      <th>holiday</th>\n",
       "      <td>0.000000</td>\n",
       "      <td>0.000000</td>\n",
       "      <td>0.000000</td>\n",
       "      <td>1.000000</td>\n",
       "      <td>0.000000</td>\n",
       "    </tr>\n",
       "    <tr>\n",
       "      <th>weekday</th>\n",
       "      <td>5.000000</td>\n",
       "      <td>4.000000</td>\n",
       "      <td>2.000000</td>\n",
       "      <td>1.000000</td>\n",
       "      <td>6.000000</td>\n",
       "    </tr>\n",
       "    <tr>\n",
       "      <th>workingday</th>\n",
       "      <td>1.000000</td>\n",
       "      <td>1.000000</td>\n",
       "      <td>1.000000</td>\n",
       "      <td>0.000000</td>\n",
       "      <td>0.000000</td>\n",
       "    </tr>\n",
       "    <tr>\n",
       "      <th>weathersit</th>\n",
       "      <td>1.000000</td>\n",
       "      <td>2.000000</td>\n",
       "      <td>1.000000</td>\n",
       "      <td>1.000000</td>\n",
       "      <td>2.000000</td>\n",
       "    </tr>\n",
       "    <tr>\n",
       "      <th>temp</th>\n",
       "      <td>24.800000</td>\n",
       "      <td>12.866700</td>\n",
       "      <td>6.000000</td>\n",
       "      <td>26.566700</td>\n",
       "      <td>20.566700</td>\n",
       "    </tr>\n",
       "    <tr>\n",
       "      <th>atemp</th>\n",
       "      <td>0.587133</td>\n",
       "      <td>0.324492</td>\n",
       "      <td>0.126275</td>\n",
       "      <td>0.614925</td>\n",
       "      <td>0.505046</td>\n",
       "    </tr>\n",
       "    <tr>\n",
       "      <th>hum</th>\n",
       "      <td>53.125050</td>\n",
       "      <td>93.062550</td>\n",
       "      <td>66.187500</td>\n",
       "      <td>84.250050</td>\n",
       "      <td>113.374950</td>\n",
       "    </tr>\n",
       "    <tr>\n",
       "      <th>windspeed</th>\n",
       "      <td>0.253121</td>\n",
       "      <td>0.152987</td>\n",
       "      <td>0.365671</td>\n",
       "      <td>0.284829</td>\n",
       "      <td>0.110704</td>\n",
       "    </tr>\n",
       "    <tr>\n",
       "      <th>leaflets</th>\n",
       "      <td>991.000000</td>\n",
       "      <td>601.000000</td>\n",
       "      <td>549.000000</td>\n",
       "      <td>740.000000</td>\n",
       "      <td>773.000000</td>\n",
       "    </tr>\n",
       "    <tr>\n",
       "      <th>price_reduction</th>\n",
       "      <td>0.000000</td>\n",
       "      <td>0.000000</td>\n",
       "      <td>0.000000</td>\n",
       "      <td>0.000000</td>\n",
       "      <td>1.000000</td>\n",
       "    </tr>\n",
       "  </tbody>\n",
       "</table>\n",
       "</div>"
      ],
      "text/plain": [
       "instant                 154         685         368         472         442\n",
       "season             2.000000    4.000000    1.000000    2.000000    1.000000\n",
       "yr                 0.000000    1.000000    1.000000    1.000000    1.000000\n",
       "mnth               6.000000   11.000000    1.000000    4.000000    3.000000\n",
       "holiday            0.000000    0.000000    0.000000    1.000000    0.000000\n",
       "weekday            5.000000    4.000000    2.000000    1.000000    6.000000\n",
       "workingday         1.000000    1.000000    1.000000    0.000000    0.000000\n",
       "weathersit         1.000000    2.000000    1.000000    1.000000    2.000000\n",
       "temp              24.800000   12.866700    6.000000   26.566700   20.566700\n",
       "atemp              0.587133    0.324492    0.126275    0.614925    0.505046\n",
       "hum               53.125050   93.062550   66.187500   84.250050  113.374950\n",
       "windspeed          0.253121    0.152987    0.365671    0.284829    0.110704\n",
       "leaflets         991.000000  601.000000  549.000000  740.000000  773.000000\n",
       "price_reduction    0.000000    0.000000    0.000000    0.000000    1.000000"
      ]
     },
     "execution_count": 46,
     "metadata": {},
     "output_type": "execute_result"
    }
   ],
   "source": [
    "processed_data.head().T"
   ]
  },
  {
   "cell_type": "code",
   "execution_count": 47,
   "metadata": {},
   "outputs": [
    {
     "data": {
      "text/html": [
       "<div>\n",
       "<style scoped>\n",
       "    .dataframe tbody tr th:only-of-type {\n",
       "        vertical-align: middle;\n",
       "    }\n",
       "\n",
       "    .dataframe tbody tr th {\n",
       "        vertical-align: top;\n",
       "    }\n",
       "\n",
       "    .dataframe thead th {\n",
       "        text-align: right;\n",
       "    }\n",
       "</style>\n",
       "<table border=\"1\" class=\"dataframe\">\n",
       "  <thead>\n",
       "    <tr style=\"text-align: right;\">\n",
       "      <th></th>\n",
       "      <th>count</th>\n",
       "      <th>mean</th>\n",
       "      <th>std</th>\n",
       "      <th>min</th>\n",
       "      <th>25%</th>\n",
       "      <th>50%</th>\n",
       "      <th>75%</th>\n",
       "      <th>max</th>\n",
       "    </tr>\n",
       "  </thead>\n",
       "  <tbody>\n",
       "    <tr>\n",
       "      <th>season</th>\n",
       "      <td>600.0</td>\n",
       "      <td>2.461667</td>\n",
       "      <td>1.110820</td>\n",
       "      <td>1.000000</td>\n",
       "      <td>1.000000</td>\n",
       "      <td>2.000000</td>\n",
       "      <td>3.000000</td>\n",
       "      <td>4.000000</td>\n",
       "    </tr>\n",
       "    <tr>\n",
       "      <th>yr</th>\n",
       "      <td>600.0</td>\n",
       "      <td>0.496667</td>\n",
       "      <td>0.500406</td>\n",
       "      <td>0.000000</td>\n",
       "      <td>0.000000</td>\n",
       "      <td>0.000000</td>\n",
       "      <td>1.000000</td>\n",
       "      <td>1.000000</td>\n",
       "    </tr>\n",
       "    <tr>\n",
       "      <th>mnth</th>\n",
       "      <td>600.0</td>\n",
       "      <td>6.475000</td>\n",
       "      <td>3.442741</td>\n",
       "      <td>1.000000</td>\n",
       "      <td>4.000000</td>\n",
       "      <td>6.000000</td>\n",
       "      <td>9.000000</td>\n",
       "      <td>12.000000</td>\n",
       "    </tr>\n",
       "    <tr>\n",
       "      <th>holiday</th>\n",
       "      <td>600.0</td>\n",
       "      <td>0.030000</td>\n",
       "      <td>0.170730</td>\n",
       "      <td>0.000000</td>\n",
       "      <td>0.000000</td>\n",
       "      <td>0.000000</td>\n",
       "      <td>0.000000</td>\n",
       "      <td>1.000000</td>\n",
       "    </tr>\n",
       "    <tr>\n",
       "      <th>weekday</th>\n",
       "      <td>600.0</td>\n",
       "      <td>3.031667</td>\n",
       "      <td>2.005168</td>\n",
       "      <td>0.000000</td>\n",
       "      <td>1.000000</td>\n",
       "      <td>3.000000</td>\n",
       "      <td>5.000000</td>\n",
       "      <td>6.000000</td>\n",
       "    </tr>\n",
       "    <tr>\n",
       "      <th>workingday</th>\n",
       "      <td>600.0</td>\n",
       "      <td>0.680000</td>\n",
       "      <td>0.466865</td>\n",
       "      <td>0.000000</td>\n",
       "      <td>0.000000</td>\n",
       "      <td>1.000000</td>\n",
       "      <td>1.000000</td>\n",
       "      <td>1.000000</td>\n",
       "    </tr>\n",
       "    <tr>\n",
       "      <th>weathersit</th>\n",
       "      <td>600.0</td>\n",
       "      <td>1.401667</td>\n",
       "      <td>0.542360</td>\n",
       "      <td>1.000000</td>\n",
       "      <td>1.000000</td>\n",
       "      <td>1.000000</td>\n",
       "      <td>2.000000</td>\n",
       "      <td>3.000000</td>\n",
       "    </tr>\n",
       "    <tr>\n",
       "      <th>temp</th>\n",
       "      <td>600.0</td>\n",
       "      <td>19.808284</td>\n",
       "      <td>7.206843</td>\n",
       "      <td>2.365200</td>\n",
       "      <td>13.575000</td>\n",
       "      <td>20.100000</td>\n",
       "      <td>26.058300</td>\n",
       "      <td>34.466700</td>\n",
       "    </tr>\n",
       "    <tr>\n",
       "      <th>atemp</th>\n",
       "      <td>600.0</td>\n",
       "      <td>0.473620</td>\n",
       "      <td>0.160439</td>\n",
       "      <td>0.079070</td>\n",
       "      <td>0.338256</td>\n",
       "      <td>0.489690</td>\n",
       "      <td>0.605127</td>\n",
       "      <td>0.826371</td>\n",
       "    </tr>\n",
       "    <tr>\n",
       "      <th>hum</th>\n",
       "      <td>600.0</td>\n",
       "      <td>93.845200</td>\n",
       "      <td>20.764975</td>\n",
       "      <td>28.187550</td>\n",
       "      <td>78.359363</td>\n",
       "      <td>93.845200</td>\n",
       "      <td>108.437550</td>\n",
       "      <td>145.875000</td>\n",
       "    </tr>\n",
       "    <tr>\n",
       "      <th>windspeed</th>\n",
       "      <td>600.0</td>\n",
       "      <td>0.191640</td>\n",
       "      <td>0.079184</td>\n",
       "      <td>0.022392</td>\n",
       "      <td>0.134953</td>\n",
       "      <td>0.182217</td>\n",
       "      <td>0.233947</td>\n",
       "      <td>0.507463</td>\n",
       "    </tr>\n",
       "    <tr>\n",
       "      <th>leaflets</th>\n",
       "      <td>600.0</td>\n",
       "      <td>740.065000</td>\n",
       "      <td>164.430095</td>\n",
       "      <td>459.000000</td>\n",
       "      <td>600.750000</td>\n",
       "      <td>737.000000</td>\n",
       "      <td>875.500000</td>\n",
       "      <td>1032.000000</td>\n",
       "    </tr>\n",
       "    <tr>\n",
       "      <th>price_reduction</th>\n",
       "      <td>600.0</td>\n",
       "      <td>0.150000</td>\n",
       "      <td>0.357369</td>\n",
       "      <td>0.000000</td>\n",
       "      <td>0.000000</td>\n",
       "      <td>0.000000</td>\n",
       "      <td>0.000000</td>\n",
       "      <td>1.000000</td>\n",
       "    </tr>\n",
       "  </tbody>\n",
       "</table>\n",
       "</div>"
      ],
      "text/plain": [
       "                 count        mean         std         min         25%  \\\n",
       "season           600.0    2.461667    1.110820    1.000000    1.000000   \n",
       "yr               600.0    0.496667    0.500406    0.000000    0.000000   \n",
       "mnth             600.0    6.475000    3.442741    1.000000    4.000000   \n",
       "holiday          600.0    0.030000    0.170730    0.000000    0.000000   \n",
       "weekday          600.0    3.031667    2.005168    0.000000    1.000000   \n",
       "workingday       600.0    0.680000    0.466865    0.000000    0.000000   \n",
       "weathersit       600.0    1.401667    0.542360    1.000000    1.000000   \n",
       "temp             600.0   19.808284    7.206843    2.365200   13.575000   \n",
       "atemp            600.0    0.473620    0.160439    0.079070    0.338256   \n",
       "hum              600.0   93.845200   20.764975   28.187550   78.359363   \n",
       "windspeed        600.0    0.191640    0.079184    0.022392    0.134953   \n",
       "leaflets         600.0  740.065000  164.430095  459.000000  600.750000   \n",
       "price_reduction  600.0    0.150000    0.357369    0.000000    0.000000   \n",
       "\n",
       "                        50%         75%          max  \n",
       "season             2.000000    3.000000     4.000000  \n",
       "yr                 0.000000    1.000000     1.000000  \n",
       "mnth               6.000000    9.000000    12.000000  \n",
       "holiday            0.000000    0.000000     1.000000  \n",
       "weekday            3.000000    5.000000     6.000000  \n",
       "workingday         1.000000    1.000000     1.000000  \n",
       "weathersit         1.000000    2.000000     3.000000  \n",
       "temp              20.100000   26.058300    34.466700  \n",
       "atemp              0.489690    0.605127     0.826371  \n",
       "hum               93.845200  108.437550   145.875000  \n",
       "windspeed          0.182217    0.233947     0.507463  \n",
       "leaflets         737.000000  875.500000  1032.000000  \n",
       "price_reduction    0.000000    0.000000     1.000000  "
      ]
     },
     "execution_count": 47,
     "metadata": {},
     "output_type": "execute_result"
    }
   ],
   "source": [
    "processed_data.describe().T"
   ]
  },
  {
   "cell_type": "code",
   "execution_count": 48,
   "metadata": {},
   "outputs": [],
   "source": [
    "X_train, X_validate, y_train, y_validate = train_test_split(processed_data, train_data[\"cnt\"], test_size=0.2, random_state=42)"
   ]
  },
  {
   "cell_type": "code",
   "execution_count": 49,
   "metadata": {},
   "outputs": [],
   "source": [
    "baseline_model_03 = Pipeline([(\"baseline_model\", LinearRegression())])"
   ]
  },
  {
   "cell_type": "code",
   "execution_count": 50,
   "metadata": {},
   "outputs": [
    {
     "data": {
      "text/html": [
       "<style>#sk-container-id-3 {color: black;}#sk-container-id-3 pre{padding: 0;}#sk-container-id-3 div.sk-toggleable {background-color: white;}#sk-container-id-3 label.sk-toggleable__label {cursor: pointer;display: block;width: 100%;margin-bottom: 0;padding: 0.3em;box-sizing: border-box;text-align: center;}#sk-container-id-3 label.sk-toggleable__label-arrow:before {content: \"▸\";float: left;margin-right: 0.25em;color: #696969;}#sk-container-id-3 label.sk-toggleable__label-arrow:hover:before {color: black;}#sk-container-id-3 div.sk-estimator:hover label.sk-toggleable__label-arrow:before {color: black;}#sk-container-id-3 div.sk-toggleable__content {max-height: 0;max-width: 0;overflow: hidden;text-align: left;background-color: #f0f8ff;}#sk-container-id-3 div.sk-toggleable__content pre {margin: 0.2em;color: black;border-radius: 0.25em;background-color: #f0f8ff;}#sk-container-id-3 input.sk-toggleable__control:checked~div.sk-toggleable__content {max-height: 200px;max-width: 100%;overflow: auto;}#sk-container-id-3 input.sk-toggleable__control:checked~label.sk-toggleable__label-arrow:before {content: \"▾\";}#sk-container-id-3 div.sk-estimator input.sk-toggleable__control:checked~label.sk-toggleable__label {background-color: #d4ebff;}#sk-container-id-3 div.sk-label input.sk-toggleable__control:checked~label.sk-toggleable__label {background-color: #d4ebff;}#sk-container-id-3 input.sk-hidden--visually {border: 0;clip: rect(1px 1px 1px 1px);clip: rect(1px, 1px, 1px, 1px);height: 1px;margin: -1px;overflow: hidden;padding: 0;position: absolute;width: 1px;}#sk-container-id-3 div.sk-estimator {font-family: monospace;background-color: #f0f8ff;border: 1px dotted black;border-radius: 0.25em;box-sizing: border-box;margin-bottom: 0.5em;}#sk-container-id-3 div.sk-estimator:hover {background-color: #d4ebff;}#sk-container-id-3 div.sk-parallel-item::after {content: \"\";width: 100%;border-bottom: 1px solid gray;flex-grow: 1;}#sk-container-id-3 div.sk-label:hover label.sk-toggleable__label {background-color: #d4ebff;}#sk-container-id-3 div.sk-serial::before {content: \"\";position: absolute;border-left: 1px solid gray;box-sizing: border-box;top: 0;bottom: 0;left: 50%;z-index: 0;}#sk-container-id-3 div.sk-serial {display: flex;flex-direction: column;align-items: center;background-color: white;padding-right: 0.2em;padding-left: 0.2em;position: relative;}#sk-container-id-3 div.sk-item {position: relative;z-index: 1;}#sk-container-id-3 div.sk-parallel {display: flex;align-items: stretch;justify-content: center;background-color: white;position: relative;}#sk-container-id-3 div.sk-item::before, #sk-container-id-3 div.sk-parallel-item::before {content: \"\";position: absolute;border-left: 1px solid gray;box-sizing: border-box;top: 0;bottom: 0;left: 50%;z-index: -1;}#sk-container-id-3 div.sk-parallel-item {display: flex;flex-direction: column;z-index: 1;position: relative;background-color: white;}#sk-container-id-3 div.sk-parallel-item:first-child::after {align-self: flex-end;width: 50%;}#sk-container-id-3 div.sk-parallel-item:last-child::after {align-self: flex-start;width: 50%;}#sk-container-id-3 div.sk-parallel-item:only-child::after {width: 0;}#sk-container-id-3 div.sk-dashed-wrapped {border: 1px dashed gray;margin: 0 0.4em 0.5em 0.4em;box-sizing: border-box;padding-bottom: 0.4em;background-color: white;}#sk-container-id-3 div.sk-label label {font-family: monospace;font-weight: bold;display: inline-block;line-height: 1.2em;}#sk-container-id-3 div.sk-label-container {text-align: center;}#sk-container-id-3 div.sk-container {/* jupyter's `normalize.less` sets `[hidden] { display: none; }` but bootstrap.min.css set `[hidden] { display: none !important; }` so we also need the `!important` here to be able to override the default hidden behavior on the sphinx rendered scikit-learn.org. See: https://github.com/scikit-learn/scikit-learn/issues/21755 */display: inline-block !important;position: relative;}#sk-container-id-3 div.sk-text-repr-fallback {display: none;}</style><div id=\"sk-container-id-3\" class=\"sk-top-container\"><div class=\"sk-text-repr-fallback\"><pre>Pipeline(steps=[(&#x27;baseline_model&#x27;, LinearRegression())])</pre><b>In a Jupyter environment, please rerun this cell to show the HTML representation or trust the notebook. <br />On GitHub, the HTML representation is unable to render, please try loading this page with nbviewer.org.</b></div><div class=\"sk-container\" hidden><div class=\"sk-item sk-dashed-wrapped\"><div class=\"sk-label-container\"><div class=\"sk-label sk-toggleable\"><input class=\"sk-toggleable__control sk-hidden--visually\" id=\"sk-estimator-id-5\" type=\"checkbox\" ><label for=\"sk-estimator-id-5\" class=\"sk-toggleable__label sk-toggleable__label-arrow\">Pipeline</label><div class=\"sk-toggleable__content\"><pre>Pipeline(steps=[(&#x27;baseline_model&#x27;, LinearRegression())])</pre></div></div></div><div class=\"sk-serial\"><div class=\"sk-item\"><div class=\"sk-estimator sk-toggleable\"><input class=\"sk-toggleable__control sk-hidden--visually\" id=\"sk-estimator-id-6\" type=\"checkbox\" ><label for=\"sk-estimator-id-6\" class=\"sk-toggleable__label sk-toggleable__label-arrow\">LinearRegression</label><div class=\"sk-toggleable__content\"><pre>LinearRegression()</pre></div></div></div></div></div></div></div>"
      ],
      "text/plain": [
       "Pipeline(steps=[('baseline_model', LinearRegression())])"
      ]
     },
     "execution_count": 50,
     "metadata": {},
     "output_type": "execute_result"
    }
   ],
   "source": [
    "baseline_model_03.fit(X_train, y_train)"
   ]
  },
  {
   "cell_type": "code",
   "execution_count": 51,
   "metadata": {},
   "outputs": [],
   "source": [
    "y_pred = baseline_model_03.predict(X_validate)"
   ]
  },
  {
   "cell_type": "code",
   "execution_count": 52,
   "metadata": {},
   "outputs": [
    {
     "name": "stdout",
     "output_type": "stream",
     "text": [
      "R2: 0.22\n",
      "MAE: 1348.36\n"
     ]
    }
   ],
   "source": [
    "_, _ = performance_measures(y_validate, y_pred)"
   ]
  },
  {
   "cell_type": "code",
   "execution_count": 53,
   "metadata": {},
   "outputs": [
    {
     "data": {
      "image/png": "[encoded data removed]",
      "text/plain": [
       "<Figure size 1000x600 with 1 Axes>"
      ]
     },
     "metadata": {},
     "output_type": "display_data"
    }
   ],
   "source": [
    "actual_vs_predicted(y_validate, y_pred)"
   ]
  },
  {
   "cell_type": "markdown",
   "metadata": {},
   "source": [
    "Nachdem die Daten korregiert wurden, ist zu erkennen, dass einige Ausreißer mit den falschen Werten von `windspeed` entfernt wurden.\n",
    "\n",
    "Zudem ist eine leichte Verbesserung in den Preformance Measures zu erkennen."
   ]
  },
  {
   "cell_type": "markdown",
   "metadata": {},
   "source": [
    "## 6 Outlier Handling"
   ]
  },
  {
   "cell_type": "markdown",
   "metadata": {},
   "source": [
    "Es ist zu sehen, dass die Gesamtanzahl der geliehenen Fahrräder und die Anzahl der durch `casual` Nutzer geliehenen Fahrräder unrealistisch hohe Maximalwerte aufweisen."
   ]
  },
  {
   "cell_type": "code",
   "execution_count": 54,
   "metadata": {},
   "outputs": [
    {
     "data": {
      "text/html": [
       "<div>\n",
       "<style scoped>\n",
       "    .dataframe tbody tr th:only-of-type {\n",
       "        vertical-align: middle;\n",
       "    }\n",
       "\n",
       "    .dataframe tbody tr th {\n",
       "        vertical-align: top;\n",
       "    }\n",
       "\n",
       "    .dataframe thead th {\n",
       "        text-align: right;\n",
       "    }\n",
       "</style>\n",
       "<table border=\"1\" class=\"dataframe\">\n",
       "  <thead>\n",
       "    <tr style=\"text-align: right;\">\n",
       "      <th></th>\n",
       "      <th>count</th>\n",
       "      <th>mean</th>\n",
       "      <th>std</th>\n",
       "      <th>min</th>\n",
       "      <th>25%</th>\n",
       "      <th>50%</th>\n",
       "      <th>75%</th>\n",
       "      <th>max</th>\n",
       "    </tr>\n",
       "  </thead>\n",
       "  <tbody>\n",
       "    <tr>\n",
       "      <th>casual</th>\n",
       "      <td>600.0</td>\n",
       "      <td>1070.895000</td>\n",
       "      <td>2971.316154</td>\n",
       "      <td>2.0</td>\n",
       "      <td>313.0</td>\n",
       "      <td>722.0</td>\n",
       "      <td>1078.0</td>\n",
       "      <td>47138.0</td>\n",
       "    </tr>\n",
       "    <tr>\n",
       "      <th>cnt</th>\n",
       "      <td>600.0</td>\n",
       "      <td>4705.011667</td>\n",
       "      <td>3588.750428</td>\n",
       "      <td>22.0</td>\n",
       "      <td>3135.0</td>\n",
       "      <td>4530.0</td>\n",
       "      <td>5909.5</td>\n",
       "      <td>53021.0</td>\n",
       "    </tr>\n",
       "  </tbody>\n",
       "</table>\n",
       "</div>"
      ],
      "text/plain": [
       "        count         mean          std   min     25%     50%     75%      max\n",
       "casual  600.0  1070.895000  2971.316154   2.0   313.0   722.0  1078.0  47138.0\n",
       "cnt     600.0  4705.011667  3588.750428  22.0  3135.0  4530.0  5909.5  53021.0"
      ]
     },
     "execution_count": 54,
     "metadata": {},
     "output_type": "execute_result"
    }
   ],
   "source": [
    "train_data[['casual', 'cnt']].describe().T"
   ]
  },
  {
   "cell_type": "code",
   "execution_count": 55,
   "metadata": {},
   "outputs": [
    {
     "data": {
      "text/html": [
       "<div>\n",
       "<style scoped>\n",
       "    .dataframe tbody tr th:only-of-type {\n",
       "        vertical-align: middle;\n",
       "    }\n",
       "\n",
       "    .dataframe tbody tr th {\n",
       "        vertical-align: top;\n",
       "    }\n",
       "\n",
       "    .dataframe thead th {\n",
       "        text-align: right;\n",
       "    }\n",
       "</style>\n",
       "<table border=\"1\" class=\"dataframe\">\n",
       "  <thead>\n",
       "    <tr style=\"text-align: right;\">\n",
       "      <th></th>\n",
       "      <th>dteday</th>\n",
       "      <th>season</th>\n",
       "      <th>yr</th>\n",
       "      <th>mnth</th>\n",
       "      <th>holiday</th>\n",
       "      <th>weekday</th>\n",
       "      <th>workingday</th>\n",
       "      <th>weathersit</th>\n",
       "      <th>temp</th>\n",
       "      <th>atemp</th>\n",
       "      <th>hum</th>\n",
       "      <th>windspeed</th>\n",
       "      <th>leaflets</th>\n",
       "      <th>price_reduction</th>\n",
       "      <th>casual</th>\n",
       "      <th>registered</th>\n",
       "      <th>cnt</th>\n",
       "    </tr>\n",
       "    <tr>\n",
       "      <th>instant</th>\n",
       "      <th></th>\n",
       "      <th></th>\n",
       "      <th></th>\n",
       "      <th></th>\n",
       "      <th></th>\n",
       "      <th></th>\n",
       "      <th></th>\n",
       "      <th></th>\n",
       "      <th></th>\n",
       "      <th></th>\n",
       "      <th></th>\n",
       "      <th></th>\n",
       "      <th></th>\n",
       "      <th></th>\n",
       "      <th></th>\n",
       "      <th></th>\n",
       "      <th></th>\n",
       "    </tr>\n",
       "  </thead>\n",
       "  <tbody>\n",
       "    <tr>\n",
       "      <th>631</th>\n",
       "      <td>22.09.2012</td>\n",
       "      <td>3.0</td>\n",
       "      <td>1</td>\n",
       "      <td>9</td>\n",
       "      <td>0</td>\n",
       "      <td>6</td>\n",
       "      <td>0</td>\n",
       "      <td>1</td>\n",
       "      <td>26.0000</td>\n",
       "      <td>0.610488</td>\n",
       "      <td>97.00005</td>\n",
       "      <td>0.283583</td>\n",
       "      <td>963</td>\n",
       "      <td>0</td>\n",
       "      <td>47138</td>\n",
       "      <td>5883</td>\n",
       "      <td>53021</td>\n",
       "    </tr>\n",
       "    <tr>\n",
       "      <th>505</th>\n",
       "      <td>19.05.2012</td>\n",
       "      <td>2.0</td>\n",
       "      <td>1</td>\n",
       "      <td>5</td>\n",
       "      <td>0</td>\n",
       "      <td>6</td>\n",
       "      <td>0</td>\n",
       "      <td>1</td>\n",
       "      <td>24.0000</td>\n",
       "      <td>0.566908</td>\n",
       "      <td>68.43750</td>\n",
       "      <td>0.083975</td>\n",
       "      <td>1030</td>\n",
       "      <td>0</td>\n",
       "      <td>38061</td>\n",
       "      <td>4884</td>\n",
       "      <td>42945</td>\n",
       "    </tr>\n",
       "    <tr>\n",
       "      <th>448</th>\n",
       "      <td>23.03.2012</td>\n",
       "      <td>2.0</td>\n",
       "      <td>1</td>\n",
       "      <td>3</td>\n",
       "      <td>0</td>\n",
       "      <td>5</td>\n",
       "      <td>1</td>\n",
       "      <td>2</td>\n",
       "      <td>24.0667</td>\n",
       "      <td>0.570067</td>\n",
       "      <td>104.12505</td>\n",
       "      <td>0.116300</td>\n",
       "      <td>535</td>\n",
       "      <td>1</td>\n",
       "      <td>26150</td>\n",
       "      <td>5893</td>\n",
       "      <td>32043</td>\n",
       "    </tr>\n",
       "    <tr>\n",
       "      <th>624</th>\n",
       "      <td>15.09.2012</td>\n",
       "      <td>3.0</td>\n",
       "      <td>1</td>\n",
       "      <td>9</td>\n",
       "      <td>0</td>\n",
       "      <td>6</td>\n",
       "      <td>0</td>\n",
       "      <td>1</td>\n",
       "      <td>24.3333</td>\n",
       "      <td>0.585867</td>\n",
       "      <td>75.25005</td>\n",
       "      <td>0.247521</td>\n",
       "      <td>820</td>\n",
       "      <td>0</td>\n",
       "      <td>30378</td>\n",
       "      <td>5554</td>\n",
       "      <td>35932</td>\n",
       "    </tr>\n",
       "  </tbody>\n",
       "</table>\n",
       "</div>"
      ],
      "text/plain": [
       "             dteday  season  yr  mnth  holiday  weekday  workingday  \\\n",
       "instant                                                               \n",
       "631      22.09.2012     3.0   1     9        0        6           0   \n",
       "505      19.05.2012     2.0   1     5        0        6           0   \n",
       "448      23.03.2012     2.0   1     3        0        5           1   \n",
       "624      15.09.2012     3.0   1     9        0        6           0   \n",
       "\n",
       "         weathersit     temp     atemp        hum  windspeed  leaflets  \\\n",
       "instant                                                                  \n",
       "631               1  26.0000  0.610488   97.00005   0.283583       963   \n",
       "505               1  24.0000  0.566908   68.43750   0.083975      1030   \n",
       "448               2  24.0667  0.570067  104.12505   0.116300       535   \n",
       "624               1  24.3333  0.585867   75.25005   0.247521       820   \n",
       "\n",
       "         price_reduction  casual  registered    cnt  \n",
       "instant                                              \n",
       "631                    0   47138        5883  53021  \n",
       "505                    0   38061        4884  42945  \n",
       "448                    1   26150        5893  32043  \n",
       "624                    0   30378        5554  35932  "
      ]
     },
     "execution_count": 55,
     "metadata": {},
     "output_type": "execute_result"
    }
   ],
   "source": [
    "zscores = stats.zscore(train_data[\"casual\"])\n",
    "thresh = 3.0\n",
    "outliers = train_data[abs(zscores) > thresh]\n",
    "outliers"
   ]
  },
  {
   "cell_type": "markdown",
   "metadata": {},
   "source": [
    "Da `cnt` die Summe aus `casual` und `registered` ist, werden beim Entfernen der Outlier von `casual` auch die Outlier von `cnt` entfernt."
   ]
  },
  {
   "cell_type": "markdown",
   "metadata": {},
   "source": [
    "Hier kann Regression Imputation besser sein, da es sich bei den Outliern um das Label handelt?"
   ]
  },
  {
   "cell_type": "code",
   "execution_count": 56,
   "metadata": {},
   "outputs": [],
   "source": [
    "def impute_outliers_with_mean(df: pd.DataFrame, targets: list[str], threshold: float = 3.0) -> pd.DataFrame:\n",
    "    \"\"\"\n",
    "    Impute values in the target columns that are outliers based on Z-scores with the mean of the columns.\n",
    "    \n",
    "    Args:\n",
    "        df (pd.DataFrame): The DataFrame to be transformed.\n",
    "        targets (list[str]): The list of target columns for imputation.\n",
    "        threshold (float): The Z-score threshold to identify outliers.\n",
    "\n",
    "    Returns:\n",
    "        pd.DataFrame: The transformed DataFrame with outliers in the target columns imputed with the mean.\n",
    "    \"\"\"\n",
    "    for target in targets:\n",
    "        if target in df.columns:\n",
    "            try:\n",
    "                # Calculate the mean of the target column excluding NaN values\n",
    "                mean_value = df[target].mean()\n",
    "                \n",
    "                # Calculate Z-scores for the target column\n",
    "                z_scores = stats.zscore(df[target].fillna(mean_value))\n",
    "                \n",
    "                # Identify indices where the absolute Z-scores are greater than the threshold\n",
    "                outlier_indices = np.where(np.abs(z_scores) > threshold)\n",
    "                \n",
    "                # Impute these values with the column's mean\n",
    "                df.loc[df.index[outlier_indices], target] = mean_value\n",
    "                \n",
    "                print(f\"Outliers in '{target}' imputed with mean: {mean_value:.2f}\")\n",
    "            except Exception as e:\n",
    "                print(f\"Error in impute_outliers_with_mean for column '{target}': {e}\")\n",
    "        else:\n",
    "            print(f\"Column '{target}' not found in DataFrame.\")\n",
    "        \n",
    "    return df"
   ]
  },
  {
   "cell_type": "code",
   "execution_count": 57,
   "metadata": {},
   "outputs": [],
   "source": [
    "remove_outliers = CustomTransformer(function=impute_outliers_with_mean, config={\"targets\": [\"cnt\", \"casual\"]})\n",
    "\n",
    "remove_outliers_pipeline = Pipeline([\n",
    "    (\"remove_outliers\", remove_outliers)])"
   ]
  },
  {
   "cell_type": "code",
   "execution_count": 58,
   "metadata": {},
   "outputs": [
    {
     "name": "stdout",
     "output_type": "stream",
     "text": [
      "Outliers in 'cnt' imputed with mean: 4705.01\n",
      "Outliers in 'casual' imputed with mean: 1070.89\n"
     ]
    },
    {
     "name": "stderr",
     "output_type": "stream",
     "text": [
      "/tmp/ipykernel_627773/919794305.py:26: FutureWarning: Setting an item of incompatible dtype is deprecated and will raise an error in a future version of pandas. Value '4705.011666666666' has dtype incompatible with int64, please explicitly cast to a compatible dtype first.\n",
      "  df.loc[df.index[outlier_indices], target] = mean_value\n",
      "/tmp/ipykernel_627773/919794305.py:26: FutureWarning: Setting an item of incompatible dtype is deprecated and will raise an error in a future version of pandas. Value '1070.895' has dtype incompatible with int64, please explicitly cast to a compatible dtype first.\n",
      "  df.loc[df.index[outlier_indices], target] = mean_value\n"
     ]
    }
   ],
   "source": [
    "train_data_outliers_removed = remove_outliers_pipeline.fit_transform(train_data)"
   ]
  },
  {
   "cell_type": "code",
   "execution_count": 59,
   "metadata": {},
   "outputs": [
    {
     "data": {
      "text/html": [
       "<div>\n",
       "<style scoped>\n",
       "    .dataframe tbody tr th:only-of-type {\n",
       "        vertical-align: middle;\n",
       "    }\n",
       "\n",
       "    .dataframe tbody tr th {\n",
       "        vertical-align: top;\n",
       "    }\n",
       "\n",
       "    .dataframe thead th {\n",
       "        text-align: right;\n",
       "    }\n",
       "</style>\n",
       "<table border=\"1\" class=\"dataframe\">\n",
       "  <thead>\n",
       "    <tr style=\"text-align: right;\">\n",
       "      <th>instant</th>\n",
       "      <th>154</th>\n",
       "      <th>685</th>\n",
       "      <th>368</th>\n",
       "      <th>472</th>\n",
       "      <th>442</th>\n",
       "    </tr>\n",
       "  </thead>\n",
       "  <tbody>\n",
       "    <tr>\n",
       "      <th>dteday</th>\n",
       "      <td>03.06.2011</td>\n",
       "      <td>15.11.2012</td>\n",
       "      <td>03.01.2012</td>\n",
       "      <td>16.04.2012</td>\n",
       "      <td>17.03.2012</td>\n",
       "    </tr>\n",
       "    <tr>\n",
       "      <th>season</th>\n",
       "      <td>2.0</td>\n",
       "      <td>4.0</td>\n",
       "      <td>1.0</td>\n",
       "      <td>2.0</td>\n",
       "      <td>1.0</td>\n",
       "    </tr>\n",
       "    <tr>\n",
       "      <th>yr</th>\n",
       "      <td>0</td>\n",
       "      <td>1</td>\n",
       "      <td>1</td>\n",
       "      <td>1</td>\n",
       "      <td>1</td>\n",
       "    </tr>\n",
       "    <tr>\n",
       "      <th>mnth</th>\n",
       "      <td>6</td>\n",
       "      <td>11</td>\n",
       "      <td>1</td>\n",
       "      <td>4</td>\n",
       "      <td>3</td>\n",
       "    </tr>\n",
       "    <tr>\n",
       "      <th>holiday</th>\n",
       "      <td>0</td>\n",
       "      <td>0</td>\n",
       "      <td>0</td>\n",
       "      <td>1</td>\n",
       "      <td>0</td>\n",
       "    </tr>\n",
       "    <tr>\n",
       "      <th>weekday</th>\n",
       "      <td>5</td>\n",
       "      <td>4</td>\n",
       "      <td>2</td>\n",
       "      <td>1</td>\n",
       "      <td>-1</td>\n",
       "    </tr>\n",
       "    <tr>\n",
       "      <th>workingday</th>\n",
       "      <td>1</td>\n",
       "      <td>1</td>\n",
       "      <td>1</td>\n",
       "      <td>0</td>\n",
       "      <td>0</td>\n",
       "    </tr>\n",
       "    <tr>\n",
       "      <th>weathersit</th>\n",
       "      <td>1</td>\n",
       "      <td>2</td>\n",
       "      <td>1</td>\n",
       "      <td>1</td>\n",
       "      <td>2</td>\n",
       "    </tr>\n",
       "    <tr>\n",
       "      <th>temp</th>\n",
       "      <td>24.8</td>\n",
       "      <td>12.8667</td>\n",
       "      <td>6.0</td>\n",
       "      <td>26.5667</td>\n",
       "      <td>20.5667</td>\n",
       "    </tr>\n",
       "    <tr>\n",
       "      <th>atemp</th>\n",
       "      <td>0.587133</td>\n",
       "      <td>0.324492</td>\n",
       "      <td>0.126275</td>\n",
       "      <td>0.614925</td>\n",
       "      <td>0.505046</td>\n",
       "    </tr>\n",
       "    <tr>\n",
       "      <th>hum</th>\n",
       "      <td>53.12505</td>\n",
       "      <td>93.06255</td>\n",
       "      <td>66.1875</td>\n",
       "      <td>84.25005</td>\n",
       "      <td>113.37495</td>\n",
       "    </tr>\n",
       "    <tr>\n",
       "      <th>windspeed</th>\n",
       "      <td>0.253121</td>\n",
       "      <td>0.152987</td>\n",
       "      <td>0.365671</td>\n",
       "      <td>0.284829</td>\n",
       "      <td>0.110704</td>\n",
       "    </tr>\n",
       "    <tr>\n",
       "      <th>leaflets</th>\n",
       "      <td>991</td>\n",
       "      <td>601</td>\n",
       "      <td>549</td>\n",
       "      <td>740</td>\n",
       "      <td>773</td>\n",
       "    </tr>\n",
       "    <tr>\n",
       "      <th>price_reduction</th>\n",
       "      <td>0</td>\n",
       "      <td>0</td>\n",
       "      <td>0</td>\n",
       "      <td>0</td>\n",
       "      <td>1</td>\n",
       "    </tr>\n",
       "    <tr>\n",
       "      <th>casual</th>\n",
       "      <td>898.0</td>\n",
       "      <td>320.0</td>\n",
       "      <td>89.0</td>\n",
       "      <td>1198.0</td>\n",
       "      <td>3155.0</td>\n",
       "    </tr>\n",
       "    <tr>\n",
       "      <th>registered</th>\n",
       "      <td>4414</td>\n",
       "      <td>5125</td>\n",
       "      <td>2147</td>\n",
       "      <td>5172</td>\n",
       "      <td>4681</td>\n",
       "    </tr>\n",
       "    <tr>\n",
       "      <th>cnt</th>\n",
       "      <td>5312.0</td>\n",
       "      <td>5445.0</td>\n",
       "      <td>2236.0</td>\n",
       "      <td>6370.0</td>\n",
       "      <td>7836.0</td>\n",
       "    </tr>\n",
       "  </tbody>\n",
       "</table>\n",
       "</div>"
      ],
      "text/plain": [
       "instant                 154         685         368         472         442\n",
       "dteday           03.06.2011  15.11.2012  03.01.2012  16.04.2012  17.03.2012\n",
       "season                  2.0         4.0         1.0         2.0         1.0\n",
       "yr                        0           1           1           1           1\n",
       "mnth                      6          11           1           4           3\n",
       "holiday                   0           0           0           1           0\n",
       "weekday                   5           4           2           1          -1\n",
       "workingday                1           1           1           0           0\n",
       "weathersit                1           2           1           1           2\n",
       "temp                   24.8     12.8667         6.0     26.5667     20.5667\n",
       "atemp              0.587133    0.324492    0.126275    0.614925    0.505046\n",
       "hum                53.12505    93.06255     66.1875    84.25005   113.37495\n",
       "windspeed          0.253121    0.152987    0.365671    0.284829    0.110704\n",
       "leaflets                991         601         549         740         773\n",
       "price_reduction           0           0           0           0           1\n",
       "casual                898.0       320.0        89.0      1198.0      3155.0\n",
       "registered             4414        5125        2147        5172        4681\n",
       "cnt                  5312.0      5445.0      2236.0      6370.0      7836.0"
      ]
     },
     "execution_count": 59,
     "metadata": {},
     "output_type": "execute_result"
    }
   ],
   "source": [
    "train_data_outliers_removed.head().T"
   ]
  },
  {
   "cell_type": "code",
   "execution_count": 60,
   "metadata": {},
   "outputs": [
    {
     "data": {
      "text/html": [
       "<div>\n",
       "<style scoped>\n",
       "    .dataframe tbody tr th:only-of-type {\n",
       "        vertical-align: middle;\n",
       "    }\n",
       "\n",
       "    .dataframe tbody tr th {\n",
       "        vertical-align: top;\n",
       "    }\n",
       "\n",
       "    .dataframe thead th {\n",
       "        text-align: right;\n",
       "    }\n",
       "</style>\n",
       "<table border=\"1\" class=\"dataframe\">\n",
       "  <thead>\n",
       "    <tr style=\"text-align: right;\">\n",
       "      <th></th>\n",
       "      <th>count</th>\n",
       "      <th>mean</th>\n",
       "      <th>std</th>\n",
       "      <th>min</th>\n",
       "      <th>25%</th>\n",
       "      <th>50%</th>\n",
       "      <th>75%</th>\n",
       "      <th>max</th>\n",
       "    </tr>\n",
       "  </thead>\n",
       "  <tbody>\n",
       "    <tr>\n",
       "      <th>season</th>\n",
       "      <td>538.0</td>\n",
       "      <td>2.436803</td>\n",
       "      <td>1.107240</td>\n",
       "      <td>1.00000</td>\n",
       "      <td>1.000000</td>\n",
       "      <td>2.000000</td>\n",
       "      <td>3.000000</td>\n",
       "      <td>4.000000</td>\n",
       "    </tr>\n",
       "    <tr>\n",
       "      <th>yr</th>\n",
       "      <td>600.0</td>\n",
       "      <td>0.496667</td>\n",
       "      <td>0.500406</td>\n",
       "      <td>0.00000</td>\n",
       "      <td>0.000000</td>\n",
       "      <td>0.000000</td>\n",
       "      <td>1.000000</td>\n",
       "      <td>1.000000</td>\n",
       "    </tr>\n",
       "    <tr>\n",
       "      <th>mnth</th>\n",
       "      <td>600.0</td>\n",
       "      <td>6.475000</td>\n",
       "      <td>3.442741</td>\n",
       "      <td>1.00000</td>\n",
       "      <td>4.000000</td>\n",
       "      <td>6.000000</td>\n",
       "      <td>9.000000</td>\n",
       "      <td>12.000000</td>\n",
       "    </tr>\n",
       "    <tr>\n",
       "      <th>holiday</th>\n",
       "      <td>600.0</td>\n",
       "      <td>0.030000</td>\n",
       "      <td>0.170730</td>\n",
       "      <td>0.00000</td>\n",
       "      <td>0.000000</td>\n",
       "      <td>0.000000</td>\n",
       "      <td>0.000000</td>\n",
       "      <td>1.000000</td>\n",
       "    </tr>\n",
       "    <tr>\n",
       "      <th>weekday</th>\n",
       "      <td>600.0</td>\n",
       "      <td>2.928333</td>\n",
       "      <td>2.079360</td>\n",
       "      <td>-1.00000</td>\n",
       "      <td>1.000000</td>\n",
       "      <td>3.000000</td>\n",
       "      <td>5.000000</td>\n",
       "      <td>6.000000</td>\n",
       "    </tr>\n",
       "    <tr>\n",
       "      <th>workingday</th>\n",
       "      <td>600.0</td>\n",
       "      <td>0.680000</td>\n",
       "      <td>0.466865</td>\n",
       "      <td>0.00000</td>\n",
       "      <td>0.000000</td>\n",
       "      <td>1.000000</td>\n",
       "      <td>1.000000</td>\n",
       "      <td>1.000000</td>\n",
       "    </tr>\n",
       "    <tr>\n",
       "      <th>weathersit</th>\n",
       "      <td>600.0</td>\n",
       "      <td>1.401667</td>\n",
       "      <td>0.542360</td>\n",
       "      <td>1.00000</td>\n",
       "      <td>1.000000</td>\n",
       "      <td>1.000000</td>\n",
       "      <td>2.000000</td>\n",
       "      <td>3.000000</td>\n",
       "    </tr>\n",
       "    <tr>\n",
       "      <th>temp</th>\n",
       "      <td>600.0</td>\n",
       "      <td>19.808284</td>\n",
       "      <td>7.206843</td>\n",
       "      <td>2.36520</td>\n",
       "      <td>13.575000</td>\n",
       "      <td>20.100000</td>\n",
       "      <td>26.058300</td>\n",
       "      <td>34.466700</td>\n",
       "    </tr>\n",
       "    <tr>\n",
       "      <th>atemp</th>\n",
       "      <td>600.0</td>\n",
       "      <td>0.473620</td>\n",
       "      <td>0.160439</td>\n",
       "      <td>0.07907</td>\n",
       "      <td>0.338256</td>\n",
       "      <td>0.489690</td>\n",
       "      <td>0.605127</td>\n",
       "      <td>0.826371</td>\n",
       "    </tr>\n",
       "    <tr>\n",
       "      <th>hum</th>\n",
       "      <td>566.0</td>\n",
       "      <td>93.845200</td>\n",
       "      <td>21.380635</td>\n",
       "      <td>28.18755</td>\n",
       "      <td>77.328150</td>\n",
       "      <td>93.256800</td>\n",
       "      <td>109.921913</td>\n",
       "      <td>145.875000</td>\n",
       "    </tr>\n",
       "    <tr>\n",
       "      <th>windspeed</th>\n",
       "      <td>600.0</td>\n",
       "      <td>0.183696</td>\n",
       "      <td>0.125257</td>\n",
       "      <td>-1.00000</td>\n",
       "      <td>0.134335</td>\n",
       "      <td>0.180971</td>\n",
       "      <td>0.233947</td>\n",
       "      <td>0.507463</td>\n",
       "    </tr>\n",
       "    <tr>\n",
       "      <th>leaflets</th>\n",
       "      <td>600.0</td>\n",
       "      <td>740.065000</td>\n",
       "      <td>164.430095</td>\n",
       "      <td>459.00000</td>\n",
       "      <td>600.750000</td>\n",
       "      <td>737.000000</td>\n",
       "      <td>875.500000</td>\n",
       "      <td>1032.000000</td>\n",
       "    </tr>\n",
       "    <tr>\n",
       "      <th>price_reduction</th>\n",
       "      <td>600.0</td>\n",
       "      <td>0.150000</td>\n",
       "      <td>0.357369</td>\n",
       "      <td>0.00000</td>\n",
       "      <td>0.000000</td>\n",
       "      <td>0.000000</td>\n",
       "      <td>0.000000</td>\n",
       "      <td>1.000000</td>\n",
       "    </tr>\n",
       "    <tr>\n",
       "      <th>casual</th>\n",
       "      <td>600.0</td>\n",
       "      <td>841.822633</td>\n",
       "      <td>681.994351</td>\n",
       "      <td>2.00000</td>\n",
       "      <td>313.000000</td>\n",
       "      <td>722.000000</td>\n",
       "      <td>1070.895000</td>\n",
       "      <td>3283.000000</td>\n",
       "    </tr>\n",
       "    <tr>\n",
       "      <th>registered</th>\n",
       "      <td>600.0</td>\n",
       "      <td>3634.116667</td>\n",
       "      <td>1538.698254</td>\n",
       "      <td>20.00000</td>\n",
       "      <td>2499.000000</td>\n",
       "      <td>3657.000000</td>\n",
       "      <td>4680.250000</td>\n",
       "      <td>6946.000000</td>\n",
       "    </tr>\n",
       "    <tr>\n",
       "      <th>cnt</th>\n",
       "      <td>600.0</td>\n",
       "      <td>4463.143411</td>\n",
       "      <td>1899.071320</td>\n",
       "      <td>22.00000</td>\n",
       "      <td>3135.000000</td>\n",
       "      <td>4530.000000</td>\n",
       "      <td>5871.250000</td>\n",
       "      <td>8227.000000</td>\n",
       "    </tr>\n",
       "  </tbody>\n",
       "</table>\n",
       "</div>"
      ],
      "text/plain": [
       "                 count         mean          std        min          25%  \\\n",
       "season           538.0     2.436803     1.107240    1.00000     1.000000   \n",
       "yr               600.0     0.496667     0.500406    0.00000     0.000000   \n",
       "mnth             600.0     6.475000     3.442741    1.00000     4.000000   \n",
       "holiday          600.0     0.030000     0.170730    0.00000     0.000000   \n",
       "weekday          600.0     2.928333     2.079360   -1.00000     1.000000   \n",
       "workingday       600.0     0.680000     0.466865    0.00000     0.000000   \n",
       "weathersit       600.0     1.401667     0.542360    1.00000     1.000000   \n",
       "temp             600.0    19.808284     7.206843    2.36520    13.575000   \n",
       "atemp            600.0     0.473620     0.160439    0.07907     0.338256   \n",
       "hum              566.0    93.845200    21.380635   28.18755    77.328150   \n",
       "windspeed        600.0     0.183696     0.125257   -1.00000     0.134335   \n",
       "leaflets         600.0   740.065000   164.430095  459.00000   600.750000   \n",
       "price_reduction  600.0     0.150000     0.357369    0.00000     0.000000   \n",
       "casual           600.0   841.822633   681.994351    2.00000   313.000000   \n",
       "registered       600.0  3634.116667  1538.698254   20.00000  2499.000000   \n",
       "cnt              600.0  4463.143411  1899.071320   22.00000  3135.000000   \n",
       "\n",
       "                         50%          75%          max  \n",
       "season              2.000000     3.000000     4.000000  \n",
       "yr                  0.000000     1.000000     1.000000  \n",
       "mnth                6.000000     9.000000    12.000000  \n",
       "holiday             0.000000     0.000000     1.000000  \n",
       "weekday             3.000000     5.000000     6.000000  \n",
       "workingday          1.000000     1.000000     1.000000  \n",
       "weathersit          1.000000     2.000000     3.000000  \n",
       "temp               20.100000    26.058300    34.466700  \n",
       "atemp               0.489690     0.605127     0.826371  \n",
       "hum                93.256800   109.921913   145.875000  \n",
       "windspeed           0.180971     0.233947     0.507463  \n",
       "leaflets          737.000000   875.500000  1032.000000  \n",
       "price_reduction     0.000000     0.000000     1.000000  \n",
       "casual            722.000000  1070.895000  3283.000000  \n",
       "registered       3657.000000  4680.250000  6946.000000  \n",
       "cnt              4530.000000  5871.250000  8227.000000  "
      ]
     },
     "execution_count": 60,
     "metadata": {},
     "output_type": "execute_result"
    }
   ],
   "source": [
    "train_data_outliers_removed.describe().T"
   ]
  },
  {
   "cell_type": "code",
   "execution_count": 61,
   "metadata": {},
   "outputs": [],
   "source": [
    "pipeline = Pipeline([\n",
    "    (\"missing_value_pipeline\", missing_value_pipeline),\n",
    "    (\"data_correction_pipeline\", data_correction_pipeline),\n",
    "    (\"minimal_pipeline\", minimal_pipeline)])"
   ]
  },
  {
   "cell_type": "code",
   "execution_count": 62,
   "metadata": {},
   "outputs": [
    {
     "name": "stdout",
     "output_type": "stream",
     "text": [
      "Values in 'windspeed' below 0.0 imputed with mean: 0.19\n"
     ]
    },
    {
     "name": "stderr",
     "output_type": "stream",
     "text": [
      "/tmp/ipykernel_627773/208495991.py:13: SettingWithCopyWarning: \n",
      "A value is trying to be set on a copy of a slice from a DataFrame.\n",
      "Try using .loc[row_indexer,col_indexer] = value instead\n",
      "\n",
      "See the caveats in the documentation: https://pandas.pydata.org/pandas-docs/stable/user_guide/indexing.html#returning-a-view-versus-a-copy\n",
      "  df[target] = pd.to_datetime(df[target], format=date_format)\n",
      "/tmp/ipykernel_627773/2224586021.py:24: SettingWithCopyWarning: \n",
      "A value is trying to be set on a copy of a slice from a DataFrame.\n",
      "Try using .loc[row_indexer,col_indexer] = value instead\n",
      "\n",
      "See the caveats in the documentation: https://pandas.pydata.org/pandas-docs/stable/user_guide/indexing.html#returning-a-view-versus-a-copy\n",
      "  df[target] = df[date].apply(get_season)\n",
      "/tmp/ipykernel_627773/3999800440.py:13: SettingWithCopyWarning: \n",
      "A value is trying to be set on a copy of a slice from a DataFrame.\n",
      "Try using .loc[row_indexer,col_indexer] = value instead\n",
      "\n",
      "See the caveats in the documentation: https://pandas.pydata.org/pandas-docs/stable/user_guide/indexing.html#returning-a-view-versus-a-copy\n",
      "  df[target] = (df[date].dt.dayofweek + 1) % 7\n"
     ]
    }
   ],
   "source": [
    "processed_data = pipeline.fit_transform(train_data_outliers_removed[features])"
   ]
  },
  {
   "cell_type": "code",
   "execution_count": 63,
   "metadata": {},
   "outputs": [],
   "source": [
    "processed_data_features = pipeline.named_steps['minimal_pipeline'].named_steps['imputer'].get_feature_names_out()"
   ]
  },
  {
   "cell_type": "code",
   "execution_count": 64,
   "metadata": {},
   "outputs": [],
   "source": [
    "processed_data = pd.DataFrame(processed_data, columns=processed_data_features, index=train_data_outliers_removed.index)"
   ]
  },
  {
   "cell_type": "code",
   "execution_count": 65,
   "metadata": {},
   "outputs": [
    {
     "data": {
      "text/html": [
       "<div>\n",
       "<style scoped>\n",
       "    .dataframe tbody tr th:only-of-type {\n",
       "        vertical-align: middle;\n",
       "    }\n",
       "\n",
       "    .dataframe tbody tr th {\n",
       "        vertical-align: top;\n",
       "    }\n",
       "\n",
       "    .dataframe thead th {\n",
       "        text-align: right;\n",
       "    }\n",
       "</style>\n",
       "<table border=\"1\" class=\"dataframe\">\n",
       "  <thead>\n",
       "    <tr style=\"text-align: right;\">\n",
       "      <th>instant</th>\n",
       "      <th>154</th>\n",
       "      <th>685</th>\n",
       "      <th>368</th>\n",
       "      <th>472</th>\n",
       "      <th>442</th>\n",
       "    </tr>\n",
       "  </thead>\n",
       "  <tbody>\n",
       "    <tr>\n",
       "      <th>season</th>\n",
       "      <td>2.000000</td>\n",
       "      <td>4.000000</td>\n",
       "      <td>1.000000</td>\n",
       "      <td>2.000000</td>\n",
       "      <td>1.000000</td>\n",
       "    </tr>\n",
       "    <tr>\n",
       "      <th>yr</th>\n",
       "      <td>0.000000</td>\n",
       "      <td>1.000000</td>\n",
       "      <td>1.000000</td>\n",
       "      <td>1.000000</td>\n",
       "      <td>1.000000</td>\n",
       "    </tr>\n",
       "    <tr>\n",
       "      <th>mnth</th>\n",
       "      <td>6.000000</td>\n",
       "      <td>11.000000</td>\n",
       "      <td>1.000000</td>\n",
       "      <td>4.000000</td>\n",
       "      <td>3.000000</td>\n",
       "    </tr>\n",
       "    <tr>\n",
       "      <th>holiday</th>\n",
       "      <td>0.000000</td>\n",
       "      <td>0.000000</td>\n",
       "      <td>0.000000</td>\n",
       "      <td>1.000000</td>\n",
       "      <td>0.000000</td>\n",
       "    </tr>\n",
       "    <tr>\n",
       "      <th>weekday</th>\n",
       "      <td>5.000000</td>\n",
       "      <td>4.000000</td>\n",
       "      <td>2.000000</td>\n",
       "      <td>1.000000</td>\n",
       "      <td>6.000000</td>\n",
       "    </tr>\n",
       "    <tr>\n",
       "      <th>workingday</th>\n",
       "      <td>1.000000</td>\n",
       "      <td>1.000000</td>\n",
       "      <td>1.000000</td>\n",
       "      <td>0.000000</td>\n",
       "      <td>0.000000</td>\n",
       "    </tr>\n",
       "    <tr>\n",
       "      <th>weathersit</th>\n",
       "      <td>1.000000</td>\n",
       "      <td>2.000000</td>\n",
       "      <td>1.000000</td>\n",
       "      <td>1.000000</td>\n",
       "      <td>2.000000</td>\n",
       "    </tr>\n",
       "    <tr>\n",
       "      <th>temp</th>\n",
       "      <td>24.800000</td>\n",
       "      <td>12.866700</td>\n",
       "      <td>6.000000</td>\n",
       "      <td>26.566700</td>\n",
       "      <td>20.566700</td>\n",
       "    </tr>\n",
       "    <tr>\n",
       "      <th>atemp</th>\n",
       "      <td>0.587133</td>\n",
       "      <td>0.324492</td>\n",
       "      <td>0.126275</td>\n",
       "      <td>0.614925</td>\n",
       "      <td>0.505046</td>\n",
       "    </tr>\n",
       "    <tr>\n",
       "      <th>hum</th>\n",
       "      <td>53.125050</td>\n",
       "      <td>93.062550</td>\n",
       "      <td>66.187500</td>\n",
       "      <td>84.250050</td>\n",
       "      <td>113.374950</td>\n",
       "    </tr>\n",
       "    <tr>\n",
       "      <th>windspeed</th>\n",
       "      <td>0.253121</td>\n",
       "      <td>0.152987</td>\n",
       "      <td>0.365671</td>\n",
       "      <td>0.284829</td>\n",
       "      <td>0.110704</td>\n",
       "    </tr>\n",
       "    <tr>\n",
       "      <th>leaflets</th>\n",
       "      <td>991.000000</td>\n",
       "      <td>601.000000</td>\n",
       "      <td>549.000000</td>\n",
       "      <td>740.000000</td>\n",
       "      <td>773.000000</td>\n",
       "    </tr>\n",
       "    <tr>\n",
       "      <th>price_reduction</th>\n",
       "      <td>0.000000</td>\n",
       "      <td>0.000000</td>\n",
       "      <td>0.000000</td>\n",
       "      <td>0.000000</td>\n",
       "      <td>1.000000</td>\n",
       "    </tr>\n",
       "  </tbody>\n",
       "</table>\n",
       "</div>"
      ],
      "text/plain": [
       "instant                 154         685         368         472         442\n",
       "season             2.000000    4.000000    1.000000    2.000000    1.000000\n",
       "yr                 0.000000    1.000000    1.000000    1.000000    1.000000\n",
       "mnth               6.000000   11.000000    1.000000    4.000000    3.000000\n",
       "holiday            0.000000    0.000000    0.000000    1.000000    0.000000\n",
       "weekday            5.000000    4.000000    2.000000    1.000000    6.000000\n",
       "workingday         1.000000    1.000000    1.000000    0.000000    0.000000\n",
       "weathersit         1.000000    2.000000    1.000000    1.000000    2.000000\n",
       "temp              24.800000   12.866700    6.000000   26.566700   20.566700\n",
       "atemp              0.587133    0.324492    0.126275    0.614925    0.505046\n",
       "hum               53.125050   93.062550   66.187500   84.250050  113.374950\n",
       "windspeed          0.253121    0.152987    0.365671    0.284829    0.110704\n",
       "leaflets         991.000000  601.000000  549.000000  740.000000  773.000000\n",
       "price_reduction    0.000000    0.000000    0.000000    0.000000    1.000000"
      ]
     },
     "execution_count": 65,
     "metadata": {},
     "output_type": "execute_result"
    }
   ],
   "source": [
    "processed_data.head().T"
   ]
  },
  {
   "cell_type": "code",
   "execution_count": 66,
   "metadata": {},
   "outputs": [
    {
     "data": {
      "text/html": [
       "<div>\n",
       "<style scoped>\n",
       "    .dataframe tbody tr th:only-of-type {\n",
       "        vertical-align: middle;\n",
       "    }\n",
       "\n",
       "    .dataframe tbody tr th {\n",
       "        vertical-align: top;\n",
       "    }\n",
       "\n",
       "    .dataframe thead th {\n",
       "        text-align: right;\n",
       "    }\n",
       "</style>\n",
       "<table border=\"1\" class=\"dataframe\">\n",
       "  <thead>\n",
       "    <tr style=\"text-align: right;\">\n",
       "      <th></th>\n",
       "      <th>count</th>\n",
       "      <th>mean</th>\n",
       "      <th>std</th>\n",
       "      <th>min</th>\n",
       "      <th>25%</th>\n",
       "      <th>50%</th>\n",
       "      <th>75%</th>\n",
       "      <th>max</th>\n",
       "    </tr>\n",
       "  </thead>\n",
       "  <tbody>\n",
       "    <tr>\n",
       "      <th>season</th>\n",
       "      <td>600.0</td>\n",
       "      <td>2.461667</td>\n",
       "      <td>1.110820</td>\n",
       "      <td>1.000000</td>\n",
       "      <td>1.000000</td>\n",
       "      <td>2.000000</td>\n",
       "      <td>3.000000</td>\n",
       "      <td>4.000000</td>\n",
       "    </tr>\n",
       "    <tr>\n",
       "      <th>yr</th>\n",
       "      <td>600.0</td>\n",
       "      <td>0.496667</td>\n",
       "      <td>0.500406</td>\n",
       "      <td>0.000000</td>\n",
       "      <td>0.000000</td>\n",
       "      <td>0.000000</td>\n",
       "      <td>1.000000</td>\n",
       "      <td>1.000000</td>\n",
       "    </tr>\n",
       "    <tr>\n",
       "      <th>mnth</th>\n",
       "      <td>600.0</td>\n",
       "      <td>6.475000</td>\n",
       "      <td>3.442741</td>\n",
       "      <td>1.000000</td>\n",
       "      <td>4.000000</td>\n",
       "      <td>6.000000</td>\n",
       "      <td>9.000000</td>\n",
       "      <td>12.000000</td>\n",
       "    </tr>\n",
       "    <tr>\n",
       "      <th>holiday</th>\n",
       "      <td>600.0</td>\n",
       "      <td>0.030000</td>\n",
       "      <td>0.170730</td>\n",
       "      <td>0.000000</td>\n",
       "      <td>0.000000</td>\n",
       "      <td>0.000000</td>\n",
       "      <td>0.000000</td>\n",
       "      <td>1.000000</td>\n",
       "    </tr>\n",
       "    <tr>\n",
       "      <th>weekday</th>\n",
       "      <td>600.0</td>\n",
       "      <td>3.031667</td>\n",
       "      <td>2.005168</td>\n",
       "      <td>0.000000</td>\n",
       "      <td>1.000000</td>\n",
       "      <td>3.000000</td>\n",
       "      <td>5.000000</td>\n",
       "      <td>6.000000</td>\n",
       "    </tr>\n",
       "    <tr>\n",
       "      <th>workingday</th>\n",
       "      <td>600.0</td>\n",
       "      <td>0.680000</td>\n",
       "      <td>0.466865</td>\n",
       "      <td>0.000000</td>\n",
       "      <td>0.000000</td>\n",
       "      <td>1.000000</td>\n",
       "      <td>1.000000</td>\n",
       "      <td>1.000000</td>\n",
       "    </tr>\n",
       "    <tr>\n",
       "      <th>weathersit</th>\n",
       "      <td>600.0</td>\n",
       "      <td>1.401667</td>\n",
       "      <td>0.542360</td>\n",
       "      <td>1.000000</td>\n",
       "      <td>1.000000</td>\n",
       "      <td>1.000000</td>\n",
       "      <td>2.000000</td>\n",
       "      <td>3.000000</td>\n",
       "    </tr>\n",
       "    <tr>\n",
       "      <th>temp</th>\n",
       "      <td>600.0</td>\n",
       "      <td>19.808284</td>\n",
       "      <td>7.206843</td>\n",
       "      <td>2.365200</td>\n",
       "      <td>13.575000</td>\n",
       "      <td>20.100000</td>\n",
       "      <td>26.058300</td>\n",
       "      <td>34.466700</td>\n",
       "    </tr>\n",
       "    <tr>\n",
       "      <th>atemp</th>\n",
       "      <td>600.0</td>\n",
       "      <td>0.473620</td>\n",
       "      <td>0.160439</td>\n",
       "      <td>0.079070</td>\n",
       "      <td>0.338256</td>\n",
       "      <td>0.489690</td>\n",
       "      <td>0.605127</td>\n",
       "      <td>0.826371</td>\n",
       "    </tr>\n",
       "    <tr>\n",
       "      <th>hum</th>\n",
       "      <td>600.0</td>\n",
       "      <td>93.845200</td>\n",
       "      <td>20.764975</td>\n",
       "      <td>28.187550</td>\n",
       "      <td>78.359363</td>\n",
       "      <td>93.845200</td>\n",
       "      <td>108.437550</td>\n",
       "      <td>145.875000</td>\n",
       "    </tr>\n",
       "    <tr>\n",
       "      <th>windspeed</th>\n",
       "      <td>600.0</td>\n",
       "      <td>0.191640</td>\n",
       "      <td>0.079184</td>\n",
       "      <td>0.022392</td>\n",
       "      <td>0.134953</td>\n",
       "      <td>0.182217</td>\n",
       "      <td>0.233947</td>\n",
       "      <td>0.507463</td>\n",
       "    </tr>\n",
       "    <tr>\n",
       "      <th>leaflets</th>\n",
       "      <td>600.0</td>\n",
       "      <td>740.065000</td>\n",
       "      <td>164.430095</td>\n",
       "      <td>459.000000</td>\n",
       "      <td>600.750000</td>\n",
       "      <td>737.000000</td>\n",
       "      <td>875.500000</td>\n",
       "      <td>1032.000000</td>\n",
       "    </tr>\n",
       "    <tr>\n",
       "      <th>price_reduction</th>\n",
       "      <td>600.0</td>\n",
       "      <td>0.150000</td>\n",
       "      <td>0.357369</td>\n",
       "      <td>0.000000</td>\n",
       "      <td>0.000000</td>\n",
       "      <td>0.000000</td>\n",
       "      <td>0.000000</td>\n",
       "      <td>1.000000</td>\n",
       "    </tr>\n",
       "  </tbody>\n",
       "</table>\n",
       "</div>"
      ],
      "text/plain": [
       "                 count        mean         std         min         25%  \\\n",
       "season           600.0    2.461667    1.110820    1.000000    1.000000   \n",
       "yr               600.0    0.496667    0.500406    0.000000    0.000000   \n",
       "mnth             600.0    6.475000    3.442741    1.000000    4.000000   \n",
       "holiday          600.0    0.030000    0.170730    0.000000    0.000000   \n",
       "weekday          600.0    3.031667    2.005168    0.000000    1.000000   \n",
       "workingday       600.0    0.680000    0.466865    0.000000    0.000000   \n",
       "weathersit       600.0    1.401667    0.542360    1.000000    1.000000   \n",
       "temp             600.0   19.808284    7.206843    2.365200   13.575000   \n",
       "atemp            600.0    0.473620    0.160439    0.079070    0.338256   \n",
       "hum              600.0   93.845200   20.764975   28.187550   78.359363   \n",
       "windspeed        600.0    0.191640    0.079184    0.022392    0.134953   \n",
       "leaflets         600.0  740.065000  164.430095  459.000000  600.750000   \n",
       "price_reduction  600.0    0.150000    0.357369    0.000000    0.000000   \n",
       "\n",
       "                        50%         75%          max  \n",
       "season             2.000000    3.000000     4.000000  \n",
       "yr                 0.000000    1.000000     1.000000  \n",
       "mnth               6.000000    9.000000    12.000000  \n",
       "holiday            0.000000    0.000000     1.000000  \n",
       "weekday            3.000000    5.000000     6.000000  \n",
       "workingday         1.000000    1.000000     1.000000  \n",
       "weathersit         1.000000    2.000000     3.000000  \n",
       "temp              20.100000   26.058300    34.466700  \n",
       "atemp              0.489690    0.605127     0.826371  \n",
       "hum               93.845200  108.437550   145.875000  \n",
       "windspeed          0.182217    0.233947     0.507463  \n",
       "leaflets         737.000000  875.500000  1032.000000  \n",
       "price_reduction    0.000000    0.000000     1.000000  "
      ]
     },
     "execution_count": 66,
     "metadata": {},
     "output_type": "execute_result"
    }
   ],
   "source": [
    "processed_data.describe().T"
   ]
  },
  {
   "cell_type": "code",
   "execution_count": 67,
   "metadata": {},
   "outputs": [],
   "source": [
    "X_train, X_validate, y_train, y_validate = train_test_split(processed_data, train_data_outliers_removed[\"cnt\"], test_size=0.2, random_state=42)"
   ]
  },
  {
   "cell_type": "code",
   "execution_count": 68,
   "metadata": {},
   "outputs": [],
   "source": [
    "baseline_model_04 = Pipeline([(\"baseline_model\", LinearRegression())])"
   ]
  },
  {
   "cell_type": "code",
   "execution_count": 69,
   "metadata": {},
   "outputs": [
    {
     "data": {
      "text/html": [
       "<style>#sk-container-id-4 {color: black;}#sk-container-id-4 pre{padding: 0;}#sk-container-id-4 div.sk-toggleable {background-color: white;}#sk-container-id-4 label.sk-toggleable__label {cursor: pointer;display: block;width: 100%;margin-bottom: 0;padding: 0.3em;box-sizing: border-box;text-align: center;}#sk-container-id-4 label.sk-toggleable__label-arrow:before {content: \"▸\";float: left;margin-right: 0.25em;color: #696969;}#sk-container-id-4 label.sk-toggleable__label-arrow:hover:before {color: black;}#sk-container-id-4 div.sk-estimator:hover label.sk-toggleable__label-arrow:before {color: black;}#sk-container-id-4 div.sk-toggleable__content {max-height: 0;max-width: 0;overflow: hidden;text-align: left;background-color: #f0f8ff;}#sk-container-id-4 div.sk-toggleable__content pre {margin: 0.2em;color: black;border-radius: 0.25em;background-color: #f0f8ff;}#sk-container-id-4 input.sk-toggleable__control:checked~div.sk-toggleable__content {max-height: 200px;max-width: 100%;overflow: auto;}#sk-container-id-4 input.sk-toggleable__control:checked~label.sk-toggleable__label-arrow:before {content: \"▾\";}#sk-container-id-4 div.sk-estimator input.sk-toggleable__control:checked~label.sk-toggleable__label {background-color: #d4ebff;}#sk-container-id-4 div.sk-label input.sk-toggleable__control:checked~label.sk-toggleable__label {background-color: #d4ebff;}#sk-container-id-4 input.sk-hidden--visually {border: 0;clip: rect(1px 1px 1px 1px);clip: rect(1px, 1px, 1px, 1px);height: 1px;margin: -1px;overflow: hidden;padding: 0;position: absolute;width: 1px;}#sk-container-id-4 div.sk-estimator {font-family: monospace;background-color: #f0f8ff;border: 1px dotted black;border-radius: 0.25em;box-sizing: border-box;margin-bottom: 0.5em;}#sk-container-id-4 div.sk-estimator:hover {background-color: #d4ebff;}#sk-container-id-4 div.sk-parallel-item::after {content: \"\";width: 100%;border-bottom: 1px solid gray;flex-grow: 1;}#sk-container-id-4 div.sk-label:hover label.sk-toggleable__label {background-color: #d4ebff;}#sk-container-id-4 div.sk-serial::before {content: \"\";position: absolute;border-left: 1px solid gray;box-sizing: border-box;top: 0;bottom: 0;left: 50%;z-index: 0;}#sk-container-id-4 div.sk-serial {display: flex;flex-direction: column;align-items: center;background-color: white;padding-right: 0.2em;padding-left: 0.2em;position: relative;}#sk-container-id-4 div.sk-item {position: relative;z-index: 1;}#sk-container-id-4 div.sk-parallel {display: flex;align-items: stretch;justify-content: center;background-color: white;position: relative;}#sk-container-id-4 div.sk-item::before, #sk-container-id-4 div.sk-parallel-item::before {content: \"\";position: absolute;border-left: 1px solid gray;box-sizing: border-box;top: 0;bottom: 0;left: 50%;z-index: -1;}#sk-container-id-4 div.sk-parallel-item {display: flex;flex-direction: column;z-index: 1;position: relative;background-color: white;}#sk-container-id-4 div.sk-parallel-item:first-child::after {align-self: flex-end;width: 50%;}#sk-container-id-4 div.sk-parallel-item:last-child::after {align-self: flex-start;width: 50%;}#sk-container-id-4 div.sk-parallel-item:only-child::after {width: 0;}#sk-container-id-4 div.sk-dashed-wrapped {border: 1px dashed gray;margin: 0 0.4em 0.5em 0.4em;box-sizing: border-box;padding-bottom: 0.4em;background-color: white;}#sk-container-id-4 div.sk-label label {font-family: monospace;font-weight: bold;display: inline-block;line-height: 1.2em;}#sk-container-id-4 div.sk-label-container {text-align: center;}#sk-container-id-4 div.sk-container {/* jupyter's `normalize.less` sets `[hidden] { display: none; }` but bootstrap.min.css set `[hidden] { display: none !important; }` so we also need the `!important` here to be able to override the default hidden behavior on the sphinx rendered scikit-learn.org. See: https://github.com/scikit-learn/scikit-learn/issues/21755 */display: inline-block !important;position: relative;}#sk-container-id-4 div.sk-text-repr-fallback {display: none;}</style><div id=\"sk-container-id-4\" class=\"sk-top-container\"><div class=\"sk-text-repr-fallback\"><pre>Pipeline(steps=[(&#x27;baseline_model&#x27;, LinearRegression())])</pre><b>In a Jupyter environment, please rerun this cell to show the HTML representation or trust the notebook. <br />On GitHub, the HTML representation is unable to render, please try loading this page with nbviewer.org.</b></div><div class=\"sk-container\" hidden><div class=\"sk-item sk-dashed-wrapped\"><div class=\"sk-label-container\"><div class=\"sk-label sk-toggleable\"><input class=\"sk-toggleable__control sk-hidden--visually\" id=\"sk-estimator-id-7\" type=\"checkbox\" ><label for=\"sk-estimator-id-7\" class=\"sk-toggleable__label sk-toggleable__label-arrow\">Pipeline</label><div class=\"sk-toggleable__content\"><pre>Pipeline(steps=[(&#x27;baseline_model&#x27;, LinearRegression())])</pre></div></div></div><div class=\"sk-serial\"><div class=\"sk-item\"><div class=\"sk-estimator sk-toggleable\"><input class=\"sk-toggleable__control sk-hidden--visually\" id=\"sk-estimator-id-8\" type=\"checkbox\" ><label for=\"sk-estimator-id-8\" class=\"sk-toggleable__label sk-toggleable__label-arrow\">LinearRegression</label><div class=\"sk-toggleable__content\"><pre>LinearRegression()</pre></div></div></div></div></div></div></div>"
      ],
      "text/plain": [
       "Pipeline(steps=[('baseline_model', LinearRegression())])"
      ]
     },
     "execution_count": 69,
     "metadata": {},
     "output_type": "execute_result"
    }
   ],
   "source": [
    "baseline_model_04.fit(X_train, y_train)"
   ]
  },
  {
   "cell_type": "code",
   "execution_count": 70,
   "metadata": {},
   "outputs": [],
   "source": [
    "y_pred = baseline_model_04.predict(X_validate)"
   ]
  },
  {
   "cell_type": "code",
   "execution_count": 71,
   "metadata": {},
   "outputs": [
    {
     "name": "stdout",
     "output_type": "stream",
     "text": [
      "R2: 0.82\n",
      "MAE: 665.15\n"
     ]
    }
   ],
   "source": [
    "_, _ = performance_measures(y_validate, y_pred)"
   ]
  },
  {
   "cell_type": "code",
   "execution_count": 72,
   "metadata": {},
   "outputs": [
    {
     "data": {
      "image/png": "[encoded data removed]",
      "text/plain": [
       "<Figure size 1000x600 with 1 Axes>"
      ]
     },
     "metadata": {},
     "output_type": "display_data"
    }
   ],
   "source": [
    "actual_vs_predicted(y_validate, y_pred)"
   ]
  },
  {
   "cell_type": "markdown",
   "metadata": {},
   "source": [
    "Es ist zu erkennen, dass die Performace Measures, nach der Entfernung der Outliers, eine wesentliche Verbesserung zeigen."
   ]
  },
  {
   "cell_type": "markdown",
   "metadata": {},
   "source": [
    "## 7 Feature Transformation"
   ]
  },
  {
   "cell_type": "markdown",
   "metadata": {},
   "source": [
    "### 7.1 One Hot Encoding"
   ]
  },
  {
   "cell_type": "markdown",
   "metadata": {},
   "source": [
    "Für die Variablen `weekday`, `season` und `weathersit` erstellen wir mittels One Hot Encoding separate binäre Spalten für jede Ausprägung. \n",
    "\n",
    "Anschließend entfernen wir die ursprünglichen drei Spalten."
   ]
  },
  {
   "cell_type": "code",
   "execution_count": 73,
   "metadata": {},
   "outputs": [],
   "source": [
    "column_transformer = ColumnTransformer(\n",
    "    [('one_hot_encoder', OneHotEncoder(sparse_output=False, drop=\"first\", dtype=int), ['weekday', 'season', 'weathersit'])],\n",
    "    remainder='passthrough'\n",
    ")"
   ]
  },
  {
   "cell_type": "code",
   "execution_count": 74,
   "metadata": {},
   "outputs": [],
   "source": [
    "pipeline_01 = Pipeline([\n",
    "    (\"missing_value_pipeline\", missing_value_pipeline),\n",
    "    (\"data_correction_pipeline\", data_correction_pipeline),\n",
    "    (\"drop_feature_01\", drop_feature_01),\n",
    "    (\"numeric_values\", numeric_values)])"
   ]
  },
  {
   "cell_type": "code",
   "execution_count": 75,
   "metadata": {},
   "outputs": [],
   "source": [
    "pipeline_02 = Pipeline([\n",
    "    (\"column_transformer\", column_transformer),\n",
    "    (\"imputer\", SimpleImputer(strategy=\"mean\"))])"
   ]
  },
  {
   "cell_type": "code",
   "execution_count": 76,
   "metadata": {},
   "outputs": [],
   "source": [
    "pipeline = Pipeline([\n",
    "    (\"pipeline_01\", pipeline_01),\n",
    "    (\"pipeline_02\", pipeline_02)])"
   ]
  },
  {
   "cell_type": "code",
   "execution_count": 77,
   "metadata": {},
   "outputs": [
    {
     "name": "stdout",
     "output_type": "stream",
     "text": [
      "Values in 'windspeed' below 0.0 imputed with mean: 0.19\n"
     ]
    },
    {
     "name": "stderr",
     "output_type": "stream",
     "text": [
      "/tmp/ipykernel_627773/208495991.py:13: SettingWithCopyWarning: \n",
      "A value is trying to be set on a copy of a slice from a DataFrame.\n",
      "Try using .loc[row_indexer,col_indexer] = value instead\n",
      "\n",
      "See the caveats in the documentation: https://pandas.pydata.org/pandas-docs/stable/user_guide/indexing.html#returning-a-view-versus-a-copy\n",
      "  df[target] = pd.to_datetime(df[target], format=date_format)\n",
      "/tmp/ipykernel_627773/2224586021.py:24: SettingWithCopyWarning: \n",
      "A value is trying to be set on a copy of a slice from a DataFrame.\n",
      "Try using .loc[row_indexer,col_indexer] = value instead\n",
      "\n",
      "See the caveats in the documentation: https://pandas.pydata.org/pandas-docs/stable/user_guide/indexing.html#returning-a-view-versus-a-copy\n",
      "  df[target] = df[date].apply(get_season)\n",
      "/tmp/ipykernel_627773/3999800440.py:13: SettingWithCopyWarning: \n",
      "A value is trying to be set on a copy of a slice from a DataFrame.\n",
      "Try using .loc[row_indexer,col_indexer] = value instead\n",
      "\n",
      "See the caveats in the documentation: https://pandas.pydata.org/pandas-docs/stable/user_guide/indexing.html#returning-a-view-versus-a-copy\n",
      "  df[target] = (df[date].dt.dayofweek + 1) % 7\n"
     ]
    }
   ],
   "source": [
    "processed_data = pipeline.fit_transform(train_data_outliers_removed[features])"
   ]
  },
  {
   "cell_type": "code",
   "execution_count": 78,
   "metadata": {},
   "outputs": [],
   "source": [
    "processed_data_features = pipeline.named_steps[\"pipeline_02\"].named_steps['column_transformer'].get_feature_names_out()"
   ]
  },
  {
   "cell_type": "code",
   "execution_count": 79,
   "metadata": {},
   "outputs": [],
   "source": [
    "processed_data = pd.DataFrame(processed_data, columns=processed_data_features, index=train_data_outliers_removed.index)"
   ]
  },
  {
   "cell_type": "code",
   "execution_count": 80,
   "metadata": {},
   "outputs": [
    {
     "data": {
      "text/html": [
       "<div>\n",
       "<style scoped>\n",
       "    .dataframe tbody tr th:only-of-type {\n",
       "        vertical-align: middle;\n",
       "    }\n",
       "\n",
       "    .dataframe tbody tr th {\n",
       "        vertical-align: top;\n",
       "    }\n",
       "\n",
       "    .dataframe thead th {\n",
       "        text-align: right;\n",
       "    }\n",
       "</style>\n",
       "<table border=\"1\" class=\"dataframe\">\n",
       "  <thead>\n",
       "    <tr style=\"text-align: right;\">\n",
       "      <th>instant</th>\n",
       "      <th>154</th>\n",
       "      <th>685</th>\n",
       "      <th>368</th>\n",
       "      <th>472</th>\n",
       "      <th>442</th>\n",
       "    </tr>\n",
       "  </thead>\n",
       "  <tbody>\n",
       "    <tr>\n",
       "      <th>one_hot_encoder__weekday_1</th>\n",
       "      <td>0.000000</td>\n",
       "      <td>0.000000</td>\n",
       "      <td>0.000000</td>\n",
       "      <td>1.000000</td>\n",
       "      <td>0.000000</td>\n",
       "    </tr>\n",
       "    <tr>\n",
       "      <th>one_hot_encoder__weekday_2</th>\n",
       "      <td>0.000000</td>\n",
       "      <td>0.000000</td>\n",
       "      <td>1.000000</td>\n",
       "      <td>0.000000</td>\n",
       "      <td>0.000000</td>\n",
       "    </tr>\n",
       "    <tr>\n",
       "      <th>one_hot_encoder__weekday_3</th>\n",
       "      <td>0.000000</td>\n",
       "      <td>0.000000</td>\n",
       "      <td>0.000000</td>\n",
       "      <td>0.000000</td>\n",
       "      <td>0.000000</td>\n",
       "    </tr>\n",
       "    <tr>\n",
       "      <th>one_hot_encoder__weekday_4</th>\n",
       "      <td>0.000000</td>\n",
       "      <td>1.000000</td>\n",
       "      <td>0.000000</td>\n",
       "      <td>0.000000</td>\n",
       "      <td>0.000000</td>\n",
       "    </tr>\n",
       "    <tr>\n",
       "      <th>one_hot_encoder__weekday_5</th>\n",
       "      <td>1.000000</td>\n",
       "      <td>0.000000</td>\n",
       "      <td>0.000000</td>\n",
       "      <td>0.000000</td>\n",
       "      <td>0.000000</td>\n",
       "    </tr>\n",
       "    <tr>\n",
       "      <th>one_hot_encoder__weekday_6</th>\n",
       "      <td>0.000000</td>\n",
       "      <td>0.000000</td>\n",
       "      <td>0.000000</td>\n",
       "      <td>0.000000</td>\n",
       "      <td>1.000000</td>\n",
       "    </tr>\n",
       "    <tr>\n",
       "      <th>one_hot_encoder__season_2</th>\n",
       "      <td>1.000000</td>\n",
       "      <td>0.000000</td>\n",
       "      <td>0.000000</td>\n",
       "      <td>1.000000</td>\n",
       "      <td>0.000000</td>\n",
       "    </tr>\n",
       "    <tr>\n",
       "      <th>one_hot_encoder__season_3</th>\n",
       "      <td>0.000000</td>\n",
       "      <td>0.000000</td>\n",
       "      <td>0.000000</td>\n",
       "      <td>0.000000</td>\n",
       "      <td>0.000000</td>\n",
       "    </tr>\n",
       "    <tr>\n",
       "      <th>one_hot_encoder__season_4</th>\n",
       "      <td>0.000000</td>\n",
       "      <td>1.000000</td>\n",
       "      <td>0.000000</td>\n",
       "      <td>0.000000</td>\n",
       "      <td>0.000000</td>\n",
       "    </tr>\n",
       "    <tr>\n",
       "      <th>one_hot_encoder__weathersit_2</th>\n",
       "      <td>0.000000</td>\n",
       "      <td>1.000000</td>\n",
       "      <td>0.000000</td>\n",
       "      <td>0.000000</td>\n",
       "      <td>1.000000</td>\n",
       "    </tr>\n",
       "    <tr>\n",
       "      <th>one_hot_encoder__weathersit_3</th>\n",
       "      <td>0.000000</td>\n",
       "      <td>0.000000</td>\n",
       "      <td>0.000000</td>\n",
       "      <td>0.000000</td>\n",
       "      <td>0.000000</td>\n",
       "    </tr>\n",
       "    <tr>\n",
       "      <th>remainder__yr</th>\n",
       "      <td>0.000000</td>\n",
       "      <td>1.000000</td>\n",
       "      <td>1.000000</td>\n",
       "      <td>1.000000</td>\n",
       "      <td>1.000000</td>\n",
       "    </tr>\n",
       "    <tr>\n",
       "      <th>remainder__mnth</th>\n",
       "      <td>6.000000</td>\n",
       "      <td>11.000000</td>\n",
       "      <td>1.000000</td>\n",
       "      <td>4.000000</td>\n",
       "      <td>3.000000</td>\n",
       "    </tr>\n",
       "    <tr>\n",
       "      <th>remainder__holiday</th>\n",
       "      <td>0.000000</td>\n",
       "      <td>0.000000</td>\n",
       "      <td>0.000000</td>\n",
       "      <td>1.000000</td>\n",
       "      <td>0.000000</td>\n",
       "    </tr>\n",
       "    <tr>\n",
       "      <th>remainder__workingday</th>\n",
       "      <td>1.000000</td>\n",
       "      <td>1.000000</td>\n",
       "      <td>1.000000</td>\n",
       "      <td>0.000000</td>\n",
       "      <td>0.000000</td>\n",
       "    </tr>\n",
       "    <tr>\n",
       "      <th>remainder__temp</th>\n",
       "      <td>24.800000</td>\n",
       "      <td>12.866700</td>\n",
       "      <td>6.000000</td>\n",
       "      <td>26.566700</td>\n",
       "      <td>20.566700</td>\n",
       "    </tr>\n",
       "    <tr>\n",
       "      <th>remainder__atemp</th>\n",
       "      <td>0.587133</td>\n",
       "      <td>0.324492</td>\n",
       "      <td>0.126275</td>\n",
       "      <td>0.614925</td>\n",
       "      <td>0.505046</td>\n",
       "    </tr>\n",
       "    <tr>\n",
       "      <th>remainder__hum</th>\n",
       "      <td>53.125050</td>\n",
       "      <td>93.062550</td>\n",
       "      <td>66.187500</td>\n",
       "      <td>84.250050</td>\n",
       "      <td>113.374950</td>\n",
       "    </tr>\n",
       "    <tr>\n",
       "      <th>remainder__windspeed</th>\n",
       "      <td>0.253121</td>\n",
       "      <td>0.152987</td>\n",
       "      <td>0.365671</td>\n",
       "      <td>0.284829</td>\n",
       "      <td>0.110704</td>\n",
       "    </tr>\n",
       "    <tr>\n",
       "      <th>remainder__leaflets</th>\n",
       "      <td>991.000000</td>\n",
       "      <td>601.000000</td>\n",
       "      <td>549.000000</td>\n",
       "      <td>740.000000</td>\n",
       "      <td>773.000000</td>\n",
       "    </tr>\n",
       "    <tr>\n",
       "      <th>remainder__price_reduction</th>\n",
       "      <td>0.000000</td>\n",
       "      <td>0.000000</td>\n",
       "      <td>0.000000</td>\n",
       "      <td>0.000000</td>\n",
       "      <td>1.000000</td>\n",
       "    </tr>\n",
       "  </tbody>\n",
       "</table>\n",
       "</div>"
      ],
      "text/plain": [
       "instant                               154         685         368         472  \\\n",
       "one_hot_encoder__weekday_1       0.000000    0.000000    0.000000    1.000000   \n",
       "one_hot_encoder__weekday_2       0.000000    0.000000    1.000000    0.000000   \n",
       "one_hot_encoder__weekday_3       0.000000    0.000000    0.000000    0.000000   \n",
       "one_hot_encoder__weekday_4       0.000000    1.000000    0.000000    0.000000   \n",
       "one_hot_encoder__weekday_5       1.000000    0.000000    0.000000    0.000000   \n",
       "one_hot_encoder__weekday_6       0.000000    0.000000    0.000000    0.000000   \n",
       "one_hot_encoder__season_2        1.000000    0.000000    0.000000    1.000000   \n",
       "one_hot_encoder__season_3        0.000000    0.000000    0.000000    0.000000   \n",
       "one_hot_encoder__season_4        0.000000    1.000000    0.000000    0.000000   \n",
       "one_hot_encoder__weathersit_2    0.000000    1.000000    0.000000    0.000000   \n",
       "one_hot_encoder__weathersit_3    0.000000    0.000000    0.000000    0.000000   \n",
       "remainder__yr                    0.000000    1.000000    1.000000    1.000000   \n",
       "remainder__mnth                  6.000000   11.000000    1.000000    4.000000   \n",
       "remainder__holiday               0.000000    0.000000    0.000000    1.000000   \n",
       "remainder__workingday            1.000000    1.000000    1.000000    0.000000   \n",
       "remainder__temp                 24.800000   12.866700    6.000000   26.566700   \n",
       "remainder__atemp                 0.587133    0.324492    0.126275    0.614925   \n",
       "remainder__hum                  53.125050   93.062550   66.187500   84.250050   \n",
       "remainder__windspeed             0.253121    0.152987    0.365671    0.284829   \n",
       "remainder__leaflets            991.000000  601.000000  549.000000  740.000000   \n",
       "remainder__price_reduction       0.000000    0.000000    0.000000    0.000000   \n",
       "\n",
       "instant                               442  \n",
       "one_hot_encoder__weekday_1       0.000000  \n",
       "one_hot_encoder__weekday_2       0.000000  \n",
       "one_hot_encoder__weekday_3       0.000000  \n",
       "one_hot_encoder__weekday_4       0.000000  \n",
       "one_hot_encoder__weekday_5       0.000000  \n",
       "one_hot_encoder__weekday_6       1.000000  \n",
       "one_hot_encoder__season_2        0.000000  \n",
       "one_hot_encoder__season_3        0.000000  \n",
       "one_hot_encoder__season_4        0.000000  \n",
       "one_hot_encoder__weathersit_2    1.000000  \n",
       "one_hot_encoder__weathersit_3    0.000000  \n",
       "remainder__yr                    1.000000  \n",
       "remainder__mnth                  3.000000  \n",
       "remainder__holiday               0.000000  \n",
       "remainder__workingday            0.000000  \n",
       "remainder__temp                 20.566700  \n",
       "remainder__atemp                 0.505046  \n",
       "remainder__hum                 113.374950  \n",
       "remainder__windspeed             0.110704  \n",
       "remainder__leaflets            773.000000  \n",
       "remainder__price_reduction       1.000000  "
      ]
     },
     "execution_count": 80,
     "metadata": {},
     "output_type": "execute_result"
    }
   ],
   "source": [
    "processed_data.head().T"
   ]
  },
  {
   "cell_type": "code",
   "execution_count": 81,
   "metadata": {},
   "outputs": [
    {
     "data": {
      "text/html": [
       "<div>\n",
       "<style scoped>\n",
       "    .dataframe tbody tr th:only-of-type {\n",
       "        vertical-align: middle;\n",
       "    }\n",
       "\n",
       "    .dataframe tbody tr th {\n",
       "        vertical-align: top;\n",
       "    }\n",
       "\n",
       "    .dataframe thead th {\n",
       "        text-align: right;\n",
       "    }\n",
       "</style>\n",
       "<table border=\"1\" class=\"dataframe\">\n",
       "  <thead>\n",
       "    <tr style=\"text-align: right;\">\n",
       "      <th></th>\n",
       "      <th>count</th>\n",
       "      <th>mean</th>\n",
       "      <th>std</th>\n",
       "      <th>min</th>\n",
       "      <th>25%</th>\n",
       "      <th>50%</th>\n",
       "      <th>75%</th>\n",
       "      <th>max</th>\n",
       "    </tr>\n",
       "  </thead>\n",
       "  <tbody>\n",
       "    <tr>\n",
       "      <th>one_hot_encoder__weekday_1</th>\n",
       "      <td>600.0</td>\n",
       "      <td>0.141667</td>\n",
       "      <td>0.348999</td>\n",
       "      <td>0.000000</td>\n",
       "      <td>0.000000</td>\n",
       "      <td>0.000000</td>\n",
       "      <td>0.000000</td>\n",
       "      <td>1.000000</td>\n",
       "    </tr>\n",
       "    <tr>\n",
       "      <th>one_hot_encoder__weekday_2</th>\n",
       "      <td>600.0</td>\n",
       "      <td>0.138333</td>\n",
       "      <td>0.345538</td>\n",
       "      <td>0.000000</td>\n",
       "      <td>0.000000</td>\n",
       "      <td>0.000000</td>\n",
       "      <td>0.000000</td>\n",
       "      <td>1.000000</td>\n",
       "    </tr>\n",
       "    <tr>\n",
       "      <th>one_hot_encoder__weekday_3</th>\n",
       "      <td>600.0</td>\n",
       "      <td>0.145000</td>\n",
       "      <td>0.352395</td>\n",
       "      <td>0.000000</td>\n",
       "      <td>0.000000</td>\n",
       "      <td>0.000000</td>\n",
       "      <td>0.000000</td>\n",
       "      <td>1.000000</td>\n",
       "    </tr>\n",
       "    <tr>\n",
       "      <th>one_hot_encoder__weekday_4</th>\n",
       "      <td>600.0</td>\n",
       "      <td>0.146667</td>\n",
       "      <td>0.354068</td>\n",
       "      <td>0.000000</td>\n",
       "      <td>0.000000</td>\n",
       "      <td>0.000000</td>\n",
       "      <td>0.000000</td>\n",
       "      <td>1.000000</td>\n",
       "    </tr>\n",
       "    <tr>\n",
       "      <th>one_hot_encoder__weekday_5</th>\n",
       "      <td>600.0</td>\n",
       "      <td>0.138333</td>\n",
       "      <td>0.345538</td>\n",
       "      <td>0.000000</td>\n",
       "      <td>0.000000</td>\n",
       "      <td>0.000000</td>\n",
       "      <td>0.000000</td>\n",
       "      <td>1.000000</td>\n",
       "    </tr>\n",
       "    <tr>\n",
       "      <th>one_hot_encoder__weekday_6</th>\n",
       "      <td>600.0</td>\n",
       "      <td>0.150000</td>\n",
       "      <td>0.357369</td>\n",
       "      <td>0.000000</td>\n",
       "      <td>0.000000</td>\n",
       "      <td>0.000000</td>\n",
       "      <td>0.000000</td>\n",
       "      <td>1.000000</td>\n",
       "    </tr>\n",
       "    <tr>\n",
       "      <th>one_hot_encoder__season_2</th>\n",
       "      <td>600.0</td>\n",
       "      <td>0.260000</td>\n",
       "      <td>0.439000</td>\n",
       "      <td>0.000000</td>\n",
       "      <td>0.000000</td>\n",
       "      <td>0.000000</td>\n",
       "      <td>1.000000</td>\n",
       "      <td>1.000000</td>\n",
       "    </tr>\n",
       "    <tr>\n",
       "      <th>one_hot_encoder__season_3</th>\n",
       "      <td>600.0</td>\n",
       "      <td>0.248333</td>\n",
       "      <td>0.432407</td>\n",
       "      <td>0.000000</td>\n",
       "      <td>0.000000</td>\n",
       "      <td>0.000000</td>\n",
       "      <td>0.000000</td>\n",
       "      <td>1.000000</td>\n",
       "    </tr>\n",
       "    <tr>\n",
       "      <th>one_hot_encoder__season_4</th>\n",
       "      <td>600.0</td>\n",
       "      <td>0.235000</td>\n",
       "      <td>0.424353</td>\n",
       "      <td>0.000000</td>\n",
       "      <td>0.000000</td>\n",
       "      <td>0.000000</td>\n",
       "      <td>0.000000</td>\n",
       "      <td>1.000000</td>\n",
       "    </tr>\n",
       "    <tr>\n",
       "      <th>one_hot_encoder__weathersit_2</th>\n",
       "      <td>600.0</td>\n",
       "      <td>0.348333</td>\n",
       "      <td>0.476840</td>\n",
       "      <td>0.000000</td>\n",
       "      <td>0.000000</td>\n",
       "      <td>0.000000</td>\n",
       "      <td>1.000000</td>\n",
       "      <td>1.000000</td>\n",
       "    </tr>\n",
       "    <tr>\n",
       "      <th>one_hot_encoder__weathersit_3</th>\n",
       "      <td>600.0</td>\n",
       "      <td>0.026667</td>\n",
       "      <td>0.161242</td>\n",
       "      <td>0.000000</td>\n",
       "      <td>0.000000</td>\n",
       "      <td>0.000000</td>\n",
       "      <td>0.000000</td>\n",
       "      <td>1.000000</td>\n",
       "    </tr>\n",
       "    <tr>\n",
       "      <th>remainder__yr</th>\n",
       "      <td>600.0</td>\n",
       "      <td>0.496667</td>\n",
       "      <td>0.500406</td>\n",
       "      <td>0.000000</td>\n",
       "      <td>0.000000</td>\n",
       "      <td>0.000000</td>\n",
       "      <td>1.000000</td>\n",
       "      <td>1.000000</td>\n",
       "    </tr>\n",
       "    <tr>\n",
       "      <th>remainder__mnth</th>\n",
       "      <td>600.0</td>\n",
       "      <td>6.475000</td>\n",
       "      <td>3.442741</td>\n",
       "      <td>1.000000</td>\n",
       "      <td>4.000000</td>\n",
       "      <td>6.000000</td>\n",
       "      <td>9.000000</td>\n",
       "      <td>12.000000</td>\n",
       "    </tr>\n",
       "    <tr>\n",
       "      <th>remainder__holiday</th>\n",
       "      <td>600.0</td>\n",
       "      <td>0.030000</td>\n",
       "      <td>0.170730</td>\n",
       "      <td>0.000000</td>\n",
       "      <td>0.000000</td>\n",
       "      <td>0.000000</td>\n",
       "      <td>0.000000</td>\n",
       "      <td>1.000000</td>\n",
       "    </tr>\n",
       "    <tr>\n",
       "      <th>remainder__workingday</th>\n",
       "      <td>600.0</td>\n",
       "      <td>0.680000</td>\n",
       "      <td>0.466865</td>\n",
       "      <td>0.000000</td>\n",
       "      <td>0.000000</td>\n",
       "      <td>1.000000</td>\n",
       "      <td>1.000000</td>\n",
       "      <td>1.000000</td>\n",
       "    </tr>\n",
       "    <tr>\n",
       "      <th>remainder__temp</th>\n",
       "      <td>600.0</td>\n",
       "      <td>19.808284</td>\n",
       "      <td>7.206843</td>\n",
       "      <td>2.365200</td>\n",
       "      <td>13.575000</td>\n",
       "      <td>20.100000</td>\n",
       "      <td>26.058300</td>\n",
       "      <td>34.466700</td>\n",
       "    </tr>\n",
       "    <tr>\n",
       "      <th>remainder__atemp</th>\n",
       "      <td>600.0</td>\n",
       "      <td>0.473620</td>\n",
       "      <td>0.160439</td>\n",
       "      <td>0.079070</td>\n",
       "      <td>0.338256</td>\n",
       "      <td>0.489690</td>\n",
       "      <td>0.605127</td>\n",
       "      <td>0.826371</td>\n",
       "    </tr>\n",
       "    <tr>\n",
       "      <th>remainder__hum</th>\n",
       "      <td>600.0</td>\n",
       "      <td>93.845200</td>\n",
       "      <td>20.764975</td>\n",
       "      <td>28.187550</td>\n",
       "      <td>78.359363</td>\n",
       "      <td>93.845200</td>\n",
       "      <td>108.437550</td>\n",
       "      <td>145.875000</td>\n",
       "    </tr>\n",
       "    <tr>\n",
       "      <th>remainder__windspeed</th>\n",
       "      <td>600.0</td>\n",
       "      <td>0.191640</td>\n",
       "      <td>0.079184</td>\n",
       "      <td>0.022392</td>\n",
       "      <td>0.134953</td>\n",
       "      <td>0.182217</td>\n",
       "      <td>0.233947</td>\n",
       "      <td>0.507463</td>\n",
       "    </tr>\n",
       "    <tr>\n",
       "      <th>remainder__leaflets</th>\n",
       "      <td>600.0</td>\n",
       "      <td>740.065000</td>\n",
       "      <td>164.430095</td>\n",
       "      <td>459.000000</td>\n",
       "      <td>600.750000</td>\n",
       "      <td>737.000000</td>\n",
       "      <td>875.500000</td>\n",
       "      <td>1032.000000</td>\n",
       "    </tr>\n",
       "    <tr>\n",
       "      <th>remainder__price_reduction</th>\n",
       "      <td>600.0</td>\n",
       "      <td>0.150000</td>\n",
       "      <td>0.357369</td>\n",
       "      <td>0.000000</td>\n",
       "      <td>0.000000</td>\n",
       "      <td>0.000000</td>\n",
       "      <td>0.000000</td>\n",
       "      <td>1.000000</td>\n",
       "    </tr>\n",
       "  </tbody>\n",
       "</table>\n",
       "</div>"
      ],
      "text/plain": [
       "                               count        mean         std         min  \\\n",
       "one_hot_encoder__weekday_1     600.0    0.141667    0.348999    0.000000   \n",
       "one_hot_encoder__weekday_2     600.0    0.138333    0.345538    0.000000   \n",
       "one_hot_encoder__weekday_3     600.0    0.145000    0.352395    0.000000   \n",
       "one_hot_encoder__weekday_4     600.0    0.146667    0.354068    0.000000   \n",
       "one_hot_encoder__weekday_5     600.0    0.138333    0.345538    0.000000   \n",
       "one_hot_encoder__weekday_6     600.0    0.150000    0.357369    0.000000   \n",
       "one_hot_encoder__season_2      600.0    0.260000    0.439000    0.000000   \n",
       "one_hot_encoder__season_3      600.0    0.248333    0.432407    0.000000   \n",
       "one_hot_encoder__season_4      600.0    0.235000    0.424353    0.000000   \n",
       "one_hot_encoder__weathersit_2  600.0    0.348333    0.476840    0.000000   \n",
       "one_hot_encoder__weathersit_3  600.0    0.026667    0.161242    0.000000   \n",
       "remainder__yr                  600.0    0.496667    0.500406    0.000000   \n",
       "remainder__mnth                600.0    6.475000    3.442741    1.000000   \n",
       "remainder__holiday             600.0    0.030000    0.170730    0.000000   \n",
       "remainder__workingday          600.0    0.680000    0.466865    0.000000   \n",
       "remainder__temp                600.0   19.808284    7.206843    2.365200   \n",
       "remainder__atemp               600.0    0.473620    0.160439    0.079070   \n",
       "remainder__hum                 600.0   93.845200   20.764975   28.187550   \n",
       "remainder__windspeed           600.0    0.191640    0.079184    0.022392   \n",
       "remainder__leaflets            600.0  740.065000  164.430095  459.000000   \n",
       "remainder__price_reduction     600.0    0.150000    0.357369    0.000000   \n",
       "\n",
       "                                      25%         50%         75%          max  \n",
       "one_hot_encoder__weekday_1       0.000000    0.000000    0.000000     1.000000  \n",
       "one_hot_encoder__weekday_2       0.000000    0.000000    0.000000     1.000000  \n",
       "one_hot_encoder__weekday_3       0.000000    0.000000    0.000000     1.000000  \n",
       "one_hot_encoder__weekday_4       0.000000    0.000000    0.000000     1.000000  \n",
       "one_hot_encoder__weekday_5       0.000000    0.000000    0.000000     1.000000  \n",
       "one_hot_encoder__weekday_6       0.000000    0.000000    0.000000     1.000000  \n",
       "one_hot_encoder__season_2        0.000000    0.000000    1.000000     1.000000  \n",
       "one_hot_encoder__season_3        0.000000    0.000000    0.000000     1.000000  \n",
       "one_hot_encoder__season_4        0.000000    0.000000    0.000000     1.000000  \n",
       "one_hot_encoder__weathersit_2    0.000000    0.000000    1.000000     1.000000  \n",
       "one_hot_encoder__weathersit_3    0.000000    0.000000    0.000000     1.000000  \n",
       "remainder__yr                    0.000000    0.000000    1.000000     1.000000  \n",
       "remainder__mnth                  4.000000    6.000000    9.000000    12.000000  \n",
       "remainder__holiday               0.000000    0.000000    0.000000     1.000000  \n",
       "remainder__workingday            0.000000    1.000000    1.000000     1.000000  \n",
       "remainder__temp                 13.575000   20.100000   26.058300    34.466700  \n",
       "remainder__atemp                 0.338256    0.489690    0.605127     0.826371  \n",
       "remainder__hum                  78.359363   93.845200  108.437550   145.875000  \n",
       "remainder__windspeed             0.134953    0.182217    0.233947     0.507463  \n",
       "remainder__leaflets            600.750000  737.000000  875.500000  1032.000000  \n",
       "remainder__price_reduction       0.000000    0.000000    0.000000     1.000000  "
      ]
     },
     "execution_count": 81,
     "metadata": {},
     "output_type": "execute_result"
    }
   ],
   "source": [
    "processed_data.describe().T"
   ]
  },
  {
   "cell_type": "code",
   "execution_count": 82,
   "metadata": {},
   "outputs": [],
   "source": [
    "X_train, X_validate, y_train, y_validate = train_test_split(processed_data, train_data_outliers_removed[\"cnt\"], test_size=0.2, random_state=42)"
   ]
  },
  {
   "cell_type": "code",
   "execution_count": 83,
   "metadata": {},
   "outputs": [],
   "source": [
    "baseline_model_05 = Pipeline([(\"baseline_model\", LinearRegression())])"
   ]
  },
  {
   "cell_type": "code",
   "execution_count": 84,
   "metadata": {},
   "outputs": [
    {
     "data": {
      "text/html": [
       "<style>#sk-container-id-5 {color: black;}#sk-container-id-5 pre{padding: 0;}#sk-container-id-5 div.sk-toggleable {background-color: white;}#sk-container-id-5 label.sk-toggleable__label {cursor: pointer;display: block;width: 100%;margin-bottom: 0;padding: 0.3em;box-sizing: border-box;text-align: center;}#sk-container-id-5 label.sk-toggleable__label-arrow:before {content: \"▸\";float: left;margin-right: 0.25em;color: #696969;}#sk-container-id-5 label.sk-toggleable__label-arrow:hover:before {color: black;}#sk-container-id-5 div.sk-estimator:hover label.sk-toggleable__label-arrow:before {color: black;}#sk-container-id-5 div.sk-toggleable__content {max-height: 0;max-width: 0;overflow: hidden;text-align: left;background-color: #f0f8ff;}#sk-container-id-5 div.sk-toggleable__content pre {margin: 0.2em;color: black;border-radius: 0.25em;background-color: #f0f8ff;}#sk-container-id-5 input.sk-toggleable__control:checked~div.sk-toggleable__content {max-height: 200px;max-width: 100%;overflow: auto;}#sk-container-id-5 input.sk-toggleable__control:checked~label.sk-toggleable__label-arrow:before {content: \"▾\";}#sk-container-id-5 div.sk-estimator input.sk-toggleable__control:checked~label.sk-toggleable__label {background-color: #d4ebff;}#sk-container-id-5 div.sk-label input.sk-toggleable__control:checked~label.sk-toggleable__label {background-color: #d4ebff;}#sk-container-id-5 input.sk-hidden--visually {border: 0;clip: rect(1px 1px 1px 1px);clip: rect(1px, 1px, 1px, 1px);height: 1px;margin: -1px;overflow: hidden;padding: 0;position: absolute;width: 1px;}#sk-container-id-5 div.sk-estimator {font-family: monospace;background-color: #f0f8ff;border: 1px dotted black;border-radius: 0.25em;box-sizing: border-box;margin-bottom: 0.5em;}#sk-container-id-5 div.sk-estimator:hover {background-color: #d4ebff;}#sk-container-id-5 div.sk-parallel-item::after {content: \"\";width: 100%;border-bottom: 1px solid gray;flex-grow: 1;}#sk-container-id-5 div.sk-label:hover label.sk-toggleable__label {background-color: #d4ebff;}#sk-container-id-5 div.sk-serial::before {content: \"\";position: absolute;border-left: 1px solid gray;box-sizing: border-box;top: 0;bottom: 0;left: 50%;z-index: 0;}#sk-container-id-5 div.sk-serial {display: flex;flex-direction: column;align-items: center;background-color: white;padding-right: 0.2em;padding-left: 0.2em;position: relative;}#sk-container-id-5 div.sk-item {position: relative;z-index: 1;}#sk-container-id-5 div.sk-parallel {display: flex;align-items: stretch;justify-content: center;background-color: white;position: relative;}#sk-container-id-5 div.sk-item::before, #sk-container-id-5 div.sk-parallel-item::before {content: \"\";position: absolute;border-left: 1px solid gray;box-sizing: border-box;top: 0;bottom: 0;left: 50%;z-index: -1;}#sk-container-id-5 div.sk-parallel-item {display: flex;flex-direction: column;z-index: 1;position: relative;background-color: white;}#sk-container-id-5 div.sk-parallel-item:first-child::after {align-self: flex-end;width: 50%;}#sk-container-id-5 div.sk-parallel-item:last-child::after {align-self: flex-start;width: 50%;}#sk-container-id-5 div.sk-parallel-item:only-child::after {width: 0;}#sk-container-id-5 div.sk-dashed-wrapped {border: 1px dashed gray;margin: 0 0.4em 0.5em 0.4em;box-sizing: border-box;padding-bottom: 0.4em;background-color: white;}#sk-container-id-5 div.sk-label label {font-family: monospace;font-weight: bold;display: inline-block;line-height: 1.2em;}#sk-container-id-5 div.sk-label-container {text-align: center;}#sk-container-id-5 div.sk-container {/* jupyter's `normalize.less` sets `[hidden] { display: none; }` but bootstrap.min.css set `[hidden] { display: none !important; }` so we also need the `!important` here to be able to override the default hidden behavior on the sphinx rendered scikit-learn.org. See: https://github.com/scikit-learn/scikit-learn/issues/21755 */display: inline-block !important;position: relative;}#sk-container-id-5 div.sk-text-repr-fallback {display: none;}</style><div id=\"sk-container-id-5\" class=\"sk-top-container\"><div class=\"sk-text-repr-fallback\"><pre>Pipeline(steps=[(&#x27;baseline_model&#x27;, LinearRegression())])</pre><b>In a Jupyter environment, please rerun this cell to show the HTML representation or trust the notebook. <br />On GitHub, the HTML representation is unable to render, please try loading this page with nbviewer.org.</b></div><div class=\"sk-container\" hidden><div class=\"sk-item sk-dashed-wrapped\"><div class=\"sk-label-container\"><div class=\"sk-label sk-toggleable\"><input class=\"sk-toggleable__control sk-hidden--visually\" id=\"sk-estimator-id-9\" type=\"checkbox\" ><label for=\"sk-estimator-id-9\" class=\"sk-toggleable__label sk-toggleable__label-arrow\">Pipeline</label><div class=\"sk-toggleable__content\"><pre>Pipeline(steps=[(&#x27;baseline_model&#x27;, LinearRegression())])</pre></div></div></div><div class=\"sk-serial\"><div class=\"sk-item\"><div class=\"sk-estimator sk-toggleable\"><input class=\"sk-toggleable__control sk-hidden--visually\" id=\"sk-estimator-id-10\" type=\"checkbox\" ><label for=\"sk-estimator-id-10\" class=\"sk-toggleable__label sk-toggleable__label-arrow\">LinearRegression</label><div class=\"sk-toggleable__content\"><pre>LinearRegression()</pre></div></div></div></div></div></div></div>"
      ],
      "text/plain": [
       "Pipeline(steps=[('baseline_model', LinearRegression())])"
      ]
     },
     "execution_count": 84,
     "metadata": {},
     "output_type": "execute_result"
    }
   ],
   "source": [
    "baseline_model_05.fit(X_train, y_train)"
   ]
  },
  {
   "cell_type": "code",
   "execution_count": 85,
   "metadata": {},
   "outputs": [],
   "source": [
    "y_pred = baseline_model_05.predict(X_validate)"
   ]
  },
  {
   "cell_type": "code",
   "execution_count": 86,
   "metadata": {},
   "outputs": [
    {
     "name": "stdout",
     "output_type": "stream",
     "text": [
      "R2: 0.83\n",
      "MAE: 621.01\n"
     ]
    }
   ],
   "source": [
    "_, _ = performance_measures(y_validate, y_pred)"
   ]
  },
  {
   "cell_type": "code",
   "execution_count": 87,
   "metadata": {},
   "outputs": [
    {
     "data": {
      "image/png": "[encoded data removed]",
      "text/plain": [
       "<Figure size 1000x600 with 1 Axes>"
      ]
     },
     "metadata": {},
     "output_type": "display_data"
    }
   ],
   "source": [
    "actual_vs_predicted(y_validate, y_pred)"
   ]
  },
  {
   "cell_type": "markdown",
   "metadata": {},
   "source": [
    "Nach dem Anwenden von One Hot Encoding zeigt sich erneut eine leicht Verbesserung der Performance Measures."
   ]
  },
  {
   "cell_type": "markdown",
   "metadata": {},
   "source": [
    "### 7.2 Normalisierung "
   ]
  },
  {
   "cell_type": "markdown",
   "metadata": {},
   "source": [
    "Im Folgenden werden alle Features mit Hilfe eines ```StandardScalers``` normalisiert, um den Einfluss der Gewichtung einzelner Features, aufgrund ihrer Wertebereiche, zu eliminiern.\n",
    "\n",
    "Es ist zu erwarten, dass der Mean Absolute Error durch die Normalisierung geringer wird."
   ]
  },
  {
   "cell_type": "code",
   "execution_count": 88,
   "metadata": {},
   "outputs": [],
   "source": [
    "column_transformer_02 = ColumnTransformer(\n",
    "    [('one_hot_encoder', OneHotEncoder(sparse_output=False, drop=\"first\", dtype=int), ['weekday', 'season', 'weathersit'])],\n",
    "    remainder=StandardScaler()\n",
    ")"
   ]
  },
  {
   "cell_type": "code",
   "execution_count": 89,
   "metadata": {},
   "outputs": [],
   "source": [
    "pipeline_02 = Pipeline([\n",
    "    (\"column_transformer_02\", column_transformer_02),\n",
    "    (\"imputer\", SimpleImputer(strategy=\"mean\"))])"
   ]
  },
  {
   "cell_type": "code",
   "execution_count": 90,
   "metadata": {},
   "outputs": [],
   "source": [
    "pipeline = Pipeline([\n",
    "    (\"pipeline_01\", pipeline_01),\n",
    "    (\"pipeline_02\", pipeline_02)])"
   ]
  },
  {
   "cell_type": "code",
   "execution_count": 91,
   "metadata": {},
   "outputs": [
    {
     "name": "stdout",
     "output_type": "stream",
     "text": [
      "Values in 'windspeed' below 0.0 imputed with mean: 0.19\n"
     ]
    }
   ],
   "source": [
    "processed_data = pipeline.fit_transform(train_data_outliers_removed[features])"
   ]
  },
  {
   "cell_type": "code",
   "execution_count": 92,
   "metadata": {},
   "outputs": [],
   "source": [
    "processed_data_features = pipeline.named_steps[\"pipeline_02\"].named_steps['column_transformer_02'].get_feature_names_out()"
   ]
  },
  {
   "cell_type": "code",
   "execution_count": 93,
   "metadata": {},
   "outputs": [],
   "source": [
    "processed_data = pd.DataFrame(processed_data, columns=processed_data_features, index=train_data_outliers_removed.index)"
   ]
  },
  {
   "cell_type": "code",
   "execution_count": 94,
   "metadata": {},
   "outputs": [
    {
     "data": {
      "text/html": [
       "<div>\n",
       "<style scoped>\n",
       "    .dataframe tbody tr th:only-of-type {\n",
       "        vertical-align: middle;\n",
       "    }\n",
       "\n",
       "    .dataframe tbody tr th {\n",
       "        vertical-align: top;\n",
       "    }\n",
       "\n",
       "    .dataframe thead th {\n",
       "        text-align: right;\n",
       "    }\n",
       "</style>\n",
       "<table border=\"1\" class=\"dataframe\">\n",
       "  <thead>\n",
       "    <tr style=\"text-align: right;\">\n",
       "      <th>instant</th>\n",
       "      <th>154</th>\n",
       "      <th>685</th>\n",
       "      <th>368</th>\n",
       "      <th>472</th>\n",
       "      <th>442</th>\n",
       "    </tr>\n",
       "  </thead>\n",
       "  <tbody>\n",
       "    <tr>\n",
       "      <th>one_hot_encoder__weekday_1</th>\n",
       "      <td>0.000000</td>\n",
       "      <td>0.000000</td>\n",
       "      <td>0.000000</td>\n",
       "      <td>1.000000</td>\n",
       "      <td>0.000000</td>\n",
       "    </tr>\n",
       "    <tr>\n",
       "      <th>one_hot_encoder__weekday_2</th>\n",
       "      <td>0.000000</td>\n",
       "      <td>0.000000</td>\n",
       "      <td>1.000000</td>\n",
       "      <td>0.000000</td>\n",
       "      <td>0.000000</td>\n",
       "    </tr>\n",
       "    <tr>\n",
       "      <th>one_hot_encoder__weekday_3</th>\n",
       "      <td>0.000000</td>\n",
       "      <td>0.000000</td>\n",
       "      <td>0.000000</td>\n",
       "      <td>0.000000</td>\n",
       "      <td>0.000000</td>\n",
       "    </tr>\n",
       "    <tr>\n",
       "      <th>one_hot_encoder__weekday_4</th>\n",
       "      <td>0.000000</td>\n",
       "      <td>1.000000</td>\n",
       "      <td>0.000000</td>\n",
       "      <td>0.000000</td>\n",
       "      <td>0.000000</td>\n",
       "    </tr>\n",
       "    <tr>\n",
       "      <th>one_hot_encoder__weekday_5</th>\n",
       "      <td>1.000000</td>\n",
       "      <td>0.000000</td>\n",
       "      <td>0.000000</td>\n",
       "      <td>0.000000</td>\n",
       "      <td>0.000000</td>\n",
       "    </tr>\n",
       "    <tr>\n",
       "      <th>one_hot_encoder__weekday_6</th>\n",
       "      <td>0.000000</td>\n",
       "      <td>0.000000</td>\n",
       "      <td>0.000000</td>\n",
       "      <td>0.000000</td>\n",
       "      <td>1.000000</td>\n",
       "    </tr>\n",
       "    <tr>\n",
       "      <th>one_hot_encoder__season_2</th>\n",
       "      <td>1.000000</td>\n",
       "      <td>0.000000</td>\n",
       "      <td>0.000000</td>\n",
       "      <td>1.000000</td>\n",
       "      <td>0.000000</td>\n",
       "    </tr>\n",
       "    <tr>\n",
       "      <th>one_hot_encoder__season_3</th>\n",
       "      <td>0.000000</td>\n",
       "      <td>0.000000</td>\n",
       "      <td>0.000000</td>\n",
       "      <td>0.000000</td>\n",
       "      <td>0.000000</td>\n",
       "    </tr>\n",
       "    <tr>\n",
       "      <th>one_hot_encoder__season_4</th>\n",
       "      <td>0.000000</td>\n",
       "      <td>1.000000</td>\n",
       "      <td>0.000000</td>\n",
       "      <td>0.000000</td>\n",
       "      <td>0.000000</td>\n",
       "    </tr>\n",
       "    <tr>\n",
       "      <th>one_hot_encoder__weathersit_2</th>\n",
       "      <td>0.000000</td>\n",
       "      <td>1.000000</td>\n",
       "      <td>0.000000</td>\n",
       "      <td>0.000000</td>\n",
       "      <td>1.000000</td>\n",
       "    </tr>\n",
       "    <tr>\n",
       "      <th>one_hot_encoder__weathersit_3</th>\n",
       "      <td>0.000000</td>\n",
       "      <td>0.000000</td>\n",
       "      <td>0.000000</td>\n",
       "      <td>0.000000</td>\n",
       "      <td>0.000000</td>\n",
       "    </tr>\n",
       "    <tr>\n",
       "      <th>remainder__yr</th>\n",
       "      <td>-0.993355</td>\n",
       "      <td>1.006689</td>\n",
       "      <td>1.006689</td>\n",
       "      <td>1.006689</td>\n",
       "      <td>1.006689</td>\n",
       "    </tr>\n",
       "    <tr>\n",
       "      <th>remainder__mnth</th>\n",
       "      <td>-0.138087</td>\n",
       "      <td>1.315457</td>\n",
       "      <td>-1.591630</td>\n",
       "      <td>-0.719504</td>\n",
       "      <td>-1.010212</td>\n",
       "    </tr>\n",
       "    <tr>\n",
       "      <th>remainder__holiday</th>\n",
       "      <td>-0.175863</td>\n",
       "      <td>-0.175863</td>\n",
       "      <td>-0.175863</td>\n",
       "      <td>5.686241</td>\n",
       "      <td>-0.175863</td>\n",
       "    </tr>\n",
       "    <tr>\n",
       "      <th>remainder__workingday</th>\n",
       "      <td>0.685994</td>\n",
       "      <td>0.685994</td>\n",
       "      <td>0.685994</td>\n",
       "      <td>-1.457738</td>\n",
       "      <td>-1.457738</td>\n",
       "    </tr>\n",
       "    <tr>\n",
       "      <th>remainder__temp</th>\n",
       "      <td>0.693214</td>\n",
       "      <td>-0.963997</td>\n",
       "      <td>-1.917595</td>\n",
       "      <td>0.938560</td>\n",
       "      <td>0.105323</td>\n",
       "    </tr>\n",
       "    <tr>\n",
       "      <th>remainder__atemp</th>\n",
       "      <td>0.708104</td>\n",
       "      <td>-0.930273</td>\n",
       "      <td>-2.166767</td>\n",
       "      <td>0.881473</td>\n",
       "      <td>0.196039</td>\n",
       "    </tr>\n",
       "    <tr>\n",
       "      <th>remainder__hum</th>\n",
       "      <td>-1.906219</td>\n",
       "      <td>-0.036638</td>\n",
       "      <td>-1.294731</td>\n",
       "      <td>-0.449175</td>\n",
       "      <td>0.914240</td>\n",
       "    </tr>\n",
       "    <tr>\n",
       "      <th>remainder__windspeed</th>\n",
       "      <td>0.777077</td>\n",
       "      <td>-0.488557</td>\n",
       "      <td>2.199641</td>\n",
       "      <td>1.177847</td>\n",
       "      <td>-1.022989</td>\n",
       "    </tr>\n",
       "    <tr>\n",
       "      <th>remainder__leaflets</th>\n",
       "      <td>1.527363</td>\n",
       "      <td>-0.846445</td>\n",
       "      <td>-1.162953</td>\n",
       "      <td>-0.000396</td>\n",
       "      <td>0.200465</td>\n",
       "    </tr>\n",
       "    <tr>\n",
       "      <th>remainder__price_reduction</th>\n",
       "      <td>-0.420084</td>\n",
       "      <td>-0.420084</td>\n",
       "      <td>-0.420084</td>\n",
       "      <td>-0.420084</td>\n",
       "      <td>2.380476</td>\n",
       "    </tr>\n",
       "    <tr>\n",
       "      <th>remainder__casual</th>\n",
       "      <td>0.082441</td>\n",
       "      <td>-0.765781</td>\n",
       "      <td>-1.104776</td>\n",
       "      <td>0.522694</td>\n",
       "      <td>3.394614</td>\n",
       "    </tr>\n",
       "    <tr>\n",
       "      <th>remainder__registered</th>\n",
       "      <td>0.507269</td>\n",
       "      <td>0.969734</td>\n",
       "      <td>-0.967284</td>\n",
       "      <td>1.000304</td>\n",
       "      <td>0.680937</td>\n",
       "    </tr>\n",
       "    <tr>\n",
       "      <th>remainder__cnt</th>\n",
       "      <td>0.447358</td>\n",
       "      <td>0.517451</td>\n",
       "      <td>-1.173732</td>\n",
       "      <td>1.004937</td>\n",
       "      <td>1.777538</td>\n",
       "    </tr>\n",
       "  </tbody>\n",
       "</table>\n",
       "</div>"
      ],
      "text/plain": [
       "instant                             154       685       368       472  \\\n",
       "one_hot_encoder__weekday_1     0.000000  0.000000  0.000000  1.000000   \n",
       "one_hot_encoder__weekday_2     0.000000  0.000000  1.000000  0.000000   \n",
       "one_hot_encoder__weekday_3     0.000000  0.000000  0.000000  0.000000   \n",
       "one_hot_encoder__weekday_4     0.000000  1.000000  0.000000  0.000000   \n",
       "one_hot_encoder__weekday_5     1.000000  0.000000  0.000000  0.000000   \n",
       "one_hot_encoder__weekday_6     0.000000  0.000000  0.000000  0.000000   \n",
       "one_hot_encoder__season_2      1.000000  0.000000  0.000000  1.000000   \n",
       "one_hot_encoder__season_3      0.000000  0.000000  0.000000  0.000000   \n",
       "one_hot_encoder__season_4      0.000000  1.000000  0.000000  0.000000   \n",
       "one_hot_encoder__weathersit_2  0.000000  1.000000  0.000000  0.000000   \n",
       "one_hot_encoder__weathersit_3  0.000000  0.000000  0.000000  0.000000   \n",
       "remainder__yr                 -0.993355  1.006689  1.006689  1.006689   \n",
       "remainder__mnth               -0.138087  1.315457 -1.591630 -0.719504   \n",
       "remainder__holiday            -0.175863 -0.175863 -0.175863  5.686241   \n",
       "remainder__workingday          0.685994  0.685994  0.685994 -1.457738   \n",
       "remainder__temp                0.693214 -0.963997 -1.917595  0.938560   \n",
       "remainder__atemp               0.708104 -0.930273 -2.166767  0.881473   \n",
       "remainder__hum                -1.906219 -0.036638 -1.294731 -0.449175   \n",
       "remainder__windspeed           0.777077 -0.488557  2.199641  1.177847   \n",
       "remainder__leaflets            1.527363 -0.846445 -1.162953 -0.000396   \n",
       "remainder__price_reduction    -0.420084 -0.420084 -0.420084 -0.420084   \n",
       "remainder__casual              0.082441 -0.765781 -1.104776  0.522694   \n",
       "remainder__registered          0.507269  0.969734 -0.967284  1.000304   \n",
       "remainder__cnt                 0.447358  0.517451 -1.173732  1.004937   \n",
       "\n",
       "instant                             442  \n",
       "one_hot_encoder__weekday_1     0.000000  \n",
       "one_hot_encoder__weekday_2     0.000000  \n",
       "one_hot_encoder__weekday_3     0.000000  \n",
       "one_hot_encoder__weekday_4     0.000000  \n",
       "one_hot_encoder__weekday_5     0.000000  \n",
       "one_hot_encoder__weekday_6     1.000000  \n",
       "one_hot_encoder__season_2      0.000000  \n",
       "one_hot_encoder__season_3      0.000000  \n",
       "one_hot_encoder__season_4      0.000000  \n",
       "one_hot_encoder__weathersit_2  1.000000  \n",
       "one_hot_encoder__weathersit_3  0.000000  \n",
       "remainder__yr                  1.006689  \n",
       "remainder__mnth               -1.010212  \n",
       "remainder__holiday            -0.175863  \n",
       "remainder__workingday         -1.457738  \n",
       "remainder__temp                0.105323  \n",
       "remainder__atemp               0.196039  \n",
       "remainder__hum                 0.914240  \n",
       "remainder__windspeed          -1.022989  \n",
       "remainder__leaflets            0.200465  \n",
       "remainder__price_reduction     2.380476  \n",
       "remainder__casual              3.394614  \n",
       "remainder__registered          0.680937  \n",
       "remainder__cnt                 1.777538  "
      ]
     },
     "execution_count": 94,
     "metadata": {},
     "output_type": "execute_result"
    }
   ],
   "source": [
    "processed_data.head().T"
   ]
  },
  {
   "cell_type": "code",
   "execution_count": 95,
   "metadata": {},
   "outputs": [
    {
     "data": {
      "text/html": [
       "<div>\n",
       "<style scoped>\n",
       "    .dataframe tbody tr th:only-of-type {\n",
       "        vertical-align: middle;\n",
       "    }\n",
       "\n",
       "    .dataframe tbody tr th {\n",
       "        vertical-align: top;\n",
       "    }\n",
       "\n",
       "    .dataframe thead th {\n",
       "        text-align: right;\n",
       "    }\n",
       "</style>\n",
       "<table border=\"1\" class=\"dataframe\">\n",
       "  <thead>\n",
       "    <tr style=\"text-align: right;\">\n",
       "      <th></th>\n",
       "      <th>count</th>\n",
       "      <th>mean</th>\n",
       "      <th>std</th>\n",
       "      <th>min</th>\n",
       "      <th>25%</th>\n",
       "      <th>50%</th>\n",
       "      <th>75%</th>\n",
       "      <th>max</th>\n",
       "    </tr>\n",
       "  </thead>\n",
       "  <tbody>\n",
       "    <tr>\n",
       "      <th>one_hot_encoder__weekday_1</th>\n",
       "      <td>600.0</td>\n",
       "      <td>1.416667e-01</td>\n",
       "      <td>0.348999</td>\n",
       "      <td>0.000000</td>\n",
       "      <td>0.000000</td>\n",
       "      <td>0.000000e+00</td>\n",
       "      <td>0.000000</td>\n",
       "      <td>1.000000</td>\n",
       "    </tr>\n",
       "    <tr>\n",
       "      <th>one_hot_encoder__weekday_2</th>\n",
       "      <td>600.0</td>\n",
       "      <td>1.383333e-01</td>\n",
       "      <td>0.345538</td>\n",
       "      <td>0.000000</td>\n",
       "      <td>0.000000</td>\n",
       "      <td>0.000000e+00</td>\n",
       "      <td>0.000000</td>\n",
       "      <td>1.000000</td>\n",
       "    </tr>\n",
       "    <tr>\n",
       "      <th>one_hot_encoder__weekday_3</th>\n",
       "      <td>600.0</td>\n",
       "      <td>1.450000e-01</td>\n",
       "      <td>0.352395</td>\n",
       "      <td>0.000000</td>\n",
       "      <td>0.000000</td>\n",
       "      <td>0.000000e+00</td>\n",
       "      <td>0.000000</td>\n",
       "      <td>1.000000</td>\n",
       "    </tr>\n",
       "    <tr>\n",
       "      <th>one_hot_encoder__weekday_4</th>\n",
       "      <td>600.0</td>\n",
       "      <td>1.466667e-01</td>\n",
       "      <td>0.354068</td>\n",
       "      <td>0.000000</td>\n",
       "      <td>0.000000</td>\n",
       "      <td>0.000000e+00</td>\n",
       "      <td>0.000000</td>\n",
       "      <td>1.000000</td>\n",
       "    </tr>\n",
       "    <tr>\n",
       "      <th>one_hot_encoder__weekday_5</th>\n",
       "      <td>600.0</td>\n",
       "      <td>1.383333e-01</td>\n",
       "      <td>0.345538</td>\n",
       "      <td>0.000000</td>\n",
       "      <td>0.000000</td>\n",
       "      <td>0.000000e+00</td>\n",
       "      <td>0.000000</td>\n",
       "      <td>1.000000</td>\n",
       "    </tr>\n",
       "    <tr>\n",
       "      <th>one_hot_encoder__weekday_6</th>\n",
       "      <td>600.0</td>\n",
       "      <td>1.500000e-01</td>\n",
       "      <td>0.357369</td>\n",
       "      <td>0.000000</td>\n",
       "      <td>0.000000</td>\n",
       "      <td>0.000000e+00</td>\n",
       "      <td>0.000000</td>\n",
       "      <td>1.000000</td>\n",
       "    </tr>\n",
       "    <tr>\n",
       "      <th>one_hot_encoder__season_2</th>\n",
       "      <td>600.0</td>\n",
       "      <td>2.600000e-01</td>\n",
       "      <td>0.439000</td>\n",
       "      <td>0.000000</td>\n",
       "      <td>0.000000</td>\n",
       "      <td>0.000000e+00</td>\n",
       "      <td>1.000000</td>\n",
       "      <td>1.000000</td>\n",
       "    </tr>\n",
       "    <tr>\n",
       "      <th>one_hot_encoder__season_3</th>\n",
       "      <td>600.0</td>\n",
       "      <td>2.483333e-01</td>\n",
       "      <td>0.432407</td>\n",
       "      <td>0.000000</td>\n",
       "      <td>0.000000</td>\n",
       "      <td>0.000000e+00</td>\n",
       "      <td>0.000000</td>\n",
       "      <td>1.000000</td>\n",
       "    </tr>\n",
       "    <tr>\n",
       "      <th>one_hot_encoder__season_4</th>\n",
       "      <td>600.0</td>\n",
       "      <td>2.350000e-01</td>\n",
       "      <td>0.424353</td>\n",
       "      <td>0.000000</td>\n",
       "      <td>0.000000</td>\n",
       "      <td>0.000000e+00</td>\n",
       "      <td>0.000000</td>\n",
       "      <td>1.000000</td>\n",
       "    </tr>\n",
       "    <tr>\n",
       "      <th>one_hot_encoder__weathersit_2</th>\n",
       "      <td>600.0</td>\n",
       "      <td>3.483333e-01</td>\n",
       "      <td>0.476840</td>\n",
       "      <td>0.000000</td>\n",
       "      <td>0.000000</td>\n",
       "      <td>0.000000e+00</td>\n",
       "      <td>1.000000</td>\n",
       "      <td>1.000000</td>\n",
       "    </tr>\n",
       "    <tr>\n",
       "      <th>one_hot_encoder__weathersit_3</th>\n",
       "      <td>600.0</td>\n",
       "      <td>2.666667e-02</td>\n",
       "      <td>0.161242</td>\n",
       "      <td>0.000000</td>\n",
       "      <td>0.000000</td>\n",
       "      <td>0.000000e+00</td>\n",
       "      <td>0.000000</td>\n",
       "      <td>1.000000</td>\n",
       "    </tr>\n",
       "    <tr>\n",
       "      <th>remainder__yr</th>\n",
       "      <td>600.0</td>\n",
       "      <td>5.329071e-17</td>\n",
       "      <td>1.000834</td>\n",
       "      <td>-0.993355</td>\n",
       "      <td>-0.993355</td>\n",
       "      <td>-9.933554e-01</td>\n",
       "      <td>1.006689</td>\n",
       "      <td>1.006689</td>\n",
       "    </tr>\n",
       "    <tr>\n",
       "      <th>remainder__mnth</th>\n",
       "      <td>600.0</td>\n",
       "      <td>1.065814e-16</td>\n",
       "      <td>1.000834</td>\n",
       "      <td>-1.591630</td>\n",
       "      <td>-0.719504</td>\n",
       "      <td>-1.380866e-01</td>\n",
       "      <td>0.734039</td>\n",
       "      <td>1.606165</td>\n",
       "    </tr>\n",
       "    <tr>\n",
       "      <th>remainder__holiday</th>\n",
       "      <td>600.0</td>\n",
       "      <td>5.921189e-18</td>\n",
       "      <td>1.000834</td>\n",
       "      <td>-0.175863</td>\n",
       "      <td>-0.175863</td>\n",
       "      <td>-1.758631e-01</td>\n",
       "      <td>-0.175863</td>\n",
       "      <td>5.686241</td>\n",
       "    </tr>\n",
       "    <tr>\n",
       "      <th>remainder__workingday</th>\n",
       "      <td>600.0</td>\n",
       "      <td>-1.154632e-16</td>\n",
       "      <td>1.000834</td>\n",
       "      <td>-1.457738</td>\n",
       "      <td>-1.457738</td>\n",
       "      <td>6.859943e-01</td>\n",
       "      <td>0.685994</td>\n",
       "      <td>0.685994</td>\n",
       "    </tr>\n",
       "    <tr>\n",
       "      <th>remainder__temp</th>\n",
       "      <td>600.0</td>\n",
       "      <td>-5.921189e-17</td>\n",
       "      <td>1.000834</td>\n",
       "      <td>-2.422370</td>\n",
       "      <td>-0.865634</td>\n",
       "      <td>4.051142e-02</td>\n",
       "      <td>0.867957</td>\n",
       "      <td>2.035655</td>\n",
       "    </tr>\n",
       "    <tr>\n",
       "      <th>remainder__atemp</th>\n",
       "      <td>600.0</td>\n",
       "      <td>-2.309264e-16</td>\n",
       "      <td>1.000834</td>\n",
       "      <td>-2.461239</td>\n",
       "      <td>-0.844410</td>\n",
       "      <td>1.002465e-01</td>\n",
       "      <td>0.820349</td>\n",
       "      <td>2.200491</td>\n",
       "    </tr>\n",
       "    <tr>\n",
       "      <th>remainder__hum</th>\n",
       "      <td>600.0</td>\n",
       "      <td>-3.759955e-16</td>\n",
       "      <td>0.972064</td>\n",
       "      <td>-3.073610</td>\n",
       "      <td>-0.724933</td>\n",
       "      <td>-3.738666e-16</td>\n",
       "      <td>0.683107</td>\n",
       "      <td>2.435654</td>\n",
       "    </tr>\n",
       "    <tr>\n",
       "      <th>remainder__windspeed</th>\n",
       "      <td>600.0</td>\n",
       "      <td>-2.960595e-17</td>\n",
       "      <td>1.000834</td>\n",
       "      <td>-2.139203</td>\n",
       "      <td>-0.716496</td>\n",
       "      <td>-1.191073e-01</td>\n",
       "      <td>0.534726</td>\n",
       "      <td>3.991807</td>\n",
       "    </tr>\n",
       "    <tr>\n",
       "      <th>remainder__leaflets</th>\n",
       "      <td>600.0</td>\n",
       "      <td>-3.345472e-16</td>\n",
       "      <td>1.000834</td>\n",
       "      <td>-1.710754</td>\n",
       "      <td>-0.847967</td>\n",
       "      <td>-1.865569e-02</td>\n",
       "      <td>0.824350</td>\n",
       "      <td>1.776917</td>\n",
       "    </tr>\n",
       "    <tr>\n",
       "      <th>remainder__price_reduction</th>\n",
       "      <td>600.0</td>\n",
       "      <td>-2.146431e-17</td>\n",
       "      <td>1.000834</td>\n",
       "      <td>-0.420084</td>\n",
       "      <td>-0.420084</td>\n",
       "      <td>-4.200840e-01</td>\n",
       "      <td>-0.420084</td>\n",
       "      <td>2.380476</td>\n",
       "    </tr>\n",
       "    <tr>\n",
       "      <th>remainder__casual</th>\n",
       "      <td>600.0</td>\n",
       "      <td>2.368476e-17</td>\n",
       "      <td>1.000834</td>\n",
       "      <td>-1.232449</td>\n",
       "      <td>-0.776053</td>\n",
       "      <td>-1.758411e-01</td>\n",
       "      <td>0.336166</td>\n",
       "      <td>3.582455</td>\n",
       "    </tr>\n",
       "    <tr>\n",
       "      <th>remainder__registered</th>\n",
       "      <td>600.0</td>\n",
       "      <td>-8.733754e-17</td>\n",
       "      <td>1.000834</td>\n",
       "      <td>-2.350774</td>\n",
       "      <td>-0.738328</td>\n",
       "      <td>1.488429e-02</td>\n",
       "      <td>0.680449</td>\n",
       "      <td>2.154189</td>\n",
       "    </tr>\n",
       "    <tr>\n",
       "      <th>remainder__cnt</th>\n",
       "      <td>600.0</td>\n",
       "      <td>-2.960595e-17</td>\n",
       "      <td>1.000834</td>\n",
       "      <td>-2.340538</td>\n",
       "      <td>-0.699948</td>\n",
       "      <td>3.523426e-02</td>\n",
       "      <td>0.742090</td>\n",
       "      <td>1.983600</td>\n",
       "    </tr>\n",
       "  </tbody>\n",
       "</table>\n",
       "</div>"
      ],
      "text/plain": [
       "                               count          mean       std       min  \\\n",
       "one_hot_encoder__weekday_1     600.0  1.416667e-01  0.348999  0.000000   \n",
       "one_hot_encoder__weekday_2     600.0  1.383333e-01  0.345538  0.000000   \n",
       "one_hot_encoder__weekday_3     600.0  1.450000e-01  0.352395  0.000000   \n",
       "one_hot_encoder__weekday_4     600.0  1.466667e-01  0.354068  0.000000   \n",
       "one_hot_encoder__weekday_5     600.0  1.383333e-01  0.345538  0.000000   \n",
       "one_hot_encoder__weekday_6     600.0  1.500000e-01  0.357369  0.000000   \n",
       "one_hot_encoder__season_2      600.0  2.600000e-01  0.439000  0.000000   \n",
       "one_hot_encoder__season_3      600.0  2.483333e-01  0.432407  0.000000   \n",
       "one_hot_encoder__season_4      600.0  2.350000e-01  0.424353  0.000000   \n",
       "one_hot_encoder__weathersit_2  600.0  3.483333e-01  0.476840  0.000000   \n",
       "one_hot_encoder__weathersit_3  600.0  2.666667e-02  0.161242  0.000000   \n",
       "remainder__yr                  600.0  5.329071e-17  1.000834 -0.993355   \n",
       "remainder__mnth                600.0  1.065814e-16  1.000834 -1.591630   \n",
       "remainder__holiday             600.0  5.921189e-18  1.000834 -0.175863   \n",
       "remainder__workingday          600.0 -1.154632e-16  1.000834 -1.457738   \n",
       "remainder__temp                600.0 -5.921189e-17  1.000834 -2.422370   \n",
       "remainder__atemp               600.0 -2.309264e-16  1.000834 -2.461239   \n",
       "remainder__hum                 600.0 -3.759955e-16  0.972064 -3.073610   \n",
       "remainder__windspeed           600.0 -2.960595e-17  1.000834 -2.139203   \n",
       "remainder__leaflets            600.0 -3.345472e-16  1.000834 -1.710754   \n",
       "remainder__price_reduction     600.0 -2.146431e-17  1.000834 -0.420084   \n",
       "remainder__casual              600.0  2.368476e-17  1.000834 -1.232449   \n",
       "remainder__registered          600.0 -8.733754e-17  1.000834 -2.350774   \n",
       "remainder__cnt                 600.0 -2.960595e-17  1.000834 -2.340538   \n",
       "\n",
       "                                    25%           50%       75%       max  \n",
       "one_hot_encoder__weekday_1     0.000000  0.000000e+00  0.000000  1.000000  \n",
       "one_hot_encoder__weekday_2     0.000000  0.000000e+00  0.000000  1.000000  \n",
       "one_hot_encoder__weekday_3     0.000000  0.000000e+00  0.000000  1.000000  \n",
       "one_hot_encoder__weekday_4     0.000000  0.000000e+00  0.000000  1.000000  \n",
       "one_hot_encoder__weekday_5     0.000000  0.000000e+00  0.000000  1.000000  \n",
       "one_hot_encoder__weekday_6     0.000000  0.000000e+00  0.000000  1.000000  \n",
       "one_hot_encoder__season_2      0.000000  0.000000e+00  1.000000  1.000000  \n",
       "one_hot_encoder__season_3      0.000000  0.000000e+00  0.000000  1.000000  \n",
       "one_hot_encoder__season_4      0.000000  0.000000e+00  0.000000  1.000000  \n",
       "one_hot_encoder__weathersit_2  0.000000  0.000000e+00  1.000000  1.000000  \n",
       "one_hot_encoder__weathersit_3  0.000000  0.000000e+00  0.000000  1.000000  \n",
       "remainder__yr                 -0.993355 -9.933554e-01  1.006689  1.006689  \n",
       "remainder__mnth               -0.719504 -1.380866e-01  0.734039  1.606165  \n",
       "remainder__holiday            -0.175863 -1.758631e-01 -0.175863  5.686241  \n",
       "remainder__workingday         -1.457738  6.859943e-01  0.685994  0.685994  \n",
       "remainder__temp               -0.865634  4.051142e-02  0.867957  2.035655  \n",
       "remainder__atemp              -0.844410  1.002465e-01  0.820349  2.200491  \n",
       "remainder__hum                -0.724933 -3.738666e-16  0.683107  2.435654  \n",
       "remainder__windspeed          -0.716496 -1.191073e-01  0.534726  3.991807  \n",
       "remainder__leaflets           -0.847967 -1.865569e-02  0.824350  1.776917  \n",
       "remainder__price_reduction    -0.420084 -4.200840e-01 -0.420084  2.380476  \n",
       "remainder__casual             -0.776053 -1.758411e-01  0.336166  3.582455  \n",
       "remainder__registered         -0.738328  1.488429e-02  0.680449  2.154189  \n",
       "remainder__cnt                -0.699948  3.523426e-02  0.742090  1.983600  "
      ]
     },
     "execution_count": 95,
     "metadata": {},
     "output_type": "execute_result"
    }
   ],
   "source": [
    "processed_data.describe().T"
   ]
  },
  {
   "cell_type": "code",
   "execution_count": 96,
   "metadata": {},
   "outputs": [],
   "source": [
    "X_train, X_validate, y_train, y_validate = train_test_split(processed_data, train_data_outliers_removed[\"cnt\"], test_size=0.2, random_state=42)"
   ]
  },
  {
   "cell_type": "code",
   "execution_count": 97,
   "metadata": {},
   "outputs": [],
   "source": [
    "baseline_model_06 = Pipeline([(\"baseline_model\", LinearRegression())])"
   ]
  },
  {
   "cell_type": "code",
   "execution_count": 98,
   "metadata": {},
   "outputs": [
    {
     "data": {
      "text/html": [
       "<style>#sk-container-id-6 {color: black;}#sk-container-id-6 pre{padding: 0;}#sk-container-id-6 div.sk-toggleable {background-color: white;}#sk-container-id-6 label.sk-toggleable__label {cursor: pointer;display: block;width: 100%;margin-bottom: 0;padding: 0.3em;box-sizing: border-box;text-align: center;}#sk-container-id-6 label.sk-toggleable__label-arrow:before {content: \"▸\";float: left;margin-right: 0.25em;color: #696969;}#sk-container-id-6 label.sk-toggleable__label-arrow:hover:before {color: black;}#sk-container-id-6 div.sk-estimator:hover label.sk-toggleable__label-arrow:before {color: black;}#sk-container-id-6 div.sk-toggleable__content {max-height: 0;max-width: 0;overflow: hidden;text-align: left;background-color: #f0f8ff;}#sk-container-id-6 div.sk-toggleable__content pre {margin: 0.2em;color: black;border-radius: 0.25em;background-color: #f0f8ff;}#sk-container-id-6 input.sk-toggleable__control:checked~div.sk-toggleable__content {max-height: 200px;max-width: 100%;overflow: auto;}#sk-container-id-6 input.sk-toggleable__control:checked~label.sk-toggleable__label-arrow:before {content: \"▾\";}#sk-container-id-6 div.sk-estimator input.sk-toggleable__control:checked~label.sk-toggleable__label {background-color: #d4ebff;}#sk-container-id-6 div.sk-label input.sk-toggleable__control:checked~label.sk-toggleable__label {background-color: #d4ebff;}#sk-container-id-6 input.sk-hidden--visually {border: 0;clip: rect(1px 1px 1px 1px);clip: rect(1px, 1px, 1px, 1px);height: 1px;margin: -1px;overflow: hidden;padding: 0;position: absolute;width: 1px;}#sk-container-id-6 div.sk-estimator {font-family: monospace;background-color: #f0f8ff;border: 1px dotted black;border-radius: 0.25em;box-sizing: border-box;margin-bottom: 0.5em;}#sk-container-id-6 div.sk-estimator:hover {background-color: #d4ebff;}#sk-container-id-6 div.sk-parallel-item::after {content: \"\";width: 100%;border-bottom: 1px solid gray;flex-grow: 1;}#sk-container-id-6 div.sk-label:hover label.sk-toggleable__label {background-color: #d4ebff;}#sk-container-id-6 div.sk-serial::before {content: \"\";position: absolute;border-left: 1px solid gray;box-sizing: border-box;top: 0;bottom: 0;left: 50%;z-index: 0;}#sk-container-id-6 div.sk-serial {display: flex;flex-direction: column;align-items: center;background-color: white;padding-right: 0.2em;padding-left: 0.2em;position: relative;}#sk-container-id-6 div.sk-item {position: relative;z-index: 1;}#sk-container-id-6 div.sk-parallel {display: flex;align-items: stretch;justify-content: center;background-color: white;position: relative;}#sk-container-id-6 div.sk-item::before, #sk-container-id-6 div.sk-parallel-item::before {content: \"\";position: absolute;border-left: 1px solid gray;box-sizing: border-box;top: 0;bottom: 0;left: 50%;z-index: -1;}#sk-container-id-6 div.sk-parallel-item {display: flex;flex-direction: column;z-index: 1;position: relative;background-color: white;}#sk-container-id-6 div.sk-parallel-item:first-child::after {align-self: flex-end;width: 50%;}#sk-container-id-6 div.sk-parallel-item:last-child::after {align-self: flex-start;width: 50%;}#sk-container-id-6 div.sk-parallel-item:only-child::after {width: 0;}#sk-container-id-6 div.sk-dashed-wrapped {border: 1px dashed gray;margin: 0 0.4em 0.5em 0.4em;box-sizing: border-box;padding-bottom: 0.4em;background-color: white;}#sk-container-id-6 div.sk-label label {font-family: monospace;font-weight: bold;display: inline-block;line-height: 1.2em;}#sk-container-id-6 div.sk-label-container {text-align: center;}#sk-container-id-6 div.sk-container {/* jupyter's `normalize.less` sets `[hidden] { display: none; }` but bootstrap.min.css set `[hidden] { display: none !important; }` so we also need the `!important` here to be able to override the default hidden behavior on the sphinx rendered scikit-learn.org. See: https://github.com/scikit-learn/scikit-learn/issues/21755 */display: inline-block !important;position: relative;}#sk-container-id-6 div.sk-text-repr-fallback {display: none;}</style><div id=\"sk-container-id-6\" class=\"sk-top-container\"><div class=\"sk-text-repr-fallback\"><pre>Pipeline(steps=[(&#x27;baseline_model&#x27;, LinearRegression())])</pre><b>In a Jupyter environment, please rerun this cell to show the HTML representation or trust the notebook. <br />On GitHub, the HTML representation is unable to render, please try loading this page with nbviewer.org.</b></div><div class=\"sk-container\" hidden><div class=\"sk-item sk-dashed-wrapped\"><div class=\"sk-label-container\"><div class=\"sk-label sk-toggleable\"><input class=\"sk-toggleable__control sk-hidden--visually\" id=\"sk-estimator-id-11\" type=\"checkbox\" ><label for=\"sk-estimator-id-11\" class=\"sk-toggleable__label sk-toggleable__label-arrow\">Pipeline</label><div class=\"sk-toggleable__content\"><pre>Pipeline(steps=[(&#x27;baseline_model&#x27;, LinearRegression())])</pre></div></div></div><div class=\"sk-serial\"><div class=\"sk-item\"><div class=\"sk-estimator sk-toggleable\"><input class=\"sk-toggleable__control sk-hidden--visually\" id=\"sk-estimator-id-12\" type=\"checkbox\" ><label for=\"sk-estimator-id-12\" class=\"sk-toggleable__label sk-toggleable__label-arrow\">LinearRegression</label><div class=\"sk-toggleable__content\"><pre>LinearRegression()</pre></div></div></div></div></div></div></div>"
      ],
      "text/plain": [
       "Pipeline(steps=[('baseline_model', LinearRegression())])"
      ]
     },
     "execution_count": 98,
     "metadata": {},
     "output_type": "execute_result"
    }
   ],
   "source": [
    "baseline_model_06.fit(X_train, y_train)"
   ]
  },
  {
   "cell_type": "code",
   "execution_count": 99,
   "metadata": {},
   "outputs": [],
   "source": [
    "y_pred = baseline_model_06.predict(X_validate)"
   ]
  },
  {
   "cell_type": "code",
   "execution_count": 100,
   "metadata": {},
   "outputs": [
    {
     "name": "stdout",
     "output_type": "stream",
     "text": [
      "R2: 1.00\n",
      "MAE: 0.00\n"
     ]
    }
   ],
   "source": [
    "_, _ = performance_measures(y_validate, y_pred)"
   ]
  },
  {
   "cell_type": "code",
   "execution_count": 101,
   "metadata": {},
   "outputs": [
    {
     "data": {
      "image/png": "[encoded data removed]",
      "text/plain": [
       "<Figure size 1000x600 with 1 Axes>"
      ]
     },
     "metadata": {},
     "output_type": "display_data"
    }
   ],
   "source": [
    "actual_vs_predicted(y_validate, y_pred)"
   ]
  },
  {
   "cell_type": "markdown",
   "metadata": {},
   "source": [
    "Durch das Anwenden des `StandardScaler` zeigt sich eine leichte Verbesserung des Mean Absolute Errors."
   ]
  },
  {
   "cell_type": "code",
   "execution_count": 102,
   "metadata": {},
   "outputs": [
    {
     "ename": "SyntaxError",
     "evalue": "'break' outside loop (668683560.py, line 1)",
     "output_type": "error",
     "traceback": [
      "\u001b[0;36m  Cell \u001b[0;32mIn[102], line 1\u001b[0;36m\u001b[0m\n\u001b[0;31m    break\u001b[0m\n\u001b[0m    ^\u001b[0m\n\u001b[0;31mSyntaxError\u001b[0m\u001b[0;31m:\u001b[0m 'break' outside loop\n"
     ]
    }
   ],
   "source": [
    "break"
   ]
  },
  {
   "cell_type": "markdown",
   "metadata": {},
   "source": [
    "## 8 Multicolinearity"
   ]
  },
  {
   "cell_type": "markdown",
   "metadata": {},
   "source": [
    "In der Korrelationsmatrix ist zu sehen, dass die Variablen `atemp`, und `temp` eine starke Korrelation aufweisen. \n",
    "\n",
    "Dies kann später zu Problemen bei der Regression führen, daher werden wir nur `atemp` behalten.\n",
    "\n",
    "Wir verwenden die gefühlte Temperatur, da diese zu einem Grad aus der tatasächlichen Temperatur und der Luftfeuchte hervorgeht."
   ]
  },
  {
   "cell_type": "code",
   "execution_count": null,
   "metadata": {},
   "outputs": [],
   "source": [
    "drop_feature_02 = CustomTransformer(function=drop_features, config={\"columns\": [\"temp\"]})"
   ]
  },
  {
   "cell_type": "code",
   "execution_count": null,
   "metadata": {},
   "outputs": [],
   "source": [
    "pipeline_01 = Pipeline([\n",
    "    (\"missing_value_pipeline\", missing_value_pipeline),\n",
    "    (\"data_correction_pipeline\", data_correction_pipeline),\n",
    "    (\"remove_outliers\", remove_outliers_transformer),\n",
    "    (\"drop_feature\", drop_feature),\n",
    "    (\"drop_feature_01\", drop_feature_01),\n",
    "    (\"drop_feature_02\", drop_feature_02),\n",
    "    (\"numeric_values\", numeric_values)])"
   ]
  },
  {
   "cell_type": "code",
   "execution_count": null,
   "metadata": {},
   "outputs": [],
   "source": [
    "pipeline = Pipeline([\n",
    "    (\"pipeline_01\", pipeline_01),\n",
    "    (\"pipeline_02\", pipeline_02)])"
   ]
  },
  {
   "cell_type": "code",
   "execution_count": null,
   "metadata": {},
   "outputs": [],
   "source": [
    "result = pipeline.fit_transform(train_data)"
   ]
  },
  {
   "cell_type": "code",
   "execution_count": null,
   "metadata": {},
   "outputs": [],
   "source": [
    "result_features = pipeline.named_steps[\"pipeline_02\"].named_steps['column_transformer_02'].get_feature_names_out()"
   ]
  },
  {
   "cell_type": "code",
   "execution_count": null,
   "metadata": {},
   "outputs": [],
   "source": [
    "z_scores = abs(stats.zscore(train_data[\"casual\"].dropna()))\n",
    "filtered_indices = train_data[(z_scores < 3) & (train_data['windspeed'] > 0.0)].index\n",
    "result = pd.DataFrame(result, columns=result_features, index=filtered_indices)"
   ]
  },
  {
   "cell_type": "code",
   "execution_count": null,
   "metadata": {},
   "outputs": [],
   "source": [
    "result.head().T"
   ]
  },
  {
   "cell_type": "code",
   "execution_count": null,
   "metadata": {},
   "outputs": [],
   "source": [
    "result.describe().T"
   ]
  },
  {
   "cell_type": "code",
   "execution_count": null,
   "metadata": {},
   "outputs": [],
   "source": [
    "X_train, X_validate, y_train, y_validate = train_test_split(result, train_data.loc[filtered_indices][\"cnt\"], test_size=0.2, random_state=42)"
   ]
  },
  {
   "cell_type": "code",
   "execution_count": null,
   "metadata": {},
   "outputs": [],
   "source": [
    "baseline_model_06 = Pipeline([(\"baseline_model\", LinearRegression())])"
   ]
  },
  {
   "cell_type": "code",
   "execution_count": null,
   "metadata": {},
   "outputs": [],
   "source": [
    "baseline_model_06.fit(X_train, y_train)"
   ]
  },
  {
   "cell_type": "code",
   "execution_count": null,
   "metadata": {},
   "outputs": [],
   "source": [
    "y_pred = baseline_model_06.predict(X_validate)"
   ]
  },
  {
   "cell_type": "code",
   "execution_count": null,
   "metadata": {},
   "outputs": [],
   "source": [
    "_, _ = performance_measures(y_validate, y_pred)"
   ]
  },
  {
   "cell_type": "code",
   "execution_count": null,
   "metadata": {},
   "outputs": [],
   "source": [
    "actual_vs_predicted(y_validate, y_pred)"
   ]
  },
  {
   "cell_type": "markdown",
   "metadata": {},
   "source": [
    "Durch das Entfernen von `temp` sehen wir eine leichte Verschlechterung des Mean Absolute Errors."
   ]
  },
  {
   "cell_type": "markdown",
   "metadata": {},
   "source": [
    "Basierend auf der am Ende von Task 1 aufgestellen Vermutung, dass `hum` mit der gefühlten Temperatur `atemp` Colienar ist, schauen wir uns im Folgenden die Performance des Modell nochmal ohne `hum` an."
   ]
  },
  {
   "cell_type": "code",
   "execution_count": null,
   "metadata": {},
   "outputs": [],
   "source": [
    "drop_feature_03 = CustomTransformer(function=drop_features, config={\"columns\": [\"hum\"]})"
   ]
  },
  {
   "cell_type": "code",
   "execution_count": null,
   "metadata": {},
   "outputs": [],
   "source": [
    "pipeline_01 = Pipeline([\n",
    "    (\"missing_value_pipeline\", missing_value_pipeline),\n",
    "    (\"data_correction_pipeline\", data_correction_pipeline),\n",
    "    (\"remove_outliers\", remove_outliers_transformer),\n",
    "    (\"drop_feature\", drop_feature),\n",
    "    (\"drop_feature_01\", drop_feature_01),\n",
    "    (\"drop_feature_02\", drop_feature_02),\n",
    "    (\"drop_feature_03\", drop_feature_03),\n",
    "    (\"numeric_values\", numeric_values)])"
   ]
  },
  {
   "cell_type": "code",
   "execution_count": null,
   "metadata": {},
   "outputs": [],
   "source": [
    "pipeline = Pipeline([\n",
    "    (\"pipeline_01\", pipeline_01),\n",
    "    (\"pipeline_02\", pipeline_02)])"
   ]
  },
  {
   "cell_type": "code",
   "execution_count": null,
   "metadata": {},
   "outputs": [],
   "source": [
    "result = pipeline.fit_transform(train_data)"
   ]
  },
  {
   "cell_type": "code",
   "execution_count": null,
   "metadata": {},
   "outputs": [],
   "source": [
    "result_features = pipeline.named_steps[\"pipeline_02\"].named_steps['column_transformer_02'].get_feature_names_out()"
   ]
  },
  {
   "cell_type": "code",
   "execution_count": null,
   "metadata": {},
   "outputs": [],
   "source": [
    "z_scores = abs(stats.zscore(train_data[\"casual\"].dropna()))\n",
    "filtered_indices = train_data[(z_scores < 3) & (train_data['windspeed'] > 0.0)].index\n",
    "result = pd.DataFrame(result, columns=result_features, index=filtered_indices)"
   ]
  },
  {
   "cell_type": "code",
   "execution_count": null,
   "metadata": {},
   "outputs": [],
   "source": [
    "result.head().T"
   ]
  },
  {
   "cell_type": "code",
   "execution_count": null,
   "metadata": {},
   "outputs": [],
   "source": [
    "result.describe().T"
   ]
  },
  {
   "cell_type": "code",
   "execution_count": null,
   "metadata": {},
   "outputs": [],
   "source": [
    "X_train, X_validate, y_train, y_validate = train_test_split(result, train_data.loc[filtered_indices][\"cnt\"], test_size=0.2, random_state=42)"
   ]
  },
  {
   "cell_type": "code",
   "execution_count": null,
   "metadata": {},
   "outputs": [],
   "source": [
    "baseline_model_07 = Pipeline([(\"baseline_model\", LinearRegression())])"
   ]
  },
  {
   "cell_type": "code",
   "execution_count": null,
   "metadata": {},
   "outputs": [],
   "source": [
    "final_pipeline = baseline_model_07.fit(X_train, y_train)"
   ]
  },
  {
   "cell_type": "code",
   "execution_count": null,
   "metadata": {},
   "outputs": [],
   "source": [
    "y_pred = baseline_model_07.predict(X_validate)"
   ]
  },
  {
   "cell_type": "code",
   "execution_count": null,
   "metadata": {},
   "outputs": [],
   "source": [
    "_, _ = performance_measures(y_validate, y_pred)"
   ]
  },
  {
   "cell_type": "code",
   "execution_count": null,
   "metadata": {},
   "outputs": [],
   "source": [
    "actual_vs_predicted(y_validate, y_pred)"
   ]
  },
  {
   "cell_type": "markdown",
   "metadata": {},
   "source": [
    "Das Enfernen von `hum` führt zu einer leichten Verbesserung der Performance Measures."
   ]
  },
  {
   "cell_type": "markdown",
   "metadata": {},
   "source": [
    "Zuletzt exportieren wir das Datenset als CSV und speichern das Model."
   ]
  },
  {
   "cell_type": "code",
   "execution_count": null,
   "metadata": {},
   "outputs": [],
   "source": [
    "test_result = pipeline.fit_transform(test_data)\n",
    "test_result_features = pipeline.named_steps[\"pipeline_02\"].named_steps['column_transformer_02'].get_feature_names_out()\n",
    "z_scores = abs(stats.zscore(test_data[\"casual\"].dropna()))\n",
    "test_filtered_indices = test_data[(z_scores < 3) & (test_data['windspeed'] > 0.0)].index\n",
    "test_result = pd.DataFrame(test_result, columns=test_result_features, index=test_filtered_indices)\n",
    "test_result[\"cnt\"] = test_data.loc[test_filtered_indices][\"cnt\"]\n",
    "test = test_result"
   ]
  },
  {
   "cell_type": "code",
   "execution_count": null,
   "metadata": {},
   "outputs": [],
   "source": [
    "result[\"cnt\"] = train_data.loc[filtered_indices][\"cnt\"]\n",
    "train = result"
   ]
  },
  {
   "cell_type": "code",
   "execution_count": null,
   "metadata": {},
   "outputs": [],
   "source": [
    "final_model = baseline_model_07[\"baseline_model\"]\n",
    "train.to_csv(f\"../data/BikeRentalDaily_train_processed.csv\", sep=\";\")\n",
    "test.to_csv(f\"../data/BikeRentalDaily_test_processed.csv\", sep=\";\")\n",
    "\n",
    "model_filename = '../models/final_model.pkl'\n",
    "pickle.dump(final_model, open(model_filename, 'wb'))\n",
    "model_features = '../models/final_model_features.pkl'\n",
    "pickle.dump(result.columns, open(model_features, 'wb'))"
   ]
  },
  {
   "cell_type": "markdown",
   "metadata": {},
   "source": [
    "Validierung des Modell mit den Testdaten."
   ]
  },
  {
   "cell_type": "code",
   "execution_count": null,
   "metadata": {},
   "outputs": [],
   "source": [
    "validation_data = pd.read_csv(f\"../data/BikeRentalDaily_test_processed.csv\", sep=\";\", index_col=0)"
   ]
  },
  {
   "cell_type": "code",
   "execution_count": null,
   "metadata": {},
   "outputs": [],
   "source": [
    "validation_data.columns"
   ]
  },
  {
   "cell_type": "code",
   "execution_count": null,
   "metadata": {},
   "outputs": [],
   "source": [
    "model = pickle.load(open(model_filename, 'rb'))"
   ]
  },
  {
   "cell_type": "code",
   "execution_count": null,
   "metadata": {},
   "outputs": [],
   "source": [
    "features = pickle.load(open(model_features, 'rb'))"
   ]
  },
  {
   "cell_type": "code",
   "execution_count": null,
   "metadata": {},
   "outputs": [],
   "source": [
    "features = validation_data.columns.drop([\"cnt\"])"
   ]
  },
  {
   "cell_type": "code",
   "execution_count": null,
   "metadata": {},
   "outputs": [],
   "source": [
    "y_pred = model.predict(validation_data[features])"
   ]
  },
  {
   "cell_type": "code",
   "execution_count": null,
   "metadata": {},
   "outputs": [],
   "source": [
    "_, _ = performance_measures(validation_data[\"cnt\"], y_pred)"
   ]
  },
  {
   "cell_type": "code",
   "execution_count": null,
   "metadata": {},
   "outputs": [],
   "source": [
    "actual_vs_predicted(validation_data[\"cnt\"], y_pred)"
   ]
  }
 ],
 "metadata": {
  "kernelspec": {
   "display_name": "introduction-data-science",
   "language": "python",
   "name": "introduction-data-science"
  },
  "language_info": {
   "codemirror_mode": {
    "name": "ipython",
    "version": 3
   },
   "file_extension": ".py",
   "mimetype": "text/x-python",
   "name": "python",
   "nbconvert_exporter": "python",
   "pygments_lexer": "ipython3",
   "version": "3.11.5"
  }
 },
 "nbformat": 4,
 "nbformat_minor": 2
}
