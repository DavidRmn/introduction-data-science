{
 "cells": [
  {
   "cell_type": "markdown",
   "metadata": {},
   "source": [
    "# Data Exploration Module Test"
   ]
  },
  {
   "cell_type": "markdown",
   "metadata": {},
   "source": [
    "# TODO:\n",
    "    - head (/)\n",
    "    - info (/)\n",
    "    - matrix (missing values) (/)\n",
    "    - bar (missing values) (/)\n",
    "    - imports Jupyter Notebook (/)\n",
    "    - fix plot resolution (/)\n",
    "\n",
    "    - data dict (types, e.g. nominal, categorial)\n",
    "    - box (numeric, deviation)\n",
    "    - bar/mosaic/ (categorial, deviation)\n",
    "    - predictor/feature correlation (heatmap/scatter)\n",
    "    - histogram (skewed/deviation)\n"
   ]
  },
  {
   "cell_type": "code",
   "execution_count": 1,
   "metadata": {},
   "outputs": [],
   "source": [
    "import idstools.data_explorer as idsde"
   ]
  },
  {
   "cell_type": "code",
   "execution_count": 2,
   "metadata": {},
   "outputs": [],
   "source": [
    "test_data = \"../data/BikeRentalDaily_test.csv\"\n",
    "train_data = \"../data/BikeRentalDaily_train.csv\""
   ]
  },
  {
   "cell_type": "code",
   "execution_count": 3,
   "metadata": {
    "tags": []
   },
   "outputs": [],
   "source": [
    "data_explorer_config = {\"path\": train_data, \"type\": \"csv\", \"separator\": \";\"}"
   ]
  },
  {
   "cell_type": "code",
   "execution_count": 4,
   "metadata": {},
   "outputs": [
    {
     "name": "stderr",
     "output_type": "stream",
     "text": [
      "2024-02-02 02:30:20,346 [data_explorer] [INFO] - Initializing DataExplorer\n",
      "2024-02-02 02:30:20,348 [_helpers] [INFO] - Reading csv file:\n",
      "../data/BikeRentalDaily_train.csv\n",
      "2024-02-02 02:30:20,352 [data_explorer] [INFO] - Using output path: results\n",
      "2024-02-02 02:30:20,352 [data_explorer] [INFO] - Pipeline configuration:\n",
      "{}\n",
      "\n"
     ]
    }
   ],
   "source": [
    "data_explorer = idsde.DataExplorer(input_path=train_data, output_path=\"results\")"
   ]
  },
  {
   "cell_type": "code",
   "execution_count": 5,
   "metadata": {},
   "outputs": [
    {
     "name": "stderr",
     "output_type": "stream",
     "text": [
      "2024-02-02 02:30:20,362 [data_explorer] [INFO] - Head of BikeRentalDaily_train\n",
      "                          0           1           2           3           4\n",
      "instant                 154         685         368         472         442\n",
      "dteday           03.06.2011  15.11.2012  03.01.2012  16.04.2012  17.03.2012\n",
      "season                  2.0         4.0         1.0         2.0         1.0\n",
      "yr                        0           1           1           1           1\n",
      "mnth                      6          11           1           4           3\n",
      "holiday                   0           0           0           1           0\n",
      "weekday                   5           4           2           1          -1\n",
      "workingday                1           1           1           0           0\n",
      "weathersit                1           2           1           1           2\n",
      "temp                   24.8       12.87         6.0       26.57       20.57\n",
      "atemp                  0.59        0.32        0.13        0.61        0.51\n",
      "hum                   53.13       93.06       66.19       84.25      113.37\n",
      "windspeed              0.25        0.15        0.37        0.28        0.11\n",
      "leaflets                991         601         549         740         773\n",
      "price reduction           0           0           0           0           1\n",
      "casual                  898         320          89        1198        3155\n",
      "registered             4414        5125        2147        5172        4681\n",
      "cnt                    5312        5445        2236        6370        7836\n",
      "\n",
      "2024-02-02 02:30:20,367 [data_explorer] [INFO] - Info of BikeRentalDaily_train\n",
      "<class 'pandas.core.frame.DataFrame'>\n",
      "RangeIndex: 600 entries, 0 to 599\n",
      "Data columns (total 18 columns):\n",
      " #   Column           Non-Null Count  Dtype  \n",
      "---  ------           --------------  -----  \n",
      " 0   instant          600 non-null    int64  \n",
      " 1   dteday           600 non-null    object \n",
      " 2   season           538 non-null    float64\n",
      " 3   yr               600 non-null    int64  \n",
      " 4   mnth             600 non-null    int64  \n",
      " 5   holiday          600 non-null    int64  \n",
      " 6   weekday          600 non-null    int64  \n",
      " 7   workingday       600 non-null    int64  \n",
      " 8   weathersit       600 non-null    int64  \n",
      " 9   temp             600 non-null    float64\n",
      " 10  atemp            600 non-null    float64\n",
      " 11  hum              566 non-null    float64\n",
      " 12  windspeed        600 non-null    float64\n",
      " 13  leaflets         600 non-null    int64  \n",
      " 14  price reduction  600 non-null    int64  \n",
      " 15  casual           600 non-null    int64  \n",
      " 16  registered       600 non-null    int64  \n",
      " 17  cnt              600 non-null    int64  \n",
      "dtypes: float64(5), int64(12), object(1)\n",
      "memory usage: 84.5+ KB\n",
      "\n",
      "2024-02-02 02:30:20,368 [data_explorer] [INFO] - Types of BikeRentalDaily_train\n",
      "instant              int64\n",
      "dteday              object\n",
      "season             float64\n",
      "yr                   int64\n",
      "mnth                 int64\n",
      "holiday              int64\n",
      "weekday              int64\n",
      "workingday           int64\n",
      "weathersit           int64\n",
      "temp               float64\n",
      "atemp              float64\n",
      "hum                float64\n",
      "windspeed          float64\n",
      "leaflets             int64\n",
      "price reduction      int64\n",
      "casual               int64\n",
      "registered           int64\n",
      "cnt                  int64\n",
      "dtype: object\n",
      "\n",
      "2024-02-02 02:30:20,383 [data_explorer] [INFO] - Description of BikeRentalDaily_train\n",
      "                 count     mean      std     min      25%      50%      75%  \\\n",
      "instant          600.0   363.12   208.71    1.00   181.25   362.50   538.25   \n",
      "season           538.0     2.44     1.11    1.00     1.00     2.00     3.00   \n",
      "yr               600.0     0.50     0.50    0.00     0.00     0.00     1.00   \n",
      "mnth             600.0     6.47     3.44    1.00     4.00     6.00     9.00   \n",
      "holiday          600.0     0.03     0.17    0.00     0.00     0.00     0.00   \n",
      "weekday          600.0     2.93     2.08   -1.00     1.00     3.00     5.00   \n",
      "workingday       600.0     0.68     0.47    0.00     0.00     1.00     1.00   \n",
      "weathersit       600.0     1.40     0.54    1.00     1.00     1.00     2.00   \n",
      "temp             600.0    19.81     7.21    2.37    13.57    20.10    26.06   \n",
      "atemp            600.0     0.47     0.16    0.08     0.34     0.49     0.61   \n",
      "hum              566.0    93.85    21.38   28.19    77.33    93.26   109.92   \n",
      "windspeed        600.0     0.18     0.13   -1.00     0.13     0.18     0.23   \n",
      "leaflets         600.0   740.07   164.43  459.00   600.75   737.00   875.50   \n",
      "price reduction  600.0     0.15     0.36    0.00     0.00     0.00     0.00   \n",
      "casual           600.0  1070.89  2971.32    2.00   313.00   722.00  1078.00   \n",
      "registered       600.0  3634.12  1538.70   20.00  2499.00  3657.00  4680.25   \n",
      "cnt              600.0  4705.01  3588.75   22.00  3135.00  4530.00  5909.50   \n",
      "\n",
      "                      max  \n",
      "instant            731.00  \n",
      "season               4.00  \n",
      "yr                   1.00  \n",
      "mnth                12.00  \n",
      "holiday              1.00  \n",
      "weekday              6.00  \n",
      "workingday           1.00  \n",
      "weathersit           3.00  \n",
      "temp                34.47  \n",
      "atemp                0.83  \n",
      "hum                145.88  \n",
      "windspeed            0.51  \n",
      "leaflets          1032.00  \n",
      "price reduction      1.00  \n",
      "casual           47138.00  \n",
      "registered        6946.00  \n",
      "cnt              53021.00  \n",
      "\n"
     ]
    },
    {
     "name": "stdout",
     "output_type": "stream",
     "text": [
      "<class 'pandas.core.frame.DataFrame'>\n",
      "RangeIndex: 600 entries, 0 to 599\n",
      "Data columns (total 18 columns):\n",
      " #   Column           Non-Null Count  Dtype  \n",
      "---  ------           --------------  -----  \n",
      " 0   instant          600 non-null    int64  \n",
      " 1   dteday           600 non-null    object \n",
      " 2   season           538 non-null    float64\n",
      " 3   yr               600 non-null    int64  \n",
      " 4   mnth             600 non-null    int64  \n",
      " 5   holiday          600 non-null    int64  \n",
      " 6   weekday          600 non-null    int64  \n",
      " 7   workingday       600 non-null    int64  \n",
      " 8   weathersit       600 non-null    int64  \n",
      " 9   temp             600 non-null    float64\n",
      " 10  atemp            600 non-null    float64\n",
      " 11  hum              566 non-null    float64\n",
      " 12  windspeed        600 non-null    float64\n",
      " 13  leaflets         600 non-null    int64  \n",
      " 14  price reduction  600 non-null    int64  \n",
      " 15  casual           600 non-null    int64  \n",
      " 16  registered       600 non-null    int64  \n",
      " 17  cnt              600 non-null    int64  \n",
      "dtypes: float64(5), int64(12), object(1)\n",
      "memory usage: 84.5+ KB\n"
     ]
    }
   ],
   "source": [
    "data_explorer.descriptive_analysis()\n",
    "data_explorer.data.info()"
   ]
  },
  {
   "cell_type": "markdown",
   "metadata": {},
   "source": [
    "# Data Preparation Module Test"
   ]
  },
  {
   "cell_type": "code",
   "execution_count": 6,
   "metadata": {},
   "outputs": [],
   "source": [
    "import idstools.data_preparation as dp"
   ]
  },
  {
   "cell_type": "code",
   "execution_count": 7,
   "metadata": {},
   "outputs": [],
   "source": [
    "test_data = \"../data/BikeRentalDaily_test.csv\"\n",
    "train_data = \"../data/BikeRentalDaily_train.csv\""
   ]
  },
  {
   "cell_type": "code",
   "execution_count": 8,
   "metadata": {},
   "outputs": [
    {
     "name": "stderr",
     "output_type": "stream",
     "text": [
      "2024-02-02 02:30:20,596 [data_preparation] [INFO] - Initializing DataPreparation\n",
      "2024-02-02 02:30:20,598 [_helpers] [INFO] - Reading csv file:\n",
      "../data/BikeRentalDaily_train.csv\n",
      "2024-02-02 02:30:20,601 [data_preparation] [INFO] - Using output path: results\n",
      "2024-02-02 02:30:20,601 [data_preparation] [INFO] - Pipeline configuration:\n",
      "{}\n",
      "\n"
     ]
    }
   ],
   "source": [
    "data_preparation = dp.DataPreparation(input_path=train_data, output_path=\"results\")\n"
   ]
  },
  {
   "cell_type": "code",
   "execution_count": 9,
   "metadata": {},
   "outputs": [],
   "source": [
    "import pandas as pd\n",
    "\n",
    "def get_wday_by_date(df, date_column, weekday_column):\n",
    "    # Define the weekday shift\n",
    "    weekday_shift = {\n",
    "        6: 0,\n",
    "        0: 1,\n",
    "        1: 2,\n",
    "        2: 3,\n",
    "        3: 4,\n",
    "        4: 5,\n",
    "        5: 6\n",
    "    }\n",
    "\n",
    "    # Convert the date column to datetime\n",
    "    df[date_column] = pd.to_datetime(df[date_column], format=\"%d.%m.%Y\")\n",
    "\n",
    "    # Calculate the weekday and map it\n",
    "    df[weekday_column] = df[date_column].dt.dayofweek.map(weekday_shift)\n",
    "\n",
    "    return df"
   ]
  },
  {
   "cell_type": "code",
   "execution_count": 10,
   "metadata": {},
   "outputs": [],
   "source": [
    "pipeline_config = {\n",
    "    \"_SimpleImputer\": \n",
    "    [\n",
    "        {\n",
    "            \"target\": \"hum\",\n",
    "            \"config\": {\n",
    "                \"strategy\": \"mean\"\n",
    "            }\n",
    "        }\n",
    "    ],\n",
    "    \"_CustomTransformer\": \n",
    "    [\n",
    "        {\n",
    "            \"func\": get_wday_by_date,\n",
    "            \"config\": {\n",
    "                \"date_column\": \"dteday\",\n",
    "                \"weekday_column\": \"weekday\"\n",
    "            }\n",
    "        }\n",
    "    ]\n",
    "}"
   ]
  },
  {
   "cell_type": "code",
   "execution_count": 11,
   "metadata": {},
   "outputs": [
    {
     "name": "stderr",
     "output_type": "stream",
     "text": [
      "2024-02-02 02:30:20,621 [data_preparation] [INFO] - Pipeline created.\n"
     ]
    },
    {
     "data": {
      "text/html": [
       "<style>#sk-container-id-1 {color: black;}#sk-container-id-1 pre{padding: 0;}#sk-container-id-1 div.sk-toggleable {background-color: white;}#sk-container-id-1 label.sk-toggleable__label {cursor: pointer;display: block;width: 100%;margin-bottom: 0;padding: 0.3em;box-sizing: border-box;text-align: center;}#sk-container-id-1 label.sk-toggleable__label-arrow:before {content: \"▸\";float: left;margin-right: 0.25em;color: #696969;}#sk-container-id-1 label.sk-toggleable__label-arrow:hover:before {color: black;}#sk-container-id-1 div.sk-estimator:hover label.sk-toggleable__label-arrow:before {color: black;}#sk-container-id-1 div.sk-toggleable__content {max-height: 0;max-width: 0;overflow: hidden;text-align: left;background-color: #f0f8ff;}#sk-container-id-1 div.sk-toggleable__content pre {margin: 0.2em;color: black;border-radius: 0.25em;background-color: #f0f8ff;}#sk-container-id-1 input.sk-toggleable__control:checked~div.sk-toggleable__content {max-height: 200px;max-width: 100%;overflow: auto;}#sk-container-id-1 input.sk-toggleable__control:checked~label.sk-toggleable__label-arrow:before {content: \"▾\";}#sk-container-id-1 div.sk-estimator input.sk-toggleable__control:checked~label.sk-toggleable__label {background-color: #d4ebff;}#sk-container-id-1 div.sk-label input.sk-toggleable__control:checked~label.sk-toggleable__label {background-color: #d4ebff;}#sk-container-id-1 input.sk-hidden--visually {border: 0;clip: rect(1px 1px 1px 1px);clip: rect(1px, 1px, 1px, 1px);height: 1px;margin: -1px;overflow: hidden;padding: 0;position: absolute;width: 1px;}#sk-container-id-1 div.sk-estimator {font-family: monospace;background-color: #f0f8ff;border: 1px dotted black;border-radius: 0.25em;box-sizing: border-box;margin-bottom: 0.5em;}#sk-container-id-1 div.sk-estimator:hover {background-color: #d4ebff;}#sk-container-id-1 div.sk-parallel-item::after {content: \"\";width: 100%;border-bottom: 1px solid gray;flex-grow: 1;}#sk-container-id-1 div.sk-label:hover label.sk-toggleable__label {background-color: #d4ebff;}#sk-container-id-1 div.sk-serial::before {content: \"\";position: absolute;border-left: 1px solid gray;box-sizing: border-box;top: 0;bottom: 0;left: 50%;z-index: 0;}#sk-container-id-1 div.sk-serial {display: flex;flex-direction: column;align-items: center;background-color: white;padding-right: 0.2em;padding-left: 0.2em;position: relative;}#sk-container-id-1 div.sk-item {position: relative;z-index: 1;}#sk-container-id-1 div.sk-parallel {display: flex;align-items: stretch;justify-content: center;background-color: white;position: relative;}#sk-container-id-1 div.sk-item::before, #sk-container-id-1 div.sk-parallel-item::before {content: \"\";position: absolute;border-left: 1px solid gray;box-sizing: border-box;top: 0;bottom: 0;left: 50%;z-index: -1;}#sk-container-id-1 div.sk-parallel-item {display: flex;flex-direction: column;z-index: 1;position: relative;background-color: white;}#sk-container-id-1 div.sk-parallel-item:first-child::after {align-self: flex-end;width: 50%;}#sk-container-id-1 div.sk-parallel-item:last-child::after {align-self: flex-start;width: 50%;}#sk-container-id-1 div.sk-parallel-item:only-child::after {width: 0;}#sk-container-id-1 div.sk-dashed-wrapped {border: 1px dashed gray;margin: 0 0.4em 0.5em 0.4em;box-sizing: border-box;padding-bottom: 0.4em;background-color: white;}#sk-container-id-1 div.sk-label label {font-family: monospace;font-weight: bold;display: inline-block;line-height: 1.2em;}#sk-container-id-1 div.sk-label-container {text-align: center;}#sk-container-id-1 div.sk-container {/* jupyter's `normalize.less` sets `[hidden] { display: none; }` but bootstrap.min.css set `[hidden] { display: none !important; }` so we also need the `!important` here to be able to override the default hidden behavior on the sphinx rendered scikit-learn.org. See: https://github.com/scikit-learn/scikit-learn/issues/21755 */display: inline-block !important;position: relative;}#sk-container-id-1 div.sk-text-repr-fallback {display: none;}</style><div id=\"sk-container-id-1\" class=\"sk-top-container\"><div class=\"sk-text-repr-fallback\"><pre>Pipeline(steps=[(&#x27;_SimpleImputer&#x27;,\n",
       "                 _SimpleImputer(config=[{&#x27;config&#x27;: {&#x27;strategy&#x27;: &#x27;mean&#x27;},\n",
       "                                         &#x27;target&#x27;: &#x27;hum&#x27;}])),\n",
       "                (&#x27;_CustomTransformer&#x27;,\n",
       "                 _CustomTransformer(config=[{&#x27;config&#x27;: {&#x27;date_column&#x27;: &#x27;dteday&#x27;,\n",
       "                                                        &#x27;weekday_column&#x27;: &#x27;weekday&#x27;},\n",
       "                                             &#x27;func&#x27;: &lt;function get_wday_by_date at 0x7f144f3d2840&gt;}]))])</pre><b>In a Jupyter environment, please rerun this cell to show the HTML representation or trust the notebook. <br />On GitHub, the HTML representation is unable to render, please try loading this page with nbviewer.org.</b></div><div class=\"sk-container\" hidden><div class=\"sk-item sk-dashed-wrapped\"><div class=\"sk-label-container\"><div class=\"sk-label sk-toggleable\"><input class=\"sk-toggleable__control sk-hidden--visually\" id=\"sk-estimator-id-1\" type=\"checkbox\" ><label for=\"sk-estimator-id-1\" class=\"sk-toggleable__label sk-toggleable__label-arrow\">Pipeline</label><div class=\"sk-toggleable__content\"><pre>Pipeline(steps=[(&#x27;_SimpleImputer&#x27;,\n",
       "                 _SimpleImputer(config=[{&#x27;config&#x27;: {&#x27;strategy&#x27;: &#x27;mean&#x27;},\n",
       "                                         &#x27;target&#x27;: &#x27;hum&#x27;}])),\n",
       "                (&#x27;_CustomTransformer&#x27;,\n",
       "                 _CustomTransformer(config=[{&#x27;config&#x27;: {&#x27;date_column&#x27;: &#x27;dteday&#x27;,\n",
       "                                                        &#x27;weekday_column&#x27;: &#x27;weekday&#x27;},\n",
       "                                             &#x27;func&#x27;: &lt;function get_wday_by_date at 0x7f144f3d2840&gt;}]))])</pre></div></div></div><div class=\"sk-serial\"><div class=\"sk-item\"><div class=\"sk-estimator sk-toggleable\"><input class=\"sk-toggleable__control sk-hidden--visually\" id=\"sk-estimator-id-2\" type=\"checkbox\" ><label for=\"sk-estimator-id-2\" class=\"sk-toggleable__label sk-toggleable__label-arrow\">_SimpleImputer</label><div class=\"sk-toggleable__content\"><pre>_SimpleImputer(config=[{&#x27;config&#x27;: {&#x27;strategy&#x27;: &#x27;mean&#x27;}, &#x27;target&#x27;: &#x27;hum&#x27;}])</pre></div></div></div><div class=\"sk-item\"><div class=\"sk-estimator sk-toggleable\"><input class=\"sk-toggleable__control sk-hidden--visually\" id=\"sk-estimator-id-3\" type=\"checkbox\" ><label for=\"sk-estimator-id-3\" class=\"sk-toggleable__label sk-toggleable__label-arrow\">_CustomTransformer</label><div class=\"sk-toggleable__content\"><pre>_CustomTransformer(config=[{&#x27;config&#x27;: {&#x27;date_column&#x27;: &#x27;dteday&#x27;,\n",
       "                                       &#x27;weekday_column&#x27;: &#x27;weekday&#x27;},\n",
       "                            &#x27;func&#x27;: &lt;function get_wday_by_date at 0x7f144f3d2840&gt;}])</pre></div></div></div></div></div></div></div>"
      ],
      "text/plain": [
       "Pipeline(steps=[('_SimpleImputer',\n",
       "                 _SimpleImputer(config=[{'config': {'strategy': 'mean'},\n",
       "                                         'target': 'hum'}])),\n",
       "                ('_CustomTransformer',\n",
       "                 _CustomTransformer(config=[{'config': {'date_column': 'dteday',\n",
       "                                                        'weekday_column': 'weekday'},\n",
       "                                             'func': <function get_wday_by_date at 0x7f144f3d2840>}]))])"
      ]
     },
     "execution_count": 11,
     "metadata": {},
     "output_type": "execute_result"
    }
   ],
   "source": [
    "pipeline = data_preparation.build_pipeline(config=pipeline_config)\n",
    "pipeline"
   ]
  },
  {
   "cell_type": "code",
   "execution_count": 12,
   "metadata": {},
   "outputs": [
    {
     "name": "stderr",
     "output_type": "stream",
     "text": [
      "2024-02-02 02:30:20,636 [data_preparation] [INFO] - Pipeline step _SimpleImputer has been processed.\n",
      "2024-02-02 02:30:20,640 [data_preparation] [INFO] - Pipeline step _CustomTransformer has been processed.\n"
     ]
    }
   ],
   "source": [
    "processed_data = data_preparation.run_pipeline(config=pipeline_config)"
   ]
  },
  {
   "cell_type": "code",
   "execution_count": 13,
   "metadata": {},
   "outputs": [
    {
     "data": {
      "text/html": [
       "<div>\n",
       "<style scoped>\n",
       "    .dataframe tbody tr th:only-of-type {\n",
       "        vertical-align: middle;\n",
       "    }\n",
       "\n",
       "    .dataframe tbody tr th {\n",
       "        vertical-align: top;\n",
       "    }\n",
       "\n",
       "    .dataframe thead th {\n",
       "        text-align: right;\n",
       "    }\n",
       "</style>\n",
       "<table border=\"1\" class=\"dataframe\">\n",
       "  <thead>\n",
       "    <tr style=\"text-align: right;\">\n",
       "      <th></th>\n",
       "      <th>0</th>\n",
       "      <th>1</th>\n",
       "      <th>2</th>\n",
       "      <th>3</th>\n",
       "      <th>4</th>\n",
       "    </tr>\n",
       "  </thead>\n",
       "  <tbody>\n",
       "    <tr>\n",
       "      <th>instant</th>\n",
       "      <td>154</td>\n",
       "      <td>685</td>\n",
       "      <td>368</td>\n",
       "      <td>472</td>\n",
       "      <td>442</td>\n",
       "    </tr>\n",
       "    <tr>\n",
       "      <th>dteday</th>\n",
       "      <td>2011-06-03 00:00:00</td>\n",
       "      <td>2012-11-15 00:00:00</td>\n",
       "      <td>2012-01-03 00:00:00</td>\n",
       "      <td>2012-04-16 00:00:00</td>\n",
       "      <td>2012-03-17 00:00:00</td>\n",
       "    </tr>\n",
       "    <tr>\n",
       "      <th>season</th>\n",
       "      <td>2.0</td>\n",
       "      <td>4.0</td>\n",
       "      <td>1.0</td>\n",
       "      <td>2.0</td>\n",
       "      <td>1.0</td>\n",
       "    </tr>\n",
       "    <tr>\n",
       "      <th>yr</th>\n",
       "      <td>0</td>\n",
       "      <td>1</td>\n",
       "      <td>1</td>\n",
       "      <td>1</td>\n",
       "      <td>1</td>\n",
       "    </tr>\n",
       "    <tr>\n",
       "      <th>mnth</th>\n",
       "      <td>6</td>\n",
       "      <td>11</td>\n",
       "      <td>1</td>\n",
       "      <td>4</td>\n",
       "      <td>3</td>\n",
       "    </tr>\n",
       "    <tr>\n",
       "      <th>holiday</th>\n",
       "      <td>0</td>\n",
       "      <td>0</td>\n",
       "      <td>0</td>\n",
       "      <td>1</td>\n",
       "      <td>0</td>\n",
       "    </tr>\n",
       "    <tr>\n",
       "      <th>weekday</th>\n",
       "      <td>5</td>\n",
       "      <td>4</td>\n",
       "      <td>2</td>\n",
       "      <td>1</td>\n",
       "      <td>6</td>\n",
       "    </tr>\n",
       "    <tr>\n",
       "      <th>workingday</th>\n",
       "      <td>1</td>\n",
       "      <td>1</td>\n",
       "      <td>1</td>\n",
       "      <td>0</td>\n",
       "      <td>0</td>\n",
       "    </tr>\n",
       "    <tr>\n",
       "      <th>weathersit</th>\n",
       "      <td>1</td>\n",
       "      <td>2</td>\n",
       "      <td>1</td>\n",
       "      <td>1</td>\n",
       "      <td>2</td>\n",
       "    </tr>\n",
       "    <tr>\n",
       "      <th>temp</th>\n",
       "      <td>24.8</td>\n",
       "      <td>12.87</td>\n",
       "      <td>6.0</td>\n",
       "      <td>26.57</td>\n",
       "      <td>20.57</td>\n",
       "    </tr>\n",
       "    <tr>\n",
       "      <th>atemp</th>\n",
       "      <td>0.59</td>\n",
       "      <td>0.32</td>\n",
       "      <td>0.13</td>\n",
       "      <td>0.61</td>\n",
       "      <td>0.51</td>\n",
       "    </tr>\n",
       "    <tr>\n",
       "      <th>hum</th>\n",
       "      <td>53.13</td>\n",
       "      <td>93.06</td>\n",
       "      <td>66.19</td>\n",
       "      <td>84.25</td>\n",
       "      <td>113.37</td>\n",
       "    </tr>\n",
       "    <tr>\n",
       "      <th>windspeed</th>\n",
       "      <td>0.25</td>\n",
       "      <td>0.15</td>\n",
       "      <td>0.37</td>\n",
       "      <td>0.28</td>\n",
       "      <td>0.11</td>\n",
       "    </tr>\n",
       "    <tr>\n",
       "      <th>leaflets</th>\n",
       "      <td>991</td>\n",
       "      <td>601</td>\n",
       "      <td>549</td>\n",
       "      <td>740</td>\n",
       "      <td>773</td>\n",
       "    </tr>\n",
       "    <tr>\n",
       "      <th>price reduction</th>\n",
       "      <td>0</td>\n",
       "      <td>0</td>\n",
       "      <td>0</td>\n",
       "      <td>0</td>\n",
       "      <td>1</td>\n",
       "    </tr>\n",
       "    <tr>\n",
       "      <th>casual</th>\n",
       "      <td>898</td>\n",
       "      <td>320</td>\n",
       "      <td>89</td>\n",
       "      <td>1198</td>\n",
       "      <td>3155</td>\n",
       "    </tr>\n",
       "    <tr>\n",
       "      <th>registered</th>\n",
       "      <td>4414</td>\n",
       "      <td>5125</td>\n",
       "      <td>2147</td>\n",
       "      <td>5172</td>\n",
       "      <td>4681</td>\n",
       "    </tr>\n",
       "    <tr>\n",
       "      <th>cnt</th>\n",
       "      <td>5312</td>\n",
       "      <td>5445</td>\n",
       "      <td>2236</td>\n",
       "      <td>6370</td>\n",
       "      <td>7836</td>\n",
       "    </tr>\n",
       "  </tbody>\n",
       "</table>\n",
       "</div>"
      ],
      "text/plain": [
       "                                   0                    1  \\\n",
       "instant                          154                  685   \n",
       "dteday           2011-06-03 00:00:00  2012-11-15 00:00:00   \n",
       "season                           2.0                  4.0   \n",
       "yr                                 0                    1   \n",
       "mnth                               6                   11   \n",
       "holiday                            0                    0   \n",
       "weekday                            5                    4   \n",
       "workingday                         1                    1   \n",
       "weathersit                         1                    2   \n",
       "temp                            24.8                12.87   \n",
       "atemp                           0.59                 0.32   \n",
       "hum                            53.13                93.06   \n",
       "windspeed                       0.25                 0.15   \n",
       "leaflets                         991                  601   \n",
       "price reduction                    0                    0   \n",
       "casual                           898                  320   \n",
       "registered                      4414                 5125   \n",
       "cnt                             5312                 5445   \n",
       "\n",
       "                                   2                    3                    4  \n",
       "instant                          368                  472                  442  \n",
       "dteday           2012-01-03 00:00:00  2012-04-16 00:00:00  2012-03-17 00:00:00  \n",
       "season                           1.0                  2.0                  1.0  \n",
       "yr                                 1                    1                    1  \n",
       "mnth                               1                    4                    3  \n",
       "holiday                            0                    1                    0  \n",
       "weekday                            2                    1                    6  \n",
       "workingday                         1                    0                    0  \n",
       "weathersit                         1                    1                    2  \n",
       "temp                             6.0                26.57                20.57  \n",
       "atemp                           0.13                 0.61                 0.51  \n",
       "hum                            66.19                84.25               113.37  \n",
       "windspeed                       0.37                 0.28                 0.11  \n",
       "leaflets                         549                  740                  773  \n",
       "price reduction                    0                    0                    1  \n",
       "casual                            89                 1198                 3155  \n",
       "registered                      2147                 5172                 4681  \n",
       "cnt                             2236                 6370                 7836  "
      ]
     },
     "execution_count": 13,
     "metadata": {},
     "output_type": "execute_result"
    }
   ],
   "source": [
    "processed_data.head(5).T"
   ]
  },
  {
   "cell_type": "code",
   "execution_count": 14,
   "metadata": {},
   "outputs": [
    {
     "data": {
      "text/html": [
       "<div>\n",
       "<style scoped>\n",
       "    .dataframe tbody tr th:only-of-type {\n",
       "        vertical-align: middle;\n",
       "    }\n",
       "\n",
       "    .dataframe tbody tr th {\n",
       "        vertical-align: top;\n",
       "    }\n",
       "\n",
       "    .dataframe thead th {\n",
       "        text-align: right;\n",
       "    }\n",
       "</style>\n",
       "<table border=\"1\" class=\"dataframe\">\n",
       "  <thead>\n",
       "    <tr style=\"text-align: right;\">\n",
       "      <th></th>\n",
       "      <th>count</th>\n",
       "      <th>mean</th>\n",
       "      <th>min</th>\n",
       "      <th>25%</th>\n",
       "      <th>50%</th>\n",
       "      <th>75%</th>\n",
       "      <th>max</th>\n",
       "      <th>std</th>\n",
       "    </tr>\n",
       "  </thead>\n",
       "  <tbody>\n",
       "    <tr>\n",
       "      <th>instant</th>\n",
       "      <td>600.0</td>\n",
       "      <td>363.12</td>\n",
       "      <td>1.0</td>\n",
       "      <td>181.25</td>\n",
       "      <td>362.5</td>\n",
       "      <td>538.25</td>\n",
       "      <td>731.0</td>\n",
       "      <td>208.71</td>\n",
       "    </tr>\n",
       "    <tr>\n",
       "      <th>dteday</th>\n",
       "      <td>600</td>\n",
       "      <td>2011-12-29 02:48:00</td>\n",
       "      <td>2011-01-01 00:00:00</td>\n",
       "      <td>2011-06-30 06:00:00</td>\n",
       "      <td>2011-12-28 12:00:00</td>\n",
       "      <td>2012-06-21 06:00:00</td>\n",
       "      <td>2012-12-31 00:00:00</td>\n",
       "      <td>NaN</td>\n",
       "    </tr>\n",
       "    <tr>\n",
       "      <th>season</th>\n",
       "      <td>538.0</td>\n",
       "      <td>2.44</td>\n",
       "      <td>1.0</td>\n",
       "      <td>1.0</td>\n",
       "      <td>2.0</td>\n",
       "      <td>3.0</td>\n",
       "      <td>4.0</td>\n",
       "      <td>1.11</td>\n",
       "    </tr>\n",
       "    <tr>\n",
       "      <th>yr</th>\n",
       "      <td>600.0</td>\n",
       "      <td>0.5</td>\n",
       "      <td>0.0</td>\n",
       "      <td>0.0</td>\n",
       "      <td>0.0</td>\n",
       "      <td>1.0</td>\n",
       "      <td>1.0</td>\n",
       "      <td>0.5</td>\n",
       "    </tr>\n",
       "    <tr>\n",
       "      <th>mnth</th>\n",
       "      <td>600.0</td>\n",
       "      <td>6.47</td>\n",
       "      <td>1.0</td>\n",
       "      <td>4.0</td>\n",
       "      <td>6.0</td>\n",
       "      <td>9.0</td>\n",
       "      <td>12.0</td>\n",
       "      <td>3.44</td>\n",
       "    </tr>\n",
       "    <tr>\n",
       "      <th>holiday</th>\n",
       "      <td>600.0</td>\n",
       "      <td>0.03</td>\n",
       "      <td>0.0</td>\n",
       "      <td>0.0</td>\n",
       "      <td>0.0</td>\n",
       "      <td>0.0</td>\n",
       "      <td>1.0</td>\n",
       "      <td>0.17</td>\n",
       "    </tr>\n",
       "    <tr>\n",
       "      <th>weekday</th>\n",
       "      <td>600.0</td>\n",
       "      <td>3.03</td>\n",
       "      <td>0.0</td>\n",
       "      <td>1.0</td>\n",
       "      <td>3.0</td>\n",
       "      <td>5.0</td>\n",
       "      <td>6.0</td>\n",
       "      <td>2.01</td>\n",
       "    </tr>\n",
       "    <tr>\n",
       "      <th>workingday</th>\n",
       "      <td>600.0</td>\n",
       "      <td>0.68</td>\n",
       "      <td>0.0</td>\n",
       "      <td>0.0</td>\n",
       "      <td>1.0</td>\n",
       "      <td>1.0</td>\n",
       "      <td>1.0</td>\n",
       "      <td>0.47</td>\n",
       "    </tr>\n",
       "    <tr>\n",
       "      <th>weathersit</th>\n",
       "      <td>600.0</td>\n",
       "      <td>1.4</td>\n",
       "      <td>1.0</td>\n",
       "      <td>1.0</td>\n",
       "      <td>1.0</td>\n",
       "      <td>2.0</td>\n",
       "      <td>3.0</td>\n",
       "      <td>0.54</td>\n",
       "    </tr>\n",
       "    <tr>\n",
       "      <th>temp</th>\n",
       "      <td>600.0</td>\n",
       "      <td>19.81</td>\n",
       "      <td>2.37</td>\n",
       "      <td>13.57</td>\n",
       "      <td>20.1</td>\n",
       "      <td>26.06</td>\n",
       "      <td>34.47</td>\n",
       "      <td>7.21</td>\n",
       "    </tr>\n",
       "    <tr>\n",
       "      <th>atemp</th>\n",
       "      <td>600.0</td>\n",
       "      <td>0.47</td>\n",
       "      <td>0.08</td>\n",
       "      <td>0.34</td>\n",
       "      <td>0.49</td>\n",
       "      <td>0.61</td>\n",
       "      <td>0.83</td>\n",
       "      <td>0.16</td>\n",
       "    </tr>\n",
       "    <tr>\n",
       "      <th>hum</th>\n",
       "      <td>600.0</td>\n",
       "      <td>93.85</td>\n",
       "      <td>28.19</td>\n",
       "      <td>78.36</td>\n",
       "      <td>93.85</td>\n",
       "      <td>108.44</td>\n",
       "      <td>145.88</td>\n",
       "      <td>20.76</td>\n",
       "    </tr>\n",
       "    <tr>\n",
       "      <th>windspeed</th>\n",
       "      <td>600.0</td>\n",
       "      <td>0.18</td>\n",
       "      <td>-1.0</td>\n",
       "      <td>0.13</td>\n",
       "      <td>0.18</td>\n",
       "      <td>0.23</td>\n",
       "      <td>0.51</td>\n",
       "      <td>0.13</td>\n",
       "    </tr>\n",
       "    <tr>\n",
       "      <th>leaflets</th>\n",
       "      <td>600.0</td>\n",
       "      <td>740.07</td>\n",
       "      <td>459.0</td>\n",
       "      <td>600.75</td>\n",
       "      <td>737.0</td>\n",
       "      <td>875.5</td>\n",
       "      <td>1032.0</td>\n",
       "      <td>164.43</td>\n",
       "    </tr>\n",
       "    <tr>\n",
       "      <th>price reduction</th>\n",
       "      <td>600.0</td>\n",
       "      <td>0.15</td>\n",
       "      <td>0.0</td>\n",
       "      <td>0.0</td>\n",
       "      <td>0.0</td>\n",
       "      <td>0.0</td>\n",
       "      <td>1.0</td>\n",
       "      <td>0.36</td>\n",
       "    </tr>\n",
       "    <tr>\n",
       "      <th>casual</th>\n",
       "      <td>600.0</td>\n",
       "      <td>1070.89</td>\n",
       "      <td>2.0</td>\n",
       "      <td>313.0</td>\n",
       "      <td>722.0</td>\n",
       "      <td>1078.0</td>\n",
       "      <td>47138.0</td>\n",
       "      <td>2971.32</td>\n",
       "    </tr>\n",
       "    <tr>\n",
       "      <th>registered</th>\n",
       "      <td>600.0</td>\n",
       "      <td>3634.12</td>\n",
       "      <td>20.0</td>\n",
       "      <td>2499.0</td>\n",
       "      <td>3657.0</td>\n",
       "      <td>4680.25</td>\n",
       "      <td>6946.0</td>\n",
       "      <td>1538.7</td>\n",
       "    </tr>\n",
       "    <tr>\n",
       "      <th>cnt</th>\n",
       "      <td>600.0</td>\n",
       "      <td>4705.01</td>\n",
       "      <td>22.0</td>\n",
       "      <td>3135.0</td>\n",
       "      <td>4530.0</td>\n",
       "      <td>5909.5</td>\n",
       "      <td>53021.0</td>\n",
       "      <td>3588.75</td>\n",
       "    </tr>\n",
       "  </tbody>\n",
       "</table>\n",
       "</div>"
      ],
      "text/plain": [
       "                 count                 mean                  min  \\\n",
       "instant          600.0               363.12                  1.0   \n",
       "dteday             600  2011-12-29 02:48:00  2011-01-01 00:00:00   \n",
       "season           538.0                 2.44                  1.0   \n",
       "yr               600.0                  0.5                  0.0   \n",
       "mnth             600.0                 6.47                  1.0   \n",
       "holiday          600.0                 0.03                  0.0   \n",
       "weekday          600.0                 3.03                  0.0   \n",
       "workingday       600.0                 0.68                  0.0   \n",
       "weathersit       600.0                  1.4                  1.0   \n",
       "temp             600.0                19.81                 2.37   \n",
       "atemp            600.0                 0.47                 0.08   \n",
       "hum              600.0                93.85                28.19   \n",
       "windspeed        600.0                 0.18                 -1.0   \n",
       "leaflets         600.0               740.07                459.0   \n",
       "price reduction  600.0                 0.15                  0.0   \n",
       "casual           600.0              1070.89                  2.0   \n",
       "registered       600.0              3634.12                 20.0   \n",
       "cnt              600.0              4705.01                 22.0   \n",
       "\n",
       "                                 25%                  50%  \\\n",
       "instant                       181.25                362.5   \n",
       "dteday           2011-06-30 06:00:00  2011-12-28 12:00:00   \n",
       "season                           1.0                  2.0   \n",
       "yr                               0.0                  0.0   \n",
       "mnth                             4.0                  6.0   \n",
       "holiday                          0.0                  0.0   \n",
       "weekday                          1.0                  3.0   \n",
       "workingday                       0.0                  1.0   \n",
       "weathersit                       1.0                  1.0   \n",
       "temp                           13.57                 20.1   \n",
       "atemp                           0.34                 0.49   \n",
       "hum                            78.36                93.85   \n",
       "windspeed                       0.13                 0.18   \n",
       "leaflets                      600.75                737.0   \n",
       "price reduction                  0.0                  0.0   \n",
       "casual                         313.0                722.0   \n",
       "registered                    2499.0               3657.0   \n",
       "cnt                           3135.0               4530.0   \n",
       "\n",
       "                                 75%                  max      std  \n",
       "instant                       538.25                731.0   208.71  \n",
       "dteday           2012-06-21 06:00:00  2012-12-31 00:00:00      NaN  \n",
       "season                           3.0                  4.0     1.11  \n",
       "yr                               1.0                  1.0      0.5  \n",
       "mnth                             9.0                 12.0     3.44  \n",
       "holiday                          0.0                  1.0     0.17  \n",
       "weekday                          5.0                  6.0     2.01  \n",
       "workingday                       1.0                  1.0     0.47  \n",
       "weathersit                       2.0                  3.0     0.54  \n",
       "temp                           26.06                34.47     7.21  \n",
       "atemp                           0.61                 0.83     0.16  \n",
       "hum                           108.44               145.88    20.76  \n",
       "windspeed                       0.23                 0.51     0.13  \n",
       "leaflets                       875.5               1032.0   164.43  \n",
       "price reduction                  0.0                  1.0     0.36  \n",
       "casual                        1078.0              47138.0  2971.32  \n",
       "registered                   4680.25               6946.0   1538.7  \n",
       "cnt                           5909.5              53021.0  3588.75  "
      ]
     },
     "execution_count": 14,
     "metadata": {},
     "output_type": "execute_result"
    }
   ],
   "source": [
    "processed_data.describe().T"
   ]
  },
  {
   "cell_type": "code",
   "execution_count": 15,
   "metadata": {},
   "outputs": [],
   "source": [
    "from idstools._config import _idstools"
   ]
  },
  {
   "cell_type": "code",
   "execution_count": 16,
   "metadata": {},
   "outputs": [],
   "source": [
    "_idstools[\"default\"][\"data_explorer\"][\"DataExplorer\"][\"input_path\"]"
   ]
  },
  {
   "cell_type": "code",
   "execution_count": 17,
   "metadata": {},
   "outputs": [],
   "source": [
    "_idstools.default.data_explorer.DataExplorer.input_path"
   ]
  },
  {
   "cell_type": "markdown",
   "metadata": {
    "tags": []
   },
   "source": [
    "## Module Configuration"
   ]
  },
  {
   "cell_type": "code",
   "execution_count": 18,
   "metadata": {},
   "outputs": [],
   "source": [
    "from idstools.data_explorer import DataExplorer\n",
    "from idstools._config import _idstools, pprint_dynaconf"
   ]
  },
  {
   "cell_type": "markdown",
   "metadata": {},
   "source": [
    "We have multiple options to configure the DataExplorer to analyze the BikeRentalDaily_train.csv data.\n",
    "\n",
    "- Load the default set of parameters and adjust them to our needs. In this case all possible parameters are initialized and can be set according the the exploration steps that should be done. \n",
    "\n",
    "- Initialize the class with in cell defined configuration."
   ]
  },
  {
   "cell_type": "code",
   "execution_count": 19,
   "metadata": {},
   "outputs": [
    {
     "data": {
      "text/markdown": [
       "```yaml\n",
       "DEFAULT:\n",
       "  data_explorer:\n",
       "    DataExplorer:\n",
       "      output_path: null\n",
       "      input_path: null\n",
       "      input_type: null\n",
       "      input_delimiter: null\n",
       "      pipeline:\n",
       "        descriptive_analysis: false\n",
       "        missing_value_matrix_plot: false\n",
       "        missing_value_bar_plot: false\n",
       "        correlation_heatmap_plot: false\n",
       "  data_preparation:\n",
       "    DataPreparation:\n",
       "      output_path: null\n",
       "      input_path: null\n",
       "      input_type: null\n",
       "      input_delimiter: null\n",
       "      pipeline:\n",
       "        _SimpleImputer:\n",
       "        - target: null\n",
       "          config:\n",
       "            strategy: null\n",
       "        _OneHotEncoder:\n",
       "        - target: null\n",
       "          config:\n",
       "            prefix: null\n",
       "            dtype: null\n",
       "        - target: null\n",
       "          config:\n",
       "            prefix: null\n",
       "            dtype: null\n",
       "        _FeatureDropper:\n",
       "        - target: null\n",
       "          config:\n",
       "            axis: null\n",
       "            errors: null\n",
       "  model_optimization:\n",
       "    ModelOptimization:\n",
       "      output_path: null\n",
       "      evaluation:\n",
       "        metric: null\n",
       "        cv: null\n",
       "CUSTOM:\n",
       "  data_explorer:\n",
       "    DataExplorer:\n",
       "      output_path: null\n",
       "      input_path: data/BikeRentalDaily_train.csv\n",
       "      input_type: csv\n",
       "      input_delimiter: ;\n",
       "      pipeline:\n",
       "        descriptive_analysis: true\n",
       "        missing_value_matrix_plot: true\n",
       "        missing_value_bar_plot: true\n",
       "        correlation_heatmap_plot: true\n",
       "  data_preparation:\n",
       "    DataPreparation:\n",
       "      output_path: null\n",
       "      input_path: data/BikeRentalDaily_test.csv\n",
       "      input_type: csv\n",
       "      input_delimiter: ;\n",
       "      pipeline:\n",
       "        _FeatureDropper:\n",
       "        - target: instant\n",
       "          config:\n",
       "            axis: 1\n",
       "            errors: ignore\n",
       "        _CustomTransformer:\n",
       "        - func: replace_dot_with_hyphen\n",
       "          module: idstools._custom_pipelines\n",
       "          config:\n",
       "            target: dteday\n",
       "  model_optimization:\n",
       "    ModelOptimization:\n",
       "      output_path: results\n",
       "      evaluation:\n",
       "        metric: mse\n",
       "        cv: 10\n",
       "\n",
       "```"
      ],
      "text/plain": [
       "<IPython.core.display.Markdown object>"
      ]
     },
     "metadata": {},
     "output_type": "display_data"
    }
   ],
   "source": [
    "pprint_dynaconf(_idstools, notebook=True)"
   ]
  },
  {
   "cell_type": "code",
   "execution_count": 20,
   "metadata": {},
   "outputs": [],
   "source": [
    "config = _idstools.default.data_explorer.DataExplorer"
   ]
  },
  {
   "cell_type": "code",
   "execution_count": 21,
   "metadata": {},
   "outputs": [
    {
     "data": {
      "text/markdown": [
       "```yaml\n",
       "output_path: null\n",
       "input_path: null\n",
       "input_type: null\n",
       "input_delimiter: null\n",
       "pipeline:\n",
       "  descriptive_analysis: false\n",
       "  missing_value_matrix_plot: false\n",
       "  missing_value_bar_plot: false\n",
       "  correlation_heatmap_plot: false\n",
       "\n",
       "```"
      ],
      "text/plain": [
       "<IPython.core.display.Markdown object>"
      ]
     },
     "metadata": {},
     "output_type": "display_data"
    }
   ],
   "source": [
    "pprint_dynaconf(config, notebook=True)"
   ]
  },
  {
   "cell_type": "code",
   "execution_count": 22,
   "metadata": {},
   "outputs": [
    {
     "data": {
      "text/markdown": [
       "```yaml\n",
       "output_path: null\n",
       "input_path: data/BikeRentalDaily_train.csv\n",
       "input_type: csv\n",
       "input_delimiter: ;\n",
       "pipeline:\n",
       "  descriptive_analysis: true\n",
       "  missing_value_matrix_plot: true\n",
       "  missing_value_bar_plot: true\n",
       "  correlation_heatmap_plot: true\n",
       "\n",
       "```"
      ],
      "text/plain": [
       "<IPython.core.display.Markdown object>"
      ]
     },
     "metadata": {},
     "output_type": "display_data"
    }
   ],
   "source": [
    "pprint_dynaconf(_idstools.custom.data_explorer.DataExplorer, notebook=True)"
   ]
  },
  {
   "cell_type": "code",
   "execution_count": 23,
   "metadata": {},
   "outputs": [],
   "source": [
    "data_explorer_config = config"
   ]
  },
  {
   "cell_type": "code",
   "execution_count": 24,
   "metadata": {},
   "outputs": [],
   "source": [
    "data_explorer_config.input_path = \"/home/davidrmn/Studies/introduction-data-science/data/BikeRentalDaily_train.csv\""
   ]
  },
  {
   "cell_type": "code",
   "execution_count": 25,
   "metadata": {},
   "outputs": [
    {
     "name": "stderr",
     "output_type": "stream",
     "text": [
      "2024-02-02 02:30:20,831 [data_explorer] [INFO] - Initializing DataExplorer\n",
      "2024-02-02 02:30:20,832 [data_explorer] [INFO] - No output path specified.\n",
      "Using default output path:/home/davidrmn/Studies/introduction-data-science/project/results\n",
      "2024-02-02 02:30:20,833 [data_explorer] [INFO] - Pipeline configuration:\n",
      "descriptive_analysis: false\n",
      "missing_value_matrix_plot: false\n",
      "missing_value_bar_plot: false\n",
      "correlation_heatmap_plot: false\n",
      "\n"
     ]
    }
   ],
   "source": [
    "my_data_explorer = DataExplorer(**data_explorer_config)"
   ]
  },
  {
   "cell_type": "code",
   "execution_count": 26,
   "metadata": {},
   "outputs": [
    {
     "name": "stderr",
     "output_type": "stream",
     "text": [
      "2024-02-02 02:30:20,837 [data_explorer] [INFO] - Head of BikeRentalDaily_train\n",
      "Empty DataFrame\n",
      "Columns: []\n",
      "Index: []\n",
      "\n",
      "2024-02-02 02:30:20,838 [data_explorer] [INFO] - Info of BikeRentalDaily_train\n",
      "<class 'pandas.core.frame.DataFrame'>\n",
      "RangeIndex: 0 entries\n",
      "Empty DataFrame\n",
      "\n",
      "2024-02-02 02:30:20,839 [data_explorer] [INFO] - Types of BikeRentalDaily_train\n",
      "Series([], dtype: object)\n",
      "\n",
      "2024-02-02 02:30:20,840 [data_explorer] [ERROR] - Error in descriptive_analysis: Cannot describe a DataFrame without columns\n"
     ]
    }
   ],
   "source": [
    "result = my_data_explorer.descriptive_analysis()"
   ]
  },
  {
   "cell_type": "markdown",
   "metadata": {},
   "source": [
    "## Another example of custom transformer"
   ]
  },
  {
   "cell_type": "markdown",
   "metadata": {},
   "source": [
    "Simply start by importing the configuration. As always, you can provide your own configuration or load and edit the default one to see what parameters are possible to edit."
   ]
  },
  {
   "cell_type": "code",
   "execution_count": 27,
   "metadata": {},
   "outputs": [],
   "source": [
    "from idstools._config import _idstools, pprint_dynaconf"
   ]
  },
  {
   "cell_type": "markdown",
   "metadata": {},
   "source": [
    "Load the transformer config of the _CustomTransformer defined in the custom pipeline as an example."
   ]
  },
  {
   "cell_type": "code",
   "execution_count": 28,
   "metadata": {},
   "outputs": [],
   "source": [
    "transformer_config = _idstools.custom.data_preparation.DataPreparation.pipeline._CustomTransformer"
   ]
  },
  {
   "cell_type": "markdown",
   "metadata": {},
   "source": [
    "Now show what is configured to execute in this step of the data preparation. As you can see there is a function referenced that is part of the _custom_piplines module of the idstools package."
   ]
  },
  {
   "cell_type": "code",
   "execution_count": 31,
   "metadata": {},
   "outputs": [
    {
     "data": {
      "text/markdown": [
       "```yaml\n",
       "- func: replace_dot_with_hyphen\n",
       "  module: idstools._custom_pipelines\n",
       "  config:\n",
       "    target: dteday\n",
       "\n",
       "```"
      ],
      "text/plain": [
       "<IPython.core.display.Markdown object>"
      ]
     },
     "metadata": {},
     "output_type": "display_data"
    }
   ],
   "source": [
    "pprint_dynaconf(transformer_config, notebook=True)"
   ]
  },
  {
   "cell_type": "markdown",
   "metadata": {},
   "source": [
    "Here you can see how the function is implemented in the module. \n",
    "\n",
    "IMPORTANT: Each function for the _CustomTransformer takes the DataFrame with which the DataPreparation Class of the data_perparation module was initialized and performs any implemented function on it. Based on the arguments provided, in this case there is only one argument: \"target\" which references a column in the DataFrame which has values from which all dots \".\" are getting replaced with hyphens \"-\"."
   ]
  },
  {
   "cell_type": "code",
   "execution_count": 32,
   "metadata": {},
   "outputs": [
    {
     "name": "stdout",
     "output_type": "stream",
     "text": [
      "import pandas as pd\n",
      "from idstools._helpers import setup_logging\n",
      "\n",
      "logger = setup_logging(__name__)\n",
      "\n",
      "def replace_dot_with_hyphen(df: pd.DataFrame, target: str) -> pd.DataFrame:\n",
      "    if target in df.columns:\n",
      "        df[target] = df[target].str.replace('.', '-', regex=False)\n",
      "    else:\n",
      "        logger.error(f\"Column '{target}' not found in DataFrame.\")\n",
      "    return df"
     ]
    }
   ],
   "source": [
    "!cat /home/davidrmn/Studies/introduction-data-science/src/idstools/_custom_pipelines.py"
   ]
  },
  {
   "cell_type": "markdown",
   "metadata": {},
   "source": [
    "Now we can again show the whole DataPerparation config:"
   ]
  },
  {
   "cell_type": "code",
   "execution_count": 36,
   "metadata": {},
   "outputs": [
    {
     "data": {
      "text/markdown": [
       "```yaml\n",
       "output_path: null\n",
       "input_path: data/BikeRentalDaily_test.csv\n",
       "input_type: csv\n",
       "input_delimiter: ;\n",
       "pipeline:\n",
       "  _FeatureDropper:\n",
       "  - target: instant\n",
       "    config:\n",
       "      axis: 1\n",
       "      errors: ignore\n",
       "  _CustomTransformer:\n",
       "  - func: replace_dot_with_hyphen\n",
       "    module: idstools._custom_pipelines\n",
       "    config:\n",
       "      target: dteday\n",
       "\n",
       "```"
      ],
      "text/plain": [
       "<IPython.core.display.Markdown object>"
      ]
     },
     "metadata": {},
     "output_type": "display_data"
    }
   ],
   "source": [
    "pprint_dynaconf(_idstools.custom.data_preparation.DataPreparation, notebook=True)"
   ]
  },
  {
   "cell_type": "markdown",
   "metadata": {},
   "source": [
    "I dont want to drop instant so I set the pipeline to only execute the _CustomTransformer:"
   ]
  },
  {
   "cell_type": "code",
   "execution_count": 34,
   "metadata": {},
   "outputs": [],
   "source": [
    "config = _idstools.custom.data_preparation.DataPreparation"
   ]
  },
  {
   "cell_type": "code",
   "execution_count": 37,
   "metadata": {},
   "outputs": [],
   "source": [
    "config.pipeline = {\"_CustomTransformer\" : transformer_config}"
   ]
  },
  {
   "cell_type": "code",
   "execution_count": 38,
   "metadata": {},
   "outputs": [
    {
     "data": {
      "text/markdown": [
       "```yaml\n",
       "output_path: null\n",
       "input_path: data/BikeRentalDaily_test.csv\n",
       "input_type: csv\n",
       "input_delimiter: ;\n",
       "pipeline:\n",
       "  _CustomTransformer:\n",
       "  - func: replace_dot_with_hyphen\n",
       "    module: idstools._custom_pipelines\n",
       "    config:\n",
       "      target: dteday\n",
       "\n",
       "```"
      ],
      "text/plain": [
       "<IPython.core.display.Markdown object>"
      ]
     },
     "metadata": {},
     "output_type": "display_data"
    }
   ],
   "source": [
    "pprint_dynaconf(config, notebook=True)"
   ]
  },
  {
   "cell_type": "code",
   "execution_count": 39,
   "metadata": {},
   "outputs": [
    {
     "name": "stderr",
     "output_type": "stream",
     "text": [
      "2024-02-02 02:43:00,371 [data_preparation] [INFO] - Initializing DataPreparation\n",
      "2024-02-02 02:43:00,372 [_helpers] [INFO] - Reading csv file:\n",
      "data/BikeRentalDaily_test.csv\n",
      "2024-02-02 02:43:00,374 [_helpers] [ERROR] - Error in read_data: [Errno 2] No such file or directory: '/home/davidrmn/Studies/introduction-data-science/project/data/BikeRentalDaily_test.csv'\n",
      "2024-02-02 02:43:00,374 [data_preparation] [INFO] - No output path specified.\n",
      "Using default output path:/home/davidrmn/Studies/introduction-data-science/results\n",
      "2024-02-02 02:43:00,375 [data_preparation] [INFO] - Pipeline configuration:\n",
      "_CustomTransformer:\n",
      "- func: replace_dot_with_hyphen\n",
      "  module: idstools._custom_pipelines\n",
      "  config:\n",
      "    target: dteday\n",
      "\n"
     ]
    }
   ],
   "source": [
    "from idstools.data_preparation import DataPreparation\n",
    "my_data_preparation = DataPreparation(**config) "
   ]
  },
  {
   "cell_type": "markdown",
   "metadata": {},
   "source": [
    "As you can see it almost worked! As I am in Jupyter the code resolves to the wrong path, need to fix this still. As a workaround we can set the Path as absolute Path.\n",
    "\n",
    "At the moment it is relative the the package root. But as this notebook which executes the code is not we need to adjust."
   ]
  },
  {
   "cell_type": "code",
   "execution_count": 40,
   "metadata": {},
   "outputs": [
    {
     "data": {
      "text/plain": [
       "'data/BikeRentalDaily_test.csv'"
      ]
     },
     "execution_count": 40,
     "metadata": {},
     "output_type": "execute_result"
    }
   ],
   "source": [
    "config.input_path"
   ]
  },
  {
   "cell_type": "code",
   "execution_count": 41,
   "metadata": {},
   "outputs": [],
   "source": [
    "config.input_path = \"/home/davidrmn/Studies/introduction-data-science/data/BikeRentalDaily_train.csv\""
   ]
  },
  {
   "cell_type": "markdown",
   "metadata": {},
   "source": [
    "Now lets try again."
   ]
  },
  {
   "cell_type": "code",
   "execution_count": 42,
   "metadata": {},
   "outputs": [
    {
     "name": "stderr",
     "output_type": "stream",
     "text": [
      "2024-02-02 02:46:33,681 [data_preparation] [INFO] - Initializing DataPreparation\n",
      "2024-02-02 02:46:33,682 [_helpers] [INFO] - Reading csv file:\n",
      "/home/davidrmn/Studies/introduction-data-science/data/BikeRentalDaily_train.csv\n",
      "2024-02-02 02:46:33,686 [data_preparation] [INFO] - No output path specified.\n",
      "Using default output path:/home/davidrmn/Studies/introduction-data-science/results\n",
      "2024-02-02 02:46:33,687 [data_preparation] [INFO] - Pipeline configuration:\n",
      "_CustomTransformer:\n",
      "- func: replace_dot_with_hyphen\n",
      "  module: idstools._custom_pipelines\n",
      "  config:\n",
      "    target: dteday\n",
      "\n"
     ]
    }
   ],
   "source": [
    "my_data_preparation = DataPreparation(**config) "
   ]
  },
  {
   "cell_type": "markdown",
   "metadata": {},
   "source": [
    "It worked so lets run the preconfigured pipeline of the DataPreparation instance we just created."
   ]
  },
  {
   "cell_type": "code",
   "execution_count": 45,
   "metadata": {},
   "outputs": [
    {
     "name": "stderr",
     "output_type": "stream",
     "text": [
      "2024-02-02 02:48:06,521 [data_preparation] [INFO] - Pipeline created.\n"
     ]
    },
    {
     "data": {
      "text/html": [
       "<style>#sk-container-id-2 {color: black;}#sk-container-id-2 pre{padding: 0;}#sk-container-id-2 div.sk-toggleable {background-color: white;}#sk-container-id-2 label.sk-toggleable__label {cursor: pointer;display: block;width: 100%;margin-bottom: 0;padding: 0.3em;box-sizing: border-box;text-align: center;}#sk-container-id-2 label.sk-toggleable__label-arrow:before {content: \"▸\";float: left;margin-right: 0.25em;color: #696969;}#sk-container-id-2 label.sk-toggleable__label-arrow:hover:before {color: black;}#sk-container-id-2 div.sk-estimator:hover label.sk-toggleable__label-arrow:before {color: black;}#sk-container-id-2 div.sk-toggleable__content {max-height: 0;max-width: 0;overflow: hidden;text-align: left;background-color: #f0f8ff;}#sk-container-id-2 div.sk-toggleable__content pre {margin: 0.2em;color: black;border-radius: 0.25em;background-color: #f0f8ff;}#sk-container-id-2 input.sk-toggleable__control:checked~div.sk-toggleable__content {max-height: 200px;max-width: 100%;overflow: auto;}#sk-container-id-2 input.sk-toggleable__control:checked~label.sk-toggleable__label-arrow:before {content: \"▾\";}#sk-container-id-2 div.sk-estimator input.sk-toggleable__control:checked~label.sk-toggleable__label {background-color: #d4ebff;}#sk-container-id-2 div.sk-label input.sk-toggleable__control:checked~label.sk-toggleable__label {background-color: #d4ebff;}#sk-container-id-2 input.sk-hidden--visually {border: 0;clip: rect(1px 1px 1px 1px);clip: rect(1px, 1px, 1px, 1px);height: 1px;margin: -1px;overflow: hidden;padding: 0;position: absolute;width: 1px;}#sk-container-id-2 div.sk-estimator {font-family: monospace;background-color: #f0f8ff;border: 1px dotted black;border-radius: 0.25em;box-sizing: border-box;margin-bottom: 0.5em;}#sk-container-id-2 div.sk-estimator:hover {background-color: #d4ebff;}#sk-container-id-2 div.sk-parallel-item::after {content: \"\";width: 100%;border-bottom: 1px solid gray;flex-grow: 1;}#sk-container-id-2 div.sk-label:hover label.sk-toggleable__label {background-color: #d4ebff;}#sk-container-id-2 div.sk-serial::before {content: \"\";position: absolute;border-left: 1px solid gray;box-sizing: border-box;top: 0;bottom: 0;left: 50%;z-index: 0;}#sk-container-id-2 div.sk-serial {display: flex;flex-direction: column;align-items: center;background-color: white;padding-right: 0.2em;padding-left: 0.2em;position: relative;}#sk-container-id-2 div.sk-item {position: relative;z-index: 1;}#sk-container-id-2 div.sk-parallel {display: flex;align-items: stretch;justify-content: center;background-color: white;position: relative;}#sk-container-id-2 div.sk-item::before, #sk-container-id-2 div.sk-parallel-item::before {content: \"\";position: absolute;border-left: 1px solid gray;box-sizing: border-box;top: 0;bottom: 0;left: 50%;z-index: -1;}#sk-container-id-2 div.sk-parallel-item {display: flex;flex-direction: column;z-index: 1;position: relative;background-color: white;}#sk-container-id-2 div.sk-parallel-item:first-child::after {align-self: flex-end;width: 50%;}#sk-container-id-2 div.sk-parallel-item:last-child::after {align-self: flex-start;width: 50%;}#sk-container-id-2 div.sk-parallel-item:only-child::after {width: 0;}#sk-container-id-2 div.sk-dashed-wrapped {border: 1px dashed gray;margin: 0 0.4em 0.5em 0.4em;box-sizing: border-box;padding-bottom: 0.4em;background-color: white;}#sk-container-id-2 div.sk-label label {font-family: monospace;font-weight: bold;display: inline-block;line-height: 1.2em;}#sk-container-id-2 div.sk-label-container {text-align: center;}#sk-container-id-2 div.sk-container {/* jupyter's `normalize.less` sets `[hidden] { display: none; }` but bootstrap.min.css set `[hidden] { display: none !important; }` so we also need the `!important` here to be able to override the default hidden behavior on the sphinx rendered scikit-learn.org. See: https://github.com/scikit-learn/scikit-learn/issues/21755 */display: inline-block !important;position: relative;}#sk-container-id-2 div.sk-text-repr-fallback {display: none;}</style><div id=\"sk-container-id-2\" class=\"sk-top-container\"><div class=\"sk-text-repr-fallback\"><pre>Pipeline(steps=[(&#x27;_CustomTransformer&#x27;,\n",
       "                 _CustomTransformer(config=&lt;BoxList: [{&#x27;func&#x27;: &#x27;replace_dot_with_hyphen&#x27;, &#x27;module&#x27;: &#x27;idstools._custom_pipelines&#x27;, &#x27;config&#x27;: {&#x27;target&#x27;: &#x27;dteday&#x27;}}]&gt;))])</pre><b>In a Jupyter environment, please rerun this cell to show the HTML representation or trust the notebook. <br />On GitHub, the HTML representation is unable to render, please try loading this page with nbviewer.org.</b></div><div class=\"sk-container\" hidden><div class=\"sk-item sk-dashed-wrapped\"><div class=\"sk-label-container\"><div class=\"sk-label sk-toggleable\"><input class=\"sk-toggleable__control sk-hidden--visually\" id=\"sk-estimator-id-4\" type=\"checkbox\" ><label for=\"sk-estimator-id-4\" class=\"sk-toggleable__label sk-toggleable__label-arrow\">Pipeline</label><div class=\"sk-toggleable__content\"><pre>Pipeline(steps=[(&#x27;_CustomTransformer&#x27;,\n",
       "                 _CustomTransformer(config=&lt;BoxList: [{&#x27;func&#x27;: &#x27;replace_dot_with_hyphen&#x27;, &#x27;module&#x27;: &#x27;idstools._custom_pipelines&#x27;, &#x27;config&#x27;: {&#x27;target&#x27;: &#x27;dteday&#x27;}}]&gt;))])</pre></div></div></div><div class=\"sk-serial\"><div class=\"sk-item\"><div class=\"sk-estimator sk-toggleable\"><input class=\"sk-toggleable__control sk-hidden--visually\" id=\"sk-estimator-id-5\" type=\"checkbox\" ><label for=\"sk-estimator-id-5\" class=\"sk-toggleable__label sk-toggleable__label-arrow\">_CustomTransformer</label><div class=\"sk-toggleable__content\"><pre>_CustomTransformer(config=&lt;BoxList: [{&#x27;func&#x27;: &#x27;replace_dot_with_hyphen&#x27;, &#x27;module&#x27;: &#x27;idstools._custom_pipelines&#x27;, &#x27;config&#x27;: {&#x27;target&#x27;: &#x27;dteday&#x27;}}]&gt;)</pre></div></div></div></div></div></div></div>"
      ],
      "text/plain": [
       "Pipeline(steps=[('_CustomTransformer',\n",
       "                 _CustomTransformer(config=<BoxList: [{'func': 'replace_dot_with_hyphen', 'module': 'idstools._custom_pipelines', 'config': {'target': 'dteday'}}]>))])"
      ]
     },
     "execution_count": 45,
     "metadata": {},
     "output_type": "execute_result"
    }
   ],
   "source": [
    "my_data_preparation.build_pipeline(config.pipeline)"
   ]
  },
  {
   "cell_type": "code",
   "execution_count": 47,
   "metadata": {},
   "outputs": [
    {
     "name": "stderr",
     "output_type": "stream",
     "text": [
      "2024-02-02 02:48:27,643 [data_preparation] [INFO] - Pipeline step _CustomTransformer has been processed.\n"
     ]
    },
    {
     "data": {
      "text/html": [
       "<div>\n",
       "<style scoped>\n",
       "    .dataframe tbody tr th:only-of-type {\n",
       "        vertical-align: middle;\n",
       "    }\n",
       "\n",
       "    .dataframe tbody tr th {\n",
       "        vertical-align: top;\n",
       "    }\n",
       "\n",
       "    .dataframe thead th {\n",
       "        text-align: right;\n",
       "    }\n",
       "</style>\n",
       "<table border=\"1\" class=\"dataframe\">\n",
       "  <thead>\n",
       "    <tr style=\"text-align: right;\">\n",
       "      <th></th>\n",
       "      <th>instant</th>\n",
       "      <th>dteday</th>\n",
       "      <th>season</th>\n",
       "      <th>yr</th>\n",
       "      <th>mnth</th>\n",
       "      <th>holiday</th>\n",
       "      <th>weekday</th>\n",
       "      <th>workingday</th>\n",
       "      <th>weathersit</th>\n",
       "      <th>temp</th>\n",
       "      <th>atemp</th>\n",
       "      <th>hum</th>\n",
       "      <th>windspeed</th>\n",
       "      <th>leaflets</th>\n",
       "      <th>price reduction</th>\n",
       "      <th>casual</th>\n",
       "      <th>registered</th>\n",
       "      <th>cnt</th>\n",
       "    </tr>\n",
       "  </thead>\n",
       "  <tbody>\n",
       "    <tr>\n",
       "      <th>0</th>\n",
       "      <td>154</td>\n",
       "      <td>03-06-2011</td>\n",
       "      <td>2.0</td>\n",
       "      <td>0</td>\n",
       "      <td>6</td>\n",
       "      <td>0</td>\n",
       "      <td>5</td>\n",
       "      <td>1</td>\n",
       "      <td>1</td>\n",
       "      <td>24.80</td>\n",
       "      <td>0.59</td>\n",
       "      <td>53.13</td>\n",
       "      <td>0.25</td>\n",
       "      <td>991</td>\n",
       "      <td>0</td>\n",
       "      <td>898</td>\n",
       "      <td>4414</td>\n",
       "      <td>5312</td>\n",
       "    </tr>\n",
       "    <tr>\n",
       "      <th>1</th>\n",
       "      <td>685</td>\n",
       "      <td>15-11-2012</td>\n",
       "      <td>4.0</td>\n",
       "      <td>1</td>\n",
       "      <td>11</td>\n",
       "      <td>0</td>\n",
       "      <td>4</td>\n",
       "      <td>1</td>\n",
       "      <td>2</td>\n",
       "      <td>12.87</td>\n",
       "      <td>0.32</td>\n",
       "      <td>93.06</td>\n",
       "      <td>0.15</td>\n",
       "      <td>601</td>\n",
       "      <td>0</td>\n",
       "      <td>320</td>\n",
       "      <td>5125</td>\n",
       "      <td>5445</td>\n",
       "    </tr>\n",
       "    <tr>\n",
       "      <th>2</th>\n",
       "      <td>368</td>\n",
       "      <td>03-01-2012</td>\n",
       "      <td>1.0</td>\n",
       "      <td>1</td>\n",
       "      <td>1</td>\n",
       "      <td>0</td>\n",
       "      <td>2</td>\n",
       "      <td>1</td>\n",
       "      <td>1</td>\n",
       "      <td>6.00</td>\n",
       "      <td>0.13</td>\n",
       "      <td>66.19</td>\n",
       "      <td>0.37</td>\n",
       "      <td>549</td>\n",
       "      <td>0</td>\n",
       "      <td>89</td>\n",
       "      <td>2147</td>\n",
       "      <td>2236</td>\n",
       "    </tr>\n",
       "    <tr>\n",
       "      <th>3</th>\n",
       "      <td>472</td>\n",
       "      <td>16-04-2012</td>\n",
       "      <td>2.0</td>\n",
       "      <td>1</td>\n",
       "      <td>4</td>\n",
       "      <td>1</td>\n",
       "      <td>1</td>\n",
       "      <td>0</td>\n",
       "      <td>1</td>\n",
       "      <td>26.57</td>\n",
       "      <td>0.61</td>\n",
       "      <td>84.25</td>\n",
       "      <td>0.28</td>\n",
       "      <td>740</td>\n",
       "      <td>0</td>\n",
       "      <td>1198</td>\n",
       "      <td>5172</td>\n",
       "      <td>6370</td>\n",
       "    </tr>\n",
       "    <tr>\n",
       "      <th>4</th>\n",
       "      <td>442</td>\n",
       "      <td>17-03-2012</td>\n",
       "      <td>1.0</td>\n",
       "      <td>1</td>\n",
       "      <td>3</td>\n",
       "      <td>0</td>\n",
       "      <td>-1</td>\n",
       "      <td>0</td>\n",
       "      <td>2</td>\n",
       "      <td>20.57</td>\n",
       "      <td>0.51</td>\n",
       "      <td>113.37</td>\n",
       "      <td>0.11</td>\n",
       "      <td>773</td>\n",
       "      <td>1</td>\n",
       "      <td>3155</td>\n",
       "      <td>4681</td>\n",
       "      <td>7836</td>\n",
       "    </tr>\n",
       "    <tr>\n",
       "      <th>...</th>\n",
       "      <td>...</td>\n",
       "      <td>...</td>\n",
       "      <td>...</td>\n",
       "      <td>...</td>\n",
       "      <td>...</td>\n",
       "      <td>...</td>\n",
       "      <td>...</td>\n",
       "      <td>...</td>\n",
       "      <td>...</td>\n",
       "      <td>...</td>\n",
       "      <td>...</td>\n",
       "      <td>...</td>\n",
       "      <td>...</td>\n",
       "      <td>...</td>\n",
       "      <td>...</td>\n",
       "      <td>...</td>\n",
       "      <td>...</td>\n",
       "      <td>...</td>\n",
       "    </tr>\n",
       "    <tr>\n",
       "      <th>595</th>\n",
       "      <td>78</td>\n",
       "      <td>19-03-2011</td>\n",
       "      <td>1.0</td>\n",
       "      <td>0</td>\n",
       "      <td>3</td>\n",
       "      <td>0</td>\n",
       "      <td>6</td>\n",
       "      <td>0</td>\n",
       "      <td>1</td>\n",
       "      <td>18.90</td>\n",
       "      <td>0.47</td>\n",
       "      <td>56.88</td>\n",
       "      <td>0.37</td>\n",
       "      <td>1022</td>\n",
       "      <td>1</td>\n",
       "      <td>1424</td>\n",
       "      <td>1693</td>\n",
       "      <td>3117</td>\n",
       "    </tr>\n",
       "    <tr>\n",
       "      <th>596</th>\n",
       "      <td>81</td>\n",
       "      <td>22-03-2011</td>\n",
       "      <td>NaN</td>\n",
       "      <td>0</td>\n",
       "      <td>3</td>\n",
       "      <td>0</td>\n",
       "      <td>2</td>\n",
       "      <td>1</td>\n",
       "      <td>1</td>\n",
       "      <td>17.67</td>\n",
       "      <td>0.44</td>\n",
       "      <td>93.69</td>\n",
       "      <td>0.23</td>\n",
       "      <td>551</td>\n",
       "      <td>0</td>\n",
       "      <td>460</td>\n",
       "      <td>2243</td>\n",
       "      <td>2703</td>\n",
       "    </tr>\n",
       "    <tr>\n",
       "      <th>597</th>\n",
       "      <td>377</td>\n",
       "      <td>12-01-2012</td>\n",
       "      <td>1.0</td>\n",
       "      <td>1</td>\n",
       "      <td>1</td>\n",
       "      <td>0</td>\n",
       "      <td>4</td>\n",
       "      <td>1</td>\n",
       "      <td>2</td>\n",
       "      <td>15.30</td>\n",
       "      <td>0.38</td>\n",
       "      <td>120.44</td>\n",
       "      <td>0.18</td>\n",
       "      <td>520</td>\n",
       "      <td>0</td>\n",
       "      <td>269</td>\n",
       "      <td>3828</td>\n",
       "      <td>4097</td>\n",
       "    </tr>\n",
       "    <tr>\n",
       "      <th>598</th>\n",
       "      <td>299</td>\n",
       "      <td>26-10-2011</td>\n",
       "      <td>4.0</td>\n",
       "      <td>0</td>\n",
       "      <td>10</td>\n",
       "      <td>0</td>\n",
       "      <td>3</td>\n",
       "      <td>1</td>\n",
       "      <td>2</td>\n",
       "      <td>19.37</td>\n",
       "      <td>0.47</td>\n",
       "      <td>108.06</td>\n",
       "      <td>0.15</td>\n",
       "      <td>605</td>\n",
       "      <td>0</td>\n",
       "      <td>404</td>\n",
       "      <td>3490</td>\n",
       "      <td>3894</td>\n",
       "    </tr>\n",
       "    <tr>\n",
       "      <th>599</th>\n",
       "      <td>497</td>\n",
       "      <td>11-05-2012</td>\n",
       "      <td>2.0</td>\n",
       "      <td>1</td>\n",
       "      <td>5</td>\n",
       "      <td>0</td>\n",
       "      <td>5</td>\n",
       "      <td>1</td>\n",
       "      <td>1</td>\n",
       "      <td>21.33</td>\n",
       "      <td>0.52</td>\n",
       "      <td>54.06</td>\n",
       "      <td>0.24</td>\n",
       "      <td>570</td>\n",
       "      <td>1</td>\n",
       "      <td>1319</td>\n",
       "      <td>5711</td>\n",
       "      <td>7030</td>\n",
       "    </tr>\n",
       "  </tbody>\n",
       "</table>\n",
       "<p>600 rows × 18 columns</p>\n",
       "</div>"
      ],
      "text/plain": [
       "     instant      dteday  season  yr  mnth  holiday  weekday  workingday  \\\n",
       "0        154  03-06-2011     2.0   0     6        0        5           1   \n",
       "1        685  15-11-2012     4.0   1    11        0        4           1   \n",
       "2        368  03-01-2012     1.0   1     1        0        2           1   \n",
       "3        472  16-04-2012     2.0   1     4        1        1           0   \n",
       "4        442  17-03-2012     1.0   1     3        0       -1           0   \n",
       "..       ...         ...     ...  ..   ...      ...      ...         ...   \n",
       "595       78  19-03-2011     1.0   0     3        0        6           0   \n",
       "596       81  22-03-2011     NaN   0     3        0        2           1   \n",
       "597      377  12-01-2012     1.0   1     1        0        4           1   \n",
       "598      299  26-10-2011     4.0   0    10        0        3           1   \n",
       "599      497  11-05-2012     2.0   1     5        0        5           1   \n",
       "\n",
       "     weathersit   temp  atemp     hum  windspeed  leaflets  price reduction  \\\n",
       "0             1  24.80   0.59   53.13       0.25       991                0   \n",
       "1             2  12.87   0.32   93.06       0.15       601                0   \n",
       "2             1   6.00   0.13   66.19       0.37       549                0   \n",
       "3             1  26.57   0.61   84.25       0.28       740                0   \n",
       "4             2  20.57   0.51  113.37       0.11       773                1   \n",
       "..          ...    ...    ...     ...        ...       ...              ...   \n",
       "595           1  18.90   0.47   56.88       0.37      1022                1   \n",
       "596           1  17.67   0.44   93.69       0.23       551                0   \n",
       "597           2  15.30   0.38  120.44       0.18       520                0   \n",
       "598           2  19.37   0.47  108.06       0.15       605                0   \n",
       "599           1  21.33   0.52   54.06       0.24       570                1   \n",
       "\n",
       "     casual  registered   cnt  \n",
       "0       898        4414  5312  \n",
       "1       320        5125  5445  \n",
       "2        89        2147  2236  \n",
       "3      1198        5172  6370  \n",
       "4      3155        4681  7836  \n",
       "..      ...         ...   ...  \n",
       "595    1424        1693  3117  \n",
       "596     460        2243  2703  \n",
       "597     269        3828  4097  \n",
       "598     404        3490  3894  \n",
       "599    1319        5711  7030  \n",
       "\n",
       "[600 rows x 18 columns]"
      ]
     },
     "execution_count": 47,
     "metadata": {},
     "output_type": "execute_result"
    }
   ],
   "source": [
    "my_data_preparation.run_pipeline(config.pipeline)"
   ]
  },
  {
   "cell_type": "markdown",
   "metadata": {},
   "source": [
    "The two steps above can also be introduced by the run method of the class. Btw, each class of the package has a run method to orchestrate the class."
   ]
  },
  {
   "cell_type": "code",
   "execution_count": 48,
   "metadata": {},
   "outputs": [
    {
     "name": "stderr",
     "output_type": "stream",
     "text": [
      "2024-02-02 02:50:23,606 [data_preparation] [INFO] - Pipeline created.\n",
      "2024-02-02 02:50:23,608 [data_preparation] [INFO] - Pipeline step _CustomTransformer has been processed.\n",
      "2024-02-02 02:50:23,609 [_helpers] [INFO] - Writing data to:\n",
      "/home/davidrmn/Studies/introduction-data-science/results/BikeRentalDaily_train_processed.csv\n"
     ]
    }
   ],
   "source": [
    "my_data_preparation.run()"
   ]
  },
  {
   "cell_type": "markdown",
   "metadata": {},
   "source": [
    "As you can see now this also automatically writes the results to the output_path instead of returning it. Of course you can also save it manually after build and run ;)"
   ]
  },
  {
   "cell_type": "code",
   "execution_count": 49,
   "metadata": {},
   "outputs": [
    {
     "name": "stderr",
     "output_type": "stream",
     "text": [
      "2024-02-02 02:52:41,461 [_helpers] [INFO] - Writing data to:\n",
      "/home/davidrmn/Studies/introduction-data-science/results/BikeRentalDaily_train_processed.csv\n"
     ]
    }
   ],
   "source": [
    "my_data_preparation.write_data()"
   ]
  },
  {
   "cell_type": "markdown",
   "metadata": {},
   "source": [
    "This project is still in development but imagine what can be automated and build with it :)"
   ]
  },
  {
   "cell_type": "markdown",
   "metadata": {},
   "source": [
    "Cheers"
   ]
  },
  {
   "cell_type": "markdown",
   "metadata": {},
   "source": []
  }
 ],
 "metadata": {
  "kernelspec": {
   "display_name": "introduction-data-science",
   "language": "python",
   "name": "introduction-data-science"
  },
  "language_info": {
   "codemirror_mode": {
    "name": "ipython",
    "version": 3
   },
   "file_extension": ".py",
   "mimetype": "text/x-python",
   "name": "python",
   "nbconvert_exporter": "python",
   "pygments_lexer": "ipython3",
   "version": "3.11.5"
  }
 },
 "nbformat": 4,
 "nbformat_minor": 2
}
