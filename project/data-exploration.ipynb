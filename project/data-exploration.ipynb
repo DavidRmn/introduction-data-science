{
 "cells": [
  {
   "cell_type": "markdown",
   "metadata": {},
   "source": [
    "# Data Exploration Module Test"
   ]
  },
  {
   "cell_type": "markdown",
   "metadata": {},
   "source": [
    "# TODO:\n",
    "    - head (/)\n",
    "    - info (/)\n",
    "    - matrix (missing values) (/)\n",
    "    - bar (missing values) (/)\n",
    "    - imports Jupyter Notebook (/)\n",
    "    - fix plot resolution (/)\n",
    "\n",
    "    - data dict (types, e.g. nominal, categorial)\n",
    "    - box (numeric, deviation)\n",
    "    - bar/mosaic/ (categorial, deviation)\n",
    "    - predictor/feature correlation (heatmap/scatter)\n",
    "    - histogram (skewed/deviation)\n"
   ]
  },
  {
   "cell_type": "code",
   "execution_count": null,
   "metadata": {},
   "outputs": [],
   "source": [
    "import idstools.data_explorer as idsde"
   ]
  },
  {
   "cell_type": "code",
   "execution_count": null,
   "metadata": {},
   "outputs": [],
   "source": [
    "test_data = \"../data/BikeRentalDaily_test.csv\"\n",
    "train_data = \"../data/BikeRentalDaily_train.csv\""
   ]
  },
  {
   "cell_type": "code",
   "execution_count": null,
   "metadata": {
    "tags": []
   },
   "outputs": [],
   "source": [
    "data_explorer_config = {\"path\": train_data, \"type\": \"csv\", \"separator\": \";\"}"
   ]
  },
  {
   "cell_type": "code",
   "execution_count": null,
   "metadata": {},
   "outputs": [],
   "source": [
    "data_explorer = idsde.DataExplorer(input_path=train_data, output_path=\"results\")"
   ]
  },
  {
   "cell_type": "code",
   "execution_count": null,
   "metadata": {},
   "outputs": [],
   "source": [
    "data_explorer.descriptive_analysis()\n",
    "data_explorer.data.info()"
   ]
  },
  {
   "cell_type": "markdown",
   "metadata": {},
   "source": [
    "# Data Preparation Module Test"
   ]
  },
  {
   "cell_type": "code",
   "execution_count": null,
   "metadata": {},
   "outputs": [],
   "source": [
    "import idstools.data_preparation as dp"
   ]
  },
  {
   "cell_type": "code",
   "execution_count": null,
   "metadata": {},
   "outputs": [],
   "source": [
    "test_data = \"../data/BikeRentalDaily_test.csv\"\n",
    "train_data = \"../data/BikeRentalDaily_train.csv\""
   ]
  },
  {
   "cell_type": "code",
   "execution_count": null,
   "metadata": {},
   "outputs": [],
   "source": [
    "data_preparation = dp.DataPreparation(input_path=train_data, output_path=\"results\")\n"
   ]
  },
  {
   "cell_type": "code",
   "execution_count": null,
   "metadata": {},
   "outputs": [],
   "source": [
    "import time\n",
    "import pandas as pd\n",
    "\n",
    "def get_wday_by_date(df, date_column, weekday_column):\n",
    "    # Define the weekday shift\n",
    "    weekday_shift = {\n",
    "        6: 0,\n",
    "        0: 1,\n",
    "        1: 2,\n",
    "        2: 3,\n",
    "        3: 4,\n",
    "        4: 5,\n",
    "        5: 6\n",
    "    }\n",
    "\n",
    "    # Convert the date column to datetime\n",
    "    df[date_column] = pd.to_datetime(df[date_column], format=\"%d.%m.%Y\")\n",
    "\n",
    "    # Calculate the weekday and map it\n",
    "    df[weekday_column] = df[date_column].dt.dayofweek.map(weekday_shift)\n",
    "\n",
    "    return df"
   ]
  },
  {
   "cell_type": "code",
   "execution_count": null,
   "metadata": {},
   "outputs": [],
   "source": [
    "pipeline_config = {\n",
    "        \"_SimpleImputer\": [\n",
    "            {\n",
    "                \"target\": \"hum\",\n",
    "                \"config\": {\n",
    "                    \"strategy\": \"mean\"\n",
    "                }\n",
    "            }\n",
    "        ],\n",
    "        \"_GenericDataFrameTransformer\": [\n",
    "        {\n",
    "            \"transform_func\": get_wday_by_date,\n",
    "            \"config\": {\n",
    "                \"date_column\": \"dteday\",\n",
    "                \"weekday_column\": \"weekday\"\n",
    "            }\n",
    "        }\n",
    "    ]\n",
    "}"
   ]
  },
  {
   "cell_type": "code",
   "execution_count": null,
   "metadata": {},
   "outputs": [],
   "source": [
    "pipeline = data_preparation.build_pipeline(config=pipeline_config)\n",
    "pipeline"
   ]
  },
  {
   "cell_type": "code",
   "execution_count": null,
   "metadata": {},
   "outputs": [],
   "source": [
    "processed_data = data_preparation.run_pipeline(config=pipeline_config)"
   ]
  },
  {
   "cell_type": "code",
   "execution_count": null,
   "metadata": {},
   "outputs": [],
   "source": [
    "processed_data.head(5).T"
   ]
  },
  {
   "cell_type": "code",
   "execution_count": null,
   "metadata": {},
   "outputs": [],
   "source": [
    "processed_data.describe().T"
   ]
  },
  {
   "cell_type": "code",
   "execution_count": null,
   "metadata": {},
   "outputs": [],
   "source": [
    "from idstools._config import _idstools"
   ]
  },
  {
   "cell_type": "code",
   "execution_count": null,
   "metadata": {},
   "outputs": [],
   "source": [
    "_idstools[\"default\"][\"data_explorer\"][\"DataExplorer\"][\"input_path\"]"
   ]
  },
  {
   "cell_type": "code",
   "execution_count": null,
   "metadata": {},
   "outputs": [],
   "source": [
    "_idstools.default.data_explorer.DataExplorer.input_path"
   ]
  },
  {
   "cell_type": "markdown",
   "metadata": {
    "tags": []
   },
   "source": [
    "## Module Configuration"
   ]
  },
  {
   "cell_type": "code",
   "execution_count": 1,
   "metadata": {},
   "outputs": [],
   "source": [
    "from idstools._config import _idstools, pprint_dynaconf\n",
    "from idstools.data_explorer import DataExplorer"
   ]
  },
  {
   "cell_type": "markdown",
   "metadata": {},
   "source": [
    "We have multiple options to configure the DataExplorer to analyze the BikeRentalDaily_train.csv data.\n",
    "\n",
    "- Load the default set of parameters and adjust them to our needs. In this case all possible parameters are initialized and can be set according the the exploration steps that should be done. \n",
    "\n",
    "- Initialize the class with in cell defined configuration."
   ]
  },
  {
   "cell_type": "code",
   "execution_count": 8,
   "metadata": {},
   "outputs": [
    {
     "data": {
      "text/markdown": [
       "```yaml\n",
       "DEFAULT:\n",
       "  data_explorer:\n",
       "    DataExplorer:\n",
       "      output_path: results\n",
       "      input_path: data/BikeRentalDaily_train.csv\n",
       "      input_type: csv\n",
       "      input_delimiter: ;\n",
       "      pipeline:\n",
       "        descriptive_analysis: true\n",
       "        missing_value_matrix_plot: true\n",
       "        missing_value_bar_plot: true\n",
       "        correlation_heatmap_plot: true\n",
       "  data_preparation:\n",
       "    DataPreparation:\n",
       "      output_path: null\n",
       "      input_path: data/BikeRentalDaily_train.csv\n",
       "      input_type: csv\n",
       "      input_delimiter: ;\n",
       "      pipeline:\n",
       "        _SimpleImputer:\n",
       "        - target: hum\n",
       "          config:\n",
       "            strategy: mean\n",
       "        _OneHotEncoder:\n",
       "        - target: season\n",
       "          config:\n",
       "            prefix: season\n",
       "            dtype: int\n",
       "        - target: mnth\n",
       "          config:\n",
       "            prefix: month\n",
       "            dtype: int\n",
       "        _FeatureDropper:\n",
       "        - target: instant\n",
       "          config:\n",
       "            axis: 1\n",
       "            errors: ignore\n",
       "  model_optimization:\n",
       "    ModelOptimization:\n",
       "      output_path: results\n",
       "      evaluation:\n",
       "        metric: rmse\n",
       "        cv: 5\n",
       "CUSTOM:\n",
       "  data_explorer:\n",
       "    DataExplorer:\n",
       "      output_path: results\n",
       "      input_path: data/BikeRentalDaily_test.csv\n",
       "      input_type: csv\n",
       "      input_delimiter: ;\n",
       "      pipeline:\n",
       "        descriptive_analysis: true\n",
       "        missing_value_matrix_plot: true\n",
       "        missing_value_bar_plot: true\n",
       "        correlation_heatmap_plot: true\n",
       "  data_preparation:\n",
       "    DataPreparation:\n",
       "      output_path: null\n",
       "      input_path: data/BikeRentalDaily_test.csv\n",
       "      input_type: csv\n",
       "      input_delimiter: ;\n",
       "      pipeline:\n",
       "        _FeatureDropper:\n",
       "        - target: instant\n",
       "          config:\n",
       "            axis: 1\n",
       "            errors: ignore\n",
       "        - target: hum\n",
       "          config:\n",
       "            axis: 1\n",
       "            errors: ignore\n",
       "        - target: windspeed\n",
       "          config:\n",
       "            axis: 1\n",
       "            errors: ignore\n",
       "  model_optimization:\n",
       "    ModelOptimization:\n",
       "      output_path: results\n",
       "      evaluation:\n",
       "        metric: mse\n",
       "        cv: 10\n",
       "\n",
       "```"
      ],
      "text/plain": [
       "<IPython.core.display.Markdown object>"
      ]
     },
     "metadata": {},
     "output_type": "display_data"
    }
   ],
   "source": [
    "pprint_dynaconf(_idstools, notebook=True)"
   ]
  },
  {
   "cell_type": "code",
   "execution_count": 3,
   "metadata": {},
   "outputs": [],
   "source": [
    "config = _idstools.default.data_explorer.DataExplorer"
   ]
  },
  {
   "cell_type": "code",
   "execution_count": 6,
   "metadata": {},
   "outputs": [
    {
     "data": {
      "text/markdown": [
       "```yaml\n",
       "output_path: results\n",
       "input_path: data/BikeRentalDaily_train.csv\n",
       "input_type: csv\n",
       "input_delimiter: ;\n",
       "pipeline:\n",
       "  descriptive_analysis: true\n",
       "  missing_value_matrix_plot: true\n",
       "  missing_value_bar_plot: true\n",
       "  correlation_heatmap_plot: true\n",
       "\n",
       "```"
      ],
      "text/plain": [
       "<IPython.core.display.Markdown object>"
      ]
     },
     "metadata": {},
     "output_type": "display_data"
    }
   ],
   "source": [
    "pprint_dynaconf(config, notebook=True)"
   ]
  },
  {
   "cell_type": "code",
   "execution_count": 10,
   "metadata": {},
   "outputs": [],
   "source": [
    "data_explorer_config = config"
   ]
  },
  {
   "cell_type": "code",
   "execution_count": 11,
   "metadata": {},
   "outputs": [],
   "source": [
    "data_explorer_config.input_path = \"/home/davidrmn/Studies/introduction-data-science/data/BikeRentalDaily_train.csv\""
   ]
  },
  {
   "cell_type": "code",
   "execution_count": 12,
   "metadata": {},
   "outputs": [
    {
     "name": "stderr",
     "output_type": "stream",
     "text": [
      "2024-02-01 20:53:24,117 [data_explorer] [INFO] - Initializing DataExplorer\n",
      "2024-02-01 20:53:24,119 [_helpers] [INFO] - Reading csv file:\n",
      "/home/davidrmn/Studies/introduction-data-science/data/BikeRentalDaily_train.csv\n",
      "2024-02-01 20:53:24,122 [data_explorer] [INFO] - Using output path: results\n",
      "2024-02-01 20:53:24,123 [data_explorer] [INFO] - Using pipeline:\n",
      "descriptive_analysis: true\n",
      "missing_value_matrix_plot: true\n",
      "missing_value_bar_plot: true\n",
      "correlation_heatmap_plot: true\n",
      "\n"
     ]
    }
   ],
   "source": [
    "my_data_explorer = DataExplorer(**data_explorer_config)"
   ]
  },
  {
   "cell_type": "code",
   "execution_count": 13,
   "metadata": {},
   "outputs": [
    {
     "name": "stderr",
     "output_type": "stream",
     "text": [
      "2024-02-01 20:53:27,129 [data_explorer] [INFO] - Head of BikeRentalDaily_train\n",
      "                          0           1           2           3           4\n",
      "instant                 154         685         368         472         442\n",
      "dteday           03.06.2011  15.11.2012  03.01.2012  16.04.2012  17.03.2012\n",
      "season                  2.0         4.0         1.0         2.0         1.0\n",
      "yr                        0           1           1           1           1\n",
      "mnth                      6          11           1           4           3\n",
      "holiday                   0           0           0           1           0\n",
      "weekday                   5           4           2           1          -1\n",
      "workingday                1           1           1           0           0\n",
      "weathersit                1           2           1           1           2\n",
      "temp                   24.8       12.87         6.0       26.57       20.57\n",
      "atemp                  0.59        0.32        0.13        0.61        0.51\n",
      "hum                   53.13       93.06       66.19       84.25      113.37\n",
      "windspeed              0.25        0.15        0.37        0.28        0.11\n",
      "leaflets                991         601         549         740         773\n",
      "price reduction           0           0           0           0           1\n",
      "casual                  898         320          89        1198        3155\n",
      "registered             4414        5125        2147        5172        4681\n",
      "cnt                    5312        5445        2236        6370        7836\n",
      "\n",
      "2024-02-01 20:53:27,134 [data_explorer] [INFO] - Info of BikeRentalDaily_train\n",
      "<class 'pandas.core.frame.DataFrame'>\n",
      "RangeIndex: 600 entries, 0 to 599\n",
      "Data columns (total 18 columns):\n",
      " #   Column           Non-Null Count  Dtype  \n",
      "---  ------           --------------  -----  \n",
      " 0   instant          600 non-null    int64  \n",
      " 1   dteday           600 non-null    object \n",
      " 2   season           538 non-null    float64\n",
      " 3   yr               600 non-null    int64  \n",
      " 4   mnth             600 non-null    int64  \n",
      " 5   holiday          600 non-null    int64  \n",
      " 6   weekday          600 non-null    int64  \n",
      " 7   workingday       600 non-null    int64  \n",
      " 8   weathersit       600 non-null    int64  \n",
      " 9   temp             600 non-null    float64\n",
      " 10  atemp            600 non-null    float64\n",
      " 11  hum              566 non-null    float64\n",
      " 12  windspeed        600 non-null    float64\n",
      " 13  leaflets         600 non-null    int64  \n",
      " 14  price reduction  600 non-null    int64  \n",
      " 15  casual           600 non-null    int64  \n",
      " 16  registered       600 non-null    int64  \n",
      " 17  cnt              600 non-null    int64  \n",
      "dtypes: float64(5), int64(12), object(1)\n",
      "memory usage: 84.5+ KB\n",
      "\n",
      "2024-02-01 20:53:27,136 [data_explorer] [INFO] - Types of BikeRentalDaily_train\n",
      "instant              int64\n",
      "dteday              object\n",
      "season             float64\n",
      "yr                   int64\n",
      "mnth                 int64\n",
      "holiday              int64\n",
      "weekday              int64\n",
      "workingday           int64\n",
      "weathersit           int64\n",
      "temp               float64\n",
      "atemp              float64\n",
      "hum                float64\n",
      "windspeed          float64\n",
      "leaflets             int64\n",
      "price reduction      int64\n",
      "casual               int64\n",
      "registered           int64\n",
      "cnt                  int64\n",
      "dtype: object\n",
      "\n",
      "2024-02-01 20:53:27,158 [data_explorer] [INFO] - Description of BikeRentalDaily_train\n",
      "                 count     mean      std     min      25%      50%      75%  \\\n",
      "instant          600.0   363.12   208.71    1.00   181.25   362.50   538.25   \n",
      "season           538.0     2.44     1.11    1.00     1.00     2.00     3.00   \n",
      "yr               600.0     0.50     0.50    0.00     0.00     0.00     1.00   \n",
      "mnth             600.0     6.47     3.44    1.00     4.00     6.00     9.00   \n",
      "holiday          600.0     0.03     0.17    0.00     0.00     0.00     0.00   \n",
      "weekday          600.0     2.93     2.08   -1.00     1.00     3.00     5.00   \n",
      "workingday       600.0     0.68     0.47    0.00     0.00     1.00     1.00   \n",
      "weathersit       600.0     1.40     0.54    1.00     1.00     1.00     2.00   \n",
      "temp             600.0    19.81     7.21    2.37    13.57    20.10    26.06   \n",
      "atemp            600.0     0.47     0.16    0.08     0.34     0.49     0.61   \n",
      "hum              566.0    93.85    21.38   28.19    77.33    93.26   109.92   \n",
      "windspeed        600.0     0.18     0.13   -1.00     0.13     0.18     0.23   \n",
      "leaflets         600.0   740.07   164.43  459.00   600.75   737.00   875.50   \n",
      "price reduction  600.0     0.15     0.36    0.00     0.00     0.00     0.00   \n",
      "casual           600.0  1070.89  2971.32    2.00   313.00   722.00  1078.00   \n",
      "registered       600.0  3634.12  1538.70   20.00  2499.00  3657.00  4680.25   \n",
      "cnt              600.0  4705.01  3588.75   22.00  3135.00  4530.00  5909.50   \n",
      "\n",
      "                      max  \n",
      "instant            731.00  \n",
      "season               4.00  \n",
      "yr                   1.00  \n",
      "mnth                12.00  \n",
      "holiday              1.00  \n",
      "weekday              6.00  \n",
      "workingday           1.00  \n",
      "weathersit           3.00  \n",
      "temp                34.47  \n",
      "atemp                0.83  \n",
      "hum                145.88  \n",
      "windspeed            0.51  \n",
      "leaflets          1032.00  \n",
      "price reduction      1.00  \n",
      "casual           47138.00  \n",
      "registered        6946.00  \n",
      "cnt              53021.00  \n",
      "\n"
     ]
    }
   ],
   "source": [
    "result = my_data_explorer.descriptive_analysis()"
   ]
  },
  {
   "cell_type": "code",
   "execution_count": null,
   "metadata": {},
   "outputs": [],
   "source": []
  }
 ],
 "metadata": {
  "kernelspec": {
   "display_name": "introduction-data-science",
   "language": "python",
   "name": "introduction-data-science"
  },
  "language_info": {
   "codemirror_mode": {
    "name": "ipython",
    "version": 3
   },
   "file_extension": ".py",
   "mimetype": "text/x-python",
   "name": "python",
   "nbconvert_exporter": "python",
   "pygments_lexer": "ipython3",
   "version": "3.11.5"
  }
 },
 "nbformat": 4,
 "nbformat_minor": 2
}
