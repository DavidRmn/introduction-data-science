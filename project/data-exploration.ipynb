{
 "cells": [
  {
   "cell_type": "markdown",
   "metadata": {},
   "source": [
    "# Data Exploration Module Test"
   ]
  },
  {
   "cell_type": "markdown",
   "metadata": {},
   "source": [
    "# TODO:\n",
    "    - head (/)\n",
    "    - info (/)\n",
    "    - matrix (missing values) (/)\n",
    "    - bar (missing values) (/)\n",
    "    - imports Jupyter Notebook (/)\n",
    "    - fix plot resolution (/)\n",
    "    - box (numeric, deviation) (/)\n",
    "    - histogram (skewed/deviation) (/)\n",
    "    - predictor/feature correlation (heatmap/scatter) (/)\n",
    "\n",
    "    - data dict (types, e.g. nominal, categorial)\n",
    "    - bar/mosaic (categorial, deviation)\n",
    "    -> These require some mapping based on domain knowledge.\n"
   ]
  },
  {
   "cell_type": "code",
   "execution_count": 1,
   "metadata": {},
   "outputs": [],
   "source": [
    "import idstools.data_explorer as idsde"
   ]
  },
  {
   "cell_type": "code",
   "execution_count": 2,
   "metadata": {},
   "outputs": [],
   "source": [
    "test_data = \"data/BikeRentalDaily_test.csv\"\n",
    "train_data = \"data/BikeRentalDaily_train.csv\""
   ]
  },
  {
   "cell_type": "code",
   "execution_count": 3,
   "metadata": {},
   "outputs": [
    {
     "name": "stderr",
     "output_type": "stream",
     "text": [
      "2024-02-03 16:22:12,175 [data_explorer] [INFO] - Initializing DataExplorer\n",
      "2024-02-03 16:22:12,176 [data_explorer] [INFO] - No label provided.\n",
      "2024-02-03 16:22:12,177 [data_explorer] [INFO] - Output path not provided.\n",
      "Using default path: /home/davidrmn/Studies/introduction-data-science/results\n",
      "2024-02-03 16:22:12,177 [data_explorer] [INFO] - Please provide a pipeline configuration.\n",
      "2024-02-03 16:22:12,178 [_helpers] [INFO] - Reading data from:\n",
      "/home/davidrmn/Studies/introduction-data-science/data/BikeRentalDaily_train.csv\n"
     ]
    }
   ],
   "source": [
    "data_explorer = idsde.DataExplorer(input_path=train_data, input_delimiter=\";\")"
   ]
  },
  {
   "cell_type": "code",
   "execution_count": 4,
   "metadata": {},
   "outputs": [],
   "source": [
    "data_explorer.descriptive_analysis()"
   ]
  },
  {
   "cell_type": "code",
   "execution_count": 5,
   "metadata": {},
   "outputs": [
    {
     "data": {
      "text/html": [
       "<div>\n",
       "<style scoped>\n",
       "    .dataframe tbody tr th:only-of-type {\n",
       "        vertical-align: middle;\n",
       "    }\n",
       "\n",
       "    .dataframe tbody tr th {\n",
       "        vertical-align: top;\n",
       "    }\n",
       "\n",
       "    .dataframe thead th {\n",
       "        text-align: right;\n",
       "    }\n",
       "</style>\n",
       "<table border=\"1\" class=\"dataframe\">\n",
       "  <thead>\n",
       "    <tr style=\"text-align: right;\">\n",
       "      <th></th>\n",
       "      <th>0</th>\n",
       "      <th>1</th>\n",
       "      <th>2</th>\n",
       "      <th>3</th>\n",
       "      <th>4</th>\n",
       "    </tr>\n",
       "  </thead>\n",
       "  <tbody>\n",
       "    <tr>\n",
       "      <th>instant</th>\n",
       "      <td>154</td>\n",
       "      <td>685</td>\n",
       "      <td>368</td>\n",
       "      <td>472</td>\n",
       "      <td>442</td>\n",
       "    </tr>\n",
       "    <tr>\n",
       "      <th>dteday</th>\n",
       "      <td>03.06.2011</td>\n",
       "      <td>15.11.2012</td>\n",
       "      <td>03.01.2012</td>\n",
       "      <td>16.04.2012</td>\n",
       "      <td>17.03.2012</td>\n",
       "    </tr>\n",
       "    <tr>\n",
       "      <th>season</th>\n",
       "      <td>2.0</td>\n",
       "      <td>4.0</td>\n",
       "      <td>1.0</td>\n",
       "      <td>2.0</td>\n",
       "      <td>1.0</td>\n",
       "    </tr>\n",
       "    <tr>\n",
       "      <th>yr</th>\n",
       "      <td>0</td>\n",
       "      <td>1</td>\n",
       "      <td>1</td>\n",
       "      <td>1</td>\n",
       "      <td>1</td>\n",
       "    </tr>\n",
       "    <tr>\n",
       "      <th>mnth</th>\n",
       "      <td>6</td>\n",
       "      <td>11</td>\n",
       "      <td>1</td>\n",
       "      <td>4</td>\n",
       "      <td>3</td>\n",
       "    </tr>\n",
       "    <tr>\n",
       "      <th>holiday</th>\n",
       "      <td>0</td>\n",
       "      <td>0</td>\n",
       "      <td>0</td>\n",
       "      <td>1</td>\n",
       "      <td>0</td>\n",
       "    </tr>\n",
       "    <tr>\n",
       "      <th>weekday</th>\n",
       "      <td>5</td>\n",
       "      <td>4</td>\n",
       "      <td>2</td>\n",
       "      <td>1</td>\n",
       "      <td>-1</td>\n",
       "    </tr>\n",
       "    <tr>\n",
       "      <th>workingday</th>\n",
       "      <td>1</td>\n",
       "      <td>1</td>\n",
       "      <td>1</td>\n",
       "      <td>0</td>\n",
       "      <td>0</td>\n",
       "    </tr>\n",
       "    <tr>\n",
       "      <th>weathersit</th>\n",
       "      <td>1</td>\n",
       "      <td>2</td>\n",
       "      <td>1</td>\n",
       "      <td>1</td>\n",
       "      <td>2</td>\n",
       "    </tr>\n",
       "    <tr>\n",
       "      <th>temp</th>\n",
       "      <td>24.8</td>\n",
       "      <td>12.87</td>\n",
       "      <td>6.0</td>\n",
       "      <td>26.57</td>\n",
       "      <td>20.57</td>\n",
       "    </tr>\n",
       "    <tr>\n",
       "      <th>atemp</th>\n",
       "      <td>0.59</td>\n",
       "      <td>0.32</td>\n",
       "      <td>0.13</td>\n",
       "      <td>0.61</td>\n",
       "      <td>0.51</td>\n",
       "    </tr>\n",
       "    <tr>\n",
       "      <th>hum</th>\n",
       "      <td>53.13</td>\n",
       "      <td>93.06</td>\n",
       "      <td>66.19</td>\n",
       "      <td>84.25</td>\n",
       "      <td>113.37</td>\n",
       "    </tr>\n",
       "    <tr>\n",
       "      <th>windspeed</th>\n",
       "      <td>0.25</td>\n",
       "      <td>0.15</td>\n",
       "      <td>0.37</td>\n",
       "      <td>0.28</td>\n",
       "      <td>0.11</td>\n",
       "    </tr>\n",
       "    <tr>\n",
       "      <th>leaflets</th>\n",
       "      <td>991</td>\n",
       "      <td>601</td>\n",
       "      <td>549</td>\n",
       "      <td>740</td>\n",
       "      <td>773</td>\n",
       "    </tr>\n",
       "    <tr>\n",
       "      <th>price reduction</th>\n",
       "      <td>0</td>\n",
       "      <td>0</td>\n",
       "      <td>0</td>\n",
       "      <td>0</td>\n",
       "      <td>1</td>\n",
       "    </tr>\n",
       "    <tr>\n",
       "      <th>casual</th>\n",
       "      <td>898</td>\n",
       "      <td>320</td>\n",
       "      <td>89</td>\n",
       "      <td>1198</td>\n",
       "      <td>3155</td>\n",
       "    </tr>\n",
       "    <tr>\n",
       "      <th>registered</th>\n",
       "      <td>4414</td>\n",
       "      <td>5125</td>\n",
       "      <td>2147</td>\n",
       "      <td>5172</td>\n",
       "      <td>4681</td>\n",
       "    </tr>\n",
       "    <tr>\n",
       "      <th>cnt</th>\n",
       "      <td>5312</td>\n",
       "      <td>5445</td>\n",
       "      <td>2236</td>\n",
       "      <td>6370</td>\n",
       "      <td>7836</td>\n",
       "    </tr>\n",
       "  </tbody>\n",
       "</table>\n",
       "</div>"
      ],
      "text/plain": [
       "                          0           1           2           3           4\n",
       "instant                 154         685         368         472         442\n",
       "dteday           03.06.2011  15.11.2012  03.01.2012  16.04.2012  17.03.2012\n",
       "season                  2.0         4.0         1.0         2.0         1.0\n",
       "yr                        0           1           1           1           1\n",
       "mnth                      6          11           1           4           3\n",
       "holiday                   0           0           0           1           0\n",
       "weekday                   5           4           2           1          -1\n",
       "workingday                1           1           1           0           0\n",
       "weathersit                1           2           1           1           2\n",
       "temp                   24.8       12.87         6.0       26.57       20.57\n",
       "atemp                  0.59        0.32        0.13        0.61        0.51\n",
       "hum                   53.13       93.06       66.19       84.25      113.37\n",
       "windspeed              0.25        0.15        0.37        0.28        0.11\n",
       "leaflets                991         601         549         740         773\n",
       "price reduction           0           0           0           0           1\n",
       "casual                  898         320          89        1198        3155\n",
       "registered             4414        5125        2147        5172        4681\n",
       "cnt                    5312        5445        2236        6370        7836"
      ]
     },
     "execution_count": 5,
     "metadata": {},
     "output_type": "execute_result"
    }
   ],
   "source": [
    "data_explorer.head"
   ]
  },
  {
   "cell_type": "code",
   "execution_count": 6,
   "metadata": {},
   "outputs": [],
   "source": [
    "data_explorer.correlation_analysis()"
   ]
  },
  {
   "cell_type": "markdown",
   "metadata": {},
   "source": [
    "![CorrelationAnalysis](../results/BikeRentalDaily_train_correlation_heatmap.png)"
   ]
  },
  {
   "cell_type": "code",
   "execution_count": 7,
   "metadata": {},
   "outputs": [
    {
     "name": "stderr",
     "output_type": "stream",
     "text": [
      "Distribution Plots: 100%|██████████| 17/17 [00:00<00:00, 11783.70it/s]\n"
     ]
    }
   ],
   "source": [
    "data_explorer.distribution_analysis()"
   ]
  },
  {
   "cell_type": "markdown",
   "metadata": {},
   "source": [
    "![DistributionAnalysis](../results/BikeRentalDaily_train_distribution_plots.png)"
   ]
  },
  {
   "cell_type": "markdown",
   "metadata": {},
   "source": [
    "# Data Preparation Module Test"
   ]
  },
  {
   "cell_type": "code",
   "execution_count": 8,
   "metadata": {},
   "outputs": [],
   "source": [
    "import idstools.data_preparation as dp"
   ]
  },
  {
   "cell_type": "code",
   "execution_count": 9,
   "metadata": {},
   "outputs": [],
   "source": [
    "test_data = \"data/BikeRentalDaily_test.csv\"\n",
    "train_data = \"data/BikeRentalDaily_train.csv\""
   ]
  },
  {
   "cell_type": "code",
   "execution_count": 10,
   "metadata": {},
   "outputs": [
    {
     "name": "stderr",
     "output_type": "stream",
     "text": [
      "2024-02-03 16:22:15,829 [data_preparation] [INFO] - Initializing DataPreparation\n",
      "2024-02-03 16:22:15,830 [data_preparation] [INFO] - Using output path: /home/davidrmn/Studies/introduction-data-science/results\n",
      "2024-02-03 16:22:15,830 [data_preparation] [INFO] - Please provide a pipeline configuration.\n",
      "2024-02-03 16:22:15,831 [_helpers] [INFO] - Reading data from:\n",
      "/home/davidrmn/Studies/introduction-data-science/data/BikeRentalDaily_train.csv\n"
     ]
    }
   ],
   "source": [
    "data_preparation = dp.DataPreparation(input_path=train_data, input_delimiter=\";\", output_path=\"results\")\n"
   ]
  },
  {
   "cell_type": "code",
   "execution_count": 11,
   "metadata": {},
   "outputs": [],
   "source": [
    "import pandas as pd\n",
    "\n",
    "def get_wday_by_date(df, date_column, weekday_column):\n",
    "    # Define the weekday shift\n",
    "    weekday_shift = {\n",
    "        6: 0,\n",
    "        0: 1,\n",
    "        1: 2,\n",
    "        2: 3,\n",
    "        3: 4,\n",
    "        4: 5,\n",
    "        5: 6\n",
    "    }\n",
    "\n",
    "    # Convert the date column to datetime\n",
    "    df[date_column] = pd.to_datetime(df[date_column], format=\"%d.%m.%Y\")\n",
    "\n",
    "    # Calculate the weekday and map it\n",
    "    df[weekday_column] = df[date_column].dt.dayofweek.map(weekday_shift)\n",
    "\n",
    "    return df"
   ]
  },
  {
   "cell_type": "code",
   "execution_count": 12,
   "metadata": {},
   "outputs": [],
   "source": [
    "pipeline_config = {\n",
    "    \"_SimpleImputer\": \n",
    "    [\n",
    "        {\n",
    "            \"target\": \"hum\",\n",
    "            \"config\": {\n",
    "                \"strategy\": \"mean\"\n",
    "            }\n",
    "        }\n",
    "    ],\n",
    "    \"_CustomTransformer\": \n",
    "    [\n",
    "        {\n",
    "            \"func\": get_wday_by_date,\n",
    "            \"config\": {\n",
    "                \"date_column\": \"dteday\",\n",
    "                \"weekday_column\": \"weekday\"\n",
    "            }\n",
    "        }\n",
    "    ]\n",
    "}"
   ]
  },
  {
   "cell_type": "code",
   "execution_count": 13,
   "metadata": {},
   "outputs": [
    {
     "name": "stderr",
     "output_type": "stream",
     "text": [
      "2024-02-03 16:22:15,852 [data_preparation] [INFO] - Pipeline created.\n"
     ]
    },
    {
     "data": {
      "text/html": [
       "<style>#sk-container-id-1 {color: black;}#sk-container-id-1 pre{padding: 0;}#sk-container-id-1 div.sk-toggleable {background-color: white;}#sk-container-id-1 label.sk-toggleable__label {cursor: pointer;display: block;width: 100%;margin-bottom: 0;padding: 0.3em;box-sizing: border-box;text-align: center;}#sk-container-id-1 label.sk-toggleable__label-arrow:before {content: \"▸\";float: left;margin-right: 0.25em;color: #696969;}#sk-container-id-1 label.sk-toggleable__label-arrow:hover:before {color: black;}#sk-container-id-1 div.sk-estimator:hover label.sk-toggleable__label-arrow:before {color: black;}#sk-container-id-1 div.sk-toggleable__content {max-height: 0;max-width: 0;overflow: hidden;text-align: left;background-color: #f0f8ff;}#sk-container-id-1 div.sk-toggleable__content pre {margin: 0.2em;color: black;border-radius: 0.25em;background-color: #f0f8ff;}#sk-container-id-1 input.sk-toggleable__control:checked~div.sk-toggleable__content {max-height: 200px;max-width: 100%;overflow: auto;}#sk-container-id-1 input.sk-toggleable__control:checked~label.sk-toggleable__label-arrow:before {content: \"▾\";}#sk-container-id-1 div.sk-estimator input.sk-toggleable__control:checked~label.sk-toggleable__label {background-color: #d4ebff;}#sk-container-id-1 div.sk-label input.sk-toggleable__control:checked~label.sk-toggleable__label {background-color: #d4ebff;}#sk-container-id-1 input.sk-hidden--visually {border: 0;clip: rect(1px 1px 1px 1px);clip: rect(1px, 1px, 1px, 1px);height: 1px;margin: -1px;overflow: hidden;padding: 0;position: absolute;width: 1px;}#sk-container-id-1 div.sk-estimator {font-family: monospace;background-color: #f0f8ff;border: 1px dotted black;border-radius: 0.25em;box-sizing: border-box;margin-bottom: 0.5em;}#sk-container-id-1 div.sk-estimator:hover {background-color: #d4ebff;}#sk-container-id-1 div.sk-parallel-item::after {content: \"\";width: 100%;border-bottom: 1px solid gray;flex-grow: 1;}#sk-container-id-1 div.sk-label:hover label.sk-toggleable__label {background-color: #d4ebff;}#sk-container-id-1 div.sk-serial::before {content: \"\";position: absolute;border-left: 1px solid gray;box-sizing: border-box;top: 0;bottom: 0;left: 50%;z-index: 0;}#sk-container-id-1 div.sk-serial {display: flex;flex-direction: column;align-items: center;background-color: white;padding-right: 0.2em;padding-left: 0.2em;position: relative;}#sk-container-id-1 div.sk-item {position: relative;z-index: 1;}#sk-container-id-1 div.sk-parallel {display: flex;align-items: stretch;justify-content: center;background-color: white;position: relative;}#sk-container-id-1 div.sk-item::before, #sk-container-id-1 div.sk-parallel-item::before {content: \"\";position: absolute;border-left: 1px solid gray;box-sizing: border-box;top: 0;bottom: 0;left: 50%;z-index: -1;}#sk-container-id-1 div.sk-parallel-item {display: flex;flex-direction: column;z-index: 1;position: relative;background-color: white;}#sk-container-id-1 div.sk-parallel-item:first-child::after {align-self: flex-end;width: 50%;}#sk-container-id-1 div.sk-parallel-item:last-child::after {align-self: flex-start;width: 50%;}#sk-container-id-1 div.sk-parallel-item:only-child::after {width: 0;}#sk-container-id-1 div.sk-dashed-wrapped {border: 1px dashed gray;margin: 0 0.4em 0.5em 0.4em;box-sizing: border-box;padding-bottom: 0.4em;background-color: white;}#sk-container-id-1 div.sk-label label {font-family: monospace;font-weight: bold;display: inline-block;line-height: 1.2em;}#sk-container-id-1 div.sk-label-container {text-align: center;}#sk-container-id-1 div.sk-container {/* jupyter's `normalize.less` sets `[hidden] { display: none; }` but bootstrap.min.css set `[hidden] { display: none !important; }` so we also need the `!important` here to be able to override the default hidden behavior on the sphinx rendered scikit-learn.org. See: https://github.com/scikit-learn/scikit-learn/issues/21755 */display: inline-block !important;position: relative;}#sk-container-id-1 div.sk-text-repr-fallback {display: none;}</style><div id=\"sk-container-id-1\" class=\"sk-top-container\"><div class=\"sk-text-repr-fallback\"><pre>Pipeline(steps=[(&#x27;_SimpleImputer&#x27;,\n",
       "                 _SimpleImputer(config=[{&#x27;config&#x27;: {&#x27;strategy&#x27;: &#x27;mean&#x27;},\n",
       "                                         &#x27;target&#x27;: &#x27;hum&#x27;}])),\n",
       "                (&#x27;_CustomTransformer&#x27;,\n",
       "                 _CustomTransformer(config=[{&#x27;config&#x27;: {&#x27;date_column&#x27;: &#x27;dteday&#x27;,\n",
       "                                                        &#x27;weekday_column&#x27;: &#x27;weekday&#x27;},\n",
       "                                             &#x27;func&#x27;: &lt;function get_wday_by_date at 0x7fdf44b5aa20&gt;}]))])</pre><b>In a Jupyter environment, please rerun this cell to show the HTML representation or trust the notebook. <br />On GitHub, the HTML representation is unable to render, please try loading this page with nbviewer.org.</b></div><div class=\"sk-container\" hidden><div class=\"sk-item sk-dashed-wrapped\"><div class=\"sk-label-container\"><div class=\"sk-label sk-toggleable\"><input class=\"sk-toggleable__control sk-hidden--visually\" id=\"sk-estimator-id-1\" type=\"checkbox\" ><label for=\"sk-estimator-id-1\" class=\"sk-toggleable__label sk-toggleable__label-arrow\">Pipeline</label><div class=\"sk-toggleable__content\"><pre>Pipeline(steps=[(&#x27;_SimpleImputer&#x27;,\n",
       "                 _SimpleImputer(config=[{&#x27;config&#x27;: {&#x27;strategy&#x27;: &#x27;mean&#x27;},\n",
       "                                         &#x27;target&#x27;: &#x27;hum&#x27;}])),\n",
       "                (&#x27;_CustomTransformer&#x27;,\n",
       "                 _CustomTransformer(config=[{&#x27;config&#x27;: {&#x27;date_column&#x27;: &#x27;dteday&#x27;,\n",
       "                                                        &#x27;weekday_column&#x27;: &#x27;weekday&#x27;},\n",
       "                                             &#x27;func&#x27;: &lt;function get_wday_by_date at 0x7fdf44b5aa20&gt;}]))])</pre></div></div></div><div class=\"sk-serial\"><div class=\"sk-item\"><div class=\"sk-estimator sk-toggleable\"><input class=\"sk-toggleable__control sk-hidden--visually\" id=\"sk-estimator-id-2\" type=\"checkbox\" ><label for=\"sk-estimator-id-2\" class=\"sk-toggleable__label sk-toggleable__label-arrow\">_SimpleImputer</label><div class=\"sk-toggleable__content\"><pre>_SimpleImputer(config=[{&#x27;config&#x27;: {&#x27;strategy&#x27;: &#x27;mean&#x27;}, &#x27;target&#x27;: &#x27;hum&#x27;}])</pre></div></div></div><div class=\"sk-item\"><div class=\"sk-estimator sk-toggleable\"><input class=\"sk-toggleable__control sk-hidden--visually\" id=\"sk-estimator-id-3\" type=\"checkbox\" ><label for=\"sk-estimator-id-3\" class=\"sk-toggleable__label sk-toggleable__label-arrow\">_CustomTransformer</label><div class=\"sk-toggleable__content\"><pre>_CustomTransformer(config=[{&#x27;config&#x27;: {&#x27;date_column&#x27;: &#x27;dteday&#x27;,\n",
       "                                       &#x27;weekday_column&#x27;: &#x27;weekday&#x27;},\n",
       "                            &#x27;func&#x27;: &lt;function get_wday_by_date at 0x7fdf44b5aa20&gt;}])</pre></div></div></div></div></div></div></div>"
      ],
      "text/plain": [
       "Pipeline(steps=[('_SimpleImputer',\n",
       "                 _SimpleImputer(config=[{'config': {'strategy': 'mean'},\n",
       "                                         'target': 'hum'}])),\n",
       "                ('_CustomTransformer',\n",
       "                 _CustomTransformer(config=[{'config': {'date_column': 'dteday',\n",
       "                                                        'weekday_column': 'weekday'},\n",
       "                                             'func': <function get_wday_by_date at 0x7fdf44b5aa20>}]))])"
      ]
     },
     "execution_count": 13,
     "metadata": {},
     "output_type": "execute_result"
    }
   ],
   "source": [
    "pipeline = data_preparation.build_pipeline(config=pipeline_config)\n",
    "pipeline"
   ]
  },
  {
   "cell_type": "code",
   "execution_count": 14,
   "metadata": {},
   "outputs": [
    {
     "name": "stderr",
     "output_type": "stream",
     "text": [
      "2024-02-03 16:22:15,867 [data_preparation] [INFO] - Pipeline step _SimpleImputer has been processed.\n",
      "2024-02-03 16:22:15,872 [data_preparation] [INFO] - Pipeline step _CustomTransformer has been processed.\n"
     ]
    }
   ],
   "source": [
    "processed_data = data_preparation.run_pipeline(config=pipeline_config)"
   ]
  },
  {
   "cell_type": "code",
   "execution_count": 15,
   "metadata": {},
   "outputs": [
    {
     "data": {
      "text/html": [
       "<div>\n",
       "<style scoped>\n",
       "    .dataframe tbody tr th:only-of-type {\n",
       "        vertical-align: middle;\n",
       "    }\n",
       "\n",
       "    .dataframe tbody tr th {\n",
       "        vertical-align: top;\n",
       "    }\n",
       "\n",
       "    .dataframe thead th {\n",
       "        text-align: right;\n",
       "    }\n",
       "</style>\n",
       "<table border=\"1\" class=\"dataframe\">\n",
       "  <thead>\n",
       "    <tr style=\"text-align: right;\">\n",
       "      <th></th>\n",
       "      <th>0</th>\n",
       "      <th>1</th>\n",
       "      <th>2</th>\n",
       "      <th>3</th>\n",
       "      <th>4</th>\n",
       "    </tr>\n",
       "  </thead>\n",
       "  <tbody>\n",
       "    <tr>\n",
       "      <th>instant</th>\n",
       "      <td>154</td>\n",
       "      <td>685</td>\n",
       "      <td>368</td>\n",
       "      <td>472</td>\n",
       "      <td>442</td>\n",
       "    </tr>\n",
       "    <tr>\n",
       "      <th>dteday</th>\n",
       "      <td>03.06.2011</td>\n",
       "      <td>15.11.2012</td>\n",
       "      <td>03.01.2012</td>\n",
       "      <td>16.04.2012</td>\n",
       "      <td>17.03.2012</td>\n",
       "    </tr>\n",
       "    <tr>\n",
       "      <th>season</th>\n",
       "      <td>2.0</td>\n",
       "      <td>4.0</td>\n",
       "      <td>1.0</td>\n",
       "      <td>2.0</td>\n",
       "      <td>1.0</td>\n",
       "    </tr>\n",
       "    <tr>\n",
       "      <th>yr</th>\n",
       "      <td>0</td>\n",
       "      <td>1</td>\n",
       "      <td>1</td>\n",
       "      <td>1</td>\n",
       "      <td>1</td>\n",
       "    </tr>\n",
       "    <tr>\n",
       "      <th>mnth</th>\n",
       "      <td>6</td>\n",
       "      <td>11</td>\n",
       "      <td>1</td>\n",
       "      <td>4</td>\n",
       "      <td>3</td>\n",
       "    </tr>\n",
       "    <tr>\n",
       "      <th>holiday</th>\n",
       "      <td>0</td>\n",
       "      <td>0</td>\n",
       "      <td>0</td>\n",
       "      <td>1</td>\n",
       "      <td>0</td>\n",
       "    </tr>\n",
       "    <tr>\n",
       "      <th>weekday</th>\n",
       "      <td>5</td>\n",
       "      <td>4</td>\n",
       "      <td>2</td>\n",
       "      <td>1</td>\n",
       "      <td>-1</td>\n",
       "    </tr>\n",
       "    <tr>\n",
       "      <th>workingday</th>\n",
       "      <td>1</td>\n",
       "      <td>1</td>\n",
       "      <td>1</td>\n",
       "      <td>0</td>\n",
       "      <td>0</td>\n",
       "    </tr>\n",
       "    <tr>\n",
       "      <th>weathersit</th>\n",
       "      <td>1</td>\n",
       "      <td>2</td>\n",
       "      <td>1</td>\n",
       "      <td>1</td>\n",
       "      <td>2</td>\n",
       "    </tr>\n",
       "    <tr>\n",
       "      <th>temp</th>\n",
       "      <td>24.8</td>\n",
       "      <td>12.87</td>\n",
       "      <td>6.0</td>\n",
       "      <td>26.57</td>\n",
       "      <td>20.57</td>\n",
       "    </tr>\n",
       "    <tr>\n",
       "      <th>atemp</th>\n",
       "      <td>0.59</td>\n",
       "      <td>0.32</td>\n",
       "      <td>0.13</td>\n",
       "      <td>0.61</td>\n",
       "      <td>0.51</td>\n",
       "    </tr>\n",
       "    <tr>\n",
       "      <th>hum</th>\n",
       "      <td>53.13</td>\n",
       "      <td>93.06</td>\n",
       "      <td>66.19</td>\n",
       "      <td>84.25</td>\n",
       "      <td>113.37</td>\n",
       "    </tr>\n",
       "    <tr>\n",
       "      <th>windspeed</th>\n",
       "      <td>0.25</td>\n",
       "      <td>0.15</td>\n",
       "      <td>0.37</td>\n",
       "      <td>0.28</td>\n",
       "      <td>0.11</td>\n",
       "    </tr>\n",
       "    <tr>\n",
       "      <th>leaflets</th>\n",
       "      <td>991</td>\n",
       "      <td>601</td>\n",
       "      <td>549</td>\n",
       "      <td>740</td>\n",
       "      <td>773</td>\n",
       "    </tr>\n",
       "    <tr>\n",
       "      <th>price reduction</th>\n",
       "      <td>0</td>\n",
       "      <td>0</td>\n",
       "      <td>0</td>\n",
       "      <td>0</td>\n",
       "      <td>1</td>\n",
       "    </tr>\n",
       "    <tr>\n",
       "      <th>casual</th>\n",
       "      <td>898</td>\n",
       "      <td>320</td>\n",
       "      <td>89</td>\n",
       "      <td>1198</td>\n",
       "      <td>3155</td>\n",
       "    </tr>\n",
       "    <tr>\n",
       "      <th>registered</th>\n",
       "      <td>4414</td>\n",
       "      <td>5125</td>\n",
       "      <td>2147</td>\n",
       "      <td>5172</td>\n",
       "      <td>4681</td>\n",
       "    </tr>\n",
       "    <tr>\n",
       "      <th>cnt</th>\n",
       "      <td>5312</td>\n",
       "      <td>5445</td>\n",
       "      <td>2236</td>\n",
       "      <td>6370</td>\n",
       "      <td>7836</td>\n",
       "    </tr>\n",
       "  </tbody>\n",
       "</table>\n",
       "</div>"
      ],
      "text/plain": [
       "                          0           1           2           3           4\n",
       "instant                 154         685         368         472         442\n",
       "dteday           03.06.2011  15.11.2012  03.01.2012  16.04.2012  17.03.2012\n",
       "season                  2.0         4.0         1.0         2.0         1.0\n",
       "yr                        0           1           1           1           1\n",
       "mnth                      6          11           1           4           3\n",
       "holiday                   0           0           0           1           0\n",
       "weekday                   5           4           2           1          -1\n",
       "workingday                1           1           1           0           0\n",
       "weathersit                1           2           1           1           2\n",
       "temp                   24.8       12.87         6.0       26.57       20.57\n",
       "atemp                  0.59        0.32        0.13        0.61        0.51\n",
       "hum                   53.13       93.06       66.19       84.25      113.37\n",
       "windspeed              0.25        0.15        0.37        0.28        0.11\n",
       "leaflets                991         601         549         740         773\n",
       "price reduction           0           0           0           0           1\n",
       "casual                  898         320          89        1198        3155\n",
       "registered             4414        5125        2147        5172        4681\n",
       "cnt                    5312        5445        2236        6370        7836"
      ]
     },
     "execution_count": 15,
     "metadata": {},
     "output_type": "execute_result"
    }
   ],
   "source": [
    "data_preparation.data.head(5).T"
   ]
  },
  {
   "cell_type": "code",
   "execution_count": 16,
   "metadata": {},
   "outputs": [
    {
     "data": {
      "text/html": [
       "<div>\n",
       "<style scoped>\n",
       "    .dataframe tbody tr th:only-of-type {\n",
       "        vertical-align: middle;\n",
       "    }\n",
       "\n",
       "    .dataframe tbody tr th {\n",
       "        vertical-align: top;\n",
       "    }\n",
       "\n",
       "    .dataframe thead th {\n",
       "        text-align: right;\n",
       "    }\n",
       "</style>\n",
       "<table border=\"1\" class=\"dataframe\">\n",
       "  <thead>\n",
       "    <tr style=\"text-align: right;\">\n",
       "      <th></th>\n",
       "      <th>0</th>\n",
       "      <th>1</th>\n",
       "      <th>2</th>\n",
       "      <th>3</th>\n",
       "      <th>4</th>\n",
       "    </tr>\n",
       "  </thead>\n",
       "  <tbody>\n",
       "    <tr>\n",
       "      <th>instant</th>\n",
       "      <td>154</td>\n",
       "      <td>685</td>\n",
       "      <td>368</td>\n",
       "      <td>472</td>\n",
       "      <td>442</td>\n",
       "    </tr>\n",
       "    <tr>\n",
       "      <th>dteday</th>\n",
       "      <td>2011-06-03 00:00:00</td>\n",
       "      <td>2012-11-15 00:00:00</td>\n",
       "      <td>2012-01-03 00:00:00</td>\n",
       "      <td>2012-04-16 00:00:00</td>\n",
       "      <td>2012-03-17 00:00:00</td>\n",
       "    </tr>\n",
       "    <tr>\n",
       "      <th>season</th>\n",
       "      <td>2.0</td>\n",
       "      <td>4.0</td>\n",
       "      <td>1.0</td>\n",
       "      <td>2.0</td>\n",
       "      <td>1.0</td>\n",
       "    </tr>\n",
       "    <tr>\n",
       "      <th>yr</th>\n",
       "      <td>0</td>\n",
       "      <td>1</td>\n",
       "      <td>1</td>\n",
       "      <td>1</td>\n",
       "      <td>1</td>\n",
       "    </tr>\n",
       "    <tr>\n",
       "      <th>mnth</th>\n",
       "      <td>6</td>\n",
       "      <td>11</td>\n",
       "      <td>1</td>\n",
       "      <td>4</td>\n",
       "      <td>3</td>\n",
       "    </tr>\n",
       "    <tr>\n",
       "      <th>holiday</th>\n",
       "      <td>0</td>\n",
       "      <td>0</td>\n",
       "      <td>0</td>\n",
       "      <td>1</td>\n",
       "      <td>0</td>\n",
       "    </tr>\n",
       "    <tr>\n",
       "      <th>weekday</th>\n",
       "      <td>5</td>\n",
       "      <td>4</td>\n",
       "      <td>2</td>\n",
       "      <td>1</td>\n",
       "      <td>6</td>\n",
       "    </tr>\n",
       "    <tr>\n",
       "      <th>workingday</th>\n",
       "      <td>1</td>\n",
       "      <td>1</td>\n",
       "      <td>1</td>\n",
       "      <td>0</td>\n",
       "      <td>0</td>\n",
       "    </tr>\n",
       "    <tr>\n",
       "      <th>weathersit</th>\n",
       "      <td>1</td>\n",
       "      <td>2</td>\n",
       "      <td>1</td>\n",
       "      <td>1</td>\n",
       "      <td>2</td>\n",
       "    </tr>\n",
       "    <tr>\n",
       "      <th>temp</th>\n",
       "      <td>24.8</td>\n",
       "      <td>12.87</td>\n",
       "      <td>6.0</td>\n",
       "      <td>26.57</td>\n",
       "      <td>20.57</td>\n",
       "    </tr>\n",
       "    <tr>\n",
       "      <th>atemp</th>\n",
       "      <td>0.59</td>\n",
       "      <td>0.32</td>\n",
       "      <td>0.13</td>\n",
       "      <td>0.61</td>\n",
       "      <td>0.51</td>\n",
       "    </tr>\n",
       "    <tr>\n",
       "      <th>hum</th>\n",
       "      <td>53.13</td>\n",
       "      <td>93.06</td>\n",
       "      <td>66.19</td>\n",
       "      <td>84.25</td>\n",
       "      <td>113.37</td>\n",
       "    </tr>\n",
       "    <tr>\n",
       "      <th>windspeed</th>\n",
       "      <td>0.25</td>\n",
       "      <td>0.15</td>\n",
       "      <td>0.37</td>\n",
       "      <td>0.28</td>\n",
       "      <td>0.11</td>\n",
       "    </tr>\n",
       "    <tr>\n",
       "      <th>leaflets</th>\n",
       "      <td>991</td>\n",
       "      <td>601</td>\n",
       "      <td>549</td>\n",
       "      <td>740</td>\n",
       "      <td>773</td>\n",
       "    </tr>\n",
       "    <tr>\n",
       "      <th>price reduction</th>\n",
       "      <td>0</td>\n",
       "      <td>0</td>\n",
       "      <td>0</td>\n",
       "      <td>0</td>\n",
       "      <td>1</td>\n",
       "    </tr>\n",
       "    <tr>\n",
       "      <th>casual</th>\n",
       "      <td>898</td>\n",
       "      <td>320</td>\n",
       "      <td>89</td>\n",
       "      <td>1198</td>\n",
       "      <td>3155</td>\n",
       "    </tr>\n",
       "    <tr>\n",
       "      <th>registered</th>\n",
       "      <td>4414</td>\n",
       "      <td>5125</td>\n",
       "      <td>2147</td>\n",
       "      <td>5172</td>\n",
       "      <td>4681</td>\n",
       "    </tr>\n",
       "    <tr>\n",
       "      <th>cnt</th>\n",
       "      <td>5312</td>\n",
       "      <td>5445</td>\n",
       "      <td>2236</td>\n",
       "      <td>6370</td>\n",
       "      <td>7836</td>\n",
       "    </tr>\n",
       "  </tbody>\n",
       "</table>\n",
       "</div>"
      ],
      "text/plain": [
       "                                   0                    1  \\\n",
       "instant                          154                  685   \n",
       "dteday           2011-06-03 00:00:00  2012-11-15 00:00:00   \n",
       "season                           2.0                  4.0   \n",
       "yr                                 0                    1   \n",
       "mnth                               6                   11   \n",
       "holiday                            0                    0   \n",
       "weekday                            5                    4   \n",
       "workingday                         1                    1   \n",
       "weathersit                         1                    2   \n",
       "temp                            24.8                12.87   \n",
       "atemp                           0.59                 0.32   \n",
       "hum                            53.13                93.06   \n",
       "windspeed                       0.25                 0.15   \n",
       "leaflets                         991                  601   \n",
       "price reduction                    0                    0   \n",
       "casual                           898                  320   \n",
       "registered                      4414                 5125   \n",
       "cnt                             5312                 5445   \n",
       "\n",
       "                                   2                    3                    4  \n",
       "instant                          368                  472                  442  \n",
       "dteday           2012-01-03 00:00:00  2012-04-16 00:00:00  2012-03-17 00:00:00  \n",
       "season                           1.0                  2.0                  1.0  \n",
       "yr                                 1                    1                    1  \n",
       "mnth                               1                    4                    3  \n",
       "holiday                            0                    1                    0  \n",
       "weekday                            2                    1                    6  \n",
       "workingday                         1                    0                    0  \n",
       "weathersit                         1                    1                    2  \n",
       "temp                             6.0                26.57                20.57  \n",
       "atemp                           0.13                 0.61                 0.51  \n",
       "hum                            66.19                84.25               113.37  \n",
       "windspeed                       0.37                 0.28                 0.11  \n",
       "leaflets                         549                  740                  773  \n",
       "price reduction                    0                    0                    1  \n",
       "casual                            89                 1198                 3155  \n",
       "registered                      2147                 5172                 4681  \n",
       "cnt                             2236                 6370                 7836  "
      ]
     },
     "execution_count": 16,
     "metadata": {},
     "output_type": "execute_result"
    }
   ],
   "source": [
    "processed_data.head(5).T"
   ]
  },
  {
   "cell_type": "code",
   "execution_count": 17,
   "metadata": {},
   "outputs": [
    {
     "data": {
      "text/html": [
       "<div>\n",
       "<style scoped>\n",
       "    .dataframe tbody tr th:only-of-type {\n",
       "        vertical-align: middle;\n",
       "    }\n",
       "\n",
       "    .dataframe tbody tr th {\n",
       "        vertical-align: top;\n",
       "    }\n",
       "\n",
       "    .dataframe thead th {\n",
       "        text-align: right;\n",
       "    }\n",
       "</style>\n",
       "<table border=\"1\" class=\"dataframe\">\n",
       "  <thead>\n",
       "    <tr style=\"text-align: right;\">\n",
       "      <th></th>\n",
       "      <th>count</th>\n",
       "      <th>mean</th>\n",
       "      <th>min</th>\n",
       "      <th>25%</th>\n",
       "      <th>50%</th>\n",
       "      <th>75%</th>\n",
       "      <th>max</th>\n",
       "      <th>std</th>\n",
       "    </tr>\n",
       "  </thead>\n",
       "  <tbody>\n",
       "    <tr>\n",
       "      <th>instant</th>\n",
       "      <td>600.0</td>\n",
       "      <td>363.12</td>\n",
       "      <td>1.0</td>\n",
       "      <td>181.25</td>\n",
       "      <td>362.5</td>\n",
       "      <td>538.25</td>\n",
       "      <td>731.0</td>\n",
       "      <td>208.71</td>\n",
       "    </tr>\n",
       "    <tr>\n",
       "      <th>dteday</th>\n",
       "      <td>600</td>\n",
       "      <td>2011-12-29 02:48:00</td>\n",
       "      <td>2011-01-01 00:00:00</td>\n",
       "      <td>2011-06-30 06:00:00</td>\n",
       "      <td>2011-12-28 12:00:00</td>\n",
       "      <td>2012-06-21 06:00:00</td>\n",
       "      <td>2012-12-31 00:00:00</td>\n",
       "      <td>NaN</td>\n",
       "    </tr>\n",
       "    <tr>\n",
       "      <th>season</th>\n",
       "      <td>538.0</td>\n",
       "      <td>2.44</td>\n",
       "      <td>1.0</td>\n",
       "      <td>1.0</td>\n",
       "      <td>2.0</td>\n",
       "      <td>3.0</td>\n",
       "      <td>4.0</td>\n",
       "      <td>1.11</td>\n",
       "    </tr>\n",
       "    <tr>\n",
       "      <th>yr</th>\n",
       "      <td>600.0</td>\n",
       "      <td>0.5</td>\n",
       "      <td>0.0</td>\n",
       "      <td>0.0</td>\n",
       "      <td>0.0</td>\n",
       "      <td>1.0</td>\n",
       "      <td>1.0</td>\n",
       "      <td>0.5</td>\n",
       "    </tr>\n",
       "    <tr>\n",
       "      <th>mnth</th>\n",
       "      <td>600.0</td>\n",
       "      <td>6.47</td>\n",
       "      <td>1.0</td>\n",
       "      <td>4.0</td>\n",
       "      <td>6.0</td>\n",
       "      <td>9.0</td>\n",
       "      <td>12.0</td>\n",
       "      <td>3.44</td>\n",
       "    </tr>\n",
       "    <tr>\n",
       "      <th>holiday</th>\n",
       "      <td>600.0</td>\n",
       "      <td>0.03</td>\n",
       "      <td>0.0</td>\n",
       "      <td>0.0</td>\n",
       "      <td>0.0</td>\n",
       "      <td>0.0</td>\n",
       "      <td>1.0</td>\n",
       "      <td>0.17</td>\n",
       "    </tr>\n",
       "    <tr>\n",
       "      <th>weekday</th>\n",
       "      <td>600.0</td>\n",
       "      <td>3.03</td>\n",
       "      <td>0.0</td>\n",
       "      <td>1.0</td>\n",
       "      <td>3.0</td>\n",
       "      <td>5.0</td>\n",
       "      <td>6.0</td>\n",
       "      <td>2.01</td>\n",
       "    </tr>\n",
       "    <tr>\n",
       "      <th>workingday</th>\n",
       "      <td>600.0</td>\n",
       "      <td>0.68</td>\n",
       "      <td>0.0</td>\n",
       "      <td>0.0</td>\n",
       "      <td>1.0</td>\n",
       "      <td>1.0</td>\n",
       "      <td>1.0</td>\n",
       "      <td>0.47</td>\n",
       "    </tr>\n",
       "    <tr>\n",
       "      <th>weathersit</th>\n",
       "      <td>600.0</td>\n",
       "      <td>1.4</td>\n",
       "      <td>1.0</td>\n",
       "      <td>1.0</td>\n",
       "      <td>1.0</td>\n",
       "      <td>2.0</td>\n",
       "      <td>3.0</td>\n",
       "      <td>0.54</td>\n",
       "    </tr>\n",
       "    <tr>\n",
       "      <th>temp</th>\n",
       "      <td>600.0</td>\n",
       "      <td>19.81</td>\n",
       "      <td>2.37</td>\n",
       "      <td>13.57</td>\n",
       "      <td>20.1</td>\n",
       "      <td>26.06</td>\n",
       "      <td>34.47</td>\n",
       "      <td>7.21</td>\n",
       "    </tr>\n",
       "    <tr>\n",
       "      <th>atemp</th>\n",
       "      <td>600.0</td>\n",
       "      <td>0.47</td>\n",
       "      <td>0.08</td>\n",
       "      <td>0.34</td>\n",
       "      <td>0.49</td>\n",
       "      <td>0.61</td>\n",
       "      <td>0.83</td>\n",
       "      <td>0.16</td>\n",
       "    </tr>\n",
       "    <tr>\n",
       "      <th>hum</th>\n",
       "      <td>600.0</td>\n",
       "      <td>93.85</td>\n",
       "      <td>28.19</td>\n",
       "      <td>78.36</td>\n",
       "      <td>93.85</td>\n",
       "      <td>108.44</td>\n",
       "      <td>145.88</td>\n",
       "      <td>20.76</td>\n",
       "    </tr>\n",
       "    <tr>\n",
       "      <th>windspeed</th>\n",
       "      <td>600.0</td>\n",
       "      <td>0.18</td>\n",
       "      <td>-1.0</td>\n",
       "      <td>0.13</td>\n",
       "      <td>0.18</td>\n",
       "      <td>0.23</td>\n",
       "      <td>0.51</td>\n",
       "      <td>0.13</td>\n",
       "    </tr>\n",
       "    <tr>\n",
       "      <th>leaflets</th>\n",
       "      <td>600.0</td>\n",
       "      <td>740.07</td>\n",
       "      <td>459.0</td>\n",
       "      <td>600.75</td>\n",
       "      <td>737.0</td>\n",
       "      <td>875.5</td>\n",
       "      <td>1032.0</td>\n",
       "      <td>164.43</td>\n",
       "    </tr>\n",
       "    <tr>\n",
       "      <th>price reduction</th>\n",
       "      <td>600.0</td>\n",
       "      <td>0.15</td>\n",
       "      <td>0.0</td>\n",
       "      <td>0.0</td>\n",
       "      <td>0.0</td>\n",
       "      <td>0.0</td>\n",
       "      <td>1.0</td>\n",
       "      <td>0.36</td>\n",
       "    </tr>\n",
       "    <tr>\n",
       "      <th>casual</th>\n",
       "      <td>600.0</td>\n",
       "      <td>1070.89</td>\n",
       "      <td>2.0</td>\n",
       "      <td>313.0</td>\n",
       "      <td>722.0</td>\n",
       "      <td>1078.0</td>\n",
       "      <td>47138.0</td>\n",
       "      <td>2971.32</td>\n",
       "    </tr>\n",
       "    <tr>\n",
       "      <th>registered</th>\n",
       "      <td>600.0</td>\n",
       "      <td>3634.12</td>\n",
       "      <td>20.0</td>\n",
       "      <td>2499.0</td>\n",
       "      <td>3657.0</td>\n",
       "      <td>4680.25</td>\n",
       "      <td>6946.0</td>\n",
       "      <td>1538.7</td>\n",
       "    </tr>\n",
       "    <tr>\n",
       "      <th>cnt</th>\n",
       "      <td>600.0</td>\n",
       "      <td>4705.01</td>\n",
       "      <td>22.0</td>\n",
       "      <td>3135.0</td>\n",
       "      <td>4530.0</td>\n",
       "      <td>5909.5</td>\n",
       "      <td>53021.0</td>\n",
       "      <td>3588.75</td>\n",
       "    </tr>\n",
       "  </tbody>\n",
       "</table>\n",
       "</div>"
      ],
      "text/plain": [
       "                 count                 mean                  min  \\\n",
       "instant          600.0               363.12                  1.0   \n",
       "dteday             600  2011-12-29 02:48:00  2011-01-01 00:00:00   \n",
       "season           538.0                 2.44                  1.0   \n",
       "yr               600.0                  0.5                  0.0   \n",
       "mnth             600.0                 6.47                  1.0   \n",
       "holiday          600.0                 0.03                  0.0   \n",
       "weekday          600.0                 3.03                  0.0   \n",
       "workingday       600.0                 0.68                  0.0   \n",
       "weathersit       600.0                  1.4                  1.0   \n",
       "temp             600.0                19.81                 2.37   \n",
       "atemp            600.0                 0.47                 0.08   \n",
       "hum              600.0                93.85                28.19   \n",
       "windspeed        600.0                 0.18                 -1.0   \n",
       "leaflets         600.0               740.07                459.0   \n",
       "price reduction  600.0                 0.15                  0.0   \n",
       "casual           600.0              1070.89                  2.0   \n",
       "registered       600.0              3634.12                 20.0   \n",
       "cnt              600.0              4705.01                 22.0   \n",
       "\n",
       "                                 25%                  50%  \\\n",
       "instant                       181.25                362.5   \n",
       "dteday           2011-06-30 06:00:00  2011-12-28 12:00:00   \n",
       "season                           1.0                  2.0   \n",
       "yr                               0.0                  0.0   \n",
       "mnth                             4.0                  6.0   \n",
       "holiday                          0.0                  0.0   \n",
       "weekday                          1.0                  3.0   \n",
       "workingday                       0.0                  1.0   \n",
       "weathersit                       1.0                  1.0   \n",
       "temp                           13.57                 20.1   \n",
       "atemp                           0.34                 0.49   \n",
       "hum                            78.36                93.85   \n",
       "windspeed                       0.13                 0.18   \n",
       "leaflets                      600.75                737.0   \n",
       "price reduction                  0.0                  0.0   \n",
       "casual                         313.0                722.0   \n",
       "registered                    2499.0               3657.0   \n",
       "cnt                           3135.0               4530.0   \n",
       "\n",
       "                                 75%                  max      std  \n",
       "instant                       538.25                731.0   208.71  \n",
       "dteday           2012-06-21 06:00:00  2012-12-31 00:00:00      NaN  \n",
       "season                           3.0                  4.0     1.11  \n",
       "yr                               1.0                  1.0      0.5  \n",
       "mnth                             9.0                 12.0     3.44  \n",
       "holiday                          0.0                  1.0     0.17  \n",
       "weekday                          5.0                  6.0     2.01  \n",
       "workingday                       1.0                  1.0     0.47  \n",
       "weathersit                       2.0                  3.0     0.54  \n",
       "temp                           26.06                34.47     7.21  \n",
       "atemp                           0.61                 0.83     0.16  \n",
       "hum                           108.44               145.88    20.76  \n",
       "windspeed                       0.23                 0.51     0.13  \n",
       "leaflets                       875.5               1032.0   164.43  \n",
       "price reduction                  0.0                  1.0     0.36  \n",
       "casual                        1078.0              47138.0  2971.32  \n",
       "registered                   4680.25               6946.0   1538.7  \n",
       "cnt                           5909.5              53021.0  3588.75  "
      ]
     },
     "execution_count": 17,
     "metadata": {},
     "output_type": "execute_result"
    }
   ],
   "source": [
    "processed_data.describe().T"
   ]
  },
  {
   "cell_type": "code",
   "execution_count": 18,
   "metadata": {},
   "outputs": [],
   "source": [
    "from idstools._config import _idstools"
   ]
  },
  {
   "cell_type": "code",
   "execution_count": 19,
   "metadata": {},
   "outputs": [],
   "source": [
    "_idstools[\"default\"][\"data_explorer\"][\"DataExplorer\"][\"input_path\"] = \"data/BikeRentalDaily_train.csv\""
   ]
  },
  {
   "cell_type": "code",
   "execution_count": 20,
   "metadata": {},
   "outputs": [
    {
     "data": {
      "text/plain": [
       "'data/BikeRentalDaily_train.csv'"
      ]
     },
     "execution_count": 20,
     "metadata": {},
     "output_type": "execute_result"
    }
   ],
   "source": [
    "_idstools.default.data_explorer.DataExplorer.input_path"
   ]
  },
  {
   "cell_type": "markdown",
   "metadata": {
    "tags": []
   },
   "source": [
    "## Module Configuration"
   ]
  },
  {
   "cell_type": "code",
   "execution_count": 21,
   "metadata": {},
   "outputs": [],
   "source": [
    "from idstools.data_explorer import DataExplorer\n",
    "from idstools._config import _idstools, pprint_dynaconf"
   ]
  },
  {
   "cell_type": "markdown",
   "metadata": {},
   "source": [
    "We have multiple options to configure the DataExplorer to analyze the BikeRentalDaily_train.csv data.\n",
    "\n",
    "- Load the default set of parameters and adjust them to our needs. In this case all possible parameters are initialized and can be set according the the exploration steps that should be done. \n",
    "\n",
    "- Initialize the class with in cell defined configuration."
   ]
  },
  {
   "cell_type": "code",
   "execution_count": 22,
   "metadata": {},
   "outputs": [
    {
     "data": {
      "text/markdown": [
       "```yaml\n",
       "DEFAULT:\n",
       "  data_explorer:\n",
       "    DataExplorer:\n",
       "      output_path: null\n",
       "      input_path: data/BikeRentalDaily_train.csv\n",
       "      input_delimiter: null\n",
       "      label: null\n",
       "      pipeline:\n",
       "        descriptive_analysis: null\n",
       "        missing_value_analysis: null\n",
       "        correlation_analysis: null\n",
       "        outlier_analysis: null\n",
       "        distribution_analysis: null\n",
       "        scatter_analysis: null\n",
       "  data_preparation:\n",
       "    DataPreparation:\n",
       "      output_path: null\n",
       "      input_path: null\n",
       "      input_delimiter: null\n",
       "      pipeline:\n",
       "        _SimpleImputer:\n",
       "        - target: null\n",
       "          config:\n",
       "            strategy: null\n",
       "        _OneHotEncoder:\n",
       "        - target: null\n",
       "          config:\n",
       "            prefix: null\n",
       "            dtype: null\n",
       "        _FeatureDropper:\n",
       "        - target: null\n",
       "          config:\n",
       "            axis: null\n",
       "            errors: null\n",
       "  model_optimization:\n",
       "    ModelOptimization:\n",
       "      output_path: null\n",
       "      evaluation:\n",
       "        metric: null\n",
       "        cv: null\n",
       "CUSTOM:\n",
       "  data_explorer:\n",
       "    DataExplorer:\n",
       "      output_path: null\n",
       "      input_path: data/BikeRentalDaily_train.csv\n",
       "      input_delimiter: ;\n",
       "      label: cnt\n",
       "      pipeline:\n",
       "        descriptive_analysis: true\n",
       "        missing_value_analysis: true\n",
       "        correlation_analysis: true\n",
       "        outlier_analysis: true\n",
       "        distribution_analysis: true\n",
       "        scatter_analysis: true\n",
       "  data_preparation:\n",
       "    DataPreparation:\n",
       "      output_path: null\n",
       "      input_path: data/BikeRentalDaily_test.csv\n",
       "      input_delimiter: ;\n",
       "      pipeline:\n",
       "        _FeatureDropper:\n",
       "        - target: instant\n",
       "          config:\n",
       "            axis: 1\n",
       "            errors: ignore\n",
       "        _CustomTransformer:\n",
       "        - func: replace_dot_with_hyphen\n",
       "          module: idstools._custom_transformer\n",
       "          config:\n",
       "            target: dteday\n",
       "  model_optimization:\n",
       "    ModelOptimization:\n",
       "      output_path: null\n",
       "      evaluation:\n",
       "        metric: mse\n",
       "        cv: 10\n",
       "\n",
       "```"
      ],
      "text/plain": [
       "<IPython.core.display.Markdown object>"
      ]
     },
     "metadata": {},
     "output_type": "display_data"
    }
   ],
   "source": [
    "pprint_dynaconf(_idstools, notebook=True)"
   ]
  },
  {
   "cell_type": "code",
   "execution_count": 23,
   "metadata": {},
   "outputs": [],
   "source": [
    "config = _idstools.custom.data_explorer.DataExplorer"
   ]
  },
  {
   "cell_type": "code",
   "execution_count": 24,
   "metadata": {},
   "outputs": [
    {
     "data": {
      "text/markdown": [
       "```yaml\n",
       "output_path: null\n",
       "input_path: data/BikeRentalDaily_train.csv\n",
       "input_delimiter: ;\n",
       "label: cnt\n",
       "pipeline:\n",
       "  descriptive_analysis: true\n",
       "  missing_value_analysis: true\n",
       "  correlation_analysis: true\n",
       "  outlier_analysis: true\n",
       "  distribution_analysis: true\n",
       "  scatter_analysis: true\n",
       "\n",
       "```"
      ],
      "text/plain": [
       "<IPython.core.display.Markdown object>"
      ]
     },
     "metadata": {},
     "output_type": "display_data"
    }
   ],
   "source": [
    "pprint_dynaconf(config, notebook=True)"
   ]
  },
  {
   "cell_type": "code",
   "execution_count": 25,
   "metadata": {},
   "outputs": [
    {
     "data": {
      "text/markdown": [
       "```yaml\n",
       "output_path: null\n",
       "input_path: data/BikeRentalDaily_train.csv\n",
       "input_delimiter: ;\n",
       "label: cnt\n",
       "pipeline:\n",
       "  descriptive_analysis: true\n",
       "  missing_value_analysis: true\n",
       "  correlation_analysis: true\n",
       "  outlier_analysis: true\n",
       "  distribution_analysis: true\n",
       "  scatter_analysis: true\n",
       "\n",
       "```"
      ],
      "text/plain": [
       "<IPython.core.display.Markdown object>"
      ]
     },
     "metadata": {},
     "output_type": "display_data"
    }
   ],
   "source": [
    "pprint_dynaconf(_idstools.custom.data_explorer.DataExplorer, notebook=True)"
   ]
  },
  {
   "cell_type": "code",
   "execution_count": 26,
   "metadata": {},
   "outputs": [],
   "source": [
    "data_explorer_config = config"
   ]
  },
  {
   "cell_type": "code",
   "execution_count": 27,
   "metadata": {},
   "outputs": [
    {
     "name": "stderr",
     "output_type": "stream",
     "text": [
      "2024-02-03 16:22:16,064 [data_explorer] [INFO] - Initializing DataExplorer\n",
      "2024-02-03 16:22:16,065 [data_explorer] [INFO] - Using label: cnt\n",
      "2024-02-03 16:22:16,065 [data_explorer] [INFO] - Output path not provided.\n",
      "Using default path: /home/davidrmn/Studies/introduction-data-science/results\n",
      "2024-02-03 16:22:16,066 [data_explorer] [INFO] - Pipeline configuration:\n",
      "descriptive_analysis: true\n",
      "missing_value_analysis: true\n",
      "correlation_analysis: true\n",
      "outlier_analysis: true\n",
      "distribution_analysis: true\n",
      "scatter_analysis: true\n",
      "\n",
      "2024-02-03 16:22:16,066 [_helpers] [INFO] - Reading data from:\n",
      "/home/davidrmn/Studies/introduction-data-science/data/BikeRentalDaily_train.csv\n"
     ]
    }
   ],
   "source": [
    "my_data_explorer = DataExplorer(**data_explorer_config)"
   ]
  },
  {
   "cell_type": "code",
   "execution_count": 28,
   "metadata": {},
   "outputs": [],
   "source": [
    "result = my_data_explorer.descriptive_analysis()"
   ]
  },
  {
   "cell_type": "markdown",
   "metadata": {},
   "source": [
    "## Another example of custom transformer"
   ]
  },
  {
   "cell_type": "markdown",
   "metadata": {},
   "source": [
    "Simply start by importing the configuration. As always, you can provide your own configuration or load and edit the default one to see what parameters are possible to edit."
   ]
  },
  {
   "cell_type": "code",
   "execution_count": 29,
   "metadata": {},
   "outputs": [],
   "source": [
    "from idstools._config import _idstools, pprint_dynaconf"
   ]
  },
  {
   "cell_type": "markdown",
   "metadata": {},
   "source": [
    "Load the transformer config of the _CustomTransformer defined in the custom pipeline as an example."
   ]
  },
  {
   "cell_type": "code",
   "execution_count": 30,
   "metadata": {},
   "outputs": [],
   "source": [
    "transformer_config = _idstools.custom.data_preparation.DataPreparation.pipeline._CustomTransformer"
   ]
  },
  {
   "cell_type": "markdown",
   "metadata": {},
   "source": [
    "Now show what is configured to execute in this step of the data preparation. As you can see there is a function referenced that is part of the _custom_piplines module of the idstools package."
   ]
  },
  {
   "cell_type": "code",
   "execution_count": 31,
   "metadata": {},
   "outputs": [
    {
     "data": {
      "text/markdown": [
       "```yaml\n",
       "- func: replace_dot_with_hyphen\n",
       "  module: idstools._custom_transformer\n",
       "  config:\n",
       "    target: dteday\n",
       "\n",
       "```"
      ],
      "text/plain": [
       "<IPython.core.display.Markdown object>"
      ]
     },
     "metadata": {},
     "output_type": "display_data"
    }
   ],
   "source": [
    "pprint_dynaconf(transformer_config, notebook=True)"
   ]
  },
  {
   "cell_type": "markdown",
   "metadata": {},
   "source": [
    "Here you can see how the function is implemented in the module. \n",
    "\n",
    "IMPORTANT: Each function for the _CustomTransformer takes the DataFrame with which the DataPreparation Class of the data_perparation module was initialized and performs any implemented function on it. Based on the arguments provided, in this case there is only one argument: \"target\" which references a column in the DataFrame which has values from which all dots \".\" are getting replaced with hyphens \"-\"."
   ]
  },
  {
   "cell_type": "code",
   "execution_count": 32,
   "metadata": {},
   "outputs": [
    {
     "name": "stdout",
     "output_type": "stream",
     "text": [
      "import pandas as pd\n",
      "from idstools._helpers import setup_logging\n",
      "\n",
      "logger = setup_logging(__name__)\n",
      "\n",
      "def replace_dot_with_hyphen(df: pd.DataFrame, target: str) -> pd.DataFrame:\n",
      "    if target in df.columns:\n",
      "        df[target] = df[target].str.replace('.', '-', regex=False)\n",
      "    else:\n",
      "        logger.error(f\"Column '{target}' not found in DataFrame.\")\n",
      "    return df"
     ]
    }
   ],
   "source": [
    "!cat /home/davidrmn/Studies/introduction-data-science/src/idstools/_custom_transformer.py"
   ]
  },
  {
   "cell_type": "markdown",
   "metadata": {},
   "source": [
    "Now we can again show the whole DataPerparation config:"
   ]
  },
  {
   "cell_type": "code",
   "execution_count": 33,
   "metadata": {},
   "outputs": [
    {
     "data": {
      "text/markdown": [
       "```yaml\n",
       "output_path: null\n",
       "input_path: data/BikeRentalDaily_test.csv\n",
       "input_delimiter: ;\n",
       "pipeline:\n",
       "  _FeatureDropper:\n",
       "  - target: instant\n",
       "    config:\n",
       "      axis: 1\n",
       "      errors: ignore\n",
       "  _CustomTransformer:\n",
       "  - func: replace_dot_with_hyphen\n",
       "    module: idstools._custom_transformer\n",
       "    config:\n",
       "      target: dteday\n",
       "\n",
       "```"
      ],
      "text/plain": [
       "<IPython.core.display.Markdown object>"
      ]
     },
     "metadata": {},
     "output_type": "display_data"
    }
   ],
   "source": [
    "pprint_dynaconf(_idstools.custom.data_preparation.DataPreparation, notebook=True)"
   ]
  },
  {
   "cell_type": "markdown",
   "metadata": {},
   "source": [
    "I dont want to drop instant so I set the pipeline to only execute the _CustomTransformer:"
   ]
  },
  {
   "cell_type": "code",
   "execution_count": 34,
   "metadata": {},
   "outputs": [],
   "source": [
    "config = _idstools.custom.data_preparation.DataPreparation"
   ]
  },
  {
   "cell_type": "code",
   "execution_count": 35,
   "metadata": {},
   "outputs": [],
   "source": [
    "config.pipeline = {\"_CustomTransformer\" : transformer_config}"
   ]
  },
  {
   "cell_type": "code",
   "execution_count": 36,
   "metadata": {},
   "outputs": [
    {
     "data": {
      "text/markdown": [
       "```yaml\n",
       "output_path: null\n",
       "input_path: data/BikeRentalDaily_test.csv\n",
       "input_delimiter: ;\n",
       "pipeline:\n",
       "  _CustomTransformer:\n",
       "  - func: replace_dot_with_hyphen\n",
       "    module: idstools._custom_transformer\n",
       "    config:\n",
       "      target: dteday\n",
       "\n",
       "```"
      ],
      "text/plain": [
       "<IPython.core.display.Markdown object>"
      ]
     },
     "metadata": {},
     "output_type": "display_data"
    }
   ],
   "source": [
    "pprint_dynaconf(config, notebook=True)"
   ]
  },
  {
   "cell_type": "code",
   "execution_count": 37,
   "metadata": {},
   "outputs": [
    {
     "name": "stderr",
     "output_type": "stream",
     "text": [
      "2024-02-03 16:22:16,285 [data_preparation] [INFO] - Initializing DataPreparation\n",
      "2024-02-03 16:22:16,286 [data_preparation] [INFO] - Output path not provided.\n",
      "Using default path: /home/davidrmn/Studies/introduction-data-science/results\n",
      "2024-02-03 16:22:16,287 [data_preparation] [INFO] - Pipeline configuration:\n",
      "_CustomTransformer:\n",
      "- func: replace_dot_with_hyphen\n",
      "  module: idstools._custom_transformer\n",
      "  config:\n",
      "    target: dteday\n",
      "\n",
      "2024-02-03 16:22:16,288 [_helpers] [INFO] - Reading data from:\n",
      "/home/davidrmn/Studies/introduction-data-science/data/BikeRentalDaily_test.csv\n"
     ]
    }
   ],
   "source": [
    "from idstools.data_preparation import DataPreparation\n",
    "my_data_preparation = DataPreparation(**config) "
   ]
  },
  {
   "cell_type": "markdown",
   "metadata": {},
   "source": [
    "It worked so lets run the preconfigured pipeline of the DataPreparation instance we just created."
   ]
  },
  {
   "cell_type": "code",
   "execution_count": 38,
   "metadata": {},
   "outputs": [
    {
     "name": "stderr",
     "output_type": "stream",
     "text": [
      "2024-02-03 16:22:16,297 [data_preparation] [INFO] - Pipeline created.\n"
     ]
    },
    {
     "data": {
      "text/html": [
       "<style>#sk-container-id-2 {color: black;}#sk-container-id-2 pre{padding: 0;}#sk-container-id-2 div.sk-toggleable {background-color: white;}#sk-container-id-2 label.sk-toggleable__label {cursor: pointer;display: block;width: 100%;margin-bottom: 0;padding: 0.3em;box-sizing: border-box;text-align: center;}#sk-container-id-2 label.sk-toggleable__label-arrow:before {content: \"▸\";float: left;margin-right: 0.25em;color: #696969;}#sk-container-id-2 label.sk-toggleable__label-arrow:hover:before {color: black;}#sk-container-id-2 div.sk-estimator:hover label.sk-toggleable__label-arrow:before {color: black;}#sk-container-id-2 div.sk-toggleable__content {max-height: 0;max-width: 0;overflow: hidden;text-align: left;background-color: #f0f8ff;}#sk-container-id-2 div.sk-toggleable__content pre {margin: 0.2em;color: black;border-radius: 0.25em;background-color: #f0f8ff;}#sk-container-id-2 input.sk-toggleable__control:checked~div.sk-toggleable__content {max-height: 200px;max-width: 100%;overflow: auto;}#sk-container-id-2 input.sk-toggleable__control:checked~label.sk-toggleable__label-arrow:before {content: \"▾\";}#sk-container-id-2 div.sk-estimator input.sk-toggleable__control:checked~label.sk-toggleable__label {background-color: #d4ebff;}#sk-container-id-2 div.sk-label input.sk-toggleable__control:checked~label.sk-toggleable__label {background-color: #d4ebff;}#sk-container-id-2 input.sk-hidden--visually {border: 0;clip: rect(1px 1px 1px 1px);clip: rect(1px, 1px, 1px, 1px);height: 1px;margin: -1px;overflow: hidden;padding: 0;position: absolute;width: 1px;}#sk-container-id-2 div.sk-estimator {font-family: monospace;background-color: #f0f8ff;border: 1px dotted black;border-radius: 0.25em;box-sizing: border-box;margin-bottom: 0.5em;}#sk-container-id-2 div.sk-estimator:hover {background-color: #d4ebff;}#sk-container-id-2 div.sk-parallel-item::after {content: \"\";width: 100%;border-bottom: 1px solid gray;flex-grow: 1;}#sk-container-id-2 div.sk-label:hover label.sk-toggleable__label {background-color: #d4ebff;}#sk-container-id-2 div.sk-serial::before {content: \"\";position: absolute;border-left: 1px solid gray;box-sizing: border-box;top: 0;bottom: 0;left: 50%;z-index: 0;}#sk-container-id-2 div.sk-serial {display: flex;flex-direction: column;align-items: center;background-color: white;padding-right: 0.2em;padding-left: 0.2em;position: relative;}#sk-container-id-2 div.sk-item {position: relative;z-index: 1;}#sk-container-id-2 div.sk-parallel {display: flex;align-items: stretch;justify-content: center;background-color: white;position: relative;}#sk-container-id-2 div.sk-item::before, #sk-container-id-2 div.sk-parallel-item::before {content: \"\";position: absolute;border-left: 1px solid gray;box-sizing: border-box;top: 0;bottom: 0;left: 50%;z-index: -1;}#sk-container-id-2 div.sk-parallel-item {display: flex;flex-direction: column;z-index: 1;position: relative;background-color: white;}#sk-container-id-2 div.sk-parallel-item:first-child::after {align-self: flex-end;width: 50%;}#sk-container-id-2 div.sk-parallel-item:last-child::after {align-self: flex-start;width: 50%;}#sk-container-id-2 div.sk-parallel-item:only-child::after {width: 0;}#sk-container-id-2 div.sk-dashed-wrapped {border: 1px dashed gray;margin: 0 0.4em 0.5em 0.4em;box-sizing: border-box;padding-bottom: 0.4em;background-color: white;}#sk-container-id-2 div.sk-label label {font-family: monospace;font-weight: bold;display: inline-block;line-height: 1.2em;}#sk-container-id-2 div.sk-label-container {text-align: center;}#sk-container-id-2 div.sk-container {/* jupyter's `normalize.less` sets `[hidden] { display: none; }` but bootstrap.min.css set `[hidden] { display: none !important; }` so we also need the `!important` here to be able to override the default hidden behavior on the sphinx rendered scikit-learn.org. See: https://github.com/scikit-learn/scikit-learn/issues/21755 */display: inline-block !important;position: relative;}#sk-container-id-2 div.sk-text-repr-fallback {display: none;}</style><div id=\"sk-container-id-2\" class=\"sk-top-container\"><div class=\"sk-text-repr-fallback\"><pre>Pipeline(steps=[(&#x27;_CustomTransformer&#x27;,\n",
       "                 _CustomTransformer(config=&lt;BoxList: [{&#x27;func&#x27;: &#x27;replace_dot_with_hyphen&#x27;, &#x27;module&#x27;: &#x27;idstools._custom_transformer&#x27;, &#x27;config&#x27;: {&#x27;target&#x27;: &#x27;dteday&#x27;}}]&gt;))])</pre><b>In a Jupyter environment, please rerun this cell to show the HTML representation or trust the notebook. <br />On GitHub, the HTML representation is unable to render, please try loading this page with nbviewer.org.</b></div><div class=\"sk-container\" hidden><div class=\"sk-item sk-dashed-wrapped\"><div class=\"sk-label-container\"><div class=\"sk-label sk-toggleable\"><input class=\"sk-toggleable__control sk-hidden--visually\" id=\"sk-estimator-id-4\" type=\"checkbox\" ><label for=\"sk-estimator-id-4\" class=\"sk-toggleable__label sk-toggleable__label-arrow\">Pipeline</label><div class=\"sk-toggleable__content\"><pre>Pipeline(steps=[(&#x27;_CustomTransformer&#x27;,\n",
       "                 _CustomTransformer(config=&lt;BoxList: [{&#x27;func&#x27;: &#x27;replace_dot_with_hyphen&#x27;, &#x27;module&#x27;: &#x27;idstools._custom_transformer&#x27;, &#x27;config&#x27;: {&#x27;target&#x27;: &#x27;dteday&#x27;}}]&gt;))])</pre></div></div></div><div class=\"sk-serial\"><div class=\"sk-item\"><div class=\"sk-estimator sk-toggleable\"><input class=\"sk-toggleable__control sk-hidden--visually\" id=\"sk-estimator-id-5\" type=\"checkbox\" ><label for=\"sk-estimator-id-5\" class=\"sk-toggleable__label sk-toggleable__label-arrow\">_CustomTransformer</label><div class=\"sk-toggleable__content\"><pre>_CustomTransformer(config=&lt;BoxList: [{&#x27;func&#x27;: &#x27;replace_dot_with_hyphen&#x27;, &#x27;module&#x27;: &#x27;idstools._custom_transformer&#x27;, &#x27;config&#x27;: {&#x27;target&#x27;: &#x27;dteday&#x27;}}]&gt;)</pre></div></div></div></div></div></div></div>"
      ],
      "text/plain": [
       "Pipeline(steps=[('_CustomTransformer',\n",
       "                 _CustomTransformer(config=<BoxList: [{'func': 'replace_dot_with_hyphen', 'module': 'idstools._custom_transformer', 'config': {'target': 'dteday'}}]>))])"
      ]
     },
     "execution_count": 38,
     "metadata": {},
     "output_type": "execute_result"
    }
   ],
   "source": [
    "my_data_preparation.build_pipeline(config.pipeline)"
   ]
  },
  {
   "cell_type": "code",
   "execution_count": 39,
   "metadata": {},
   "outputs": [
    {
     "name": "stderr",
     "output_type": "stream",
     "text": [
      "2024-02-03 16:22:16,315 [data_preparation] [INFO] - Pipeline step _CustomTransformer has been processed.\n"
     ]
    },
    {
     "data": {
      "text/html": [
       "<div>\n",
       "<style scoped>\n",
       "    .dataframe tbody tr th:only-of-type {\n",
       "        vertical-align: middle;\n",
       "    }\n",
       "\n",
       "    .dataframe tbody tr th {\n",
       "        vertical-align: top;\n",
       "    }\n",
       "\n",
       "    .dataframe thead th {\n",
       "        text-align: right;\n",
       "    }\n",
       "</style>\n",
       "<table border=\"1\" class=\"dataframe\">\n",
       "  <thead>\n",
       "    <tr style=\"text-align: right;\">\n",
       "      <th></th>\n",
       "      <th>instant</th>\n",
       "      <th>dteday</th>\n",
       "      <th>season</th>\n",
       "      <th>yr</th>\n",
       "      <th>mnth</th>\n",
       "      <th>holiday</th>\n",
       "      <th>weekday</th>\n",
       "      <th>workingday</th>\n",
       "      <th>weathersit</th>\n",
       "      <th>temp</th>\n",
       "      <th>atemp</th>\n",
       "      <th>hum</th>\n",
       "      <th>windspeed</th>\n",
       "      <th>leaflets</th>\n",
       "      <th>price reduction</th>\n",
       "      <th>casual</th>\n",
       "      <th>registered</th>\n",
       "      <th>cnt</th>\n",
       "    </tr>\n",
       "  </thead>\n",
       "  <tbody>\n",
       "    <tr>\n",
       "      <th>0</th>\n",
       "      <td>299</td>\n",
       "      <td>26-10-2011</td>\n",
       "      <td>4.0</td>\n",
       "      <td>0</td>\n",
       "      <td>10</td>\n",
       "      <td>0</td>\n",
       "      <td>3</td>\n",
       "      <td>1</td>\n",
       "      <td>2</td>\n",
       "      <td>19.37</td>\n",
       "      <td>0.47</td>\n",
       "      <td>108.06</td>\n",
       "      <td>0.15</td>\n",
       "      <td>605</td>\n",
       "      <td>0</td>\n",
       "      <td>404</td>\n",
       "      <td>3490</td>\n",
       "      <td>3894</td>\n",
       "    </tr>\n",
       "    <tr>\n",
       "      <th>1</th>\n",
       "      <td>458</td>\n",
       "      <td>02-04-2012</td>\n",
       "      <td>2.0</td>\n",
       "      <td>1</td>\n",
       "      <td>4</td>\n",
       "      <td>0</td>\n",
       "      <td>1</td>\n",
       "      <td>1</td>\n",
       "      <td>1</td>\n",
       "      <td>17.36</td>\n",
       "      <td>0.43</td>\n",
       "      <td>75.65</td>\n",
       "      <td>0.31</td>\n",
       "      <td>518</td>\n",
       "      <td>0</td>\n",
       "      <td>1208</td>\n",
       "      <td>4728</td>\n",
       "      <td>5936</td>\n",
       "    </tr>\n",
       "    <tr>\n",
       "      <th>2</th>\n",
       "      <td>687</td>\n",
       "      <td>17-11-2012</td>\n",
       "      <td>4.0</td>\n",
       "      <td>1</td>\n",
       "      <td>11</td>\n",
       "      <td>0</td>\n",
       "      <td>6</td>\n",
       "      <td>0</td>\n",
       "      <td>1</td>\n",
       "      <td>13.00</td>\n",
       "      <td>0.33</td>\n",
       "      <td>81.81</td>\n",
       "      <td>0.18</td>\n",
       "      <td>766</td>\n",
       "      <td>0</td>\n",
       "      <td>1313</td>\n",
       "      <td>4316</td>\n",
       "      <td>5629</td>\n",
       "    </tr>\n",
       "    <tr>\n",
       "      <th>3</th>\n",
       "      <td>346</td>\n",
       "      <td>12-12-2011</td>\n",
       "      <td>4.0</td>\n",
       "      <td>0</td>\n",
       "      <td>12</td>\n",
       "      <td>0</td>\n",
       "      <td>-1</td>\n",
       "      <td>1</td>\n",
       "      <td>1</td>\n",
       "      <td>9.53</td>\n",
       "      <td>0.27</td>\n",
       "      <td>NaN</td>\n",
       "      <td>0.06</td>\n",
       "      <td>739</td>\n",
       "      <td>0</td>\n",
       "      <td>143</td>\n",
       "      <td>3167</td>\n",
       "      <td>3310</td>\n",
       "    </tr>\n",
       "    <tr>\n",
       "      <th>4</th>\n",
       "      <td>291</td>\n",
       "      <td>18-10-2011</td>\n",
       "      <td>4.0</td>\n",
       "      <td>0</td>\n",
       "      <td>10</td>\n",
       "      <td>0</td>\n",
       "      <td>2</td>\n",
       "      <td>1</td>\n",
       "      <td>2</td>\n",
       "      <td>21.30</td>\n",
       "      <td>0.52</td>\n",
       "      <td>105.25</td>\n",
       "      <td>0.11</td>\n",
       "      <td>463</td>\n",
       "      <td>0</td>\n",
       "      <td>637</td>\n",
       "      <td>4111</td>\n",
       "      <td>4748</td>\n",
       "    </tr>\n",
       "    <tr>\n",
       "      <th>...</th>\n",
       "      <td>...</td>\n",
       "      <td>...</td>\n",
       "      <td>...</td>\n",
       "      <td>...</td>\n",
       "      <td>...</td>\n",
       "      <td>...</td>\n",
       "      <td>...</td>\n",
       "      <td>...</td>\n",
       "      <td>...</td>\n",
       "      <td>...</td>\n",
       "      <td>...</td>\n",
       "      <td>...</td>\n",
       "      <td>...</td>\n",
       "      <td>...</td>\n",
       "      <td>...</td>\n",
       "      <td>...</td>\n",
       "      <td>...</td>\n",
       "      <td>...</td>\n",
       "    </tr>\n",
       "    <tr>\n",
       "      <th>127</th>\n",
       "      <td>426</td>\n",
       "      <td>01-03-2012</td>\n",
       "      <td>1.0</td>\n",
       "      <td>1</td>\n",
       "      <td>3</td>\n",
       "      <td>0</td>\n",
       "      <td>4</td>\n",
       "      <td>1</td>\n",
       "      <td>1</td>\n",
       "      <td>19.43</td>\n",
       "      <td>0.48</td>\n",
       "      <td>92.31</td>\n",
       "      <td>0.23</td>\n",
       "      <td>777</td>\n",
       "      <td>0</td>\n",
       "      <td>325</td>\n",
       "      <td>4665</td>\n",
       "      <td>4990</td>\n",
       "    </tr>\n",
       "    <tr>\n",
       "      <th>128</th>\n",
       "      <td>547</td>\n",
       "      <td>30-06-2012</td>\n",
       "      <td>3.0</td>\n",
       "      <td>1</td>\n",
       "      <td>6</td>\n",
       "      <td>0</td>\n",
       "      <td>6</td>\n",
       "      <td>0</td>\n",
       "      <td>1</td>\n",
       "      <td>30.60</td>\n",
       "      <td>0.69</td>\n",
       "      <td>90.19</td>\n",
       "      <td>0.16</td>\n",
       "      <td>981</td>\n",
       "      <td>0</td>\n",
       "      <td>1455</td>\n",
       "      <td>4232</td>\n",
       "      <td>5687</td>\n",
       "    </tr>\n",
       "    <tr>\n",
       "      <th>129</th>\n",
       "      <td>271</td>\n",
       "      <td>28-09-2011</td>\n",
       "      <td>4.0</td>\n",
       "      <td>0</td>\n",
       "      <td>9</td>\n",
       "      <td>0</td>\n",
       "      <td>-1</td>\n",
       "      <td>1</td>\n",
       "      <td>2</td>\n",
       "      <td>25.40</td>\n",
       "      <td>0.58</td>\n",
       "      <td>127.31</td>\n",
       "      <td>0.15</td>\n",
       "      <td>577</td>\n",
       "      <td>0</td>\n",
       "      <td>480</td>\n",
       "      <td>3427</td>\n",
       "      <td>3907</td>\n",
       "    </tr>\n",
       "    <tr>\n",
       "      <th>130</th>\n",
       "      <td>180</td>\n",
       "      <td>29-06-2011</td>\n",
       "      <td>3.0</td>\n",
       "      <td>0</td>\n",
       "      <td>6</td>\n",
       "      <td>0</td>\n",
       "      <td>3</td>\n",
       "      <td>1</td>\n",
       "      <td>1</td>\n",
       "      <td>29.13</td>\n",
       "      <td>0.65</td>\n",
       "      <td>74.69</td>\n",
       "      <td>0.26</td>\n",
       "      <td>585</td>\n",
       "      <td>0</td>\n",
       "      <td>848</td>\n",
       "      <td>4377</td>\n",
       "      <td>5225</td>\n",
       "    </tr>\n",
       "    <tr>\n",
       "      <th>131</th>\n",
       "      <td>387</td>\n",
       "      <td>22-01-2012</td>\n",
       "      <td>1.0</td>\n",
       "      <td>1</td>\n",
       "      <td>1</td>\n",
       "      <td>0</td>\n",
       "      <td>0</td>\n",
       "      <td>0</td>\n",
       "      <td>2</td>\n",
       "      <td>6.50</td>\n",
       "      <td>0.16</td>\n",
       "      <td>119.44</td>\n",
       "      <td>0.20</td>\n",
       "      <td>651</td>\n",
       "      <td>0</td>\n",
       "      <td>196</td>\n",
       "      <td>1781</td>\n",
       "      <td>1977</td>\n",
       "    </tr>\n",
       "  </tbody>\n",
       "</table>\n",
       "<p>132 rows × 18 columns</p>\n",
       "</div>"
      ],
      "text/plain": [
       "     instant      dteday  season  yr  mnth  holiday  weekday  workingday  \\\n",
       "0        299  26-10-2011     4.0   0    10        0        3           1   \n",
       "1        458  02-04-2012     2.0   1     4        0        1           1   \n",
       "2        687  17-11-2012     4.0   1    11        0        6           0   \n",
       "3        346  12-12-2011     4.0   0    12        0       -1           1   \n",
       "4        291  18-10-2011     4.0   0    10        0        2           1   \n",
       "..       ...         ...     ...  ..   ...      ...      ...         ...   \n",
       "127      426  01-03-2012     1.0   1     3        0        4           1   \n",
       "128      547  30-06-2012     3.0   1     6        0        6           0   \n",
       "129      271  28-09-2011     4.0   0     9        0       -1           1   \n",
       "130      180  29-06-2011     3.0   0     6        0        3           1   \n",
       "131      387  22-01-2012     1.0   1     1        0        0           0   \n",
       "\n",
       "     weathersit   temp  atemp     hum  windspeed  leaflets  price reduction  \\\n",
       "0             2  19.37   0.47  108.06       0.15       605                0   \n",
       "1             1  17.36   0.43   75.65       0.31       518                0   \n",
       "2             1  13.00   0.33   81.81       0.18       766                0   \n",
       "3             1   9.53   0.27     NaN       0.06       739                0   \n",
       "4             2  21.30   0.52  105.25       0.11       463                0   \n",
       "..          ...    ...    ...     ...        ...       ...              ...   \n",
       "127           1  19.43   0.48   92.31       0.23       777                0   \n",
       "128           1  30.60   0.69   90.19       0.16       981                0   \n",
       "129           2  25.40   0.58  127.31       0.15       577                0   \n",
       "130           1  29.13   0.65   74.69       0.26       585                0   \n",
       "131           2   6.50   0.16  119.44       0.20       651                0   \n",
       "\n",
       "     casual  registered   cnt  \n",
       "0       404        3490  3894  \n",
       "1      1208        4728  5936  \n",
       "2      1313        4316  5629  \n",
       "3       143        3167  3310  \n",
       "4       637        4111  4748  \n",
       "..      ...         ...   ...  \n",
       "127     325        4665  4990  \n",
       "128    1455        4232  5687  \n",
       "129     480        3427  3907  \n",
       "130     848        4377  5225  \n",
       "131     196        1781  1977  \n",
       "\n",
       "[132 rows x 18 columns]"
      ]
     },
     "execution_count": 39,
     "metadata": {},
     "output_type": "execute_result"
    }
   ],
   "source": [
    "my_data_preparation.run_pipeline(config.pipeline)"
   ]
  },
  {
   "cell_type": "markdown",
   "metadata": {},
   "source": [
    "The two steps above can also be introduced by the run method of the class. Btw, each class of the package has a run method to orchestrate the class."
   ]
  },
  {
   "cell_type": "code",
   "execution_count": 40,
   "metadata": {},
   "outputs": [
    {
     "name": "stderr",
     "output_type": "stream",
     "text": [
      "2024-02-03 16:22:16,328 [data_preparation] [INFO] - Pipeline created.\n",
      "2024-02-03 16:22:16,330 [data_preparation] [INFO] - Pipeline step _CustomTransformer has been processed.\n",
      "2024-02-03 16:22:16,331 [_helpers] [INFO] - Writing data to:\n",
      "/home/davidrmn/Studies/introduction-data-science/results/BikeRentalDaily_test_processed.csv\n"
     ]
    }
   ],
   "source": [
    "my_data_preparation.run()"
   ]
  },
  {
   "cell_type": "markdown",
   "metadata": {},
   "source": [
    "As you can see now this also automatically writes the results to the output_path instead of returning it. Of course you can also save it manually after build and run ;)"
   ]
  },
  {
   "cell_type": "code",
   "execution_count": 41,
   "metadata": {},
   "outputs": [
    {
     "name": "stderr",
     "output_type": "stream",
     "text": [
      "2024-02-03 16:22:16,338 [_helpers] [INFO] - Writing data to:\n",
      "/home/davidrmn/Studies/introduction-data-science/results/BikeRentalDaily_test_processed.csv\n"
     ]
    }
   ],
   "source": [
    "my_data_preparation.write_data()"
   ]
  },
  {
   "cell_type": "markdown",
   "metadata": {},
   "source": [
    "This project is still in development but imagine what can be automated and build with it :)"
   ]
  },
  {
   "cell_type": "markdown",
   "metadata": {},
   "source": [
    "Cheers"
   ]
  }
 ],
 "metadata": {
  "kernelspec": {
   "display_name": "introduction-data-science",
   "language": "python",
   "name": "introduction-data-science"
  },
  "language_info": {
   "codemirror_mode": {
    "name": "ipython",
    "version": 3
   },
   "file_extension": ".py",
   "mimetype": "text/x-python",
   "name": "python",
   "nbconvert_exporter": "python",
   "pygments_lexer": "ipython3",
   "version": "3.11.5"
  }
 },
 "nbformat": 4,
 "nbformat_minor": 2
}
