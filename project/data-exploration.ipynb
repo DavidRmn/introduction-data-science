{
 "cells": [
  {
   "cell_type": "markdown",
   "metadata": {},
   "source": [
    "# Data Exploration Module Test"
   ]
  },
  {
   "cell_type": "markdown",
   "metadata": {},
   "source": [
    "# TODO:\n",
    "    - head (/)\n",
    "    - info (/)\n",
    "    - matrix (missing values) (/)\n",
    "    - bar (missing values) (/)\n",
    "    - imports Jupyter Notebook (/)\n",
    "    - fix plot resolution (/)\n",
    "\n",
    "    - data dict (types, e.g. nominal, categorial)\n",
    "    - box (numeric, deviation)\n",
    "    - bar/mosaic/ (categorial, deviation)\n",
    "    - predictor/feature correlation (heatmap/scatter)\n",
    "    - histogram (skewed/deviation)\n"
   ]
  },
  {
   "cell_type": "code",
   "execution_count": 2,
   "metadata": {},
   "outputs": [],
   "source": [
    "import idstools.data_explorer as idsde"
   ]
  },
  {
   "cell_type": "code",
   "execution_count": 3,
   "metadata": {},
   "outputs": [],
   "source": [
    "test_data = \"data/BikeRentalDaily_test.csv\"\n",
    "train_data = \"data/BikeRentalDaily_train.csv\""
   ]
  },
  {
   "cell_type": "code",
   "execution_count": 8,
   "metadata": {},
   "outputs": [
    {
     "name": "stderr",
     "output_type": "stream",
     "text": [
      "2024-02-03 14:55:21,307 [data_explorer] [INFO] - Initializing DataExplorer\n",
      "2024-02-03 14:55:21,308 [data_explorer] [INFO] - No label provided.\n",
      "2024-02-03 14:55:21,308 [data_explorer] [INFO] - Output path not provided.\n",
      "Using default path: /home/davidrmn/Studies/introduction-data-science/results\n",
      "2024-02-03 14:55:21,309 [data_explorer] [INFO] - Please provide a pipeline configuration.\n",
      "2024-02-03 14:55:21,309 [_helpers] [INFO] - Reading data from:\n",
      "/home/davidrmn/Studies/introduction-data-science/data/BikeRentalDaily_train.csv\n"
     ]
    }
   ],
   "source": [
    "data_explorer = idsde.DataExplorer(input_path=train_data, input_delimiter=\";\")"
   ]
  },
  {
   "cell_type": "code",
   "execution_count": 9,
   "metadata": {},
   "outputs": [],
   "source": [
    "data_explorer.descriptive_analysis()"
   ]
  },
  {
   "cell_type": "code",
   "execution_count": 10,
   "metadata": {},
   "outputs": [
    {
     "data": {
      "text/html": [
       "<div>\n",
       "<style scoped>\n",
       "    .dataframe tbody tr th:only-of-type {\n",
       "        vertical-align: middle;\n",
       "    }\n",
       "\n",
       "    .dataframe tbody tr th {\n",
       "        vertical-align: top;\n",
       "    }\n",
       "\n",
       "    .dataframe thead th {\n",
       "        text-align: right;\n",
       "    }\n",
       "</style>\n",
       "<table border=\"1\" class=\"dataframe\">\n",
       "  <thead>\n",
       "    <tr style=\"text-align: right;\">\n",
       "      <th></th>\n",
       "      <th>0</th>\n",
       "      <th>1</th>\n",
       "      <th>2</th>\n",
       "      <th>3</th>\n",
       "      <th>4</th>\n",
       "    </tr>\n",
       "  </thead>\n",
       "  <tbody>\n",
       "    <tr>\n",
       "      <th>instant</th>\n",
       "      <td>154</td>\n",
       "      <td>685</td>\n",
       "      <td>368</td>\n",
       "      <td>472</td>\n",
       "      <td>442</td>\n",
       "    </tr>\n",
       "    <tr>\n",
       "      <th>dteday</th>\n",
       "      <td>03.06.2011</td>\n",
       "      <td>15.11.2012</td>\n",
       "      <td>03.01.2012</td>\n",
       "      <td>16.04.2012</td>\n",
       "      <td>17.03.2012</td>\n",
       "    </tr>\n",
       "    <tr>\n",
       "      <th>season</th>\n",
       "      <td>2.0</td>\n",
       "      <td>4.0</td>\n",
       "      <td>1.0</td>\n",
       "      <td>2.0</td>\n",
       "      <td>1.0</td>\n",
       "    </tr>\n",
       "    <tr>\n",
       "      <th>yr</th>\n",
       "      <td>0</td>\n",
       "      <td>1</td>\n",
       "      <td>1</td>\n",
       "      <td>1</td>\n",
       "      <td>1</td>\n",
       "    </tr>\n",
       "    <tr>\n",
       "      <th>mnth</th>\n",
       "      <td>6</td>\n",
       "      <td>11</td>\n",
       "      <td>1</td>\n",
       "      <td>4</td>\n",
       "      <td>3</td>\n",
       "    </tr>\n",
       "    <tr>\n",
       "      <th>holiday</th>\n",
       "      <td>0</td>\n",
       "      <td>0</td>\n",
       "      <td>0</td>\n",
       "      <td>1</td>\n",
       "      <td>0</td>\n",
       "    </tr>\n",
       "    <tr>\n",
       "      <th>weekday</th>\n",
       "      <td>5</td>\n",
       "      <td>4</td>\n",
       "      <td>2</td>\n",
       "      <td>1</td>\n",
       "      <td>-1</td>\n",
       "    </tr>\n",
       "    <tr>\n",
       "      <th>workingday</th>\n",
       "      <td>1</td>\n",
       "      <td>1</td>\n",
       "      <td>1</td>\n",
       "      <td>0</td>\n",
       "      <td>0</td>\n",
       "    </tr>\n",
       "    <tr>\n",
       "      <th>weathersit</th>\n",
       "      <td>1</td>\n",
       "      <td>2</td>\n",
       "      <td>1</td>\n",
       "      <td>1</td>\n",
       "      <td>2</td>\n",
       "    </tr>\n",
       "    <tr>\n",
       "      <th>temp</th>\n",
       "      <td>24.8</td>\n",
       "      <td>12.87</td>\n",
       "      <td>6.0</td>\n",
       "      <td>26.57</td>\n",
       "      <td>20.57</td>\n",
       "    </tr>\n",
       "    <tr>\n",
       "      <th>atemp</th>\n",
       "      <td>0.59</td>\n",
       "      <td>0.32</td>\n",
       "      <td>0.13</td>\n",
       "      <td>0.61</td>\n",
       "      <td>0.51</td>\n",
       "    </tr>\n",
       "    <tr>\n",
       "      <th>hum</th>\n",
       "      <td>53.13</td>\n",
       "      <td>93.06</td>\n",
       "      <td>66.19</td>\n",
       "      <td>84.25</td>\n",
       "      <td>113.37</td>\n",
       "    </tr>\n",
       "    <tr>\n",
       "      <th>windspeed</th>\n",
       "      <td>0.25</td>\n",
       "      <td>0.15</td>\n",
       "      <td>0.37</td>\n",
       "      <td>0.28</td>\n",
       "      <td>0.11</td>\n",
       "    </tr>\n",
       "    <tr>\n",
       "      <th>leaflets</th>\n",
       "      <td>991</td>\n",
       "      <td>601</td>\n",
       "      <td>549</td>\n",
       "      <td>740</td>\n",
       "      <td>773</td>\n",
       "    </tr>\n",
       "    <tr>\n",
       "      <th>price reduction</th>\n",
       "      <td>0</td>\n",
       "      <td>0</td>\n",
       "      <td>0</td>\n",
       "      <td>0</td>\n",
       "      <td>1</td>\n",
       "    </tr>\n",
       "    <tr>\n",
       "      <th>casual</th>\n",
       "      <td>898</td>\n",
       "      <td>320</td>\n",
       "      <td>89</td>\n",
       "      <td>1198</td>\n",
       "      <td>3155</td>\n",
       "    </tr>\n",
       "    <tr>\n",
       "      <th>registered</th>\n",
       "      <td>4414</td>\n",
       "      <td>5125</td>\n",
       "      <td>2147</td>\n",
       "      <td>5172</td>\n",
       "      <td>4681</td>\n",
       "    </tr>\n",
       "    <tr>\n",
       "      <th>cnt</th>\n",
       "      <td>5312</td>\n",
       "      <td>5445</td>\n",
       "      <td>2236</td>\n",
       "      <td>6370</td>\n",
       "      <td>7836</td>\n",
       "    </tr>\n",
       "  </tbody>\n",
       "</table>\n",
       "</div>"
      ],
      "text/plain": [
       "                          0           1           2           3           4\n",
       "instant                 154         685         368         472         442\n",
       "dteday           03.06.2011  15.11.2012  03.01.2012  16.04.2012  17.03.2012\n",
       "season                  2.0         4.0         1.0         2.0         1.0\n",
       "yr                        0           1           1           1           1\n",
       "mnth                      6          11           1           4           3\n",
       "holiday                   0           0           0           1           0\n",
       "weekday                   5           4           2           1          -1\n",
       "workingday                1           1           1           0           0\n",
       "weathersit                1           2           1           1           2\n",
       "temp                   24.8       12.87         6.0       26.57       20.57\n",
       "atemp                  0.59        0.32        0.13        0.61        0.51\n",
       "hum                   53.13       93.06       66.19       84.25      113.37\n",
       "windspeed              0.25        0.15        0.37        0.28        0.11\n",
       "leaflets                991         601         549         740         773\n",
       "price reduction           0           0           0           0           1\n",
       "casual                  898         320          89        1198        3155\n",
       "registered             4414        5125        2147        5172        4681\n",
       "cnt                    5312        5445        2236        6370        7836"
      ]
     },
     "execution_count": 10,
     "metadata": {},
     "output_type": "execute_result"
    }
   ],
   "source": [
    "data_explorer.head"
   ]
  },
  {
   "cell_type": "code",
   "execution_count": 11,
   "metadata": {},
   "outputs": [],
   "source": [
    "data_explorer.correlation_analysis()"
   ]
  },
  {
   "cell_type": "markdown",
   "metadata": {},
   "source": [
    "![Correlation Heatmap](../results/BikeRentalDaily_train_correlation_heatmap.png)"
   ]
  },
  {
   "cell_type": "markdown",
   "metadata": {},
   "source": [
    "# Data Preparation Module Test"
   ]
  },
  {
   "cell_type": "code",
   "execution_count": 12,
   "metadata": {},
   "outputs": [],
   "source": [
    "import idstools.data_preparation as dp"
   ]
  },
  {
   "cell_type": "code",
   "execution_count": null,
   "metadata": {},
   "outputs": [],
   "source": [
    "test_data = \"data/BikeRentalDaily_test.csv\"\n",
    "train_data = \"data/BikeRentalDaily_train.csv\""
   ]
  },
  {
   "cell_type": "code",
   "execution_count": null,
   "metadata": {},
   "outputs": [],
   "source": [
    "data_preparation = dp.DataPreparation(input_path=train_data, output_path=\"results\")\n"
   ]
  },
  {
   "cell_type": "code",
   "execution_count": null,
   "metadata": {},
   "outputs": [],
   "source": [
    "import pandas as pd\n",
    "\n",
    "def get_wday_by_date(df, date_column, weekday_column):\n",
    "    # Define the weekday shift\n",
    "    weekday_shift = {\n",
    "        6: 0,\n",
    "        0: 1,\n",
    "        1: 2,\n",
    "        2: 3,\n",
    "        3: 4,\n",
    "        4: 5,\n",
    "        5: 6\n",
    "    }\n",
    "\n",
    "    # Convert the date column to datetime\n",
    "    df[date_column] = pd.to_datetime(df[date_column], format=\"%d.%m.%Y\")\n",
    "\n",
    "    # Calculate the weekday and map it\n",
    "    df[weekday_column] = df[date_column].dt.dayofweek.map(weekday_shift)\n",
    "\n",
    "    return df"
   ]
  },
  {
   "cell_type": "code",
   "execution_count": null,
   "metadata": {},
   "outputs": [],
   "source": [
    "pipeline_config = {\n",
    "    \"_SimpleImputer\": \n",
    "    [\n",
    "        {\n",
    "            \"target\": \"hum\",\n",
    "            \"config\": {\n",
    "                \"strategy\": \"mean\"\n",
    "            }\n",
    "        }\n",
    "    ],\n",
    "    \"_CustomTransformer\": \n",
    "    [\n",
    "        {\n",
    "            \"func\": get_wday_by_date,\n",
    "            \"config\": {\n",
    "                \"date_column\": \"dteday\",\n",
    "                \"weekday_column\": \"weekday\"\n",
    "            }\n",
    "        }\n",
    "    ]\n",
    "}"
   ]
  },
  {
   "cell_type": "code",
   "execution_count": null,
   "metadata": {},
   "outputs": [],
   "source": [
    "pipeline = data_preparation.build_pipeline(config=pipeline_config)\n",
    "pipeline"
   ]
  },
  {
   "cell_type": "code",
   "execution_count": null,
   "metadata": {},
   "outputs": [],
   "source": [
    "processed_data = data_preparation.run_pipeline(config=pipeline_config)"
   ]
  },
  {
   "cell_type": "code",
   "execution_count": null,
   "metadata": {},
   "outputs": [],
   "source": [
    "processed_data.head(5).T"
   ]
  },
  {
   "cell_type": "code",
   "execution_count": null,
   "metadata": {},
   "outputs": [],
   "source": [
    "processed_data.describe().T"
   ]
  },
  {
   "cell_type": "code",
   "execution_count": null,
   "metadata": {},
   "outputs": [],
   "source": [
    "from idstools._config import _idstools"
   ]
  },
  {
   "cell_type": "code",
   "execution_count": null,
   "metadata": {},
   "outputs": [],
   "source": [
    "_idstools[\"default\"][\"data_explorer\"][\"DataExplorer\"][\"input_path\"]"
   ]
  },
  {
   "cell_type": "code",
   "execution_count": null,
   "metadata": {},
   "outputs": [],
   "source": [
    "_idstools.default.data_explorer.DataExplorer.input_path"
   ]
  },
  {
   "cell_type": "markdown",
   "metadata": {
    "tags": []
   },
   "source": [
    "## Module Configuration"
   ]
  },
  {
   "cell_type": "code",
   "execution_count": null,
   "metadata": {},
   "outputs": [],
   "source": [
    "from idstools.data_explorer import DataExplorer\n",
    "from idstools._config import _idstools, pprint_dynaconf"
   ]
  },
  {
   "cell_type": "markdown",
   "metadata": {},
   "source": [
    "We have multiple options to configure the DataExplorer to analyze the BikeRentalDaily_train.csv data.\n",
    "\n",
    "- Load the default set of parameters and adjust them to our needs. In this case all possible parameters are initialized and can be set according the the exploration steps that should be done. \n",
    "\n",
    "- Initialize the class with in cell defined configuration."
   ]
  },
  {
   "cell_type": "code",
   "execution_count": null,
   "metadata": {},
   "outputs": [],
   "source": [
    "pprint_dynaconf(_idstools, notebook=True)"
   ]
  },
  {
   "cell_type": "code",
   "execution_count": null,
   "metadata": {},
   "outputs": [],
   "source": [
    "config = _idstools.default.data_explorer.DataExplorer"
   ]
  },
  {
   "cell_type": "code",
   "execution_count": null,
   "metadata": {},
   "outputs": [],
   "source": [
    "pprint_dynaconf(config, notebook=True)"
   ]
  },
  {
   "cell_type": "code",
   "execution_count": null,
   "metadata": {},
   "outputs": [],
   "source": [
    "pprint_dynaconf(_idstools.custom.data_explorer.DataExplorer, notebook=True)"
   ]
  },
  {
   "cell_type": "code",
   "execution_count": null,
   "metadata": {},
   "outputs": [],
   "source": [
    "data_explorer_config = config"
   ]
  },
  {
   "cell_type": "code",
   "execution_count": null,
   "metadata": {},
   "outputs": [],
   "source": [
    "data_explorer_config.input_path = \"/home/davidrmn/Studies/introduction-data-science/data/BikeRentalDaily_train.csv\""
   ]
  },
  {
   "cell_type": "code",
   "execution_count": null,
   "metadata": {},
   "outputs": [],
   "source": [
    "my_data_explorer = DataExplorer(**data_explorer_config)"
   ]
  },
  {
   "cell_type": "code",
   "execution_count": null,
   "metadata": {},
   "outputs": [],
   "source": [
    "result = my_data_explorer.descriptive_analysis()"
   ]
  },
  {
   "cell_type": "markdown",
   "metadata": {},
   "source": [
    "## Another example of custom transformer"
   ]
  },
  {
   "cell_type": "markdown",
   "metadata": {},
   "source": [
    "Simply start by importing the configuration. As always, you can provide your own configuration or load and edit the default one to see what parameters are possible to edit."
   ]
  },
  {
   "cell_type": "code",
   "execution_count": null,
   "metadata": {},
   "outputs": [],
   "source": [
    "from idstools._config import _idstools, pprint_dynaconf"
   ]
  },
  {
   "cell_type": "markdown",
   "metadata": {},
   "source": [
    "Load the transformer config of the _CustomTransformer defined in the custom pipeline as an example."
   ]
  },
  {
   "cell_type": "code",
   "execution_count": null,
   "metadata": {},
   "outputs": [],
   "source": [
    "transformer_config = _idstools.custom.data_preparation.DataPreparation.pipeline._CustomTransformer"
   ]
  },
  {
   "cell_type": "markdown",
   "metadata": {},
   "source": [
    "Now show what is configured to execute in this step of the data preparation. As you can see there is a function referenced that is part of the _custom_piplines module of the idstools package."
   ]
  },
  {
   "cell_type": "code",
   "execution_count": null,
   "metadata": {},
   "outputs": [],
   "source": [
    "pprint_dynaconf(transformer_config, notebook=True)"
   ]
  },
  {
   "cell_type": "markdown",
   "metadata": {},
   "source": [
    "Here you can see how the function is implemented in the module. \n",
    "\n",
    "IMPORTANT: Each function for the _CustomTransformer takes the DataFrame with which the DataPreparation Class of the data_perparation module was initialized and performs any implemented function on it. Based on the arguments provided, in this case there is only one argument: \"target\" which references a column in the DataFrame which has values from which all dots \".\" are getting replaced with hyphens \"-\"."
   ]
  },
  {
   "cell_type": "code",
   "execution_count": null,
   "metadata": {},
   "outputs": [],
   "source": [
    "!cat /home/davidrmn/Studies/introduction-data-science/src/idstools/_custom_transformer.py"
   ]
  },
  {
   "cell_type": "markdown",
   "metadata": {},
   "source": [
    "Now we can again show the whole DataPerparation config:"
   ]
  },
  {
   "cell_type": "code",
   "execution_count": null,
   "metadata": {},
   "outputs": [],
   "source": [
    "pprint_dynaconf(_idstools.custom.data_preparation.DataPreparation, notebook=True)"
   ]
  },
  {
   "cell_type": "markdown",
   "metadata": {},
   "source": [
    "I dont want to drop instant so I set the pipeline to only execute the _CustomTransformer:"
   ]
  },
  {
   "cell_type": "code",
   "execution_count": null,
   "metadata": {},
   "outputs": [],
   "source": [
    "config = _idstools.custom.data_preparation.DataPreparation"
   ]
  },
  {
   "cell_type": "code",
   "execution_count": null,
   "metadata": {},
   "outputs": [],
   "source": [
    "config.pipeline = {\"_CustomTransformer\" : transformer_config}"
   ]
  },
  {
   "cell_type": "code",
   "execution_count": null,
   "metadata": {},
   "outputs": [],
   "source": [
    "pprint_dynaconf(config, notebook=True)"
   ]
  },
  {
   "cell_type": "code",
   "execution_count": null,
   "metadata": {},
   "outputs": [],
   "source": [
    "from idstools.data_preparation import DataPreparation\n",
    "my_data_preparation = DataPreparation(**config) "
   ]
  },
  {
   "cell_type": "markdown",
   "metadata": {},
   "source": [
    "As you can see it almost worked! As I am in Jupyter the code resolves to the wrong path, need to fix this still. As a workaround we can set the Path as absolute Path.\n",
    "\n",
    "At the moment it is relative the the package root. But as this notebook which executes the code is not we need to adjust."
   ]
  },
  {
   "cell_type": "code",
   "execution_count": null,
   "metadata": {},
   "outputs": [],
   "source": [
    "config.input_path"
   ]
  },
  {
   "cell_type": "code",
   "execution_count": null,
   "metadata": {},
   "outputs": [],
   "source": [
    "config.input_path = \"/home/davidrmn/Studies/introduction-data-science/data/BikeRentalDaily_train.csv\""
   ]
  },
  {
   "cell_type": "markdown",
   "metadata": {},
   "source": [
    "Now lets try again."
   ]
  },
  {
   "cell_type": "code",
   "execution_count": null,
   "metadata": {},
   "outputs": [],
   "source": [
    "my_data_preparation = DataPreparation(**config) "
   ]
  },
  {
   "cell_type": "markdown",
   "metadata": {},
   "source": [
    "It worked so lets run the preconfigured pipeline of the DataPreparation instance we just created."
   ]
  },
  {
   "cell_type": "code",
   "execution_count": null,
   "metadata": {},
   "outputs": [],
   "source": [
    "my_data_preparation.build_pipeline(config.pipeline)"
   ]
  },
  {
   "cell_type": "code",
   "execution_count": null,
   "metadata": {},
   "outputs": [],
   "source": [
    "my_data_preparation.run_pipeline(config.pipeline)"
   ]
  },
  {
   "cell_type": "markdown",
   "metadata": {},
   "source": [
    "The two steps above can also be introduced by the run method of the class. Btw, each class of the package has a run method to orchestrate the class."
   ]
  },
  {
   "cell_type": "code",
   "execution_count": null,
   "metadata": {},
   "outputs": [],
   "source": [
    "my_data_preparation.run()"
   ]
  },
  {
   "cell_type": "markdown",
   "metadata": {},
   "source": [
    "As you can see now this also automatically writes the results to the output_path instead of returning it. Of course you can also save it manually after build and run ;)"
   ]
  },
  {
   "cell_type": "code",
   "execution_count": null,
   "metadata": {},
   "outputs": [],
   "source": [
    "my_data_preparation.write_data()"
   ]
  },
  {
   "cell_type": "markdown",
   "metadata": {},
   "source": [
    "This project is still in development but imagine what can be automated and build with it :)"
   ]
  },
  {
   "cell_type": "markdown",
   "metadata": {},
   "source": [
    "Cheers"
   ]
  },
  {
   "cell_type": "markdown",
   "metadata": {},
   "source": []
  }
 ],
 "metadata": {
  "kernelspec": {
   "display_name": "introduction-data-science",
   "language": "python",
   "name": "introduction-data-science"
  },
  "language_info": {
   "codemirror_mode": {
    "name": "ipython",
    "version": 3
   },
   "file_extension": ".py",
   "mimetype": "text/x-python",
   "name": "python",
   "nbconvert_exporter": "python",
   "pygments_lexer": "ipython3",
   "version": "3.11.5"
  }
 },
 "nbformat": 4,
 "nbformat_minor": 2
}
