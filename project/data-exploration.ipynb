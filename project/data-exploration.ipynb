{
 "cells": [
  {
   "cell_type": "markdown",
   "metadata": {},
   "source": [
    "# Data Exploration Module Test"
   ]
  },
  {
   "cell_type": "markdown",
   "metadata": {},
   "source": [
    "# TODO:\n",
    "    - head\n",
    "    - info\n",
    "    - data dict (types, e.g. nominal, categorial)\n",
    "    - matrix (missing values)\n",
    "    - bar (missing values)\n",
    "    - box (numeric, deviation)\n",
    "    - bar/mosaic/ (categorial, deviation)\n",
    "    - predictor/feature correlation (heatmap/scatter)\n",
    "    - histogram (skewed/deviation)\n"
   ]
  },
  {
   "cell_type": "code",
   "execution_count": null,
   "metadata": {},
   "outputs": [],
   "source": [
    "import idstools.data_explorer as idsde"
   ]
  },
  {
   "cell_type": "code",
   "execution_count": null,
   "metadata": {},
   "outputs": [],
   "source": [
    "test_data = \"../data/BikeRentalDaily_test.csv\"\n",
    "train_data = \"../data/BikeRentalDaily_train.csv\""
   ]
  },
  {
   "cell_type": "code",
   "execution_count": null,
   "metadata": {
    "tags": []
   },
   "outputs": [],
   "source": [
    "data_explorer_config = {\"input_file\": {\"path\": train_data, \"type\": \"csv\", \"sep\": \";\"}, \"output_path\": \"../results/\"}"
   ]
  },
  {
   "cell_type": "code",
   "execution_count": null,
   "metadata": {},
   "outputs": [],
   "source": [
    "data_explorer = idsde.data_explorer(data_explorer_config)"
   ]
  },
  {
   "cell_type": "code",
   "execution_count": null,
   "metadata": {},
   "outputs": [],
   "source": [
    "data_explorer.descriptive_analysis()\n",
    "data_explorer.description"
   ]
  },
  {
   "cell_type": "markdown",
   "metadata": {},
   "source": [
    "# Data Preparation Module Test"
   ]
  },
  {
   "cell_type": "code",
   "execution_count": null,
   "metadata": {},
   "outputs": [],
   "source": [
    "import idstools.data_preparation as dp"
   ]
  },
  {
   "cell_type": "code",
   "execution_count": null,
   "metadata": {},
   "outputs": [],
   "source": [
    "test_data = \"../data/BikeRentalDaily_test.csv\"\n",
    "train_data = \"../data/BikeRentalDaily_train.csv\""
   ]
  },
  {
   "cell_type": "code",
   "execution_count": null,
   "metadata": {},
   "outputs": [],
   "source": [
    "data_preparation_config = {\n",
    "    \"input_file\": {\n",
    "        \"path\": train_data,\n",
    "        \"type\": \"csv\",\n",
    "        \"sep\": \";\"\n",
    "    },\n",
    "    \"output_path\": None,\n",
    "}"
   ]
  },
  {
   "cell_type": "code",
   "execution_count": null,
   "metadata": {},
   "outputs": [],
   "source": [
    "data_preparation = dp.data_preparation(config=data_preparation_config)\n"
   ]
  },
  {
   "cell_type": "code",
   "execution_count": null,
   "metadata": {},
   "outputs": [],
   "source": [
    "import time\n",
    "import pandas as pd\n",
    "\n",
    "def get_wday_by_date(df, date_column, weekday_column):\n",
    "    # Define the weekday shift\n",
    "    weekday_shift = {\n",
    "        6: 0,\n",
    "        0: 1,\n",
    "        1: 2,\n",
    "        2: 3,\n",
    "        3: 4,\n",
    "        4: 5,\n",
    "        5: 6\n",
    "    }\n",
    "\n",
    "    # Convert the date column to datetime\n",
    "    df[date_column] = pd.to_datetime(df[date_column], format=\"%d.%m.%Y\")\n",
    "\n",
    "    # Calculate the weekday and map it\n",
    "    df[weekday_column] = df[date_column].dt.dayofweek.map(weekday_shift)\n",
    "\n",
    "    return df"
   ]
  },
  {
   "cell_type": "code",
   "execution_count": null,
   "metadata": {},
   "outputs": [],
   "source": [
    "pipeline_config = {\n",
    "        \"_SimpleImputer\": [\n",
    "            {\n",
    "                \"target\": \"hum\",\n",
    "                \"config\": {\n",
    "                    \"strategy\": \"mean\"\n",
    "                }\n",
    "            }\n",
    "        ],\n",
    "        \"_GenericDataFrameTransformer\": [\n",
    "        {\n",
    "            \"transform_func\": get_wday_by_date,\n",
    "            \"config\": {\n",
    "                \"date_column\": \"dteday\",\n",
    "                \"weekday_column\": \"weekday\"\n",
    "            }\n",
    "        }\n",
    "    ]\n",
    "}"
   ]
  },
  {
   "cell_type": "code",
   "execution_count": null,
   "metadata": {},
   "outputs": [],
   "source": [
    "pipeline = data_preparation.build_pipeline(config=pipeline_config)\n",
    "pipeline"
   ]
  },
  {
   "cell_type": "code",
   "execution_count": null,
   "metadata": {},
   "outputs": [],
   "source": [
    "processed_data = data_preparation.run_pipeline(config=pipeline_config)"
   ]
  },
  {
   "cell_type": "code",
   "execution_count": null,
   "metadata": {},
   "outputs": [],
   "source": [
    "processed_data.head(5).T"
   ]
  },
  {
   "cell_type": "code",
   "execution_count": null,
   "metadata": {},
   "outputs": [],
   "source": [
    "processed_data.describe().T"
   ]
  },
  {
   "cell_type": "code",
   "execution_count": 1,
   "metadata": {},
   "outputs": [],
   "source": [
    "from idstools._config import settings"
   ]
  },
  {
   "cell_type": "code",
   "execution_count": 2,
   "metadata": {},
   "outputs": [
    {
     "data": {
      "text/plain": [
       "'/home/davidrmn/Studies/introduction-data-science/data/BikeRentalDaily_train.csv'"
      ]
     },
     "execution_count": 2,
     "metadata": {},
     "output_type": "execute_result"
    }
   ],
   "source": [
    "settings[\"data_explorer\"][\"input_file\"][\"path\"]"
   ]
  },
  {
   "cell_type": "code",
   "execution_count": 3,
   "metadata": {},
   "outputs": [
    {
     "data": {
      "text/plain": [
       "'/home/davidrmn/Studies/introduction-data-science/data/BikeRentalDaily_train.csv'"
      ]
     },
     "execution_count": 3,
     "metadata": {},
     "output_type": "execute_result"
    }
   ],
   "source": [
    "settings.data_explorer.input_file.path"
   ]
  },
  {
   "cell_type": "code",
   "execution_count": null,
   "metadata": {},
   "outputs": [],
   "source": []
  }
 ],
 "metadata": {
  "kernelspec": {
   "display_name": "introduction-data-science",
   "language": "python",
   "name": "introduction-data-science"
  },
  "language_info": {
   "codemirror_mode": {
    "name": "ipython",
    "version": 3
   },
   "file_extension": ".py",
   "mimetype": "text/x-python",
   "name": "python",
   "nbconvert_exporter": "python",
   "pygments_lexer": "ipython3",
   "version": "3.11.5"
  }
 },
 "nbformat": 4,
 "nbformat_minor": 2
}
