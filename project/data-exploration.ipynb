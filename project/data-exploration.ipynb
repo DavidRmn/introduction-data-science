{
 "cells": [
  {
   "cell_type": "markdown",
   "metadata": {},
   "source": [
    "# TODO:\n",
    "    - head\n",
    "    - info\n",
    "    - data dict (types, e.g. nominal, categorial)\n",
    "    - matrix (missing values)\n",
    "    - bar (missing values)\n",
    "    - box (numeric, deviation)\n",
    "    - bar/mosaic/ (categorial, deviation)\n",
    "    - predictor/feature correlation (heatmap/scatter)\n",
    "    - histogram (skewed/deviation)\n"
   ]
  },
  {
   "cell_type": "code",
   "execution_count": 1,
   "metadata": {},
   "outputs": [],
   "source": [
    "import idstools.data_explorer as idsde"
   ]
  },
  {
   "cell_type": "code",
   "execution_count": 2,
   "metadata": {},
   "outputs": [],
   "source": [
    "data = \"../data/BikeRentalDaily_train.csv\""
   ]
  },
  {
   "cell_type": "code",
   "execution_count": 3,
   "metadata": {
    "tags": []
   },
   "outputs": [],
   "source": [
    "data_explorer_config = {\"input_file\": {\"path\": data, \"type\": \"csv\", \"sep\": \";\"}, \"output_path\": \"../results/\"}"
   ]
  },
  {
   "cell_type": "code",
   "execution_count": 4,
   "metadata": {},
   "outputs": [],
   "source": [
    "data_explorer = idsde.data_explorer(data_explorer_config)"
   ]
  },
  {
   "cell_type": "code",
   "execution_count": 5,
   "metadata": {},
   "outputs": [
    {
     "data": {
      "text/html": [
       "<div>\n",
       "<style scoped>\n",
       "    .dataframe tbody tr th:only-of-type {\n",
       "        vertical-align: middle;\n",
       "    }\n",
       "\n",
       "    .dataframe tbody tr th {\n",
       "        vertical-align: top;\n",
       "    }\n",
       "\n",
       "    .dataframe thead th {\n",
       "        text-align: right;\n",
       "    }\n",
       "</style>\n",
       "<table border=\"1\" class=\"dataframe\">\n",
       "  <thead>\n",
       "    <tr style=\"text-align: right;\">\n",
       "      <th></th>\n",
       "      <th>count</th>\n",
       "      <th>mean</th>\n",
       "      <th>std</th>\n",
       "      <th>min</th>\n",
       "      <th>25%</th>\n",
       "      <th>50%</th>\n",
       "      <th>75%</th>\n",
       "      <th>max</th>\n",
       "    </tr>\n",
       "  </thead>\n",
       "  <tbody>\n",
       "    <tr>\n",
       "      <th>instant</th>\n",
       "      <td>600.0</td>\n",
       "      <td>363.12</td>\n",
       "      <td>208.71</td>\n",
       "      <td>1.00</td>\n",
       "      <td>181.25</td>\n",
       "      <td>362.50</td>\n",
       "      <td>538.25</td>\n",
       "      <td>731.00</td>\n",
       "    </tr>\n",
       "    <tr>\n",
       "      <th>season</th>\n",
       "      <td>538.0</td>\n",
       "      <td>2.44</td>\n",
       "      <td>1.11</td>\n",
       "      <td>1.00</td>\n",
       "      <td>1.00</td>\n",
       "      <td>2.00</td>\n",
       "      <td>3.00</td>\n",
       "      <td>4.00</td>\n",
       "    </tr>\n",
       "    <tr>\n",
       "      <th>yr</th>\n",
       "      <td>600.0</td>\n",
       "      <td>0.50</td>\n",
       "      <td>0.50</td>\n",
       "      <td>0.00</td>\n",
       "      <td>0.00</td>\n",
       "      <td>0.00</td>\n",
       "      <td>1.00</td>\n",
       "      <td>1.00</td>\n",
       "    </tr>\n",
       "    <tr>\n",
       "      <th>mnth</th>\n",
       "      <td>600.0</td>\n",
       "      <td>6.47</td>\n",
       "      <td>3.44</td>\n",
       "      <td>1.00</td>\n",
       "      <td>4.00</td>\n",
       "      <td>6.00</td>\n",
       "      <td>9.00</td>\n",
       "      <td>12.00</td>\n",
       "    </tr>\n",
       "    <tr>\n",
       "      <th>holiday</th>\n",
       "      <td>600.0</td>\n",
       "      <td>0.03</td>\n",
       "      <td>0.17</td>\n",
       "      <td>0.00</td>\n",
       "      <td>0.00</td>\n",
       "      <td>0.00</td>\n",
       "      <td>0.00</td>\n",
       "      <td>1.00</td>\n",
       "    </tr>\n",
       "    <tr>\n",
       "      <th>weekday</th>\n",
       "      <td>600.0</td>\n",
       "      <td>2.93</td>\n",
       "      <td>2.08</td>\n",
       "      <td>-1.00</td>\n",
       "      <td>1.00</td>\n",
       "      <td>3.00</td>\n",
       "      <td>5.00</td>\n",
       "      <td>6.00</td>\n",
       "    </tr>\n",
       "    <tr>\n",
       "      <th>workingday</th>\n",
       "      <td>600.0</td>\n",
       "      <td>0.68</td>\n",
       "      <td>0.47</td>\n",
       "      <td>0.00</td>\n",
       "      <td>0.00</td>\n",
       "      <td>1.00</td>\n",
       "      <td>1.00</td>\n",
       "      <td>1.00</td>\n",
       "    </tr>\n",
       "    <tr>\n",
       "      <th>weathersit</th>\n",
       "      <td>600.0</td>\n",
       "      <td>1.40</td>\n",
       "      <td>0.54</td>\n",
       "      <td>1.00</td>\n",
       "      <td>1.00</td>\n",
       "      <td>1.00</td>\n",
       "      <td>2.00</td>\n",
       "      <td>3.00</td>\n",
       "    </tr>\n",
       "    <tr>\n",
       "      <th>temp</th>\n",
       "      <td>600.0</td>\n",
       "      <td>19.81</td>\n",
       "      <td>7.21</td>\n",
       "      <td>2.37</td>\n",
       "      <td>13.57</td>\n",
       "      <td>20.10</td>\n",
       "      <td>26.06</td>\n",
       "      <td>34.47</td>\n",
       "    </tr>\n",
       "    <tr>\n",
       "      <th>atemp</th>\n",
       "      <td>600.0</td>\n",
       "      <td>0.47</td>\n",
       "      <td>0.16</td>\n",
       "      <td>0.08</td>\n",
       "      <td>0.34</td>\n",
       "      <td>0.49</td>\n",
       "      <td>0.61</td>\n",
       "      <td>0.83</td>\n",
       "    </tr>\n",
       "    <tr>\n",
       "      <th>hum</th>\n",
       "      <td>566.0</td>\n",
       "      <td>93.85</td>\n",
       "      <td>21.38</td>\n",
       "      <td>28.19</td>\n",
       "      <td>77.33</td>\n",
       "      <td>93.26</td>\n",
       "      <td>109.92</td>\n",
       "      <td>145.88</td>\n",
       "    </tr>\n",
       "    <tr>\n",
       "      <th>windspeed</th>\n",
       "      <td>600.0</td>\n",
       "      <td>0.18</td>\n",
       "      <td>0.13</td>\n",
       "      <td>-1.00</td>\n",
       "      <td>0.13</td>\n",
       "      <td>0.18</td>\n",
       "      <td>0.23</td>\n",
       "      <td>0.51</td>\n",
       "    </tr>\n",
       "    <tr>\n",
       "      <th>leaflets</th>\n",
       "      <td>600.0</td>\n",
       "      <td>740.07</td>\n",
       "      <td>164.43</td>\n",
       "      <td>459.00</td>\n",
       "      <td>600.75</td>\n",
       "      <td>737.00</td>\n",
       "      <td>875.50</td>\n",
       "      <td>1032.00</td>\n",
       "    </tr>\n",
       "    <tr>\n",
       "      <th>price reduction</th>\n",
       "      <td>600.0</td>\n",
       "      <td>0.15</td>\n",
       "      <td>0.36</td>\n",
       "      <td>0.00</td>\n",
       "      <td>0.00</td>\n",
       "      <td>0.00</td>\n",
       "      <td>0.00</td>\n",
       "      <td>1.00</td>\n",
       "    </tr>\n",
       "    <tr>\n",
       "      <th>casual</th>\n",
       "      <td>600.0</td>\n",
       "      <td>1070.89</td>\n",
       "      <td>2971.32</td>\n",
       "      <td>2.00</td>\n",
       "      <td>313.00</td>\n",
       "      <td>722.00</td>\n",
       "      <td>1078.00</td>\n",
       "      <td>47138.00</td>\n",
       "    </tr>\n",
       "    <tr>\n",
       "      <th>registered</th>\n",
       "      <td>600.0</td>\n",
       "      <td>3634.12</td>\n",
       "      <td>1538.70</td>\n",
       "      <td>20.00</td>\n",
       "      <td>2499.00</td>\n",
       "      <td>3657.00</td>\n",
       "      <td>4680.25</td>\n",
       "      <td>6946.00</td>\n",
       "    </tr>\n",
       "    <tr>\n",
       "      <th>cnt</th>\n",
       "      <td>600.0</td>\n",
       "      <td>4705.01</td>\n",
       "      <td>3588.75</td>\n",
       "      <td>22.00</td>\n",
       "      <td>3135.00</td>\n",
       "      <td>4530.00</td>\n",
       "      <td>5909.50</td>\n",
       "      <td>53021.00</td>\n",
       "    </tr>\n",
       "  </tbody>\n",
       "</table>\n",
       "</div>"
      ],
      "text/plain": [
       "                 count     mean      std     min      25%      50%      75%  \\\n",
       "instant          600.0   363.12   208.71    1.00   181.25   362.50   538.25   \n",
       "season           538.0     2.44     1.11    1.00     1.00     2.00     3.00   \n",
       "yr               600.0     0.50     0.50    0.00     0.00     0.00     1.00   \n",
       "mnth             600.0     6.47     3.44    1.00     4.00     6.00     9.00   \n",
       "holiday          600.0     0.03     0.17    0.00     0.00     0.00     0.00   \n",
       "weekday          600.0     2.93     2.08   -1.00     1.00     3.00     5.00   \n",
       "workingday       600.0     0.68     0.47    0.00     0.00     1.00     1.00   \n",
       "weathersit       600.0     1.40     0.54    1.00     1.00     1.00     2.00   \n",
       "temp             600.0    19.81     7.21    2.37    13.57    20.10    26.06   \n",
       "atemp            600.0     0.47     0.16    0.08     0.34     0.49     0.61   \n",
       "hum              566.0    93.85    21.38   28.19    77.33    93.26   109.92   \n",
       "windspeed        600.0     0.18     0.13   -1.00     0.13     0.18     0.23   \n",
       "leaflets         600.0   740.07   164.43  459.00   600.75   737.00   875.50   \n",
       "price reduction  600.0     0.15     0.36    0.00     0.00     0.00     0.00   \n",
       "casual           600.0  1070.89  2971.32    2.00   313.00   722.00  1078.00   \n",
       "registered       600.0  3634.12  1538.70   20.00  2499.00  3657.00  4680.25   \n",
       "cnt              600.0  4705.01  3588.75   22.00  3135.00  4530.00  5909.50   \n",
       "\n",
       "                      max  \n",
       "instant            731.00  \n",
       "season               4.00  \n",
       "yr                   1.00  \n",
       "mnth                12.00  \n",
       "holiday              1.00  \n",
       "weekday              6.00  \n",
       "workingday           1.00  \n",
       "weathersit           3.00  \n",
       "temp                34.47  \n",
       "atemp                0.83  \n",
       "hum                145.88  \n",
       "windspeed            0.51  \n",
       "leaflets          1032.00  \n",
       "price reduction      1.00  \n",
       "casual           47138.00  \n",
       "registered        6946.00  \n",
       "cnt              53021.00  "
      ]
     },
     "execution_count": 5,
     "metadata": {},
     "output_type": "execute_result"
    }
   ],
   "source": [
    "data_explorer.descriptive_analysis()\n",
    "data_explorer.description"
   ]
  },
  {
   "cell_type": "markdown",
   "metadata": {},
   "source": [
    "Wir starten mit der diskriptiven Analyse der Daten, dafür verwenden wir discrbe Funktion der Pandas Library."
   ]
  },
  {
   "cell_type": "code",
   "execution_count": 6,
   "metadata": {},
   "outputs": [],
   "source": [
    "import idstools.data_preparation as dp"
   ]
  },
  {
   "cell_type": "code",
   "execution_count": 7,
   "metadata": {},
   "outputs": [],
   "source": [
    "test_data = \"/home/davidrmn/Studies/introduction-data-science/data/BikeRentalDaily_test.csv\"\n",
    "train_data = \"/home/davidrmn/Studies/introduction-data-science/data/BikeRentalDaily_train.csv\""
   ]
  },
  {
   "cell_type": "code",
   "execution_count": 8,
   "metadata": {},
   "outputs": [],
   "source": [
    "data_preparation_config = {\n",
    "    \"input_file\": {\n",
    "        \"path\": train_data,\n",
    "        \"type\": \"csv\",\n",
    "        \"sep\": \";\"\n",
    "    },\n",
    "    \"output_path\": None,\n",
    "}"
   ]
  },
  {
   "cell_type": "code",
   "execution_count": 9,
   "metadata": {},
   "outputs": [],
   "source": [
    "data_preparation = dp.data_preparation(config=data_preparation_config)\n"
   ]
  },
  {
   "cell_type": "code",
   "execution_count": 10,
   "metadata": {},
   "outputs": [],
   "source": [
    "import time\n",
    "import pandas as pd\n",
    "\n",
    "def get_wday_by_date(df, date_column, weekday_column):\n",
    "    # Define the weekday shift\n",
    "    weekday_shift = {\n",
    "        6: 0,\n",
    "        0: 1,\n",
    "        1: 2,\n",
    "        2: 3,\n",
    "        3: 4,\n",
    "        4: 5,\n",
    "        5: 6\n",
    "    }\n",
    "\n",
    "    # Convert the date column to datetime\n",
    "    df[date_column] = pd.to_datetime(df[date_column], format=\"%d.%m.%Y\")\n",
    "\n",
    "    # Calculate the weekday and map it\n",
    "    df[weekday_column] = df[date_column].dt.dayofweek.map(weekday_shift)\n",
    "\n",
    "    return df"
   ]
  },
  {
   "cell_type": "code",
   "execution_count": 11,
   "metadata": {},
   "outputs": [],
   "source": [
    "pipeline_config = {\n",
    "        \"Imputer\": [\n",
    "            {\n",
    "                \"target\": \"hum\",\n",
    "                \"config\": {\n",
    "                    \"strategy\": \"mean\"\n",
    "                }\n",
    "            }\n",
    "        ],\n",
    "        \"GenericDataFrameTransformer\": [\n",
    "        {\n",
    "            \"transform_func\": get_wday_by_date,\n",
    "            \"config\": {\n",
    "                \"data_column\": \"dteday\",\n",
    "                \"weekday_column\": \"weekday\"\n",
    "            }\n",
    "        }\n",
    "    ]\n",
    "}"
   ]
  },
  {
   "cell_type": "markdown",
   "metadata": {},
   "source": [
    "            {\n",
    "                \"target\": \"dteday\",\n",
    "                \"config\": {\n",
    "                    \"source\": \"module\",\n",
    "                    \"module\": \"pandas\",\n",
    "                    \"function\": \"to_datetime\",\n",
    "                    \"args\": {\n",
    "                        \"format\": \"%d.%m.%Y\"\n",
    "                    },\n",
    "                    \"axis\": 1\n",
    "                }\n",
    "            },"
   ]
  },
  {
   "cell_type": "code",
   "execution_count": 12,
   "metadata": {},
   "outputs": [
    {
     "data": {
      "text/html": [
       "<style>#sk-container-id-1 {color: black;}#sk-container-id-1 pre{padding: 0;}#sk-container-id-1 div.sk-toggleable {background-color: white;}#sk-container-id-1 label.sk-toggleable__label {cursor: pointer;display: block;width: 100%;margin-bottom: 0;padding: 0.3em;box-sizing: border-box;text-align: center;}#sk-container-id-1 label.sk-toggleable__label-arrow:before {content: \"▸\";float: left;margin-right: 0.25em;color: #696969;}#sk-container-id-1 label.sk-toggleable__label-arrow:hover:before {color: black;}#sk-container-id-1 div.sk-estimator:hover label.sk-toggleable__label-arrow:before {color: black;}#sk-container-id-1 div.sk-toggleable__content {max-height: 0;max-width: 0;overflow: hidden;text-align: left;background-color: #f0f8ff;}#sk-container-id-1 div.sk-toggleable__content pre {margin: 0.2em;color: black;border-radius: 0.25em;background-color: #f0f8ff;}#sk-container-id-1 input.sk-toggleable__control:checked~div.sk-toggleable__content {max-height: 200px;max-width: 100%;overflow: auto;}#sk-container-id-1 input.sk-toggleable__control:checked~label.sk-toggleable__label-arrow:before {content: \"▾\";}#sk-container-id-1 div.sk-estimator input.sk-toggleable__control:checked~label.sk-toggleable__label {background-color: #d4ebff;}#sk-container-id-1 div.sk-label input.sk-toggleable__control:checked~label.sk-toggleable__label {background-color: #d4ebff;}#sk-container-id-1 input.sk-hidden--visually {border: 0;clip: rect(1px 1px 1px 1px);clip: rect(1px, 1px, 1px, 1px);height: 1px;margin: -1px;overflow: hidden;padding: 0;position: absolute;width: 1px;}#sk-container-id-1 div.sk-estimator {font-family: monospace;background-color: #f0f8ff;border: 1px dotted black;border-radius: 0.25em;box-sizing: border-box;margin-bottom: 0.5em;}#sk-container-id-1 div.sk-estimator:hover {background-color: #d4ebff;}#sk-container-id-1 div.sk-parallel-item::after {content: \"\";width: 100%;border-bottom: 1px solid gray;flex-grow: 1;}#sk-container-id-1 div.sk-label:hover label.sk-toggleable__label {background-color: #d4ebff;}#sk-container-id-1 div.sk-serial::before {content: \"\";position: absolute;border-left: 1px solid gray;box-sizing: border-box;top: 0;bottom: 0;left: 50%;z-index: 0;}#sk-container-id-1 div.sk-serial {display: flex;flex-direction: column;align-items: center;background-color: white;padding-right: 0.2em;padding-left: 0.2em;position: relative;}#sk-container-id-1 div.sk-item {position: relative;z-index: 1;}#sk-container-id-1 div.sk-parallel {display: flex;align-items: stretch;justify-content: center;background-color: white;position: relative;}#sk-container-id-1 div.sk-item::before, #sk-container-id-1 div.sk-parallel-item::before {content: \"\";position: absolute;border-left: 1px solid gray;box-sizing: border-box;top: 0;bottom: 0;left: 50%;z-index: -1;}#sk-container-id-1 div.sk-parallel-item {display: flex;flex-direction: column;z-index: 1;position: relative;background-color: white;}#sk-container-id-1 div.sk-parallel-item:first-child::after {align-self: flex-end;width: 50%;}#sk-container-id-1 div.sk-parallel-item:last-child::after {align-self: flex-start;width: 50%;}#sk-container-id-1 div.sk-parallel-item:only-child::after {width: 0;}#sk-container-id-1 div.sk-dashed-wrapped {border: 1px dashed gray;margin: 0 0.4em 0.5em 0.4em;box-sizing: border-box;padding-bottom: 0.4em;background-color: white;}#sk-container-id-1 div.sk-label label {font-family: monospace;font-weight: bold;display: inline-block;line-height: 1.2em;}#sk-container-id-1 div.sk-label-container {text-align: center;}#sk-container-id-1 div.sk-container {/* jupyter's `normalize.less` sets `[hidden] { display: none; }` but bootstrap.min.css set `[hidden] { display: none !important; }` so we also need the `!important` here to be able to override the default hidden behavior on the sphinx rendered scikit-learn.org. See: https://github.com/scikit-learn/scikit-learn/issues/21755 */display: inline-block !important;position: relative;}#sk-container-id-1 div.sk-text-repr-fallback {display: none;}</style><div id=\"sk-container-id-1\" class=\"sk-top-container\"><div class=\"sk-text-repr-fallback\"><pre>Pipeline(steps=[(&#x27;Imputer&#x27;,\n",
       "                 Imputer(config=[{&#x27;config&#x27;: {&#x27;strategy&#x27;: &#x27;mean&#x27;},\n",
       "                                  &#x27;target&#x27;: &#x27;hum&#x27;}])),\n",
       "                (&#x27;OneHotEncoder&#x27;, None), (&#x27;FeatureDropper&#x27;, None),\n",
       "                (&#x27;GenericDataFrameTransformer&#x27;,\n",
       "                 GenericDataFrameTransformer(config=[{&#x27;config&#x27;: {&#x27;data_column&#x27;: &#x27;dteday&#x27;,\n",
       "                                                                 &#x27;weekday_column&#x27;: &#x27;weekday&#x27;},\n",
       "                                                      &#x27;transform_func&#x27;: &#x27;get_wday_by_date&#x27;}]))])</pre><b>In a Jupyter environment, please rerun this cell to show the HTML representation or trust the notebook. <br />On GitHub, the HTML representation is unable to render, please try loading this page with nbviewer.org.</b></div><div class=\"sk-container\" hidden><div class=\"sk-item sk-dashed-wrapped\"><div class=\"sk-label-container\"><div class=\"sk-label sk-toggleable\"><input class=\"sk-toggleable__control sk-hidden--visually\" id=\"sk-estimator-id-1\" type=\"checkbox\" ><label for=\"sk-estimator-id-1\" class=\"sk-toggleable__label sk-toggleable__label-arrow\">Pipeline</label><div class=\"sk-toggleable__content\"><pre>Pipeline(steps=[(&#x27;Imputer&#x27;,\n",
       "                 Imputer(config=[{&#x27;config&#x27;: {&#x27;strategy&#x27;: &#x27;mean&#x27;},\n",
       "                                  &#x27;target&#x27;: &#x27;hum&#x27;}])),\n",
       "                (&#x27;OneHotEncoder&#x27;, None), (&#x27;FeatureDropper&#x27;, None),\n",
       "                (&#x27;GenericDataFrameTransformer&#x27;,\n",
       "                 GenericDataFrameTransformer(config=[{&#x27;config&#x27;: {&#x27;data_column&#x27;: &#x27;dteday&#x27;,\n",
       "                                                                 &#x27;weekday_column&#x27;: &#x27;weekday&#x27;},\n",
       "                                                      &#x27;transform_func&#x27;: &#x27;get_wday_by_date&#x27;}]))])</pre></div></div></div><div class=\"sk-serial\"><div class=\"sk-item\"><div class=\"sk-estimator sk-toggleable\"><input class=\"sk-toggleable__control sk-hidden--visually\" id=\"sk-estimator-id-2\" type=\"checkbox\" ><label for=\"sk-estimator-id-2\" class=\"sk-toggleable__label sk-toggleable__label-arrow\">Imputer</label><div class=\"sk-toggleable__content\"><pre>Imputer(config=[{&#x27;config&#x27;: {&#x27;strategy&#x27;: &#x27;mean&#x27;}, &#x27;target&#x27;: &#x27;hum&#x27;}])</pre></div></div></div><div class=\"sk-item\"><div class=\"sk-estimator sk-toggleable\"><input class=\"sk-toggleable__control sk-hidden--visually\" id=\"sk-estimator-id-3\" type=\"checkbox\" ><label for=\"sk-estimator-id-3\" class=\"sk-toggleable__label sk-toggleable__label-arrow\">None</label><div class=\"sk-toggleable__content\"><pre>None</pre></div></div></div><div class=\"sk-item\"><div class=\"sk-estimator sk-toggleable\"><input class=\"sk-toggleable__control sk-hidden--visually\" id=\"sk-estimator-id-4\" type=\"checkbox\" ><label for=\"sk-estimator-id-4\" class=\"sk-toggleable__label sk-toggleable__label-arrow\">None</label><div class=\"sk-toggleable__content\"><pre>None</pre></div></div></div><div class=\"sk-item\"><div class=\"sk-estimator sk-toggleable\"><input class=\"sk-toggleable__control sk-hidden--visually\" id=\"sk-estimator-id-5\" type=\"checkbox\" ><label for=\"sk-estimator-id-5\" class=\"sk-toggleable__label sk-toggleable__label-arrow\">GenericDataFrameTransformer</label><div class=\"sk-toggleable__content\"><pre>GenericDataFrameTransformer(config=[{&#x27;config&#x27;: {&#x27;data_column&#x27;: &#x27;dteday&#x27;,\n",
       "                                                &#x27;weekday_column&#x27;: &#x27;weekday&#x27;},\n",
       "                                     &#x27;transform_func&#x27;: &#x27;get_wday_by_date&#x27;}])</pre></div></div></div></div></div></div></div>"
      ],
      "text/plain": [
       "Pipeline(steps=[('Imputer',\n",
       "                 Imputer(config=[{'config': {'strategy': 'mean'},\n",
       "                                  'target': 'hum'}])),\n",
       "                ('OneHotEncoder', None), ('FeatureDropper', None),\n",
       "                ('GenericDataFrameTransformer',\n",
       "                 GenericDataFrameTransformer(config=[{'config': {'data_column': 'dteday',\n",
       "                                                                 'weekday_column': 'weekday'},\n",
       "                                                      'transform_func': 'get_wday_by_date'}]))])"
      ]
     },
     "execution_count": 12,
     "metadata": {},
     "output_type": "execute_result"
    }
   ],
   "source": [
    "pipeline = data_preparation.build_pipeline(config=pipeline_config)\n",
    "pipeline"
   ]
  },
  {
   "cell_type": "code",
   "execution_count": 13,
   "metadata": {},
   "outputs": [],
   "source": [
    "processed_data = data_preparation.run_pipeline(config=pipeline_config)"
   ]
  },
  {
   "cell_type": "code",
   "execution_count": 14,
   "metadata": {},
   "outputs": [
    {
     "ename": "AttributeError",
     "evalue": "'NoneType' object has no attribute 'head'",
     "output_type": "error",
     "traceback": [
      "\u001b[0;31m---------------------------------------------------------------------------\u001b[0m",
      "\u001b[0;31mAttributeError\u001b[0m                            Traceback (most recent call last)",
      "Cell \u001b[0;32mIn[14], line 1\u001b[0m\n\u001b[0;32m----> 1\u001b[0m \u001b[43mprocessed_data\u001b[49m\u001b[38;5;241;43m.\u001b[39;49m\u001b[43mhead\u001b[49m(\u001b[38;5;241m5\u001b[39m)\u001b[38;5;241m.\u001b[39mT\n",
      "\u001b[0;31mAttributeError\u001b[0m: 'NoneType' object has no attribute 'head'"
     ]
    }
   ],
   "source": [
    "processed_data.head(5).T"
   ]
  },
  {
   "cell_type": "code",
   "execution_count": null,
   "metadata": {},
   "outputs": [],
   "source": [
    "processed_data.describe().T"
   ]
  },
  {
   "cell_type": "code",
   "execution_count": null,
   "metadata": {},
   "outputs": [],
   "source": []
  }
 ],
 "metadata": {
  "kernelspec": {
   "display_name": "introduction-data-science",
   "language": "python",
   "name": "introduction-data-science"
  },
  "language_info": {
   "codemirror_mode": {
    "name": "ipython",
    "version": 3
   },
   "file_extension": ".py",
   "mimetype": "text/x-python",
   "name": "python",
   "nbconvert_exporter": "python",
   "pygments_lexer": "ipython3",
   "version": "3.11.5"
  }
 },
 "nbformat": 4,
 "nbformat_minor": 2
}
