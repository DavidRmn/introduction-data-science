{
 "cells": [
  {
   "cell_type": "code",
   "execution_count": 1,
   "metadata": {},
   "outputs": [
    {
     "name": "stderr",
     "output_type": "stream",
     "text": [
      "2024-02-16 14:01:46,540 [wrapper] [INFO] - Instantiating environments from configuration.\n",
      "2024-02-16 14:01:46,573 [wrapper] [DEBUG] - Processing environment: DEFAULT\n",
      "2024-02-16 14:01:46,573 [wrapper] [DEBUG] - Processing environment: TASK1\n",
      "2024-02-16 14:01:46,574 [wrapper] [DEBUG] - Configured Target for module _objects in environment TASK1\n",
      "2024-02-16 14:01:46,574 [wrapper] [DEBUG] - Configured DataPreparation for module data_preparation in environment TASK1\n",
      "2024-02-16 14:01:46,574 [wrapper] [DEBUG] - Configured ModelOptimization for module model_optimization in environment TASK1\n",
      "2024-02-16 14:01:46,575 [wrapper] [DEBUG] - Processing environment: TASK2\n",
      "2024-02-16 14:01:46,576 [wrapper] [DEBUG] - Configured Target for module _objects in environment TASK2\n",
      "2024-02-16 14:01:46,576 [wrapper] [DEBUG] - Configured DataPreparation for module data_preparation in environment TASK2\n",
      "2024-02-16 14:01:46,577 [wrapper] [DEBUG] - Configured DataExplorer for module data_explorer in environment TASK2\n",
      "2024-02-16 14:01:46,577 [wrapper] [INFO] - Completed instantiation of environments: ['DEFAULT', 'TASK1', 'TASK2']\n",
      "2024-02-16 14:01:46,577 [wrapper] [INFO] - Starting execution of environments.\n",
      "Environments:   0%|          | 0/3 [00:00<?, ?it/s]2024-02-16 14:01:46,582 [wrapper] [INFO] - Executing environment: DEFAULT\n",
      "Modules in DEFAULT: 0it [00:00, ?it/s]\n",
      "2024-02-16 14:01:46,583 [wrapper] [INFO] - Executing environment: TASK1\n",
      "2024-02-16 14:01:46,585 [wrapper] [INFO] - Processing environment: TASK1\n",
      "2024-02-16 14:01:46,585 [wrapper] [DEBUG] - Loading module _objects for class Target\n",
      "2024-02-16 14:01:46,593 [_objects] [INFO] - Initializing TargetData object.\n",
      "2024-02-16 14:01:46,596 [_helpers] [INFO] - Reading data from:\n",
      "/home/davidrmn/Studies/introduction-data-science/data/BikeRentalDaily_train.csv\n",
      "2024-02-16 14:01:46,600 [_objects] [INFO] - Using label: cnt\n",
      "2024-02-16 14:01:46,601 [_objects] [INFO] - Using index: instant\n",
      "2024-02-16 14:01:46,601 [_objects] [INFO] - Using features: ['season', 'yr', 'mnth', 'holiday', 'weekday', 'workingday', 'weathersit', 'temp', 'atemp', 'hum', 'windspeed']\n",
      "2024-02-16 14:01:46,601 [_objects] [INFO] - Output path not provided.\n",
      "Using default output path: /home/davidrmn/Studies/introduction-data-science/results\n",
      "2024-02-16 14:01:46,601 [_objects] [INFO] - Using environment name: TASK1\n",
      "2024-02-16 14:01:46,602 [wrapper] [INFO] - Instantiating and executing Target in module _objects\n",
      "2024-02-16 14:01:46,602 [wrapper] [INFO] - Processing environment: TASK1\n",
      "2024-02-16 14:01:46,602 [wrapper] [DEBUG] - Loading module data_preparation for class DataPreparation\n",
      "2024-02-16 14:01:47,056 [data_preparation] [INFO] - Initializing DataExplorer\n",
      "2024-02-16 14:01:47,058 [data_preparation] [INFO] - Data loaded from /home/davidrmn/Studies/introduction-data-science/data/BikeRentalDaily_train.csv.\n",
      "2024-02-16 14:01:47,059 [data_preparation] [INFO] - Pipeline configuration:\n",
      "_CustomTransformer:\n",
      "- func: target_to_datetime\n",
      "  module: idstools._transformer\n",
      "  config:\n",
      "    target: dteday\n",
      "    format: '%d.%m.%Y'\n",
      "_NaNDropper:\n",
      "- target: hum\n",
      "- target: season\n",
      "\n",
      "2024-02-16 14:01:47,060 [wrapper] [INFO] - Instantiating and executing DataPreparation in module data_preparation\n",
      "2024-02-16 14:01:47,060 [data_preparation] [INFO] - Pipeline created.\n",
      "2024-02-16 14:01:47,065 [_transformer] [INFO] - Converting target column 'dteday' to datetime.\n",
      "2024-02-16 14:01:47,067 [data_preparation] [INFO] - Pipeline step _CustomTransformer has been processed.\n",
      "2024-02-16 14:01:47,070 [data_preparation] [INFO] - Pipeline step _NaNDropper has been processed.\n",
      "2024-02-16 14:01:47,073 [_helpers] [INFO] - Writing data to:\n",
      "/home/davidrmn/Studies/introduction-data-science/results/TASK1_BikeRentalDaily_train_processed.csv\n",
      "2024-02-16 14:01:47,077 [data_preparation] [INFO] - Processed data written to /home/davidrmn/Studies/introduction-data-science/results/TASK1_BikeRentalDaily_train_processed.csv.\n",
      "2024-02-16 14:01:47,079 [wrapper] [INFO] - Processing environment: TASK1\n",
      "2024-02-16 14:01:47,079 [wrapper] [DEBUG] - Loading module model_optimization for class ModelOptimization\n",
      "2024-02-16 14:01:47,575 [model_optimization] [INFO] - Initializing ModelOptimization\n",
      "2024-02-16 14:01:47,576 [model_optimization] [INFO] - Data loaded from /home/davidrmn/Studies/introduction-data-science/data/BikeRentalDaily_train.csv.\n",
      "2024-02-16 14:01:47,576 [model_optimization] [INFO] - Pipeline configuration:\n",
      "train_test_split: true\n",
      "linear_regression: true\n",
      "validation: true\n",
      "\n",
      "2024-02-16 14:01:47,577 [model_optimization] [INFO] - Processed data loaded from /home/davidrmn/Studies/introduction-data-science/data/BikeRentalDaily_train.csv.\n",
      "2024-02-16 14:01:47,577 [wrapper] [INFO] - Instantiating and executing ModelOptimization in module model_optimization\n",
      "2024-02-16 14:01:47,578 [model_optimization] [INFO] - Processed data loaded from /home/davidrmn/Studies/introduction-data-science/data/BikeRentalDaily_train.csv.\n",
      "2024-02-16 14:01:47,578 [model_optimization] [INFO] - Running ModelOptimization\n",
      "2024-02-16 14:01:47,578 [model_optimization] [INFO] - Running model optimization for train_test_split\n",
      "2024-02-16 14:01:47,579 [model_optimization] [INFO] - Processed data loaded from /home/davidrmn/Studies/introduction-data-science/data/BikeRentalDaily_train.csv.\n",
      "2024-02-16 14:01:47,579 [model_optimization] [INFO] - Running train_test_split\n",
      "2024-02-16 14:01:47,581 [model_optimization] [INFO] - train_test_split completed successfully\n",
      "2024-02-16 14:01:47,581 [model_optimization] [INFO] - Executed train_test_split of model_optimization.\n",
      "2024-02-16 14:01:47,582 [model_optimization] [INFO] - Running model optimization for linear_regression\n",
      "2024-02-16 14:01:47,582 [model_optimization] [INFO] - Processed data loaded from /home/davidrmn/Studies/introduction-data-science/data/BikeRentalDaily_train.csv.\n",
      "2024-02-16 14:01:47,582 [model_optimization] [INFO] - Running linear_regression\n",
      "2024-02-16 14:01:47,585 [model_optimization] [INFO] - linear_regression completed successfully\n",
      "2024-02-16 14:01:47,585 [model_optimization] [INFO] - Executed linear_regression of model_optimization.\n",
      "2024-02-16 14:01:47,585 [model_optimization] [INFO] - Running model optimization for validation\n",
      "2024-02-16 14:01:47,586 [model_optimization] [INFO] - Processed data loaded from /home/davidrmn/Studies/introduction-data-science/data/BikeRentalDaily_train.csv.\n",
      "2024-02-16 14:01:47,586 [model_optimization] [INFO] - Running validation\n",
      "2024-02-16 14:01:47,587 [model_optimization] [INFO] - Validation for linear_regression\n",
      "2024-02-16 14:01:47,588 [model_optimization] [INFO] - Prediction for linear_regression completed successfully\n",
      "2024-02-16 14:01:47,589 [model_optimization] [INFO] - R2 score for linear_regression: 0.2\n",
      "2024-02-16 14:01:47,589 [model_optimization] [INFO] - Adjusted R2 score for linear_regression: 0.1022222222222221\n",
      "2024-02-16 14:01:47,590 [model_optimization] [INFO] - Mean Absolute Error for linear_regression: 1337.48\n",
      "2024-02-16 14:01:47,590 [model_optimization] [INFO] - Validation completed successfully\n",
      "2024-02-16 14:01:47,590 [model_optimization] [INFO] - Executed validation of model_optimization.\n",
      "2024-02-16 14:01:47,591 [model_optimization] [INFO] - ModelOptimization completed successfully\n",
      "Modules in TASK1: 100%|██████████| 3/3 [00:01<00:00,  2.98it/s]\n",
      "Environments:  67%|██████▋   | 2/3 [00:01<00:00,  1.98it/s]2024-02-16 14:01:47,593 [wrapper] [INFO] - Executing environment: TASK2\n",
      "2024-02-16 14:01:47,594 [wrapper] [INFO] - Processing environment: TASK2\n",
      "2024-02-16 14:01:47,595 [wrapper] [DEBUG] - Loading module _objects for class Target\n",
      "2024-02-16 14:01:47,595 [_objects] [INFO] - Initializing TargetData object.\n",
      "2024-02-16 14:01:47,597 [_helpers] [INFO] - Reading data from:\n",
      "/home/davidrmn/Studies/introduction-data-science/results/TASK1_BikeRentalDaily_train_processed.csv\n",
      "2024-02-16 14:01:47,599 [_objects] [INFO] - Using label: cnt\n",
      "2024-02-16 14:01:47,600 [_objects] [INFO] - No index provided.\n",
      "2024-02-16 14:01:47,600 [_objects] [INFO] - No features provided.\n",
      "2024-02-16 14:01:47,601 [_objects] [INFO] - Output path not provided.\n",
      "Using default output path: /home/davidrmn/Studies/introduction-data-science/results\n",
      "2024-02-16 14:01:47,601 [_objects] [INFO] - Using environment name: TASK2\n",
      "2024-02-16 14:01:47,601 [wrapper] [INFO] - Instantiating and executing Target in module _objects\n",
      "2024-02-16 14:01:47,601 [wrapper] [INFO] - Processing environment: TASK2\n",
      "2024-02-16 14:01:47,602 [wrapper] [DEBUG] - Loading module data_preparation for class DataPreparation\n",
      "2024-02-16 14:01:47,602 [data_preparation] [INFO] - Initializing DataExplorer\n",
      "2024-02-16 14:01:47,603 [data_preparation] [INFO] - Data loaded from /home/davidrmn/Studies/introduction-data-science/results/TASK1_BikeRentalDaily_train_processed.csv.\n",
      "2024-02-16 14:01:47,604 [data_preparation] [INFO] - Pipeline configuration:\n",
      "_FeatureDropper:\n",
      "- target: cnt\n",
      "  config:\n",
      "    axis: 1\n",
      "    errors: ignore\n",
      "- target: atemp\n",
      "  config:\n",
      "    axis: 1\n",
      "    errors: ignore\n",
      "\n",
      "2024-02-16 14:01:47,604 [wrapper] [INFO] - Instantiating and executing DataPreparation in module data_preparation\n",
      "2024-02-16 14:01:47,604 [data_preparation] [INFO] - Pipeline created.\n",
      "2024-02-16 14:01:47,606 [data_preparation] [INFO] - Pipeline step _FeatureDropper has been processed.\n",
      "2024-02-16 14:01:47,608 [_helpers] [INFO] - Writing data to:\n",
      "/home/davidrmn/Studies/introduction-data-science/results/TASK2_TASK1_BikeRentalDaily_train_processed_processed.csv\n",
      "2024-02-16 14:01:47,612 [data_preparation] [INFO] - Processed data written to /home/davidrmn/Studies/introduction-data-science/results/TASK2_TASK1_BikeRentalDaily_train_processed_processed.csv.\n",
      "2024-02-16 14:01:47,612 [wrapper] [INFO] - Processing environment: TASK2\n",
      "2024-02-16 14:01:47,613 [wrapper] [DEBUG] - Loading module data_explorer for class DataExplorer\n",
      "2024-02-16 14:01:47,625 [data_explorer] [INFO] - Initializing DataExplorer\n",
      "2024-02-16 14:01:47,626 [data_explorer] [INFO] - Data loaded from /home/davidrmn/Studies/introduction-data-science/results/TASK1_BikeRentalDaily_train_processed.csv.\n",
      "2024-02-16 14:01:47,626 [data_explorer] [INFO] - Pipeline configuration:\n",
      "variance_inflation_factor: true\n",
      "\n",
      "2024-02-16 14:01:47,627 [data_explorer] [INFO] - Processed data loaded from /home/davidrmn/Studies/introduction-data-science/results/TASK1_BikeRentalDaily_train_processed.csv.\n",
      "2024-02-16 14:01:47,627 [wrapper] [INFO] - Instantiating and executing DataExplorer in module data_explorer\n",
      "2024-02-16 14:01:47,628 [data_explorer] [INFO] - Processed data loaded from /home/davidrmn/Studies/introduction-data-science/results/TASK1_BikeRentalDaily_train_processed.csv.\n",
      "2024-02-16 14:01:47,640 [data_explorer] [INFO] - Executed variance_inflation_factor of data_explorer.\n",
      "Modules in TASK2: 100%|██████████| 3/3 [00:00<00:00, 64.87it/s]\n",
      "Environments: 100%|██████████| 3/3 [00:01<00:00,  2.83it/s]\n",
      "2024-02-16 14:01:47,642 [wrapper] [INFO] - Finished execution of all environments.\n"
     ]
    }
   ],
   "source": [
    "from idstools import wrapper, _config\n",
    "config = _config.load_config('../config/idstools/BikeRentalDaily_config.yml')\n",
    "w = wrapper.Wrapper(config=config)\n",
    "w.run()"
   ]
  },
  {
   "cell_type": "markdown",
   "metadata": {},
   "source": [
    "# --------------------------------------------"
   ]
  },
  {
   "cell_type": "code",
   "execution_count": 2,
   "metadata": {},
   "outputs": [],
   "source": [
    "from idstools import _config, _objects, data_preparation, model_optimization"
   ]
  },
  {
   "cell_type": "code",
   "execution_count": 3,
   "metadata": {},
   "outputs": [],
   "source": [
    "config = _config.load_config('../config/idstools/BikeRentalDaily_config.yml')"
   ]
  },
  {
   "cell_type": "code",
   "execution_count": 4,
   "metadata": {},
   "outputs": [
    {
     "name": "stderr",
     "output_type": "stream",
     "text": [
      "2024-02-16 14:01:47,785 [_objects] [INFO] - Initializing TargetData object.\n",
      "2024-02-16 14:01:47,787 [_helpers] [INFO] - Reading data from:\n",
      "/home/davidrmn/Studies/introduction-data-science/data/BikeRentalDaily_train.csv\n",
      "2024-02-16 14:01:47,790 [_objects] [INFO] - Using label: cnt\n",
      "2024-02-16 14:01:47,790 [_objects] [INFO] - Using index: instant\n",
      "2024-02-16 14:01:47,790 [_objects] [INFO] - Using features: ['season', 'yr', 'mnth', 'holiday', 'weekday', 'workingday', 'weathersit', 'temp', 'atemp', 'hum', 'windspeed']\n",
      "2024-02-16 14:01:47,791 [_objects] [INFO] - Output path not provided.\n",
      "Using default output path: /home/davidrmn/Studies/introduction-data-science/results\n",
      "2024-02-16 14:01:47,791 [_objects] [INFO] - No environment name provided.\n",
      "Using default environment name: SELF_EXECUTED\n"
     ]
    }
   ],
   "source": [
    "data = _objects.Target(**config['task1']['_objects']['Target'])"
   ]
  },
  {
   "cell_type": "code",
   "execution_count": 5,
   "metadata": {},
   "outputs": [
    {
     "name": "stderr",
     "output_type": "stream",
     "text": [
      "2024-02-16 14:01:47,798 [data_preparation] [INFO] - Initializing DataExplorer\n",
      "2024-02-16 14:01:47,800 [data_preparation] [INFO] - Data loaded from /home/davidrmn/Studies/introduction-data-science/data/BikeRentalDaily_train.csv.\n",
      "2024-02-16 14:01:47,801 [data_preparation] [INFO] - Pipeline configuration:\n",
      "_CustomTransformer:\n",
      "- func: target_to_datetime\n",
      "  module: idstools._transformer\n",
      "  config:\n",
      "    target: dteday\n",
      "    format: '%d.%m.%Y'\n",
      "_NaNDropper:\n",
      "- target: hum\n",
      "- target: season\n",
      "\n"
     ]
    }
   ],
   "source": [
    "preparator = data_preparation.DataPreparation(data, pipeline=config['task1']['data_preparation']['DataPreparation']['pipeline'])"
   ]
  },
  {
   "cell_type": "code",
   "execution_count": 6,
   "metadata": {},
   "outputs": [
    {
     "name": "stderr",
     "output_type": "stream",
     "text": [
      "2024-02-16 14:01:47,807 [data_preparation] [INFO] - Pipeline created.\n",
      "2024-02-16 14:01:47,810 [_transformer] [INFO] - Converting target column 'dteday' to datetime.\n",
      "2024-02-16 14:01:47,813 [data_preparation] [INFO] - Pipeline step _CustomTransformer has been processed.\n",
      "2024-02-16 14:01:47,816 [data_preparation] [INFO] - Pipeline step _NaNDropper has been processed.\n",
      "2024-02-16 14:01:47,819 [_helpers] [INFO] - Writing data to:\n",
      "/home/davidrmn/Studies/introduction-data-science/results/SELF_EXECUTED_BikeRentalDaily_train_processed.csv\n",
      "2024-02-16 14:01:47,823 [data_preparation] [INFO] - Processed data written to /home/davidrmn/Studies/introduction-data-science/results/SELF_EXECUTED_BikeRentalDaily_train_processed.csv.\n"
     ]
    }
   ],
   "source": [
    "preparator.run()"
   ]
  },
  {
   "cell_type": "code",
   "execution_count": 7,
   "metadata": {},
   "outputs": [
    {
     "data": {
      "text/html": [
       "<div>\n",
       "<style scoped>\n",
       "    .dataframe tbody tr th:only-of-type {\n",
       "        vertical-align: middle;\n",
       "    }\n",
       "\n",
       "    .dataframe tbody tr th {\n",
       "        vertical-align: top;\n",
       "    }\n",
       "\n",
       "    .dataframe thead th {\n",
       "        text-align: right;\n",
       "    }\n",
       "</style>\n",
       "<table border=\"1\" class=\"dataframe\">\n",
       "  <thead>\n",
       "    <tr style=\"text-align: right;\">\n",
       "      <th></th>\n",
       "      <th>count</th>\n",
       "      <th>mean</th>\n",
       "      <th>min</th>\n",
       "      <th>25%</th>\n",
       "      <th>50%</th>\n",
       "      <th>75%</th>\n",
       "      <th>max</th>\n",
       "      <th>std</th>\n",
       "    </tr>\n",
       "  </thead>\n",
       "  <tbody>\n",
       "    <tr>\n",
       "      <th>dteday</th>\n",
       "      <td>506</td>\n",
       "      <td>2011-12-27 23:17:18.735177984</td>\n",
       "      <td>2011-01-02 00:00:00</td>\n",
       "      <td>2011-07-01 18:00:00</td>\n",
       "      <td>2011-12-28 12:00:00</td>\n",
       "      <td>2012-06-18 18:00:00</td>\n",
       "      <td>2012-12-31 00:00:00</td>\n",
       "      <td>NaN</td>\n",
       "    </tr>\n",
       "    <tr>\n",
       "      <th>season</th>\n",
       "      <td>506.00</td>\n",
       "      <td>2.44</td>\n",
       "      <td>1.00</td>\n",
       "      <td>1.00</td>\n",
       "      <td>2.00</td>\n",
       "      <td>3.00</td>\n",
       "      <td>4.00</td>\n",
       "      <td>1.10</td>\n",
       "    </tr>\n",
       "    <tr>\n",
       "      <th>yr</th>\n",
       "      <td>506.00</td>\n",
       "      <td>0.50</td>\n",
       "      <td>0.00</td>\n",
       "      <td>0.00</td>\n",
       "      <td>0.00</td>\n",
       "      <td>1.00</td>\n",
       "      <td>1.00</td>\n",
       "      <td>0.50</td>\n",
       "    </tr>\n",
       "    <tr>\n",
       "      <th>mnth</th>\n",
       "      <td>506.00</td>\n",
       "      <td>6.44</td>\n",
       "      <td>1.00</td>\n",
       "      <td>4.00</td>\n",
       "      <td>6.00</td>\n",
       "      <td>9.00</td>\n",
       "      <td>12.00</td>\n",
       "      <td>3.41</td>\n",
       "    </tr>\n",
       "    <tr>\n",
       "      <th>holiday</th>\n",
       "      <td>506.00</td>\n",
       "      <td>0.03</td>\n",
       "      <td>0.00</td>\n",
       "      <td>0.00</td>\n",
       "      <td>0.00</td>\n",
       "      <td>0.00</td>\n",
       "      <td>1.00</td>\n",
       "      <td>0.18</td>\n",
       "    </tr>\n",
       "    <tr>\n",
       "      <th>weekday</th>\n",
       "      <td>506.00</td>\n",
       "      <td>2.89</td>\n",
       "      <td>-1.00</td>\n",
       "      <td>1.00</td>\n",
       "      <td>3.00</td>\n",
       "      <td>5.00</td>\n",
       "      <td>6.00</td>\n",
       "      <td>2.08</td>\n",
       "    </tr>\n",
       "    <tr>\n",
       "      <th>workingday</th>\n",
       "      <td>506.00</td>\n",
       "      <td>0.68</td>\n",
       "      <td>0.00</td>\n",
       "      <td>0.00</td>\n",
       "      <td>1.00</td>\n",
       "      <td>1.00</td>\n",
       "      <td>1.00</td>\n",
       "      <td>0.47</td>\n",
       "    </tr>\n",
       "    <tr>\n",
       "      <th>weathersit</th>\n",
       "      <td>506.00</td>\n",
       "      <td>1.40</td>\n",
       "      <td>1.00</td>\n",
       "      <td>1.00</td>\n",
       "      <td>1.00</td>\n",
       "      <td>2.00</td>\n",
       "      <td>3.00</td>\n",
       "      <td>0.55</td>\n",
       "    </tr>\n",
       "    <tr>\n",
       "      <th>temp</th>\n",
       "      <td>506.00</td>\n",
       "      <td>19.91</td>\n",
       "      <td>2.37</td>\n",
       "      <td>13.38</td>\n",
       "      <td>20.28</td>\n",
       "      <td>26.23</td>\n",
       "      <td>34.47</td>\n",
       "      <td>7.29</td>\n",
       "    </tr>\n",
       "    <tr>\n",
       "      <th>atemp</th>\n",
       "      <td>506.00</td>\n",
       "      <td>0.48</td>\n",
       "      <td>0.08</td>\n",
       "      <td>0.33</td>\n",
       "      <td>0.49</td>\n",
       "      <td>0.61</td>\n",
       "      <td>0.83</td>\n",
       "      <td>0.16</td>\n",
       "    </tr>\n",
       "    <tr>\n",
       "      <th>hum</th>\n",
       "      <td>506.00</td>\n",
       "      <td>94.32</td>\n",
       "      <td>38.13</td>\n",
       "      <td>77.77</td>\n",
       "      <td>93.16</td>\n",
       "      <td>110.17</td>\n",
       "      <td>145.88</td>\n",
       "      <td>21.17</td>\n",
       "    </tr>\n",
       "    <tr>\n",
       "      <th>windspeed</th>\n",
       "      <td>506.00</td>\n",
       "      <td>0.18</td>\n",
       "      <td>-1.00</td>\n",
       "      <td>0.13</td>\n",
       "      <td>0.18</td>\n",
       "      <td>0.23</td>\n",
       "      <td>0.44</td>\n",
       "      <td>0.12</td>\n",
       "    </tr>\n",
       "    <tr>\n",
       "      <th>leaflets</th>\n",
       "      <td>506.00</td>\n",
       "      <td>746.14</td>\n",
       "      <td>459.00</td>\n",
       "      <td>606.00</td>\n",
       "      <td>748.00</td>\n",
       "      <td>881.75</td>\n",
       "      <td>1032.00</td>\n",
       "      <td>161.86</td>\n",
       "    </tr>\n",
       "    <tr>\n",
       "      <th>price reduction</th>\n",
       "      <td>506.00</td>\n",
       "      <td>0.14</td>\n",
       "      <td>0.00</td>\n",
       "      <td>0.00</td>\n",
       "      <td>0.00</td>\n",
       "      <td>0.00</td>\n",
       "      <td>1.00</td>\n",
       "      <td>0.35</td>\n",
       "    </tr>\n",
       "    <tr>\n",
       "      <th>casual</th>\n",
       "      <td>506.00</td>\n",
       "      <td>1120.73</td>\n",
       "      <td>2.00</td>\n",
       "      <td>305.50</td>\n",
       "      <td>725.50</td>\n",
       "      <td>1113.50</td>\n",
       "      <td>47138.00</td>\n",
       "      <td>3223.16</td>\n",
       "    </tr>\n",
       "    <tr>\n",
       "      <th>registered</th>\n",
       "      <td>506.00</td>\n",
       "      <td>3648.32</td>\n",
       "      <td>20.00</td>\n",
       "      <td>2495.00</td>\n",
       "      <td>3664.50</td>\n",
       "      <td>4734.50</td>\n",
       "      <td>6946.00</td>\n",
       "      <td>1552.78</td>\n",
       "    </tr>\n",
       "    <tr>\n",
       "      <th>cnt</th>\n",
       "      <td>506.00</td>\n",
       "      <td>4769.05</td>\n",
       "      <td>22.00</td>\n",
       "      <td>3077.00</td>\n",
       "      <td>4543.50</td>\n",
       "      <td>6042.50</td>\n",
       "      <td>53021.00</td>\n",
       "      <td>3832.25</td>\n",
       "    </tr>\n",
       "  </tbody>\n",
       "</table>\n",
       "</div>"
      ],
      "text/plain": [
       "                 count                           mean                  min  \\\n",
       "dteday             506  2011-12-27 23:17:18.735177984  2011-01-02 00:00:00   \n",
       "season          506.00                           2.44                 1.00   \n",
       "yr              506.00                           0.50                 0.00   \n",
       "mnth            506.00                           6.44                 1.00   \n",
       "holiday         506.00                           0.03                 0.00   \n",
       "weekday         506.00                           2.89                -1.00   \n",
       "workingday      506.00                           0.68                 0.00   \n",
       "weathersit      506.00                           1.40                 1.00   \n",
       "temp            506.00                          19.91                 2.37   \n",
       "atemp           506.00                           0.48                 0.08   \n",
       "hum             506.00                          94.32                38.13   \n",
       "windspeed       506.00                           0.18                -1.00   \n",
       "leaflets        506.00                         746.14               459.00   \n",
       "price reduction 506.00                           0.14                 0.00   \n",
       "casual          506.00                        1120.73                 2.00   \n",
       "registered      506.00                        3648.32                20.00   \n",
       "cnt             506.00                        4769.05                22.00   \n",
       "\n",
       "                                 25%                  50%  \\\n",
       "dteday           2011-07-01 18:00:00  2011-12-28 12:00:00   \n",
       "season                          1.00                 2.00   \n",
       "yr                              0.00                 0.00   \n",
       "mnth                            4.00                 6.00   \n",
       "holiday                         0.00                 0.00   \n",
       "weekday                         1.00                 3.00   \n",
       "workingday                      0.00                 1.00   \n",
       "weathersit                      1.00                 1.00   \n",
       "temp                           13.38                20.28   \n",
       "atemp                           0.33                 0.49   \n",
       "hum                            77.77                93.16   \n",
       "windspeed                       0.13                 0.18   \n",
       "leaflets                      606.00               748.00   \n",
       "price reduction                 0.00                 0.00   \n",
       "casual                        305.50               725.50   \n",
       "registered                   2495.00              3664.50   \n",
       "cnt                          3077.00              4543.50   \n",
       "\n",
       "                                 75%                  max     std  \n",
       "dteday           2012-06-18 18:00:00  2012-12-31 00:00:00     NaN  \n",
       "season                          3.00                 4.00    1.10  \n",
       "yr                              1.00                 1.00    0.50  \n",
       "mnth                            9.00                12.00    3.41  \n",
       "holiday                         0.00                 1.00    0.18  \n",
       "weekday                         5.00                 6.00    2.08  \n",
       "workingday                      1.00                 1.00    0.47  \n",
       "weathersit                      2.00                 3.00    0.55  \n",
       "temp                           26.23                34.47    7.29  \n",
       "atemp                           0.61                 0.83    0.16  \n",
       "hum                           110.17               145.88   21.17  \n",
       "windspeed                       0.23                 0.44    0.12  \n",
       "leaflets                      881.75              1032.00  161.86  \n",
       "price reduction                 0.00                 1.00    0.35  \n",
       "casual                       1113.50             47138.00 3223.16  \n",
       "registered                   4734.50              6946.00 1552.78  \n",
       "cnt                          6042.50             53021.00 3832.25  "
      ]
     },
     "execution_count": 7,
     "metadata": {},
     "output_type": "execute_result"
    }
   ],
   "source": [
    "preparator._processed_data.describe().T"
   ]
  },
  {
   "cell_type": "code",
   "execution_count": 8,
   "metadata": {},
   "outputs": [
    {
     "name": "stderr",
     "output_type": "stream",
     "text": [
      "2024-02-16 14:01:47,863 [model_optimization] [INFO] - Initializing ModelOptimization\n",
      "2024-02-16 14:01:47,864 [model_optimization] [INFO] - Data loaded from /home/davidrmn/Studies/introduction-data-science/data/BikeRentalDaily_train.csv.\n",
      "2024-02-16 14:01:47,865 [model_optimization] [INFO] - Please provide a pipeline configuration.\n",
      "2024-02-16 14:01:47,865 [model_optimization] [INFO] - Processed data loaded from /home/davidrmn/Studies/introduction-data-science/data/BikeRentalDaily_train.csv.\n"
     ]
    }
   ],
   "source": [
    "optimizer = model_optimization.ModelOptimization(data)"
   ]
  },
  {
   "cell_type": "code",
   "execution_count": 9,
   "metadata": {},
   "outputs": [
    {
     "name": "stderr",
     "output_type": "stream",
     "text": [
      "2024-02-16 14:01:47,871 [model_optimization] [INFO] - Processed data loaded from /home/davidrmn/Studies/introduction-data-science/data/BikeRentalDaily_train.csv.\n",
      "2024-02-16 14:01:47,871 [model_optimization] [INFO] - Running train_test_split\n",
      "2024-02-16 14:01:47,874 [model_optimization] [INFO] - train_test_split completed successfully\n"
     ]
    }
   ],
   "source": [
    "optimizer.train_test_split()"
   ]
  },
  {
   "cell_type": "code",
   "execution_count": 10,
   "metadata": {},
   "outputs": [
    {
     "name": "stderr",
     "output_type": "stream",
     "text": [
      "2024-02-16 14:01:47,880 [model_optimization] [INFO] - Processed data loaded from /home/davidrmn/Studies/introduction-data-science/data/BikeRentalDaily_train.csv.\n",
      "2024-02-16 14:01:47,881 [model_optimization] [INFO] - Running linear_regression\n",
      "2024-02-16 14:01:47,884 [model_optimization] [INFO] - linear_regression completed successfully\n"
     ]
    }
   ],
   "source": [
    "optimizer.linear_regression()"
   ]
  },
  {
   "cell_type": "code",
   "execution_count": 11,
   "metadata": {},
   "outputs": [
    {
     "name": "stderr",
     "output_type": "stream",
     "text": [
      "2024-02-16 14:01:47,889 [model_optimization] [INFO] - Processed data loaded from /home/davidrmn/Studies/introduction-data-science/data/BikeRentalDaily_train.csv.\n",
      "2024-02-16 14:01:47,890 [model_optimization] [INFO] - Running validation\n",
      "2024-02-16 14:01:47,890 [model_optimization] [INFO] - Validation for linear_regression\n",
      "2024-02-16 14:01:47,892 [model_optimization] [INFO] - Prediction for linear_regression completed successfully\n",
      "2024-02-16 14:01:47,894 [model_optimization] [INFO] - R2 score for linear_regression: 0.2\n",
      "2024-02-16 14:01:47,894 [model_optimization] [INFO] - Adjusted R2 score for linear_regression: 0.1022222222222221\n",
      "2024-02-16 14:01:47,895 [model_optimization] [INFO] - Mean Absolute Error for linear_regression: 1337.48\n",
      "2024-02-16 14:01:47,895 [model_optimization] [INFO] - Validation completed successfully\n"
     ]
    }
   ],
   "source": [
    "optimizer.validation()"
   ]
  },
  {
   "cell_type": "code",
   "execution_count": 12,
   "metadata": {},
   "outputs": [
    {
     "name": "stderr",
     "output_type": "stream",
     "text": [
      "2024-02-16 14:01:47,901 [model_optimization] [INFO] - Processed data loaded from /home/davidrmn/Studies/introduction-data-science/data/BikeRentalDaily_train.csv.\n",
      "2024-02-16 14:01:47,902 [model_optimization] [INFO] - Running residual_analysis\n",
      "2024-02-16 14:01:47,902 [model_optimization] [INFO] - Residual analysis for linear_regression\n",
      "2024-02-16 14:01:47,904 [model_optimization] [INFO] - Residuals for linear_regression completed successfully\n",
      "2024-02-16 14:01:47,904 [model_optimization] [INFO] - Residual analysis for linear_regression completed successfully\n",
      "2024-02-16 14:01:47,905 [model_optimization] [INFO] - Residual analysis completed successfully\n"
     ]
    }
   ],
   "source": [
    "optimizer.residual_analysis()"
   ]
  },
  {
   "cell_type": "code",
   "execution_count": 13,
   "metadata": {},
   "outputs": [
    {
     "name": "stderr",
     "output_type": "stream",
     "text": [
      "2024-02-16 14:01:47,910 [model_optimization] [INFO] - Processed data loaded from /home/davidrmn/Studies/introduction-data-science/data/BikeRentalDaily_train.csv.\n",
      "2024-02-16 14:01:47,911 [model_optimization] [INFO] - Running plot_residuals\n",
      "2024-02-16 14:01:47,912 [model_optimization] [INFO] - Plotting residuals for linear_regression\n",
      "2024-02-16 14:01:47,930 [model_optimization] [INFO] - Residuals for linear_regression plotted successfully\n",
      "2024-02-16 14:01:47,930 [model_optimization] [INFO] - Plot_residuals completed successfully\n"
     ]
    },
    {
     "data": {
      "image/png": "[encoded data removed]",
      "text/plain": [
       "<Figure size 640x480 with 1 Axes>"
      ]
     },
     "metadata": {},
     "output_type": "display_data"
    }
   ],
   "source": [
    "optimizer.plot_residuals()"
   ]
  },
  {
   "cell_type": "code",
   "execution_count": 14,
   "metadata": {},
   "outputs": [
    {
     "name": "stderr",
     "output_type": "stream",
     "text": [
      "2024-02-16 14:01:48,097 [model_optimization] [INFO] - Processed data loaded from /home/davidrmn/Studies/introduction-data-science/data/BikeRentalDaily_train.csv.\n",
      "2024-02-16 14:01:48,099 [model_optimization] [INFO] - Running feature_importance\n",
      "2024-02-16 14:01:48,099 [model_optimization] [INFO] - Feature importance for linear_regression\n",
      "2024-02-16 14:01:48,100 [model_optimization] [INFO] - Feature importance for linear_regression completed successfully\n",
      "2024-02-16 14:01:48,100 [model_optimization] [INFO] - Feature importance completed successfully\n"
     ]
    }
   ],
   "source": [
    "optimizer.feature_importance()"
   ]
  },
  {
   "cell_type": "code",
   "execution_count": 15,
   "metadata": {},
   "outputs": [
    {
     "name": "stderr",
     "output_type": "stream",
     "text": [
      "2024-02-16 14:01:48,106 [model_optimization] [INFO] - Processed data loaded from /home/davidrmn/Studies/introduction-data-science/data/BikeRentalDaily_train.csv.\n",
      "2024-02-16 14:01:48,107 [model_optimization] [INFO] - Running plot_feature_importance\n",
      "2024-02-16 14:01:48,107 [model_optimization] [INFO] - Plotting feature importance for linear_regression\n",
      "2024-02-16 14:01:48,237 [model_optimization] [INFO] - Feature importance for linear_regression plotted successfully\n",
      "2024-02-16 14:01:48,238 [model_optimization] [INFO] - Plot_feature_importance completed successfully\n"
     ]
    },
    {
     "data": {
      "image/png": "[encoded data removed]",
      "text/plain": [
       "<Figure size 640x480 with 1 Axes>"
      ]
     },
     "metadata": {},
     "output_type": "display_data"
    }
   ],
   "source": [
    "optimizer.plot_feature_importance()"
   ]
  },
  {
   "cell_type": "code",
   "execution_count": 16,
   "metadata": {},
   "outputs": [
    {
     "name": "stderr",
     "output_type": "stream",
     "text": [
      "2024-02-16 14:01:48,346 [model_optimization] [INFO] - Processed data loaded from /home/davidrmn/Studies/introduction-data-science/data/BikeRentalDaily_train.csv.\n",
      "2024-02-16 14:01:48,347 [model_optimization] [INFO] - Running learning_curve\n",
      "2024-02-16 14:01:48,348 [model_optimization] [INFO] - Plotting learning curve for linear_regression\n",
      "2024-02-16 14:01:48,450 [model_optimization] [INFO] - Learning curve for linear_regression plotted successfully\n",
      "2024-02-16 14:01:48,451 [model_optimization] [INFO] - Learning_curve completed successfully\n"
     ]
    },
    {
     "data": {
      "image/png": "[encoded data removed]",
      "text/plain": [
       "<Figure size 640x480 with 1 Axes>"
      ]
     },
     "metadata": {},
     "output_type": "display_data"
    }
   ],
   "source": [
    "optimizer.learning_curve()"
   ]
  },
  {
   "cell_type": "code",
   "execution_count": 19,
   "metadata": {},
   "outputs": [
    {
     "data": {
      "text/plain": [
       "dict_keys(['linear_regression_r2', 'linear_regression_adjusted_r2', 'linear_regression_mae', 'linear_regression_prediction', 'linear_regression_residuals', 'linear_regression_residuals_plot', 'linear_regression_feature_importance', 'linear_regression_learning_curve'])"
      ]
     },
     "execution_count": 19,
     "metadata": {},
     "output_type": "execute_result"
    }
   ],
   "source": [
    "optimizer.target.analysis_results.keys()"
   ]
  },
  {
   "cell_type": "code",
   "execution_count": null,
   "metadata": {},
   "outputs": [],
   "source": []
  }
 ],
 "metadata": {
  "kernelspec": {
   "display_name": "introduction-data-science",
   "language": "python",
   "name": "introduction-data-science"
  },
  "language_info": {
   "codemirror_mode": {
    "name": "ipython",
    "version": 3
   },
   "file_extension": ".py",
   "mimetype": "text/x-python",
   "name": "python",
   "nbconvert_exporter": "python",
   "pygments_lexer": "ipython3",
   "version": "3.11.5"
  }
 },
 "nbformat": 4,
 "nbformat_minor": 2
}
